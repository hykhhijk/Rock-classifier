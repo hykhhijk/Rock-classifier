{
 "cells": [
  {
   "cell_type": "code",
   "execution_count": 64,
   "id": "58af1fd2",
   "metadata": {
    "ExecuteTime": {
     "end_time": "2022-04-22T12:01:56.885508Z",
     "start_time": "2022-04-22T12:01:56.878525Z"
    }
   },
   "outputs": [],
   "source": [
    "import os\n",
    "import numpy as np\n",
    "import pandas as pd\n",
    "import matplotlib.pyplot as plt\n",
    "import tensorflow as tf\n",
    "import tensorflow.keras as keras\n",
    "from tensorflow.keras.preprocessing.image import ImageDataGenerator, array_to_img, img_to_array, load_img\n",
    "import cv2\n",
    "import joblib"
   ]
  },
  {
   "cell_type": "markdown",
   "id": "13452949",
   "metadata": {},
   "source": [
    "그래픽카드 인식 확인  \n",
    "['0.Leonardite(연갈탄)', '1.Lignite(갈탄)', '2.Charcoal(목탄)', '3.Waste(폐경석)']  \n",
    "라벨값은 한글 제거를 위하여 바꿀것이므로 미리 적어놓았다"
   ]
  },
  {
   "cell_type": "code",
   "execution_count": 2,
   "id": "9b491b22",
   "metadata": {
    "ExecuteTime": {
     "end_time": "2022-04-22T04:40:46.508229Z",
     "start_time": "2022-04-22T04:40:45.080631Z"
    }
   },
   "outputs": [
    {
     "data": {
      "text/plain": [
       "[name: \"/device:CPU:0\"\n",
       " device_type: \"CPU\"\n",
       " memory_limit: 268435456\n",
       " locality {\n",
       " }\n",
       " incarnation: 17613220026517555613\n",
       " xla_global_id: -1,\n",
       " name: \"/device:GPU:0\"\n",
       " device_type: \"GPU\"\n",
       " memory_limit: 4851040256\n",
       " locality {\n",
       "   bus_id: 1\n",
       "   links {\n",
       "   }\n",
       " }\n",
       " incarnation: 3611958179767005732\n",
       " physical_device_desc: \"device: 0, name: NVIDIA GeForce GTX 1060 6GB, pci bus id: 0000:01:00.0, compute capability: 6.1\"\n",
       " xla_global_id: 416903419]"
      ]
     },
     "execution_count": 2,
     "metadata": {},
     "output_type": "execute_result"
    }
   ],
   "source": [
    "from tensorflow.python.client import device_lib\n",
    "device_lib.list_local_devices()"
   ]
  },
  {
   "cell_type": "code",
   "execution_count": 3,
   "id": "dd2c3cf0",
   "metadata": {
    "ExecuteTime": {
     "end_time": "2022-04-22T04:40:46.755322Z",
     "start_time": "2022-04-22T04:40:46.742165Z"
    }
   },
   "outputs": [],
   "source": [
    "path=\"D:\\Image_data\""
   ]
  },
  {
   "cell_type": "code",
   "execution_count": 7,
   "id": "b3bb270e",
   "metadata": {
    "ExecuteTime": {
     "end_time": "2022-04-22T04:42:40.518062Z",
     "start_time": "2022-04-22T04:42:40.502372Z"
    }
   },
   "outputs": [],
   "source": [
    "labels = os.listdir(path)"
   ]
  },
  {
   "cell_type": "code",
   "execution_count": 8,
   "id": "ed6908db",
   "metadata": {
    "ExecuteTime": {
     "end_time": "2022-04-22T04:42:43.828735Z",
     "start_time": "2022-04-22T04:42:43.816797Z"
    }
   },
   "outputs": [
    {
     "data": {
      "text/plain": [
       "['0', '1', '2', '3']"
      ]
     },
     "execution_count": 8,
     "metadata": {},
     "output_type": "execute_result"
    }
   ],
   "source": [
    "labels"
   ]
  },
  {
   "cell_type": "markdown",
   "id": "19b24e93",
   "metadata": {},
   "source": [
    "**폴더를 하나씩 돌며 이미지를 읽어보면 원래 픽셀 값(4032, 3024)로 읽어들일시 첫번째 폴더를 읽지 못하고 메모리가 터짐**  \n",
    "OpenCV(4.5.1) ..\\modules\\core\\src\\alloc.cpp:73: error: (-4:Insufficient memory) Failed to allocate 36578304 bytes in function 'cv::OutOfMemoryError'"
   ]
  },
  {
   "cell_type": "code",
   "execution_count": 26,
   "id": "9b1bfcf5",
   "metadata": {
    "ExecuteTime": {
     "end_time": "2022-04-22T05:32:27.958467Z",
     "start_time": "2022-04-22T05:13:00.254802Z"
    }
   },
   "outputs": [
    {
     "name": "stdout",
     "output_type": "stream",
     "text": [
      "Progressing...\n",
      "Progressing...\n",
      "Progressing...\n",
      "Progressing...\n"
     ]
    }
   ],
   "source": [
    "### (32, 32)픽셀로 읽어 들이는데 19분\n",
    "### 픽셀값 변경을 원할떄만 실행시키며 그렇지 않은 경우 아래의 joblib을 이용하여 가져올 것, 실행시간: 5초 이하\n",
    "img_list=[]\n",
    "label_list=[]\n",
    "for i in os.listdir(path):\n",
    "    print(\"Progressing...\")\n",
    "    for j in os.listdir(os.path.join(path, i)):\n",
    "        img = cv2.imread(os.path.join(path, i, j))\n",
    "        img = cv2.resize(img, (32, 32), interpolation=cv2.INTER_LINEAR)\n",
    "        img_list.append(img)\n",
    "        label_list.append(i)"
   ]
  },
  {
   "cell_type": "code",
   "execution_count": 102,
   "id": "e7d0bf62",
   "metadata": {
    "ExecuteTime": {
     "end_time": "2022-04-22T13:22:37.265619Z",
     "start_time": "2022-04-22T13:22:37.256672Z"
    }
   },
   "outputs": [],
   "source": [
    "img_list = np.reshape(img_list,(-3, 32, 32, 3))"
   ]
  },
  {
   "cell_type": "code",
   "execution_count": 104,
   "id": "aba8b1e8",
   "metadata": {
    "ExecuteTime": {
     "end_time": "2022-04-22T13:23:18.303283Z",
     "start_time": "2022-04-22T13:23:18.152605Z"
    }
   },
   "outputs": [
    {
     "data": {
      "text/plain": [
       "['converted_img.pkl']"
      ]
     },
     "execution_count": 104,
     "metadata": {},
     "output_type": "execute_result"
    }
   ],
   "source": [
    "joblib.dump(img_list, \"converted_img.pkl\")"
   ]
  },
  {
   "cell_type": "code",
   "execution_count": 54,
   "id": "bdd3fed8",
   "metadata": {
    "ExecuteTime": {
     "end_time": "2022-04-22T11:43:51.993036Z",
     "start_time": "2022-04-22T11:43:51.984061Z"
    }
   },
   "outputs": [],
   "source": [
    "from tensorflow.keras.preprocessing.image import load_img\n",
    "from tensorflow.keras.preprocessing.image import img_to_array"
   ]
  },
  {
   "cell_type": "code",
   "execution_count": 60,
   "id": "44f3ecdd",
   "metadata": {
    "ExecuteTime": {
     "end_time": "2022-04-22T11:44:37.422173Z",
     "start_time": "2022-04-22T11:44:37.352060Z"
    }
   },
   "outputs": [],
   "source": [
    "img = load_img((os.path.join(path, i, j)), si)"
   ]
  },
  {
   "cell_type": "code",
   "execution_count": 98,
   "id": "91749619",
   "metadata": {
    "ExecuteTime": {
     "end_time": "2022-04-22T13:17:44.903189Z",
     "start_time": "2022-04-22T12:57:36.040440Z"
    }
   },
   "outputs": [
    {
     "name": "stdout",
     "output_type": "stream",
     "text": [
      "Progressing...\n",
      "Progressing...\n",
      "Progressing...\n",
      "Progressing...\n"
     ]
    },
    {
     "ename": "TypeError",
     "evalue": "'numpy.ndarray' object is not callable",
     "output_type": "error",
     "traceback": [
      "\u001b[1;31m---------------------------------------------------------------------------\u001b[0m",
      "\u001b[1;31mTypeError\u001b[0m                                 Traceback (most recent call last)",
      "Input \u001b[1;32mIn [98]\u001b[0m, in \u001b[0;36m<cell line: 13>\u001b[1;34m()\u001b[0m\n\u001b[0;32m     11\u001b[0m         img_list \u001b[38;5;241m=\u001b[39m np\u001b[38;5;241m.\u001b[39mappend(img_list, img)\n\u001b[0;32m     12\u001b[0m         label_list\u001b[38;5;241m.\u001b[39mappend(i)\n\u001b[1;32m---> 13\u001b[0m img_list \u001b[38;5;241m=\u001b[39m np\u001b[38;5;241m.\u001b[39mreshape(\u001b[43mimg_list\u001b[49m\u001b[43m(\u001b[49m\u001b[38;5;241;43m-\u001b[39;49m\u001b[38;5;241;43m3\u001b[39;49m\u001b[43m,\u001b[49m\u001b[43m \u001b[49m\u001b[38;5;241;43m32\u001b[39;49m\u001b[43m,\u001b[49m\u001b[43m \u001b[49m\u001b[38;5;241;43m32\u001b[39;49m\u001b[43m,\u001b[49m\u001b[43m \u001b[49m\u001b[38;5;241;43m3\u001b[39;49m\u001b[43m)\u001b[49m)\n",
      "\u001b[1;31mTypeError\u001b[0m: 'numpy.ndarray' object is not callable"
     ]
    }
   ],
   "source": [
    "### (32, 32)픽셀로 읽어 들이는데 19분\n",
    "### 픽셀값 변경을 원할떄만 실행시키며 그렇지 않은 경우 아래의 joblib을 이용하여 가져올 것, 실행시간: 5초 이하\n",
    "img_list=np.array([])\n",
    "label_list=[]\n",
    "for i in os.listdir(path):\n",
    "    print(\"Progressing...\")\n",
    "    for j in os.listdir(os.path.join(path, i)):\n",
    "        img = keras.utils.load_img(os.path.join(path, i, j), target_size=(32, 32))\n",
    "        img = np.float32(img)\n",
    "        img = img/255.0\n",
    "        img_list = np.append(img_list, img)\n",
    "        label_list.append(i)\n",
    "img_list = np.reshape(img_list,(-3, 32, 32, 3))"
   ]
  },
  {
   "cell_type": "code",
   "execution_count": 46,
   "id": "5e4358f5",
   "metadata": {
    "ExecuteTime": {
     "end_time": "2022-04-22T05:56:24.356717Z",
     "start_time": "2022-04-22T05:56:24.065844Z"
    }
   },
   "outputs": [],
   "source": [
    "img_list = joblib.load( \"img_array32_int.pkl\")"
   ]
  },
  {
   "cell_type": "code",
   "execution_count": 49,
   "id": "714b8e70",
   "metadata": {
    "ExecuteTime": {
     "end_time": "2022-04-22T05:56:49.497392Z",
     "start_time": "2022-04-22T05:56:49.371381Z"
    }
   },
   "outputs": [
    {
     "data": {
      "text/plain": [
       "['img_array32_float.pkl']"
      ]
     },
     "execution_count": 49,
     "metadata": {},
     "output_type": "execute_result"
    }
   ],
   "source": [
    "joblib.dump(img_list, \"img_array32_float.pkl\")"
   ]
  },
  {
   "cell_type": "code",
   "execution_count": 71,
   "id": "414e53af",
   "metadata": {
    "ExecuteTime": {
     "end_time": "2022-04-22T12:32:51.500290Z",
     "start_time": "2022-04-22T12:32:51.414480Z"
    }
   },
   "outputs": [
    {
     "data": {
      "text/plain": [
       "['converted_img.pkl']"
      ]
     },
     "execution_count": 71,
     "metadata": {},
     "output_type": "execute_result"
    }
   ],
   "source": [
    "joblib.dump(img_list, \"converted_img.pkl\")"
   ]
  },
  {
   "cell_type": "code",
   "execution_count": 31,
   "id": "95f843f0",
   "metadata": {
    "ExecuteTime": {
     "end_time": "2022-04-22T05:33:57.518401Z",
     "start_time": "2022-04-22T05:33:57.502959Z"
    }
   },
   "outputs": [
    {
     "data": {
      "text/plain": [
       "['label.pkl']"
      ]
     },
     "execution_count": 31,
     "metadata": {},
     "output_type": "execute_result"
    }
   ],
   "source": [
    "joblib.dump(label_list, \"label.pkl\")"
   ]
  },
  {
   "cell_type": "code",
   "execution_count": 48,
   "id": "d35bf4a5",
   "metadata": {
    "ExecuteTime": {
     "end_time": "2022-04-22T05:56:45.515861Z",
     "start_time": "2022-04-22T05:56:45.389435Z"
    }
   },
   "outputs": [],
   "source": [
    "img_list = np.float64(img_list)\n",
    "img_list = img_list/255.0\n",
    "label_list = np.array(label_list).astype(\"int16\")"
   ]
  },
  {
   "cell_type": "code",
   "execution_count": 22,
   "id": "70e703ee",
   "metadata": {
    "ExecuteTime": {
     "end_time": "2022-04-22T05:10:50.013186Z",
     "start_time": "2022-04-22T05:10:49.993752Z"
    }
   },
   "outputs": [
    {
     "data": {
      "text/plain": [
       "0    2224\n",
       "1    2168\n",
       "2    1552\n",
       "3    1336\n",
       "dtype: int64"
      ]
     },
     "execution_count": 22,
     "metadata": {},
     "output_type": "execute_result"
    }
   ],
   "source": [
    "pd.Series(label_list).value_counts()"
   ]
  },
  {
   "cell_type": "code",
   "execution_count": null,
   "id": "809bc8c2",
   "metadata": {},
   "outputs": [],
   "source": [
    "img_list = joblib.load(\"./img_array.pkl\")\n",
    "img_list = np.float32(img_list)\n",
    "img_list = img_list/255.0"
   ]
  },
  {
   "cell_type": "code",
   "execution_count": 42,
   "id": "96ff57a8",
   "metadata": {
    "ExecuteTime": {
     "end_time": "2022-04-22T05:55:35.883244Z",
     "start_time": "2022-04-22T05:55:35.801999Z"
    }
   },
   "outputs": [],
   "source": [
    "temp = np.float32(temp)\n",
    "temp = temp/255.0"
   ]
  },
  {
   "cell_type": "code",
   "execution_count": 43,
   "id": "cb19f9da",
   "metadata": {
    "ExecuteTime": {
     "end_time": "2022-04-22T05:55:37.419087Z",
     "start_time": "2022-04-22T05:55:37.320747Z"
    }
   },
   "outputs": [
    {
     "data": {
      "text/plain": [
       "<matplotlib.image.AxesImage at 0x229bdd43880>"
      ]
     },
     "execution_count": 43,
     "metadata": {},
     "output_type": "execute_result"
    },
    {
     "data": {
      "image/png": "[encoded data removed]",
      "text/plain": [
       "<Figure size 432x288 with 1 Axes>"
      ]
     },
     "metadata": {
      "needs_background": "light"
     },
     "output_type": "display_data"
    }
   ],
   "source": [
    "plt.imshow(temp[0])"
   ]
  },
  {
   "cell_type": "code",
   "execution_count": null,
   "id": "d08cf868",
   "metadata": {},
   "outputs": [],
   "source": []
  },
  {
   "cell_type": "code",
   "execution_count": null,
   "id": "1a6235aa",
   "metadata": {},
   "outputs": [],
   "source": []
  },
  {
   "cell_type": "code",
   "execution_count": 11,
   "id": "7f7d0658",
   "metadata": {
    "ExecuteTime": {
     "end_time": "2022-04-11T14:15:21.192417Z",
     "start_time": "2022-04-11T14:15:21.091544Z"
    }
   },
   "outputs": [],
   "source": [
    "temp = temp /255."
   ]
  },
  {
   "cell_type": "code",
   "execution_count": 14,
   "id": "c208426a",
   "metadata": {
    "ExecuteTime": {
     "end_time": "2022-04-11T14:15:57.759461Z",
     "start_time": "2022-04-11T14:15:57.739485Z"
    }
   },
   "outputs": [
    {
     "data": {
      "text/plain": [
       "array([[[0.70681933, 0.73034874, 0.71074089],\n",
       "        [0.71316078, 0.72884706, 0.70923922],\n",
       "        [0.71157647, 0.72726275, 0.7076549 ],\n",
       "        ...,\n",
       "        [0.65206275, 0.67559216, 0.67167059],\n",
       "        [0.65218824, 0.67571765, 0.67179608],\n",
       "        [0.68134902, 0.70095686, 0.69703529]],\n",
       "\n",
       "       [[0.71280307, 0.73633249, 0.71672464],\n",
       "        [0.71590312, 0.7315894 , 0.71198155],\n",
       "        [0.73148267, 0.74716894, 0.7275611 ],\n",
       "        ...,\n",
       "        [0.68297945, 0.70650886, 0.70258729],\n",
       "        [0.64073725, 0.66426667, 0.6603451 ],\n",
       "        [0.67058824, 0.69019608, 0.68235294]],\n",
       "\n",
       "       [[0.71985882, 0.74338824, 0.72378039],\n",
       "        [0.72348204, 0.73916831, 0.71956047],\n",
       "        [0.72870588, 0.74439216, 0.72478431],\n",
       "        ...,\n",
       "        [0.67129412, 0.69482353, 0.69090196],\n",
       "        [0.68494086, 0.70847027, 0.70454871],\n",
       "        [0.67912157, 0.69872941, 0.69088627]],\n",
       "\n",
       "       ...,\n",
       "\n",
       "       [[0.73214118, 0.73606275, 0.72037647],\n",
       "        [0.72731012, 0.73123169, 0.71554541],\n",
       "        [0.73281098, 0.73673255, 0.72104627],\n",
       "        ...,\n",
       "        [0.69341176, 0.71694118, 0.69733333],\n",
       "        [0.69411765, 0.71764706, 0.69803922],\n",
       "        [0.69411765, 0.71764706, 0.69803922]],\n",
       "\n",
       "       [[0.72207059, 0.72599216, 0.71030588],\n",
       "        [0.72592019, 0.72984176, 0.71415548],\n",
       "        [0.72870588, 0.73262745, 0.71694118],\n",
       "        ...,\n",
       "        [0.69204675, 0.71557616, 0.69596831],\n",
       "        [0.69411765, 0.71764706, 0.69803922],\n",
       "        [0.68787758, 0.711407  , 0.69179915]],\n",
       "\n",
       "       [[0.7254902 , 0.72941176, 0.71372549],\n",
       "        [0.72277647, 0.72669804, 0.71101176],\n",
       "        [0.73086525, 0.73478682, 0.71910055],\n",
       "        ...,\n",
       "        [0.69449412, 0.71157647, 0.69841569],\n",
       "        [0.69718908, 0.71249889, 0.70465575],\n",
       "        [0.69449412, 0.70980392, 0.70196078]]])"
      ]
     },
     "execution_count": 14,
     "metadata": {},
     "output_type": "execute_result"
    }
   ],
   "source": [
    "cv2.resize(temp, (250, 250), interpolation=cv2.INTER_LINEAR)"
   ]
  },
  {
   "cell_type": "markdown",
   "id": "a4bc2d67",
   "metadata": {},
   "source": [
    "## 라벨값이 과하게 편향되지는 않은것 같다 confusion_matrix를 그린 다음 2, 3번 라벨의 문제가 많다면 이미지 비를 조절해줄것"
   ]
  },
  {
   "cell_type": "code",
   "execution_count": 34,
   "id": "52359729",
   "metadata": {
    "ExecuteTime": {
     "end_time": "2022-04-22T05:49:37.926527Z",
     "start_time": "2022-04-22T05:49:35.769388Z"
    }
   },
   "outputs": [],
   "source": [
    "model = keras.Sequential([\n",
    "    keras.layers.Conv2D(8, kernel_size=5,activation=\"relu\", padding=\"SAME\", input_shape=(120, 120, 3)),\n",
    "    keras.layers.MaxPool2D(2),\n",
    "    keras.layers.Conv2D(16, kernel_size=3,activation=\"relu\", padding=\"SAME\"),\n",
    "    keras.layers.MaxPool2D(2),\n",
    "    keras.layers.GlobalAveragePooling2D(),\n",
    "    keras.layers.Dense(4, activation=\"softmax\")\n",
    "\n",
    "])"
   ]
  },
  {
   "cell_type": "code",
   "execution_count": 35,
   "id": "505e87cd",
   "metadata": {
    "ExecuteTime": {
     "end_time": "2022-04-22T05:49:38.001499Z",
     "start_time": "2022-04-22T05:49:37.971798Z"
    }
   },
   "outputs": [
    {
     "name": "stdout",
     "output_type": "stream",
     "text": [
      "Model: \"sequential\"\n",
      "_________________________________________________________________\n",
      "Layer (type)                 Output Shape              Param #   \n",
      "=================================================================\n",
      "conv2d (Conv2D)              (None, 120, 120, 8)       608       \n",
      "_________________________________________________________________\n",
      "max_pooling2d (MaxPooling2D) (None, 60, 60, 8)         0         \n",
      "_________________________________________________________________\n",
      "conv2d_1 (Conv2D)            (None, 60, 60, 16)        1168      \n",
      "_________________________________________________________________\n",
      "max_pooling2d_1 (MaxPooling2 (None, 30, 30, 16)        0         \n",
      "_________________________________________________________________\n",
      "global_average_pooling2d (Gl (None, 16)                0         \n",
      "_________________________________________________________________\n",
      "dense (Dense)                (None, 4)                 68        \n",
      "=================================================================\n",
      "Total params: 1,844\n",
      "Trainable params: 1,844\n",
      "Non-trainable params: 0\n",
      "_________________________________________________________________\n"
     ]
    }
   ],
   "source": [
    "model.summary()"
   ]
  },
  {
   "cell_type": "code",
   "execution_count": 36,
   "id": "c7b0459b",
   "metadata": {
    "ExecuteTime": {
     "end_time": "2022-04-22T05:49:55.702223Z",
     "start_time": "2022-04-22T05:49:38.050455Z"
    }
   },
   "outputs": [
    {
     "name": "stdout",
     "output_type": "stream",
     "text": [
      "Epoch 1/10\n",
      "WARNING:tensorflow:Model was constructed with shape (None, 120, 120, 3) for input KerasTensor(type_spec=TensorSpec(shape=(None, 120, 120, 3), dtype=tf.float32, name='conv2d_input'), name='conv2d_input', description=\"created by layer 'conv2d_input'\"), but it was called on an input with incompatible shape (16, 32, 32, 3).\n",
      "WARNING:tensorflow:Model was constructed with shape (None, 120, 120, 3) for input KerasTensor(type_spec=TensorSpec(shape=(None, 120, 120, 3), dtype=tf.float32, name='conv2d_input'), name='conv2d_input', description=\"created by layer 'conv2d_input'\"), but it was called on an input with incompatible shape (16, 32, 32, 3).\n",
      "353/364 [============================>.] - ETA: 0s - loss: 1.1065 - accuracy: 0.3909WARNING:tensorflow:Model was constructed with shape (None, 120, 120, 3) for input KerasTensor(type_spec=TensorSpec(shape=(None, 120, 120, 3), dtype=tf.float32, name='conv2d_input'), name='conv2d_input', description=\"created by layer 'conv2d_input'\"), but it was called on an input with incompatible shape (16, 32, 32, 3).\n",
      "364/364 [==============================] - 5s 5ms/step - loss: 1.1056 - accuracy: 0.3911 - val_loss: 7.0785 - val_accuracy: 0.0000e+00\n",
      "Epoch 2/10\n",
      "364/364 [==============================] - 1s 4ms/step - loss: 1.0739 - accuracy: 0.4083 - val_loss: 7.8362 - val_accuracy: 0.0000e+00\n",
      "Epoch 3/10\n",
      "364/364 [==============================] - 1s 4ms/step - loss: 1.0586 - accuracy: 0.4387 - val_loss: 8.0627 - val_accuracy: 0.0000e+00\n",
      "Epoch 4/10\n",
      "364/364 [==============================] - 1s 4ms/step - loss: 1.0175 - accuracy: 0.4936 - val_loss: 9.7990 - val_accuracy: 0.0000e+00\n",
      "Epoch 5/10\n",
      "364/364 [==============================] - 1s 3ms/step - loss: 0.9608 - accuracy: 0.5218 - val_loss: 8.5239 - val_accuracy: 0.0027\n",
      "Epoch 6/10\n",
      "364/364 [==============================] - 1s 4ms/step - loss: 0.9059 - accuracy: 0.5690 - val_loss: 8.7826 - val_accuracy: 0.0082\n",
      "Epoch 7/10\n",
      "364/364 [==============================] - 1s 4ms/step - loss: 0.8665 - accuracy: 0.5915 - val_loss: 8.0704 - val_accuracy: 0.0137\n",
      "Epoch 8/10\n",
      "364/364 [==============================] - 1s 4ms/step - loss: 0.8320 - accuracy: 0.6260 - val_loss: 8.4881 - val_accuracy: 0.0302\n",
      "Epoch 9/10\n",
      "364/364 [==============================] - 1s 4ms/step - loss: 0.8151 - accuracy: 0.6427 - val_loss: 8.5109 - val_accuracy: 0.0000e+00\n",
      "Epoch 10/10\n",
      "364/364 [==============================] - 1s 3ms/step - loss: 0.7767 - accuracy: 0.6703 - val_loss: 8.3739 - val_accuracy: 0.0350\n"
     ]
    }
   ],
   "source": [
    "model.compile(loss=\"sparse_categorical_crossentropy\", optimizer=\"adam\", metrics=[\"accuracy\"])\n",
    "history = model.fit(img_list,label_list, epochs=10, validation_split=0.2, batch_size=16)"
   ]
  },
  {
   "cell_type": "code",
   "execution_count": 17,
   "id": "583e70eb",
   "metadata": {
    "ExecuteTime": {
     "end_time": "2022-04-09T08:12:29.756372Z",
     "start_time": "2022-04-09T08:12:29.744403Z"
    }
   },
   "outputs": [],
   "source": [
    "from tensorflow.keras import backend as K "
   ]
  },
  {
   "cell_type": "code",
   "execution_count": 18,
   "id": "323d331f",
   "metadata": {
    "ExecuteTime": {
     "end_time": "2022-04-09T08:12:29.970397Z",
     "start_time": "2022-04-09T08:12:29.939618Z"
    }
   },
   "outputs": [],
   "source": [
    "K.clear_session()"
   ]
  },
  {
   "cell_type": "code",
   "execution_count": 19,
   "id": "32f5eb30",
   "metadata": {
    "ExecuteTime": {
     "end_time": "2022-04-09T08:12:30.730775Z",
     "start_time": "2022-04-09T08:12:30.173245Z"
    }
   },
   "outputs": [
    {
     "data": {
      "text/plain": [
       "11062"
      ]
     },
     "execution_count": 19,
     "metadata": {},
     "output_type": "execute_result"
    }
   ],
   "source": [
    "import gc\n",
    "K.clear_session()\n",
    "gc.collect()"
   ]
  },
  {
   "cell_type": "code",
   "execution_count": 20,
   "id": "97668a45",
   "metadata": {
    "ExecuteTime": {
     "end_time": "2022-04-09T08:12:30.923896Z",
     "start_time": "2022-04-09T08:12:30.909933Z"
    }
   },
   "outputs": [],
   "source": [
    "del model"
   ]
  },
  {
   "cell_type": "code",
   "execution_count": null,
   "id": "2b6bb74a",
   "metadata": {},
   "outputs": [],
   "source": []
  }
 ],
 "metadata": {
  "kernelspec": {
   "display_name": "=python3.9.0",
   "language": "python",
   "name": "python3.9.0"
  },
  "language_info": {
   "codemirror_mode": {
    "name": "ipython",
    "version": 3
   },
   "file_extension": ".py",
   "mimetype": "text/x-python",
   "name": "python",
   "nbconvert_exporter": "python",
   "pygments_lexer": "ipython3",
   "version": "3.9.12"
  },
  "toc": {
   "base_numbering": 1,
   "nav_menu": {},
   "number_sections": true,
   "sideBar": true,
   "skip_h1_title": false,
   "title_cell": "Table of Contents",
   "title_sidebar": "Contents",
   "toc_cell": false,
   "toc_position": {},
   "toc_section_display": true,
   "toc_window_display": false
  },
  "varInspector": {
   "cols": {
    "lenName": 16,
    "lenType": 16,
    "lenVar": 40
   },
   "kernels_config": {
    "python": {
     "delete_cmd_postfix": "",
     "delete_cmd_prefix": "del ",
     "library": "var_list.py",
     "varRefreshCmd": "print(var_dic_list())"
    },
    "r": {
     "delete_cmd_postfix": ") ",
     "delete_cmd_prefix": "rm(",
     "library": "var_list.r",
     "varRefreshCmd": "cat(var_dic_list()) "
    }
   },
   "position": {
    "height": "506.858px",
    "left": "1763.33px",
    "right": "20px",
    "top": "120px",
    "width": "350px"
   },
   "types_to_exclude": [
    "module",
    "function",
    "builtin_function_or_method",
    "instance",
    "_Feature"
   ],
   "window_display": false
  }
 },
 "nbformat": 4,
 "nbformat_minor": 5
}
