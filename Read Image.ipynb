{
 "cells": [
  {
   "cell_type": "code",
   "execution_count": 1,
   "id": "68caf014",
   "metadata": {
    "ExecuteTime": {
     "end_time": "2022-04-24T09:07:18.218052Z",
     "start_time": "2022-04-24T09:07:14.828111Z"
    }
   },
   "outputs": [],
   "source": [
    "import os\n",
    "import numpy as np\n",
    "import pandas as pd\n",
    "import matplotlib.pyplot as plt\n",
    "import tensorflow as tf\n",
    "import tensorflow.keras as keras\n",
    "from tensorflow.keras.preprocessing.image import ImageDataGenerator, array_to_img, img_to_array, load_img\n",
    "import cv2\n",
    "import joblib"
   ]
  },
  {
   "cell_type": "code",
   "execution_count": 11,
   "id": "84aab649",
   "metadata": {
    "ExecuteTime": {
     "end_time": "2022-04-24T09:08:48.772189Z",
     "start_time": "2022-04-24T09:08:48.766206Z"
    }
   },
   "outputs": [],
   "source": [
    "path = \"D:/Image_data/0/Leonardite (1).jpg\""
   ]
  },
  {
   "cell_type": "code",
   "execution_count": 12,
   "id": "ad226028",
   "metadata": {
    "ExecuteTime": {
     "end_time": "2022-04-24T09:08:49.191932Z",
     "start_time": "2022-04-24T09:08:49.025075Z"
    }
   },
   "outputs": [],
   "source": [
    "img = cv2.imread(path)\n",
    "img = cv2.resize(img, (32, 32), interpolation=cv2.INTER_NEAREST)\n",
    "img = np.float32(img)\n",
    "img = cv2.cvtColor(img, cv2.COLOR_BGR2RGB)\n",
    "img = cv2.rotate(img, cv2.ROTATE_180)\n",
    "img = img/255.0"
   ]
  },
  {
   "cell_type": "code",
   "execution_count": 13,
   "id": "fc04ecad",
   "metadata": {
    "ExecuteTime": {
     "end_time": "2022-04-24T09:08:58.204783Z",
     "start_time": "2022-04-24T09:08:58.069806Z"
    }
   },
   "outputs": [],
   "source": [
    "img_2 = keras.utils.load_img((path), target_size=(32, 32))\n",
    "img_2 = np.float32(img_2)\n",
    "img_2 = img_2/255.0"
   ]
  },
  {
   "cell_type": "code",
   "execution_count": 23,
   "id": "5acbd2a5",
   "metadata": {
    "ExecuteTime": {
     "end_time": "2022-04-24T12:59:11.853594Z",
     "start_time": "2022-04-24T12:59:11.842035Z"
    }
   },
   "outputs": [],
   "source": [
    "keras.utils.load_img?"
   ]
  },
  {
   "cell_type": "code",
   "execution_count": 15,
   "id": "0c114699",
   "metadata": {
    "ExecuteTime": {
     "end_time": "2022-04-24T09:09:06.584964Z",
     "start_time": "2022-04-24T09:09:06.574620Z"
    }
   },
   "outputs": [
    {
     "data": {
      "text/plain": [
       "array([[[0.5019608 , 0.4392157 , 0.38039216],\n",
       "        [0.5058824 , 0.45490196, 0.39215687],\n",
       "        [0.49803922, 0.44705883, 0.38431373],\n",
       "        ...,\n",
       "        [0.6392157 , 0.64705884, 0.6431373 ],\n",
       "        [0.6509804 , 0.65882355, 0.654902  ],\n",
       "        [0.6156863 , 0.62352943, 0.6117647 ]],\n",
       "\n",
       "       [[0.6745098 , 0.6901961 , 0.69411767],\n",
       "        [0.6784314 , 0.69411767, 0.69803923],\n",
       "        [0.6784314 , 0.69411767, 0.69803923],\n",
       "        ...,\n",
       "        [0.6666667 , 0.6745098 , 0.6627451 ],\n",
       "        [0.6666667 , 0.6745098 , 0.6627451 ],\n",
       "        [0.6627451 , 0.67058825, 0.65882355]],\n",
       "\n",
       "       [[0.6901961 , 0.69411767, 0.7019608 ],\n",
       "        [0.6784314 , 0.69411767, 0.69803923],\n",
       "        [0.6901961 , 0.7058824 , 0.70980394],\n",
       "        ...,\n",
       "        [0.67058825, 0.6784314 , 0.6666667 ],\n",
       "        [0.6745098 , 0.68235296, 0.67058825],\n",
       "        [0.6627451 , 0.67058825, 0.65882355]],\n",
       "\n",
       "       ...,\n",
       "\n",
       "       [[0.654902  , 0.67058825, 0.6745098 ],\n",
       "        [0.6666667 , 0.68235296, 0.6862745 ],\n",
       "        [0.65882355, 0.6745098 , 0.6784314 ],\n",
       "        ...,\n",
       "        [0.654902  , 0.6627451 , 0.6509804 ],\n",
       "        [0.64705884, 0.654902  , 0.6431373 ],\n",
       "        [0.6392157 , 0.64705884, 0.627451  ]],\n",
       "\n",
       "       [[0.65882355, 0.6745098 , 0.6784314 ],\n",
       "        [0.6509804 , 0.6666667 , 0.67058825],\n",
       "        [0.6627451 , 0.6862745 , 0.6862745 ],\n",
       "        ...,\n",
       "        [0.64705884, 0.654902  , 0.6431373 ],\n",
       "        [0.6431373 , 0.6509804 , 0.6392157 ],\n",
       "        [0.63529414, 0.6431373 , 0.62352943]],\n",
       "\n",
       "       [[0.654902  , 0.67058825, 0.6745098 ],\n",
       "        [0.6392157 , 0.654902  , 0.65882355],\n",
       "        [0.654902  , 0.67058825, 0.6745098 ],\n",
       "        ...,\n",
       "        [0.6431373 , 0.6509804 , 0.6392157 ],\n",
       "        [0.6313726 , 0.6392157 , 0.61960787],\n",
       "        [0.6431373 , 0.6509804 , 0.6313726 ]]], dtype=float32)"
      ]
     },
     "execution_count": 15,
     "metadata": {},
     "output_type": "execute_result"
    }
   ],
   "source": [
    "img"
   ]
  },
  {
   "cell_type": "code",
   "execution_count": 16,
   "id": "20cacaac",
   "metadata": {
    "ExecuteTime": {
     "end_time": "2022-04-24T09:09:06.873954Z",
     "start_time": "2022-04-24T09:09:06.860397Z"
    }
   },
   "outputs": [
    {
     "data": {
      "text/plain": [
       "array([[[0.49019608, 0.42745098, 0.3764706 ],\n",
       "        [0.48235294, 0.41960785, 0.36862746],\n",
       "        [0.49019608, 0.4392157 , 0.3764706 ],\n",
       "        ...,\n",
       "        [0.47843137, 0.42745098, 0.36078432],\n",
       "        [0.48235294, 0.43137255, 0.3647059 ],\n",
       "        [0.47058824, 0.42745098, 0.35686275]],\n",
       "\n",
       "       [[0.49019608, 0.43529412, 0.38431373],\n",
       "        [0.4862745 , 0.44705883, 0.40784314],\n",
       "        [0.53333336, 0.5058824 , 0.4745098 ],\n",
       "        ...,\n",
       "        [0.63529414, 0.6431373 , 0.6392157 ],\n",
       "        [0.67058825, 0.6784314 , 0.6666667 ],\n",
       "        [0.6627451 , 0.67058825, 0.65882355]],\n",
       "\n",
       "       [[0.68235296, 0.6862745 , 0.69411767],\n",
       "        [0.69411767, 0.69803923, 0.7058824 ],\n",
       "        [0.68235296, 0.69803923, 0.7019608 ],\n",
       "        ...,\n",
       "        [0.6784314 , 0.6862745 , 0.68235296],\n",
       "        [0.6745098 , 0.68235296, 0.67058825],\n",
       "        [0.6745098 , 0.68235296, 0.67058825]],\n",
       "\n",
       "       ...,\n",
       "\n",
       "       [[0.654902  , 0.67058825, 0.6745098 ],\n",
       "        [0.65882355, 0.6745098 , 0.6784314 ],\n",
       "        [0.6666667 , 0.68235296, 0.6862745 ],\n",
       "        ...,\n",
       "        [0.6431373 , 0.6627451 , 0.64705884],\n",
       "        [0.6313726 , 0.6392157 , 0.627451  ],\n",
       "        [0.6431373 , 0.6509804 , 0.6313726 ]],\n",
       "\n",
       "       [[0.654902  , 0.67058825, 0.6745098 ],\n",
       "        [0.654902  , 0.67058825, 0.6745098 ],\n",
       "        [0.6627451 , 0.6784314 , 0.68235296],\n",
       "        ...,\n",
       "        [0.64705884, 0.654902  , 0.6431373 ],\n",
       "        [0.6627451 , 0.67058825, 0.65882355],\n",
       "        [0.64705884, 0.654902  , 0.63529414]],\n",
       "\n",
       "       [[0.64705884, 0.6627451 , 0.6666667 ],\n",
       "        [0.6509804 , 0.6745098 , 0.6745098 ],\n",
       "        [0.6627451 , 0.6862745 , 0.6862745 ],\n",
       "        ...,\n",
       "        [0.6509804 , 0.65882355, 0.64705884],\n",
       "        [0.6392157 , 0.64705884, 0.63529414],\n",
       "        [0.63529414, 0.6431373 , 0.62352943]]], dtype=float32)"
      ]
     },
     "execution_count": 16,
     "metadata": {},
     "output_type": "execute_result"
    }
   ],
   "source": [
    "img_2"
   ]
  },
  {
   "cell_type": "code",
   "execution_count": 20,
   "id": "5a8af5da",
   "metadata": {
    "ExecuteTime": {
     "end_time": "2022-04-24T09:14:11.530410Z",
     "start_time": "2022-04-24T09:14:11.422826Z"
    }
   },
   "outputs": [
    {
     "data": {
      "text/plain": [
       "<matplotlib.image.AxesImage at 0x1a1412604f0>"
      ]
     },
     "execution_count": 20,
     "metadata": {},
     "output_type": "execute_result"
    },
    {
     "data": {
      "image/png": "[encoded data removed]",
      "text/plain": [
       "<Figure size 432x288 with 1 Axes>"
      ]
     },
     "metadata": {
      "needs_background": "light"
     },
     "output_type": "display_data"
    }
   ],
   "source": [
    "plt.imshow(img)"
   ]
  },
  {
   "cell_type": "code",
   "execution_count": 21,
   "id": "adbef210",
   "metadata": {
    "ExecuteTime": {
     "end_time": "2022-04-24T09:14:16.862779Z",
     "start_time": "2022-04-24T09:14:16.771000Z"
    }
   },
   "outputs": [
    {
     "data": {
      "text/plain": [
       "<matplotlib.image.AxesImage at 0x1a1419e22b0>"
      ]
     },
     "execution_count": 21,
     "metadata": {},
     "output_type": "execute_result"
    },
    {
     "data": {
      "image/png": "[encoded data removed]",
      "text/plain": [
       "<Figure size 432x288 with 1 Axes>"
      ]
     },
     "metadata": {
      "needs_background": "light"
     },
     "output_type": "display_data"
    }
   ],
   "source": [
    "plt.imshow(img_2)"
   ]
  },
  {
   "cell_type": "code",
   "execution_count": 17,
   "id": "63b33feb",
   "metadata": {
    "ExecuteTime": {
     "end_time": "2022-04-24T09:09:11.265489Z",
     "start_time": "2022-04-24T09:09:11.254717Z"
    }
   },
   "outputs": [
    {
     "data": {
      "text/plain": [
       "False    2582\n",
       "True      490\n",
       "dtype: int64"
      ]
     },
     "execution_count": 17,
     "metadata": {},
     "output_type": "execute_result"
    }
   ],
   "source": [
    "pd.Series((np.reshape(img_2, (-1))) == (np.reshape(img, (-1)))).value_counts()"
   ]
  },
  {
   "cell_type": "code",
   "execution_count": 19,
   "id": "b1f22170",
   "metadata": {
    "ExecuteTime": {
     "end_time": "2022-04-24T09:13:15.812653Z",
     "start_time": "2022-04-24T09:13:15.802854Z"
    }
   },
   "outputs": [
    {
     "data": {
      "text/plain": [
       "3072"
      ]
     },
     "execution_count": 19,
     "metadata": {},
     "output_type": "execute_result"
    }
   ],
   "source": [
    "img.size"
   ]
  },
  {
   "cell_type": "code",
   "execution_count": null,
   "id": "c019800c",
   "metadata": {},
   "outputs": [],
   "source": []
  }
 ],
 "metadata": {
  "kernelspec": {
   "display_name": "=python3.9.0",
   "language": "python",
   "name": "python3.9.0"
  },
  "language_info": {
   "codemirror_mode": {
    "name": "ipython",
    "version": 3
   },
   "file_extension": ".py",
   "mimetype": "text/x-python",
   "name": "python",
   "nbconvert_exporter": "python",
   "pygments_lexer": "ipython3",
   "version": "3.9.12"
  },
  "toc": {
   "base_numbering": 1,
   "nav_menu": {},
   "number_sections": true,
   "sideBar": true,
   "skip_h1_title": false,
   "title_cell": "Table of Contents",
   "title_sidebar": "Contents",
   "toc_cell": false,
   "toc_position": {},
   "toc_section_display": true,
   "toc_window_display": false
  },
  "varInspector": {
   "cols": {
    "lenName": 16,
    "lenType": 16,
    "lenVar": 40
   },
   "kernels_config": {
    "python": {
     "delete_cmd_postfix": "",
     "delete_cmd_prefix": "del ",
     "library": "var_list.py",
     "varRefreshCmd": "print(var_dic_list())"
    },
    "r": {
     "delete_cmd_postfix": ") ",
     "delete_cmd_prefix": "rm(",
     "library": "var_list.r",
     "varRefreshCmd": "cat(var_dic_list()) "
    }
   },
   "types_to_exclude": [
    "module",
    "function",
    "builtin_function_or_method",
    "instance",
    "_Feature"
   ],
   "window_display": false
  }
 },
 "nbformat": 4,
 "nbformat_minor": 5
}
