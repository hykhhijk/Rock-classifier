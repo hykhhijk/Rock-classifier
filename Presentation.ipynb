{
 "cells": [
  {
   "cell_type": "code",
   "execution_count": 1,
   "id": "551ba211",
   "metadata": {
    "ExecuteTime": {
     "end_time": "2022-05-09T08:04:52.196875Z",
     "start_time": "2022-05-09T08:04:44.745496Z"
    }
   },
   "outputs": [],
   "source": [
    "import os\n",
    "import numpy as np\n",
    "import pandas as pd\n",
    "import matplotlib.pyplot as plt\n",
    "import tensorflow as tf\n",
    "import tensorflow.keras as keras\n",
    "import cv2\n",
    "import joblib\n",
    "from sklearn.preprocessing import OneHotEncoder\n",
    "from sklearn.model_selection import train_test_split\n",
    "import albumentations as A\n",
    "import time\n",
    "from sklearn.model_selection import StratifiedKFold"
   ]
  },
  {
   "cell_type": "markdown",
   "id": "d2ec1176",
   "metadata": {},
   "source": [
    "# Make dataset "
   ]
  },
  {
   "cell_type": "code",
   "execution_count": null,
   "id": "c36631a2",
   "metadata": {},
   "outputs": [],
   "source": [
    "### (32, 32)픽셀로 읽어 들이는데 19분\n",
    "### 픽셀값 변경을 원할떄만 실행시키며 그렇지 않은 경우 아래의 joblib을 이용하여 가져올 것, 실행시간: 5초 이하\n",
    "img_list=np.array([])\n",
    "label_list=[]\n",
    "for i in os.listdir(path):\n",
    "    print(\"Progressing...\")\n",
    "    for j in os.listdir(os.path.join(path, i)):\n",
    "        img = cv2.imread(os.path.join(path, i, j))\n",
    "        img = cv2.resize(img, (32, 32), interpolation=cv2.INTER_NEAREST)\n",
    "        img = np.float32(img)\n",
    "        img = cv2.cvtColor(img, cv2.COLOR_BGR2RGB)\n",
    "        img = img/255.0\n",
    "        img_list = np.append(img_list, img)\n",
    "        label_list.append(i)\n",
    "img_list = np.reshape(img_list, (-1, 32, 32, 3))"
   ]
  },
  {
   "cell_type": "code",
   "execution_count": null,
   "id": "dc854d63",
   "metadata": {},
   "outputs": [],
   "source": [
    "joblib.dump(img_list, \"CV2_float32.pkl\")"
   ]
  },
  {
   "cell_type": "code",
   "execution_count": null,
   "id": "ea5d3132",
   "metadata": {},
   "outputs": [],
   "source": [
    "### (32, 32)픽셀로 읽어 들이는데 19분\n",
    "### 픽셀값 변경을 원할떄만 실행시키며 그렇지 않은 경우 아래의 joblib을 이용하여 가져올 것, 실행시간: 5초 이하\n",
    "img_list=np.array([])\n",
    "label_list=[]\n",
    "for i in os.listdir(path):\n",
    "    print(\"Progressing...\")\n",
    "    for j in os.listdir(os.path.join(path, i)):\n",
    "        img = cv2.imread(os.path.join(path, i, j))\n",
    "        img = cv2.resize(img, (32, 32), interpolation=cv2.INTER_LANCZOS4)\n",
    "        img = np.float32(img)\n",
    "        img = cv2.cvtColor(img, cv2.COLOR_BGR2RGB)\n",
    "        img = img/255.0\n",
    "        img_list = np.append(img_list, img)\n",
    "        label_list.append(i)\n",
    "img_list = np.reshape(img_list, (-1, 32, 32, 3))"
   ]
  },
  {
   "cell_type": "code",
   "execution_count": null,
   "id": "19491d39",
   "metadata": {},
   "outputs": [],
   "source": [
    "joblib.dump(img_list, \"CV2_LANCZO.pkl\")"
   ]
  },
  {
   "cell_type": "code",
   "execution_count": null,
   "id": "d5463490",
   "metadata": {},
   "outputs": [],
   "source": [
    "### (32, 32)픽셀로 읽어 들이는데 19분\n",
    "### 픽셀값 변경을 원할떄만 실행시키며 그렇지 않은 경우 아래의 joblib을 이용하여 가져올 것, 실행시간: 5초 이하\n",
    "img_list=np.array([])\n",
    "label_list=[]\n",
    "for i in os.listdir(path):\n",
    "    print(\"Progressing...\")\n",
    "    for j in os.listdir(os.path.join(path, i)):\n",
    "        img = keras.utils.load_img(os.path.join(path, i, j), target_size=(32, 32))\n",
    "        img = np.float32(img)\n",
    "        img = img/255.0\n",
    "        img_list = np.append(img_list, img)\n",
    "        label_list.append(i)\n",
    "img_list = np.reshape(img_list,(-1, 32, 32, 3))"
   ]
  },
  {
   "cell_type": "code",
   "execution_count": null,
   "id": "1ba3a047",
   "metadata": {},
   "outputs": [],
   "source": [
    "joblib.dump(img_list, \"converted_img.pkl\")"
   ]
  },
  {
   "cell_type": "markdown",
   "id": "fe12ae97",
   "metadata": {},
   "source": [
    "# Import data and split"
   ]
  },
  {
   "cell_type": "markdown",
   "id": "66b89844",
   "metadata": {},
   "source": [
    "## cv2를 이용한 최근방 이웃, Lanczo, keras의 보간법을 사용하여<br> 같은 데이터를 3번 읽은 뒤 random_state를 고정한 상태에서 train과 test로 나누어 더함"
   ]
  },
  {
   "cell_type": "code",
   "execution_count": 2,
   "id": "7cf0d409",
   "metadata": {
    "ExecuteTime": {
     "end_time": "2022-05-09T08:04:53.819344Z",
     "start_time": "2022-05-09T08:04:52.196875Z"
    }
   },
   "outputs": [],
   "source": [
    "X_train = []\n",
    "X_test = []\n",
    "y_train = []\n",
    "y_test =[]\n",
    "\n",
    "X = joblib.load(\"CV2_float32.pkl\")\n",
    "y = joblib.load(\"label.pkl\")\n",
    "X_train_, X_test_, y_train_, y_test_ = train_test_split(X, y, stratify=y, shuffle=True, random_state=42)\n",
    "X_train.append(X_train_), y_train.append(y_train_), X_test.append(X_test_), y_test.append(y_test_)\n",
    "\n",
    "X = joblib.load(\"converted_img.pkl\")\n",
    "X_train_, X_test_, y_train_, y_test_ = train_test_split(X, y, stratify=y, shuffle=True, random_state=42)\n",
    "X_train.append(X_train_), y_train.append(y_train_), X_test.append(X_test_), y_test.append(y_test_)\n",
    "\n",
    "X = joblib.load(\"CV2_LANCZO.pkl\")\n",
    "X_train_, X_test_, y_train_, y_test_ = train_test_split(X, y, stratify=y, shuffle=True, random_state=42)\n",
    "X_train.append(X_train_), y_train.append(y_train_), X_test.append(X_test_), y_test.append(y_test_)\n",
    "\n",
    "X_train = np.float32(X_train)\n",
    "X_test = np.float32(X_test)\n",
    "y_train = np.float32(y_train)\n",
    "y_test = np.float32(y_test)\n",
    "X_train = X_train.reshape(-1, 32, 32, 3)\n",
    "X_test = X_test.reshape(-1, 32, 32, 3)\n",
    "y_train = y_train.reshape(-1)\n",
    "y_test = y_test.reshape(-1)"
   ]
  },
  {
   "cell_type": "code",
   "execution_count": 3,
   "id": "1098bc2e",
   "metadata": {
    "ExecuteTime": {
     "end_time": "2022-05-09T08:04:53.834725Z",
     "start_time": "2022-05-09T08:04:53.819344Z"
    }
   },
   "outputs": [
    {
     "data": {
      "text/plain": [
       "OneHotEncoder(sparse=False)"
      ]
     },
     "execution_count": 3,
     "metadata": {},
     "output_type": "execute_result"
    }
   ],
   "source": [
    "encoder = OneHotEncoder(sparse=False)\n",
    "encoder.fit(y_train.reshape(-1, 1))"
   ]
  },
  {
   "cell_type": "markdown",
   "id": "7d046e01",
   "metadata": {},
   "source": [
    "인코더는 증강 이후 사용"
   ]
  },
  {
   "cell_type": "markdown",
   "id": "466faa7a",
   "metadata": {},
   "source": [
    "# Augmentation"
   ]
  },
  {
   "cell_type": "markdown",
   "id": "bc6bcd5e",
   "metadata": {},
   "source": [
    "## 50%확률로 수직, 수평으로 회전하는 증강 사용하여 10번 반복하여 데이터셋 증강"
   ]
  },
  {
   "cell_type": "code",
   "execution_count": 4,
   "id": "ca9e12f5",
   "metadata": {
    "ExecuteTime": {
     "end_time": "2022-05-09T08:04:53.849685Z",
     "start_time": "2022-05-09T08:04:53.836720Z"
    }
   },
   "outputs": [],
   "source": [
    "transform_fiip = A.Compose([\n",
    "    A.Resize(32, 32),\n",
    "    A.HorizontalFlip(p=0.5), \n",
    "    A.VerticalFlip(p=0.5),\n",
    "])"
   ]
  },
  {
   "cell_type": "code",
   "execution_count": 5,
   "id": "1350a3d8",
   "metadata": {
    "ExecuteTime": {
     "end_time": "2022-05-09T08:04:53.865643Z",
     "start_time": "2022-05-09T08:04:53.851680Z"
    }
   },
   "outputs": [],
   "source": [
    "def make_train_data(augment):\n",
    "    img_list = []\n",
    "    label_list = []\n",
    "    for _ in range(10):\n",
    "        for i in range(len(X_train)):\n",
    "            img_list.append(augment(image=X_train[i])[\"image\"])\n",
    "            label_list.append(y_train[i])\n",
    "    img_list = np.float32(img_list)\n",
    "    img_list = img_list.reshape(-1, 32, 32, 3)\n",
    "    label_list = np.float32(label_list)\n",
    "    return [img_list, label_list]"
   ]
  },
  {
   "cell_type": "code",
   "execution_count": 6,
   "id": "8aa732a8",
   "metadata": {
    "ExecuteTime": {
     "end_time": "2022-05-09T08:04:58.899585Z",
     "start_time": "2022-05-09T08:04:53.867637Z"
    }
   },
   "outputs": [],
   "source": [
    "X_train, y_train = make_train_data(transform_fiip)"
   ]
  },
  {
   "cell_type": "code",
   "execution_count": 7,
   "id": "1616601d",
   "metadata": {
    "ExecuteTime": {
     "end_time": "2022-05-09T08:04:58.944191Z",
     "start_time": "2022-05-09T08:04:58.899585Z"
    }
   },
   "outputs": [],
   "source": [
    "encoder = OneHotEncoder(sparse=False)\n",
    "encoder.fit(y_train.reshape(-1, 1))\n",
    "y_train = encoder.transform(y_train.reshape(-1, 1))\n",
    "y_test = encoder.transform(y_test.reshape(-1, 1))"
   ]
  },
  {
   "cell_type": "markdown",
   "id": "5643af5c",
   "metadata": {},
   "source": [
    "# Train model "
   ]
  },
  {
   "cell_type": "markdown",
   "id": "de48e49f",
   "metadata": {},
   "source": [
    "## 조기종료: 5에포크, 학습률 감소: 3에포크 수렴 못할 시 0.001->0.00001까지 1/2<br>모델은 같은 크기(32, 32, 3)이미지에 사용된 Resnet20형태를 참고하여 생성"
   ]
  },
  {
   "cell_type": "code",
   "execution_count": 17,
   "id": "08674411",
   "metadata": {
    "ExecuteTime": {
     "end_time": "2022-05-09T08:25:34.686898Z",
     "start_time": "2022-05-09T08:25:34.667948Z"
    }
   },
   "outputs": [],
   "source": [
    "es = keras.callbacks.EarlyStopping(monitor=\"val_accuracy\", patience=10, mode=\"max\")\n",
    "reduce_lr = keras.callbacks.ReduceLROnPlateau(monitor='val_loss', factor=0.5,patience=3, min_lr=0.00001, verbose=1)\n",
    "mc = keras.callbacks.ModelCheckpoint(filepath=\"./best_model.h5\",monitor=\"val_loss\", save_best_only=True, mode=\"min\")"
   ]
  },
  {
   "cell_type": "code",
   "execution_count": 18,
   "id": "15849f46",
   "metadata": {
    "ExecuteTime": {
     "end_time": "2022-05-09T08:55:13.181150Z",
     "start_time": "2022-05-09T08:25:34.904310Z"
    }
   },
   "outputs": [
    {
     "name": "stdout",
     "output_type": "stream",
     "text": [
      "Epoch 1/100\n",
      "5119/5119 [==============================] - 59s 11ms/step - loss: 0.2442 - accuracy: 0.9040 - val_loss: 0.1001 - val_accuracy: 0.9639\n",
      "Epoch 2/100\n",
      "   6/5119 [..............................] - ETA: 53s - loss: 0.0498 - accuracy: 0.9792 "
     ]
    },
    {
     "name": "stderr",
     "output_type": "stream",
     "text": [
      "C:\\Users\\hjhhi\\anaconda3\\envs\\python3.9.0\\lib\\site-packages\\tensorflow\\python\\keras\\utils\\generic_utils.py:494: CustomMaskWarning: Custom mask layers require a config and must override get_config. When loading, the custom mask layer must be passed to the custom_objects argument.\n",
      "  warnings.warn('Custom mask layers require a config and must override '\n"
     ]
    },
    {
     "name": "stdout",
     "output_type": "stream",
     "text": [
      "5119/5119 [==============================] - 56s 11ms/step - loss: 0.0591 - accuracy: 0.9789 - val_loss: 0.1803 - val_accuracy: 0.9407\n",
      "Epoch 3/100\n",
      "5119/5119 [==============================] - 58s 11ms/step - loss: 0.0338 - accuracy: 0.9883 - val_loss: 0.1078 - val_accuracy: 0.9634\n",
      "Epoch 4/100\n",
      "5119/5119 [==============================] - 56s 11ms/step - loss: 0.0249 - accuracy: 0.9910 - val_loss: 0.0509 - val_accuracy: 0.9830\n",
      "Epoch 5/100\n",
      "5119/5119 [==============================] - 56s 11ms/step - loss: 0.0198 - accuracy: 0.9933 - val_loss: 0.0688 - val_accuracy: 0.9793\n",
      "Epoch 6/100\n",
      "5119/5119 [==============================] - 57s 11ms/step - loss: 0.0166 - accuracy: 0.9945 - val_loss: 2.2158 - val_accuracy: 0.7161\n",
      "Epoch 7/100\n",
      "5119/5119 [==============================] - 57s 11ms/step - loss: 0.0138 - accuracy: 0.9951 - val_loss: 0.0172 - val_accuracy: 0.9945\n",
      "Epoch 8/100\n",
      "5119/5119 [==============================] - 56s 11ms/step - loss: 0.0120 - accuracy: 0.9959 - val_loss: 1.4184 - val_accuracy: 0.7429\n",
      "Epoch 9/100\n",
      "5119/5119 [==============================] - 58s 11ms/step - loss: 0.0106 - accuracy: 0.9964 - val_loss: 0.0460 - val_accuracy: 0.9837\n",
      "Epoch 10/100\n",
      "5119/5119 [==============================] - 57s 11ms/step - loss: 0.0109 - accuracy: 0.9963 - val_loss: 1.1368 - val_accuracy: 0.7527\n",
      "\n",
      "Epoch 00010: ReduceLROnPlateau reducing learning rate to 0.0005000000237487257.\n",
      "Epoch 11/100\n",
      "5119/5119 [==============================] - 56s 11ms/step - loss: 0.0037 - accuracy: 0.9989 - val_loss: 0.5297 - val_accuracy: 0.8857\n",
      "Epoch 12/100\n",
      "5119/5119 [==============================] - 56s 11ms/step - loss: 0.0033 - accuracy: 0.9988 - val_loss: 0.0867 - val_accuracy: 0.9760 loss: - ETA: 5s - loss: 0.0032 - accuracy: 0.99 - ETA: 5s - ETA: 1s - - ETA: 0s - loss: 0\n",
      "Epoch 13/100\n",
      "5119/5119 [==============================] - 56s 11ms/step - loss: 0.0033 - accuracy: 0.9990 - val_loss: 2.7366 - val_accuracy: 0.6326\n",
      "\n",
      "Epoch 00013: ReduceLROnPlateau reducing learning rate to 0.0002500000118743628.\n",
      "Epoch 14/100\n",
      "5119/5119 [==============================] - 56s 11ms/step - loss: 0.0017 - accuracy: 0.9995 - val_loss: 0.0089 - val_accuracy: 0.9980\n",
      "Epoch 15/100\n",
      "5119/5119 [==============================] - 56s 11ms/step - loss: 0.0017 - accuracy: 0.9995 - val_loss: 0.0139 - val_accuracy: 0.9965s:\n",
      "Epoch 16/100\n",
      "5119/5119 [==============================] - 56s 11ms/step - loss: 0.0011 - accuracy: 0.9996 - val_loss: 0.1360 - val_accuracy: 0.9676\n",
      "Epoch 17/100\n",
      "5119/5119 [==============================] - 56s 11ms/step - loss: 0.0012 - accuracy: 0.9996 - val_loss: 0.1448 - val_accuracy: 0.9701\n",
      "\n",
      "Epoch 00017: ReduceLROnPlateau reducing learning rate to 0.0001250000059371814.\n",
      "Epoch 18/100\n",
      "5119/5119 [==============================] - 56s 11ms/step - loss: 9.2243e-04 - accuracy: 0.9997 - val_loss: 7.6195e-04 - val_accuracy: 0.9998\n",
      "Epoch 19/100\n",
      "5119/5119 [==============================] - 56s 11ms/step - loss: 6.7669e-04 - accuracy: 0.9998 - val_loss: 0.0021 - val_accuracy: 0.9989\n",
      "Epoch 20/100\n",
      "5119/5119 [==============================] - 56s 11ms/step - loss: 6.7578e-04 - accuracy: 0.9998 - val_loss: 0.0017 - val_accuracy: 0.9991\n",
      "Epoch 21/100\n",
      "5119/5119 [==============================] - 56s 11ms/step - loss: 5.0884e-04 - accuracy: 0.9998 - val_loss: 8.0383e-04 - val_accuracy: 1.0000 24s - loss: 5.5177e-04 - accuracy: 0 - ETA: 24s - loss: 5.6906e-04 - accuracy: - ETA: 24s - loss: 5.6349e-04 - ETA: 23s - loss: 5.5873e-04 - a - ETA: 22s - - ETA: 20s - los - ETA: 18s - loss: 5.09 - ETA: 1 - ETA: 1 - ETA: 7s - loss: 5.2911e\n",
      "\n",
      "Epoch 00021: ReduceLROnPlateau reducing learning rate to 6.25000029685907e-05.\n",
      "Epoch 22/100\n",
      "5119/5119 [==============================] - 54s 11ms/step - loss: 3.9873e-04 - accuracy: 0.9999 - val_loss: 8.1827e-04 - val_accuracy: 0.9996\n",
      "Epoch 23/100\n",
      "5119/5119 [==============================] - 54s 11ms/step - loss: 2.6630e-04 - accuracy: 0.9999 - val_loss: 0.0014 - val_accuracy: 0.9993\n",
      "Epoch 24/100\n",
      "5119/5119 [==============================] - 55s 11ms/step - loss: 2.9852e-04 - accuracy: 0.9999 - val_loss: 3.7374e-04 - val_accuracy: 1.0000\n",
      "Epoch 25/100\n",
      "5119/5119 [==============================] - 58s 11ms/step - loss: 4.3557e-04 - accuracy: 0.9999 - val_loss: 0.0013 - val_accuracy: 0.9995\n",
      "Epoch 26/100\n",
      "5119/5119 [==============================] - 57s 11ms/step - loss: 2.9235e-04 - accuracy: 0.9999 - val_loss: 8.2821e-04 - val_accuracy: 0.9996\n",
      "Epoch 27/100\n",
      "5119/5119 [==============================] - 58s 11ms/step - loss: 2.9699e-04 - accuracy: 0.9999 - val_loss: 9.1148e-04 - val_accuracy: 0.9995\n",
      "\n",
      "Epoch 00027: ReduceLROnPlateau reducing learning rate to 3.125000148429535e-05.\n",
      "Epoch 28/100\n",
      "5119/5119 [==============================] - 58s 11ms/step - loss: 2.0508e-04 - accuracy: 0.9999 - val_loss: 6.0040e-04 - val_accuracy: 0.9998\n",
      "Epoch 29/100\n",
      "5119/5119 [==============================] - 57s 11ms/step - loss: 2.6074e-04 - accuracy: 1.0000 - val_loss: 6.1509e-04 - val_accuracy: 0.9998\n",
      "Epoch 30/100\n",
      "5119/5119 [==============================] - 56s 11ms/step - loss: 2.4743e-04 - accuracy: 0.9999 - val_loss: 2.3370e-04 - val_accuracy: 1.000051 - ETA: 31s - loss: 2.8208e-04 - acc - ETA: 30s - loss: 2.7505e-04 - - ETA: 30s - loss: 2.6685e-04  - ETA: 29s  - ETA: 27s - loss - ETA: 22s - loss: 2.4482e-04 - accuracy: 0.999 - ETA: 22s - loss: 2.4448e-04 - accu - ETA: 21s - loss: 2.4072e-04 - acc - ETA: 21s - loss: 2.6611e-04 - acc - ETA: 17s - loss: 2.8056e-04 - - ETA: 16s - loss: 2.7776e-04 - ac - ETA: 15s - loss: 2.7306e-04 - accura - ETA: 15s - loss: 2.6992e-\n",
      "Epoch 31/100\n",
      "5119/5119 [==============================] - 56s 11ms/step - loss: 1.9118e-04 - accuracy: 0.9999 - val_loss: 6.0755e-04 - val_accuracy: 0.9996\n",
      "5119/5119 [==============================] - 28s 5ms/step - loss: 1.8185e-07 - accuracy: 1.0000\n",
      "Train:  [1.8185335193265928e-07, 1.0]\n",
      "171/171 [==============================] - 1s 5ms/step - loss: 6.0755e-04 - accuracy: 0.9996\n",
      "Valid:  [0.0006075503188185394, 0.9996336698532104]\n"
     ]
    }
   ],
   "source": [
    "dr_ratio=0.2\n",
    "\n",
    "Input = keras.layers.Input(shape=X_train[0].shape)\n",
    "\n",
    "x = keras.layers.Conv2D(16, kernel_size=3, activation=\"relu\",kernel_initializer=\"he_normal\", padding=\"same\")(Input)\n",
    "x = keras.layers.BatchNormalization()(x)\n",
    "x = keras.layers.MaxPool2D(2)(x)\n",
    "\n",
    "x = keras.layers.Dropout(dr_ratio)(x)\n",
    "\n",
    "shortcut =x\n",
    "x = keras.layers.Conv2D(32, kernel_size=3, activation=\"relu\",kernel_initializer=\"he_normal\", padding=\"same\")(x)\n",
    "x = keras.layers.BatchNormalization()(x)\n",
    "x = keras.layers.Conv2D(32, kernel_size=3, activation=\"relu\",kernel_initializer=\"he_normal\", padding=\"same\")(x)\n",
    "# x = keras.layers.BatchNormalization()(x)\n",
    "# x = keras.layers.Conv2D(32, kernel_size=3, activation=\"relu\",kernel_initializer=\"he_normal\", padding=\"same\")(x)\n",
    "shortcut = keras.layers.Conv2D(32, kernel_size=5, activation=\"relu\",kernel_initializer=\"he_normal\", padding=\"same\")(shortcut)\n",
    "x = keras.layers.Add()([x, shortcut])\n",
    "x   = keras.layers.BatchNormalization()(x)\n",
    "x = keras.layers.MaxPool2D(2)(x)\n",
    "\n",
    "\n",
    "x = keras.layers.Dropout(dr_ratio)(x)\n",
    "\n",
    "\n",
    "shortcut =x\n",
    "x = keras.layers.Conv2D(64, kernel_size=3, activation=\"relu\",kernel_initializer=\"he_normal\", padding=\"same\")(x)\n",
    "x = keras.layers.BatchNormalization()(x)\n",
    "x = keras.layers.Conv2D(64, kernel_size=3, activation=\"relu\",kernel_initializer=\"he_normal\", padding=\"same\")(x)\n",
    "# x = keras.layers.BatchNormalization()(x)\n",
    "# x = keras.layers.Conv2D(64, kernel_size=3, activation=\"relu\",kernel_initializer=\"he_normal\", padding=\"same\")(x)\n",
    "shortcut = keras.layers.Conv2D(64, kernel_size=3, activation=\"relu\",kernel_initializer=\"he_normal\", padding=\"same\")(shortcut)\n",
    "x = keras.layers.Add()([x, shortcut])\n",
    "x = keras.layers.BatchNormalization()(x)\n",
    "x = keras.layers.MaxPool2D(2)(x)\n",
    "\n",
    "x = keras.layers.Dropout(dr_ratio)(x)\n",
    "\n",
    "shortcut =x\n",
    "x = keras.layers.Conv2D(128, kernel_size=3, activation=\"relu\",kernel_initializer=\"he_normal\", padding=\"same\")(x)\n",
    "x = keras.layers.BatchNormalization()(x)\n",
    "x = keras.layers.Conv2D(128, kernel_size=3, activation=\"relu\",kernel_initializer=\"he_normal\", padding=\"same\")(x)\n",
    "# x = keras.layers.BatchNormalization()(x)\n",
    "# x = keras.layers.Conv2D(128, kernel_size=3, activation=\"relu\",kernel_initializer=\"he_normal\", padding=\"same\")(x)\n",
    "shortcut = keras.layers.Conv2D(128, kernel_size=3, activation=\"relu\",kernel_initializer=\"he_normal\", padding=\"same\")(shortcut)\n",
    "x = keras.layers.Add()([x, shortcut])\n",
    "x = keras.layers.BatchNormalization()(x)\n",
    "x = keras.layers.MaxPool2D(2)(x)\n",
    "\n",
    "x = keras.layers.Dropout(dr_ratio)(x)\n",
    "\n",
    "\n",
    "x = keras.layers.GlobalAveragePooling2D()(x)\n",
    "Output = keras.layers.Dense(4, activation=\"softmax\")(x)\n",
    "\n",
    "model = keras.models.Model(inputs = Input, outputs = Output)\n",
    "model.compile(loss=\"categorical_crossentropy\",\n",
    "optimizer=keras.optimizers.Adam(learning_rate=0.001), metrics=[\"accuracy\"])\n",
    "\n",
    "history=model.fit(X_train, y_train, validation_data=(X_test, y_test),callbacks=[es, reduce_lr, mc],epochs = 100)\n",
    "print(\"Train: \", model.evaluate(X_train, y_train))\n",
    "print(\"Valid: \", model.evaluate(X_test, y_test))"
   ]
  },
  {
   "cell_type": "code",
   "execution_count": 21,
   "id": "b177c96b",
   "metadata": {
    "ExecuteTime": {
     "end_time": "2022-05-09T08:55:17.455431Z",
     "start_time": "2022-05-09T08:55:17.341191Z"
    }
   },
   "outputs": [
    {
     "data": {
      "text/plain": [
       "(0.0, 1.0)"
      ]
     },
     "execution_count": 21,
     "metadata": {},
     "output_type": "execute_result"
    },
    {
     "data": {
      "image/png": "[encoded data removed]",
      "text/plain": [
       "<Figure size 1008x720 with 1 Axes>"
      ]
     },
     "metadata": {
      "needs_background": "light"
     },
     "output_type": "display_data"
    }
   ],
   "source": [
    "plt.figure(figsize=(14, 10))\n",
    "plt.plot(history.history[\"accuracy\"])\n",
    "plt.plot(history.history[\"val_accuracy\"])\n",
    "plt.ylim(0.0, 1.0)"
   ]
  },
  {
   "cell_type": "code",
   "execution_count": 22,
   "id": "f46c2988",
   "metadata": {
    "ExecuteTime": {
     "end_time": "2022-05-09T08:55:22.344085Z",
     "start_time": "2022-05-09T08:55:22.328127Z"
    }
   },
   "outputs": [
    {
     "data": {
      "text/plain": [
       "[0.9639194011688232,\n",
       " 0.9406593441963196,\n",
       " 0.9633699655532837,\n",
       " 0.9829670190811157,\n",
       " 0.9793040156364441,\n",
       " 0.7161172032356262,\n",
       " 0.9945054650306702,\n",
       " 0.7428571581840515,\n",
       " 0.98369961977005,\n",
       " 0.7527472376823425,\n",
       " 0.8857142925262451,\n",
       " 0.976007342338562,\n",
       " 0.632600724697113,\n",
       " 0.9979853630065918,\n",
       " 0.9965201616287231,\n",
       " 0.9675824046134949,\n",
       " 0.9701465368270874,\n",
       " 0.9998168349266052,\n",
       " 0.9989010691642761,\n",
       " 0.9990842342376709,\n",
       " 1.0,\n",
       " 0.9996336698532104,\n",
       " 0.9992673993110657,\n",
       " 1.0,\n",
       " 0.9994505643844604,\n",
       " 0.9996336698532104,\n",
       " 0.9994505643844604,\n",
       " 0.9998168349266052,\n",
       " 0.9998168349266052,\n",
       " 1.0,\n",
       " 0.9996336698532104]"
      ]
     },
     "execution_count": 22,
     "metadata": {},
     "output_type": "execute_result"
    }
   ],
   "source": [
    "history.history[\"val_accuracy\"]"
   ]
  },
  {
   "cell_type": "code",
   "execution_count": null,
   "id": "5ed2ebfb",
   "metadata": {},
   "outputs": [],
   "source": []
  }
 ],
 "metadata": {
  "kernelspec": {
   "display_name": "=python3.9.0",
   "language": "python",
   "name": "python3.9.0"
  },
  "language_info": {
   "codemirror_mode": {
    "name": "ipython",
    "version": 3
   },
   "file_extension": ".py",
   "mimetype": "text/x-python",
   "name": "python",
   "nbconvert_exporter": "python",
   "pygments_lexer": "ipython3",
   "version": "3.9.12"
  },
  "toc": {
   "base_numbering": 1,
   "nav_menu": {},
   "number_sections": true,
   "sideBar": true,
   "skip_h1_title": false,
   "title_cell": "Table of Contents",
   "title_sidebar": "Contents",
   "toc_cell": false,
   "toc_position": {},
   "toc_section_display": true,
   "toc_window_display": true
  },
  "varInspector": {
   "cols": {
    "lenName": 16,
    "lenType": 16,
    "lenVar": 40
   },
   "kernels_config": {
    "python": {
     "delete_cmd_postfix": "",
     "delete_cmd_prefix": "del ",
     "library": "var_list.py",
     "varRefreshCmd": "print(var_dic_list())"
    },
    "r": {
     "delete_cmd_postfix": ") ",
     "delete_cmd_prefix": "rm(",
     "library": "var_list.r",
     "varRefreshCmd": "cat(var_dic_list()) "
    }
   },
   "types_to_exclude": [
    "module",
    "function",
    "builtin_function_or_method",
    "instance",
    "_Feature"
   ],
   "window_display": false
  }
 },
 "nbformat": 4,
 "nbformat_minor": 5
}
