{
 "cells": [
  {
   "cell_type": "code",
   "execution_count": 1,
   "id": "7289dab8",
   "metadata": {
    "ExecuteTime": {
     "end_time": "2022-04-25T12:12:55.330918Z",
     "start_time": "2022-04-25T12:12:47.541936Z"
    }
   },
   "outputs": [],
   "source": [
    "import os\n",
    "import numpy as np\n",
    "import pandas as pd\n",
    "import matplotlib.pyplot as plt\n",
    "import tensorflow as tf\n",
    "import tensorflow.keras as keras\n",
    "from tensorflow.keras.preprocessing.image import ImageDataGenerator, array_to_img, img_to_array, load_img\n",
    "import joblib\n",
    "from sklearn.model_selection import train_test_split\n",
    "from sklearn.metrics import classification_report\n",
    "from numba import cuda\n",
    "from sklearn.model_selection import StratifiedKFold\n",
    "import cv2\n",
    "from sklearn.preprocessing import OneHotEncoder"
   ]
  },
  {
   "cell_type": "code",
   "execution_count": 2,
   "id": "c6e4a82b",
   "metadata": {
    "ExecuteTime": {
     "end_time": "2022-04-25T12:12:55.745337Z",
     "start_time": "2022-04-25T12:12:55.330918Z"
    }
   },
   "outputs": [],
   "source": [
    "X_ = joblib.load(\"converted_img.pkl\")\n",
    "y_ = joblib.load(\"label.pkl\")"
   ]
  },
  {
   "cell_type": "code",
   "execution_count": 3,
   "id": "ece0706f",
   "metadata": {
    "ExecuteTime": {
     "end_time": "2022-04-25T12:12:56.199095Z",
     "start_time": "2022-04-25T12:12:55.751321Z"
    }
   },
   "outputs": [],
   "source": [
    "X = joblib.load(\"CV2_float32.pkl\")\n",
    "y = joblib.load(\"label.pkl\")"
   ]
  },
  {
   "cell_type": "code",
   "execution_count": 4,
   "id": "a239ec67",
   "metadata": {
    "ExecuteTime": {
     "end_time": "2022-04-25T12:12:56.214248Z",
     "start_time": "2022-04-25T12:12:56.201090Z"
    }
   },
   "outputs": [],
   "source": [
    "encoder = OneHotEncoder(sparse=False)\n",
    "y = y.reshape(-1, 1)\n",
    "encoder.fit(y)\n",
    "y = encoder.transform(y)"
   ]
  },
  {
   "cell_type": "code",
   "execution_count": 5,
   "id": "3edb5410",
   "metadata": {
    "ExecuteTime": {
     "end_time": "2022-04-25T12:13:25.324951Z",
     "start_time": "2022-04-25T12:13:25.142707Z"
    }
   },
   "outputs": [],
   "source": [
    "X = np.append(X, X_)"
   ]
  },
  {
   "cell_type": "code",
   "execution_count": 8,
   "id": "f99b3b4c",
   "metadata": {
    "ExecuteTime": {
     "end_time": "2022-04-25T12:13:48.502700Z",
     "start_time": "2022-04-25T12:13:48.494721Z"
    }
   },
   "outputs": [],
   "source": [
    "X = X.reshape(-1, 32, 32, 3)"
   ]
  },
  {
   "cell_type": "code",
   "execution_count": 15,
   "id": "1e04ef69",
   "metadata": {
    "ExecuteTime": {
     "end_time": "2022-04-25T12:14:34.488623Z",
     "start_time": "2022-04-25T12:14:34.482679Z"
    }
   },
   "outputs": [],
   "source": [
    "y = np.append(y, y, axis=0)"
   ]
  },
  {
   "cell_type": "code",
   "execution_count": 16,
   "id": "3e2f7193",
   "metadata": {
    "ExecuteTime": {
     "end_time": "2022-04-25T12:14:38.139609Z",
     "start_time": "2022-04-25T12:14:37.958498Z"
    }
   },
   "outputs": [],
   "source": [
    "X_train, X_test, y_train, y_test = train_test_split(X, y, stratify=y, shuffle=True)"
   ]
  },
  {
   "cell_type": "code",
   "execution_count": 17,
   "id": "1d60599f",
   "metadata": {
    "ExecuteTime": {
     "end_time": "2022-04-25T12:14:38.497217Z",
     "start_time": "2022-04-25T12:14:38.482246Z"
    }
   },
   "outputs": [],
   "source": [
    "es = keras.callbacks.EarlyStopping(monitor=\"val_accuracy\", patience=3, mode=\"max\")"
   ]
  },
  {
   "cell_type": "code",
   "execution_count": 21,
   "id": "b733ec4e",
   "metadata": {
    "ExecuteTime": {
     "end_time": "2022-04-25T12:19:35.971477Z",
     "start_time": "2022-04-25T12:18:45.879166Z"
    }
   },
   "outputs": [
    {
     "name": "stdout",
     "output_type": "stream",
     "text": [
      "Epoch 1/100\n",
      "342/342 [==============================] - 4s 9ms/step - loss: 2.4681 - accuracy: 0.2740 - val_loss: 1.5324 - val_accuracy: 0.2920\n",
      "Epoch 2/100\n",
      "342/342 [==============================] - 3s 8ms/step - loss: 2.1221 - accuracy: 0.3242 - val_loss: 1.3364 - val_accuracy: 0.4140\n",
      "Epoch 3/100\n",
      "342/342 [==============================] - 3s 8ms/step - loss: 1.9789 - accuracy: 0.3549 - val_loss: 1.2668 - val_accuracy: 0.4692\n",
      "Epoch 4/100\n",
      "342/342 [==============================] - 3s 8ms/step - loss: 1.8627 - accuracy: 0.3839 - val_loss: 1.2337 - val_accuracy: 0.4819\n",
      "Epoch 5/100\n",
      "342/342 [==============================] - 3s 8ms/step - loss: 1.7645 - accuracy: 0.4123 - val_loss: 1.2193 - val_accuracy: 0.4843\n",
      "Epoch 6/100\n",
      "342/342 [==============================] - 3s 8ms/step - loss: 1.6897 - accuracy: 0.4282 - val_loss: 1.2217 - val_accuracy: 0.4841\n",
      "Epoch 7/100\n",
      "342/342 [==============================] - 3s 8ms/step - loss: 1.6222 - accuracy: 0.4505 - val_loss: 1.2130 - val_accuracy: 0.4896\n",
      "Epoch 8/100\n",
      "342/342 [==============================] - 3s 8ms/step - loss: 1.5875 - accuracy: 0.4607 - val_loss: 1.2199 - val_accuracy: 0.4882\n",
      "Epoch 9/100\n",
      "342/342 [==============================] - 3s 8ms/step - loss: 1.5552 - accuracy: 0.4758 - val_loss: 1.2010 - val_accuracy: 0.4956\n",
      "Epoch 10/100\n",
      "342/342 [==============================] - 3s 8ms/step - loss: 1.4908 - accuracy: 0.4896 - val_loss: 1.2127 - val_accuracy: 0.4901\n",
      "Epoch 11/100\n",
      "342/342 [==============================] - 3s 8ms/step - loss: 1.4696 - accuracy: 0.4954 - val_loss: 1.1996 - val_accuracy: 0.4992\n",
      "Epoch 12/100\n",
      "342/342 [==============================] - 3s 8ms/step - loss: 1.4179 - accuracy: 0.5032 - val_loss: 1.1877 - val_accuracy: 0.5033\n",
      "Epoch 13/100\n",
      "342/342 [==============================] - 3s 8ms/step - loss: 1.4204 - accuracy: 0.5030 - val_loss: 1.1809 - val_accuracy: 0.5052\n",
      "Epoch 14/100\n",
      "342/342 [==============================] - 3s 8ms/step - loss: 1.4060 - accuracy: 0.5039 - val_loss: 1.2055 - val_accuracy: 0.4981\n",
      "Epoch 15/100\n",
      "342/342 [==============================] - 3s 8ms/step - loss: 1.3642 - accuracy: 0.5158 - val_loss: 1.1552 - val_accuracy: 0.5168\n",
      "Epoch 16/100\n",
      "342/342 [==============================] - 3s 8ms/step - loss: 1.3259 - accuracy: 0.5222 - val_loss: 1.1829 - val_accuracy: 0.5082\n",
      "Epoch 17/100\n",
      "342/342 [==============================] - 3s 8ms/step - loss: 1.3241 - accuracy: 0.5259 - val_loss: 1.1662 - val_accuracy: 0.5118\n",
      "Epoch 18/100\n",
      "342/342 [==============================] - 3s 8ms/step - loss: 1.2798 - accuracy: 0.5363 - val_loss: 1.1739 - val_accuracy: 0.5129\n",
      "342/342 [==============================] - 1s 3ms/step - loss: 1.1691 - accuracy: 0.5209\n",
      "Train:  [1.1691174507141113, 0.5208791494369507]\n",
      "114/114 [==============================] - 0s 3ms/step - loss: 1.1739 - accuracy: 0.5129\n",
      "Valid:  [1.173910140991211, 0.5129120945930481]\n"
     ]
    }
   ],
   "source": [
    "Input = keras.layers.Input(shape=X[0].shape)\n",
    "x = keras.layers.Conv2D(16, kernel_size=7, activation=\"relu\",kernel_initializer=\"he_normal\", padding=\"same\")(Input)\n",
    "x = keras.layers.BatchNormalization()(x)\n",
    "x = keras.layers.MaxPool2D(2)(x)\n",
    "\n",
    "x = keras.layers.Dropout(0.3)(x) \n",
    "\n",
    "x = keras.layers.Conv2D(32, kernel_size=5, activation=\"relu\",kernel_initializer=\"he_normal\", padding=\"same\")(x)\n",
    "x   = keras.layers.BatchNormalization()(x)\n",
    "x = keras.layers.MaxPool2D(2)(x)\n",
    "\n",
    "x = keras.layers.Dropout(0.3)(x) \n",
    "\n",
    "\n",
    "x = keras.layers.Conv2D(64, kernel_size=3, activation=\"relu\",kernel_initializer=\"he_normal\", padding=\"same\")(x)\n",
    "x = keras.layers.BatchNormalization()(x)\n",
    "x = keras.layers.MaxPool2D(2)(x)\n",
    "\n",
    "x = keras.layers.Dropout(0.3)(x) \n",
    "\n",
    "\n",
    "x = keras.layers.Flatten()(x)\n",
    "Output = keras.layers.Dense(4, activation=\"softmax\")(x)\n",
    "\n",
    "model = keras.models.Model(inputs = Input, outputs = Output)\n",
    "model.compile(loss=\"categorical_crossentropy\",\n",
    "optimizer=keras.optimizers.Adam(learning_rate=0.0001), metrics=[\"accuracy\"])\n",
    "\n",
    "history = model.fit(X_train, y_train, validation_data=(X_test, y_test),callbacks=[es],epochs = 100)\n",
    "print(\"Train: \", model.evaluate(X_train, y_train))\n",
    "print(\"Valid: \", model.evaluate(X_test, y_test))"
   ]
  },
  {
   "cell_type": "code",
   "execution_count": 50,
   "id": "d0d54872",
   "metadata": {
    "ExecuteTime": {
     "end_time": "2022-04-25T06:16:07.246438Z",
     "start_time": "2022-04-25T06:16:07.114531Z"
    }
   },
   "outputs": [],
   "source": [
    "X_train, X_test, y_train, y_test = train_test_split(X_, y, stratify=y, shuffle=True)"
   ]
  },
  {
   "cell_type": "code",
   "execution_count": 51,
   "id": "cbf45c12",
   "metadata": {
    "ExecuteTime": {
     "end_time": "2022-04-25T06:16:38.713482Z",
     "start_time": "2022-04-25T06:16:12.529692Z"
    }
   },
   "outputs": [
    {
     "name": "stdout",
     "output_type": "stream",
     "text": [
      "Epoch 1/100\n",
      "171/171 [==============================] - 3s 12ms/step - loss: 1.0540 - accuracy: 0.5756 - val_loss: 1.7775 - val_accuracy: 0.2242\n",
      "Epoch 2/100\n",
      "171/171 [==============================] - 2s 10ms/step - loss: 0.6001 - accuracy: 0.7720 - val_loss: 1.3620 - val_accuracy: 0.3995\n",
      "Epoch 3/100\n",
      "171/171 [==============================] - 1s 8ms/step - loss: 0.4418 - accuracy: 0.8469 - val_loss: 0.6870 - val_accuracy: 0.7297\n",
      "Epoch 4/100\n",
      "171/171 [==============================] - 1s 8ms/step - loss: 0.3390 - accuracy: 0.8978 - val_loss: 0.4325 - val_accuracy: 0.8533\n",
      "Epoch 5/100\n",
      "171/171 [==============================] - 2s 9ms/step - loss: 0.2596 - accuracy: 0.9313 - val_loss: 0.2974 - val_accuracy: 0.9176\n",
      "Epoch 6/100\n",
      "171/171 [==============================] - 1s 8ms/step - loss: 0.2015 - accuracy: 0.9566 - val_loss: 0.2375 - val_accuracy: 0.9401\n",
      "Epoch 7/100\n",
      "171/171 [==============================] - 1s 8ms/step - loss: 0.1613 - accuracy: 0.9727 - val_loss: 0.2149 - val_accuracy: 0.9423\n",
      "Epoch 8/100\n",
      "171/171 [==============================] - 1s 8ms/step - loss: 0.1233 - accuracy: 0.9861 - val_loss: 0.1555 - val_accuracy: 0.9753\n",
      "Epoch 9/100\n",
      "171/171 [==============================] - 1s 8ms/step - loss: 0.0959 - accuracy: 0.9918 - val_loss: 0.1290 - val_accuracy: 0.9786\n",
      "Epoch 10/100\n",
      "171/171 [==============================] - 1s 8ms/step - loss: 0.0743 - accuracy: 0.9973 - val_loss: 0.1009 - val_accuracy: 0.9890\n",
      "Epoch 11/100\n",
      "171/171 [==============================] - 1s 8ms/step - loss: 0.0585 - accuracy: 0.9984 - val_loss: 0.0809 - val_accuracy: 0.9929\n",
      "Epoch 12/100\n",
      "171/171 [==============================] - 1s 8ms/step - loss: 0.0476 - accuracy: 0.9987 - val_loss: 0.0694 - val_accuracy: 0.9945\n",
      "Epoch 13/100\n",
      "171/171 [==============================] - 1s 8ms/step - loss: 0.0367 - accuracy: 0.9996 - val_loss: 0.0629 - val_accuracy: 0.9934\n",
      "Epoch 14/100\n",
      "171/171 [==============================] - 1s 8ms/step - loss: 0.0298 - accuracy: 1.0000 - val_loss: 0.0464 - val_accuracy: 0.9978\n",
      "Epoch 15/100\n",
      "171/171 [==============================] - 1s 8ms/step - loss: 0.0241 - accuracy: 1.0000 - val_loss: 0.0409 - val_accuracy: 0.9978\n",
      "Epoch 16/100\n",
      "171/171 [==============================] - 1s 8ms/step - loss: 0.0197 - accuracy: 0.9998 - val_loss: 0.0365 - val_accuracy: 0.9978\n",
      "Epoch 17/100\n",
      "171/171 [==============================] - 1s 8ms/step - loss: 0.0161 - accuracy: 1.0000 - val_loss: 0.0326 - val_accuracy: 0.9978\n",
      "171/171 [==============================] - 1s 3ms/step - loss: 0.0135 - accuracy: 1.0000\n",
      "Train:  [0.013546369969844818, 1.0]\n",
      "57/57 [==============================] - 0s 3ms/step - loss: 0.0326 - accuracy: 0.9978\n",
      "Valid:  [0.0326186828315258, 0.997802197933197]\n"
     ]
    }
   ],
   "source": [
    "Input = keras.layers.Input(shape=X[0].shape)\n",
    "x = keras.layers.Conv2D(16, kernel_size=7, activation=\"relu\",kernel_initializer=\"he_normal\", padding=\"same\")(Input)\n",
    "x = keras.layers.BatchNormalization()(x)\n",
    "x = keras.layers.MaxPool2D(2)(x)\n",
    "\n",
    "x = keras.layers.Conv2D(32, kernel_size=5, activation=\"relu\",kernel_initializer=\"he_normal\", padding=\"same\")(x)\n",
    "x   = keras.layers.BatchNormalization()(x)\n",
    "x = keras.layers.MaxPool2D(2)(x)\n",
    "\n",
    "x = keras.layers.Conv2D(64, kernel_size=3, activation=\"relu\",kernel_initializer=\"he_normal\", padding=\"same\")(x)\n",
    "x = keras.layers.BatchNormalization()(x)\n",
    "x = keras.layers.MaxPool2D(2)(x)\n",
    "\n",
    "x = keras.layers.Flatten()(x)\n",
    "Output = keras.layers.Dense(4, activation=\"softmax\")(x)\n",
    "\n",
    "model = keras.models.Model(inputs = Input, outputs = Output)\n",
    "model.compile(loss=\"categorical_crossentropy\",\n",
    "optimizer=keras.optimizers.Adam(learning_rate=0.0001), metrics=[\"accuracy\"])\n",
    "\n",
    "history = model.fit(X_train, y_train, validation_data=(X_test, y_test),callbacks=[es],epochs = 100)\n",
    "print(\"Train: \", model.evaluate(X_train, y_train))\n",
    "print(\"Valid: \", model.evaluate(X_test, y_test))"
   ]
  }
 ],
 "metadata": {
  "kernelspec": {
   "display_name": "=python3.9.0",
   "language": "python",
   "name": "python3.9.0"
  },
  "language_info": {
   "codemirror_mode": {
    "name": "ipython",
    "version": 3
   },
   "file_extension": ".py",
   "mimetype": "text/x-python",
   "name": "python",
   "nbconvert_exporter": "python",
   "pygments_lexer": "ipython3",
   "version": "3.9.12"
  },
  "toc": {
   "base_numbering": 1,
   "nav_menu": {},
   "number_sections": true,
   "sideBar": true,
   "skip_h1_title": false,
   "title_cell": "Table of Contents",
   "title_sidebar": "Contents",
   "toc_cell": false,
   "toc_position": {},
   "toc_section_display": true,
   "toc_window_display": false
  },
  "varInspector": {
   "cols": {
    "lenName": 16,
    "lenType": 16,
    "lenVar": 40
   },
   "kernels_config": {
    "python": {
     "delete_cmd_postfix": "",
     "delete_cmd_prefix": "del ",
     "library": "var_list.py",
     "varRefreshCmd": "print(var_dic_list())"
    },
    "r": {
     "delete_cmd_postfix": ") ",
     "delete_cmd_prefix": "rm(",
     "library": "var_list.r",
     "varRefreshCmd": "cat(var_dic_list()) "
    }
   },
   "types_to_exclude": [
    "module",
    "function",
    "builtin_function_or_method",
    "instance",
    "_Feature"
   ],
   "window_display": false
  }
 },
 "nbformat": 4,
 "nbformat_minor": 5
}
