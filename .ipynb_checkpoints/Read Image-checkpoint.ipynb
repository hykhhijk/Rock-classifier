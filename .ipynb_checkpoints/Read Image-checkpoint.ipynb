{
 "cells": [
  {
   "cell_type": "code",
   "execution_count": 1,
   "id": "901974c0",
   "metadata": {
    "ExecuteTime": {
     "end_time": "2022-04-24T07:24:25.766059Z",
     "start_time": "2022-04-24T07:24:19.221300Z"
    }
   },
   "outputs": [],
   "source": [
    "import os\n",
    "import numpy as np\n",
    "import pandas as pd\n",
    "import matplotlib.pyplot as plt\n",
    "import tensorflow as tf\n",
    "import tensorflow.keras as keras\n",
    "from tensorflow.keras.preprocessing.image import ImageDataGenerator, array_to_img, img_to_array, load_img\n",
    "import cv2\n",
    "import joblib"
   ]
  },
  {
   "cell_type": "code",
   "execution_count": 118,
   "id": "9dd8adc3",
   "metadata": {
    "ExecuteTime": {
     "end_time": "2022-04-24T08:47:05.121322Z",
     "start_time": "2022-04-24T08:47:05.087054Z"
    }
   },
   "outputs": [],
   "source": [
    "path = \"D:/Image_data/0/Leonardite (1).jpg\""
   ]
  },
  {
   "cell_type": "code",
   "execution_count": 126,
   "id": "aed77baf",
   "metadata": {
    "ExecuteTime": {
     "end_time": "2022-04-24T08:47:56.362823Z",
     "start_time": "2022-04-24T08:47:56.193886Z"
    }
   },
   "outputs": [],
   "source": [
    "img = cv2.imread(path)\n",
    "img = cv2.resize(img, (32, 32), interpolation=cv2.INTER_NEAREST)\n",
    "img = np.float32(img)\n",
    "img = cv2.cvtColor(img, cv2.COLOR_BGR2RGB)\n",
    "img = cv2.rotate(img, cv2.ROTATE_180)\n",
    "img = img/255.0"
   ]
  },
  {
   "cell_type": "code",
   "execution_count": null,
   "id": "514c5c8d",
   "metadata": {},
   "outputs": [],
   "source": [
    "img = keras.utils.load_img(os.path.join(path, i, j), target_size=(32, 32))\n",
    "img = np.float32(img)\n",
    "img = img/255.0\n",
    "img_list = np.append(img_list, img)\n",
    "label_list.append(i)"
   ]
  }
 ],
 "metadata": {
  "kernelspec": {
   "display_name": "=python3.9.0",
   "language": "python",
   "name": "python3.9.0"
  },
  "language_info": {
   "codemirror_mode": {
    "name": "ipython",
    "version": 3
   },
   "file_extension": ".py",
   "mimetype": "text/x-python",
   "name": "python",
   "nbconvert_exporter": "python",
   "pygments_lexer": "ipython3",
   "version": "3.9.12"
  },
  "toc": {
   "base_numbering": 1,
   "nav_menu": {},
   "number_sections": true,
   "sideBar": true,
   "skip_h1_title": false,
   "title_cell": "Table of Contents",
   "title_sidebar": "Contents",
   "toc_cell": false,
   "toc_position": {},
   "toc_section_display": true,
   "toc_window_display": false
  },
  "varInspector": {
   "cols": {
    "lenName": 16,
    "lenType": 16,
    "lenVar": 40
   },
   "kernels_config": {
    "python": {
     "delete_cmd_postfix": "",
     "delete_cmd_prefix": "del ",
     "library": "var_list.py",
     "varRefreshCmd": "print(var_dic_list())"
    },
    "r": {
     "delete_cmd_postfix": ") ",
     "delete_cmd_prefix": "rm(",
     "library": "var_list.r",
     "varRefreshCmd": "cat(var_dic_list()) "
    }
   },
   "types_to_exclude": [
    "module",
    "function",
    "builtin_function_or_method",
    "instance",
    "_Feature"
   ],
   "window_display": false
  }
 },
 "nbformat": 4,
 "nbformat_minor": 5
}
