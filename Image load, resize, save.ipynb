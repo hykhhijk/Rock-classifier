{
 "cells": [
  {
   "cell_type": "code",
   "execution_count": 1,
   "id": "58af1fd2",
   "metadata": {
    "ExecuteTime": {
     "end_time": "2022-04-26T11:29:09.472436Z",
     "start_time": "2022-04-26T11:29:05.737794Z"
    }
   },
   "outputs": [],
   "source": [
    "import os\n",
    "import numpy as np\n",
    "import pandas as pd\n",
    "import matplotlib.pyplot as plt\n",
    "import tensorflow as tf\n",
    "import tensorflow.keras as keras\n",
    "from tensorflow.keras.preprocessing.image import ImageDataGenerator, array_to_img, img_to_array, load_img\n",
    "import cv2\n",
    "import joblib"
   ]
  },
  {
   "cell_type": "markdown",
   "id": "13452949",
   "metadata": {},
   "source": [
    "그래픽카드 인식 확인  \n",
    "['0.Leonardite(연갈탄)', '1.Lignite(갈탄)', '2.Charcoal(목탄)', '3.Waste(폐경석)']  \n",
    "라벨값은 한글 제거를 위하여 바꿀것이므로 미리 적어놓았다"
   ]
  },
  {
   "cell_type": "code",
   "execution_count": 2,
   "id": "9b491b22",
   "metadata": {
    "ExecuteTime": {
     "end_time": "2022-04-26T11:29:10.165524Z",
     "start_time": "2022-04-26T11:29:09.505953Z"
    }
   },
   "outputs": [
    {
     "data": {
      "text/plain": [
       "[name: \"/device:CPU:0\"\n",
       " device_type: \"CPU\"\n",
       " memory_limit: 268435456\n",
       " locality {\n",
       " }\n",
       " incarnation: 13841786774859518806\n",
       " xla_global_id: -1,\n",
       " name: \"/device:GPU:0\"\n",
       " device_type: \"GPU\"\n",
       " memory_limit: 4851040256\n",
       " locality {\n",
       "   bus_id: 1\n",
       "   links {\n",
       "   }\n",
       " }\n",
       " incarnation: 9655961901693785148\n",
       " physical_device_desc: \"device: 0, name: NVIDIA GeForce GTX 1060 6GB, pci bus id: 0000:01:00.0, compute capability: 6.1\"\n",
       " xla_global_id: 416903419]"
      ]
     },
     "execution_count": 2,
     "metadata": {},
     "output_type": "execute_result"
    }
   ],
   "source": [
    "from tensorflow.python.client import device_lib\n",
    "device_lib.list_local_devices()"
   ]
  },
  {
   "cell_type": "code",
   "execution_count": 3,
   "id": "dd2c3cf0",
   "metadata": {
    "ExecuteTime": {
     "end_time": "2022-04-26T11:29:10.212235Z",
     "start_time": "2022-04-26T11:29:10.198427Z"
    }
   },
   "outputs": [],
   "source": [
    "path=\"D:\\Image_data\""
   ]
  },
  {
   "cell_type": "code",
   "execution_count": 4,
   "id": "b3bb270e",
   "metadata": {
    "ExecuteTime": {
     "end_time": "2022-04-26T11:29:14.378244Z",
     "start_time": "2022-04-26T11:29:10.244831Z"
    }
   },
   "outputs": [],
   "source": [
    "labels = os.listdir(path)"
   ]
  },
  {
   "cell_type": "code",
   "execution_count": 5,
   "id": "ed6908db",
   "metadata": {
    "ExecuteTime": {
     "end_time": "2022-04-26T11:29:14.441316Z",
     "start_time": "2022-04-26T11:29:14.429347Z"
    }
   },
   "outputs": [
    {
     "data": {
      "text/plain": [
       "['0', '1', '2', '3']"
      ]
     },
     "execution_count": 5,
     "metadata": {},
     "output_type": "execute_result"
    }
   ],
   "source": [
    "labels"
   ]
  },
  {
   "cell_type": "markdown",
   "id": "19b24e93",
   "metadata": {},
   "source": [
    "**폴더를 하나씩 돌며 이미지를 읽어보면 원래 픽셀 값(4032, 3024)로 읽어들일시 첫번째 폴더를 읽지 못하고 메모리가 터짐**  \n",
    "OpenCV(4.5.1) ..\\modules\\core\\src\\alloc.cpp:73: error: (-4:Insufficient memory) Failed to allocate 36578304 bytes in function 'cv::OutOfMemoryError'"
   ]
  },
  {
   "cell_type": "code",
   "execution_count": 9,
   "id": "9b1bfcf5",
   "metadata": {
    "ExecuteTime": {
     "end_time": "2022-04-26T13:37:26.377447Z",
     "start_time": "2022-04-26T11:43:12.910317Z"
    }
   },
   "outputs": [
    {
     "name": "stdout",
     "output_type": "stream",
     "text": [
      "Progressing...\n",
      "Progressing...\n",
      "Progressing...\n",
      "Progressing...\n"
     ]
    },
    {
     "ename": "ValueError",
     "evalue": "cannot reshape array of size 491400000 into shape (32,32,3)",
     "output_type": "error",
     "traceback": [
      "\u001b[1;31m---------------------------------------------------------------------------\u001b[0m",
      "\u001b[1;31mValueError\u001b[0m                                Traceback (most recent call last)",
      "Input \u001b[1;32mIn [9]\u001b[0m, in \u001b[0;36m<cell line: 15>\u001b[1;34m()\u001b[0m\n\u001b[0;32m     13\u001b[0m         img_list \u001b[38;5;241m=\u001b[39m np\u001b[38;5;241m.\u001b[39mappend(img_list, img)\n\u001b[0;32m     14\u001b[0m         label_list\u001b[38;5;241m.\u001b[39mappend(i)\n\u001b[1;32m---> 15\u001b[0m img_list \u001b[38;5;241m=\u001b[39m \u001b[43mnp\u001b[49m\u001b[38;5;241;43m.\u001b[39;49m\u001b[43mreshape\u001b[49m\u001b[43m(\u001b[49m\u001b[43mimg_list\u001b[49m\u001b[43m,\u001b[49m\u001b[43m \u001b[49m\u001b[43m(\u001b[49m\u001b[38;5;241;43m-\u001b[39;49m\u001b[38;5;241;43m1\u001b[39;49m\u001b[43m,\u001b[49m\u001b[43m \u001b[49m\u001b[38;5;241;43m32\u001b[39;49m\u001b[43m,\u001b[49m\u001b[43m \u001b[49m\u001b[38;5;241;43m32\u001b[39;49m\u001b[43m,\u001b[49m\u001b[43m \u001b[49m\u001b[38;5;241;43m3\u001b[39;49m\u001b[43m)\u001b[49m\u001b[43m)\u001b[49m\n",
      "File \u001b[1;32m<__array_function__ internals>:5\u001b[0m, in \u001b[0;36mreshape\u001b[1;34m(*args, **kwargs)\u001b[0m\n",
      "File \u001b[1;32m~\\anaconda3\\envs\\python3.9.0\\lib\\site-packages\\numpy\\core\\fromnumeric.py:298\u001b[0m, in \u001b[0;36mreshape\u001b[1;34m(a, newshape, order)\u001b[0m\n\u001b[0;32m    198\u001b[0m \u001b[38;5;129m@array_function_dispatch\u001b[39m(_reshape_dispatcher)\n\u001b[0;32m    199\u001b[0m \u001b[38;5;28;01mdef\u001b[39;00m \u001b[38;5;21mreshape\u001b[39m(a, newshape, order\u001b[38;5;241m=\u001b[39m\u001b[38;5;124m'\u001b[39m\u001b[38;5;124mC\u001b[39m\u001b[38;5;124m'\u001b[39m):\n\u001b[0;32m    200\u001b[0m     \u001b[38;5;124;03m\"\"\"\u001b[39;00m\n\u001b[0;32m    201\u001b[0m \u001b[38;5;124;03m    Gives a new shape to an array without changing its data.\u001b[39;00m\n\u001b[0;32m    202\u001b[0m \n\u001b[1;32m   (...)\u001b[0m\n\u001b[0;32m    296\u001b[0m \u001b[38;5;124;03m           [5, 6]])\u001b[39;00m\n\u001b[0;32m    297\u001b[0m \u001b[38;5;124;03m    \"\"\"\u001b[39;00m\n\u001b[1;32m--> 298\u001b[0m     \u001b[38;5;28;01mreturn\u001b[39;00m \u001b[43m_wrapfunc\u001b[49m\u001b[43m(\u001b[49m\u001b[43ma\u001b[49m\u001b[43m,\u001b[49m\u001b[43m \u001b[49m\u001b[38;5;124;43m'\u001b[39;49m\u001b[38;5;124;43mreshape\u001b[39;49m\u001b[38;5;124;43m'\u001b[39;49m\u001b[43m,\u001b[49m\u001b[43m \u001b[49m\u001b[43mnewshape\u001b[49m\u001b[43m,\u001b[49m\u001b[43m \u001b[49m\u001b[43morder\u001b[49m\u001b[38;5;241;43m=\u001b[39;49m\u001b[43morder\u001b[49m\u001b[43m)\u001b[49m\n",
      "File \u001b[1;32m~\\anaconda3\\envs\\python3.9.0\\lib\\site-packages\\numpy\\core\\fromnumeric.py:57\u001b[0m, in \u001b[0;36m_wrapfunc\u001b[1;34m(obj, method, *args, **kwds)\u001b[0m\n\u001b[0;32m     54\u001b[0m     \u001b[38;5;28;01mreturn\u001b[39;00m _wrapit(obj, method, \u001b[38;5;241m*\u001b[39margs, \u001b[38;5;241m*\u001b[39m\u001b[38;5;241m*\u001b[39mkwds)\n\u001b[0;32m     56\u001b[0m \u001b[38;5;28;01mtry\u001b[39;00m:\n\u001b[1;32m---> 57\u001b[0m     \u001b[38;5;28;01mreturn\u001b[39;00m bound(\u001b[38;5;241m*\u001b[39margs, \u001b[38;5;241m*\u001b[39m\u001b[38;5;241m*\u001b[39mkwds)\n\u001b[0;32m     58\u001b[0m \u001b[38;5;28;01mexcept\u001b[39;00m \u001b[38;5;167;01mTypeError\u001b[39;00m:\n\u001b[0;32m     59\u001b[0m     \u001b[38;5;66;03m# A TypeError occurs if the object does have such a method in its\u001b[39;00m\n\u001b[0;32m     60\u001b[0m     \u001b[38;5;66;03m# class, but its signature is not identical to that of NumPy's. This\u001b[39;00m\n\u001b[1;32m   (...)\u001b[0m\n\u001b[0;32m     64\u001b[0m     \u001b[38;5;66;03m# Call _wrapit from within the except clause to ensure a potential\u001b[39;00m\n\u001b[0;32m     65\u001b[0m     \u001b[38;5;66;03m# exception has a traceback chain.\u001b[39;00m\n\u001b[0;32m     66\u001b[0m     \u001b[38;5;28;01mreturn\u001b[39;00m _wrapit(obj, method, \u001b[38;5;241m*\u001b[39margs, \u001b[38;5;241m*\u001b[39m\u001b[38;5;241m*\u001b[39mkwds)\n",
      "\u001b[1;31mValueError\u001b[0m: cannot reshape array of size 491400000 into shape (32,32,3)"
     ]
    }
   ],
   "source": [
    "### (32, 32)픽셀로 읽어 들이는데 19분\n",
    "### 픽셀값 변경을 원할떄만 실행시키며 그렇지 않은 경우 아래의 joblib을 이용하여 가져올 것, 실행시간: 5초 이하\n",
    "img_list=np.array([])\n",
    "label_list=[]\n",
    "for i in os.listdir(path):\n",
    "    print(\"Progressing...\")\n",
    "    for j in os.listdir(os.path.join(path, i)):\n",
    "        img = cv2.imread(os.path.join(path, i, j))\n",
    "        img = cv2.resize(img, (150, 150), interpolation=cv2.INTER_NEAREST)\n",
    "        img = np.float32(img)\n",
    "        img = cv2.cvtColor(img, cv2.COLOR_BGR2RGB)\n",
    "        img = img/255.0\n",
    "        img_list = np.append(img_list, img)\n",
    "        label_list.append(i)\n",
    "img_list = np.reshape(img_list, (-1, 32, 32, 3))"
   ]
  },
  {
   "cell_type": "code",
   "execution_count": 13,
   "id": "cf3a6e6e",
   "metadata": {
    "ExecuteTime": {
     "end_time": "2022-04-27T08:19:15.619829Z",
     "start_time": "2022-04-27T08:19:15.604206Z"
    }
   },
   "outputs": [],
   "source": [
    "img_list = np.reshape(img_list, (-1, 150, 150, 3))"
   ]
  },
  {
   "cell_type": "code",
   "execution_count": 14,
   "id": "2529ce1e",
   "metadata": {
    "ExecuteTime": {
     "end_time": "2022-04-27T08:19:34.906744Z",
     "start_time": "2022-04-27T08:19:19.307083Z"
    }
   },
   "outputs": [
    {
     "data": {
      "text/plain": [
       "['CV2_150.pkl']"
      ]
     },
     "execution_count": 14,
     "metadata": {},
     "output_type": "execute_result"
    }
   ],
   "source": [
    "joblib.dump(img_list, \"CV2_150.pkl\")"
   ]
  },
  {
   "cell_type": "code",
   "execution_count": null,
   "id": "f96fb2ed",
   "metadata": {},
   "outputs": [],
   "source": []
  },
  {
   "cell_type": "code",
   "execution_count": null,
   "id": "41d16112",
   "metadata": {},
   "outputs": [],
   "source": []
  },
  {
   "cell_type": "markdown",
   "id": "03681ff1",
   "metadata": {},
   "source": [
    "## 아래 size chk`"
   ]
  },
  {
   "cell_type": "code",
   "execution_count": null,
   "id": "91749619",
   "metadata": {
    "ExecuteTime": {
     "end_time": "2022-04-26T13:37:26.393370Z",
     "start_time": "2022-04-26T13:37:26.393370Z"
    }
   },
   "outputs": [],
   "source": [
    "### (32, 32)픽셀로 읽어 들이는데 19분\n",
    "### 픽셀값 변경을 원할떄만 실행시키며 그렇지 않은 경우 아래의 joblib을 이용하여 가져올 것, 실행시간: 5초 이하\n",
    "img_list=np.array([])\n",
    "label_list=[]\n",
    "for i in os.listdir(path):\n",
    "    print(\"Progressing...\")\n",
    "    for j in os.listdir(os.path.join(path, i)):\n",
    "        img = keras.utils.load_img(os.path.join(path, i, j), target_size=(32, 32))\n",
    "        img = np.float32(img)\n",
    "        img = img/255.0\n",
    "        img_list = np.append(img_list, img)\n",
    "        label_list.append(i)\n",
    "img_list = np.reshape(img_list,(-1, 32, 32, 3))"
   ]
  },
  {
   "cell_type": "code",
   "execution_count": null,
   "id": "06df7a7e",
   "metadata": {
    "ExecuteTime": {
     "end_time": "2022-04-26T13:37:26.396378Z",
     "start_time": "2022-04-26T13:37:26.396378Z"
    }
   },
   "outputs": [],
   "source": [
    "joblib.dump(img_list, \"Keras_150.pkl\")"
   ]
  },
  {
   "cell_type": "code",
   "execution_count": null,
   "id": "503ec43a",
   "metadata": {},
   "outputs": [],
   "source": []
  }
 ],
 "metadata": {
  "kernelspec": {
   "display_name": "=python3.9.0",
   "language": "python",
   "name": "python3.9.0"
  },
  "language_info": {
   "codemirror_mode": {
    "name": "ipython",
    "version": 3
   },
   "file_extension": ".py",
   "mimetype": "text/x-python",
   "name": "python",
   "nbconvert_exporter": "python",
   "pygments_lexer": "ipython3",
   "version": "3.9.12"
  },
  "toc": {
   "base_numbering": 1,
   "nav_menu": {},
   "number_sections": true,
   "sideBar": true,
   "skip_h1_title": false,
   "title_cell": "Table of Contents",
   "title_sidebar": "Contents",
   "toc_cell": false,
   "toc_position": {},
   "toc_section_display": true,
   "toc_window_display": true
  },
  "varInspector": {
   "cols": {
    "lenName": 16,
    "lenType": 16,
    "lenVar": 40
   },
   "kernels_config": {
    "python": {
     "delete_cmd_postfix": "",
     "delete_cmd_prefix": "del ",
     "library": "var_list.py",
     "varRefreshCmd": "print(var_dic_list())"
    },
    "r": {
     "delete_cmd_postfix": ") ",
     "delete_cmd_prefix": "rm(",
     "library": "var_list.r",
     "varRefreshCmd": "cat(var_dic_list()) "
    }
   },
   "position": {
    "height": "506.858px",
    "left": "1763.33px",
    "right": "20px",
    "top": "120px",
    "width": "350px"
   },
   "types_to_exclude": [
    "module",
    "function",
    "builtin_function_or_method",
    "instance",
    "_Feature"
   ],
   "window_display": false
  }
 },
 "nbformat": 4,
 "nbformat_minor": 5
}
