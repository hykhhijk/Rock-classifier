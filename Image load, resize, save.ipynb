{
 "cells": [
  {
   "cell_type": "code",
   "execution_count": 1,
   "id": "58af1fd2",
   "metadata": {
    "ExecuteTime": {
     "end_time": "2022-04-24T07:52:57.573061Z",
     "start_time": "2022-04-24T07:52:54.376248Z"
    }
   },
   "outputs": [],
   "source": [
    "import os\n",
    "import numpy as np\n",
    "import pandas as pd\n",
    "import matplotlib.pyplot as plt\n",
    "import tensorflow as tf\n",
    "import tensorflow.keras as keras\n",
    "from tensorflow.keras.preprocessing.image import ImageDataGenerator, array_to_img, img_to_array, load_img\n",
    "import cv2\n",
    "import joblib"
   ]
  },
  {
   "cell_type": "markdown",
   "id": "13452949",
   "metadata": {},
   "source": [
    "그래픽카드 인식 확인  \n",
    "['0.Leonardite(연갈탄)', '1.Lignite(갈탄)', '2.Charcoal(목탄)', '3.Waste(폐경석)']  \n",
    "라벨값은 한글 제거를 위하여 바꿀것이므로 미리 적어놓았다"
   ]
  },
  {
   "cell_type": "code",
   "execution_count": 2,
   "id": "9b491b22",
   "metadata": {
    "ExecuteTime": {
     "end_time": "2022-04-24T07:52:58.993209Z",
     "start_time": "2022-04-24T07:52:57.590200Z"
    }
   },
   "outputs": [
    {
     "data": {
      "text/plain": [
       "[name: \"/device:CPU:0\"\n",
       " device_type: \"CPU\"\n",
       " memory_limit: 268435456\n",
       " locality {\n",
       " }\n",
       " incarnation: 16222031960148306862\n",
       " xla_global_id: -1,\n",
       " name: \"/device:GPU:0\"\n",
       " device_type: \"GPU\"\n",
       " memory_limit: 4851040256\n",
       " locality {\n",
       "   bus_id: 1\n",
       "   links {\n",
       "   }\n",
       " }\n",
       " incarnation: 13328208220961234836\n",
       " physical_device_desc: \"device: 0, name: NVIDIA GeForce GTX 1060 6GB, pci bus id: 0000:01:00.0, compute capability: 6.1\"\n",
       " xla_global_id: 416903419]"
      ]
     },
     "execution_count": 2,
     "metadata": {},
     "output_type": "execute_result"
    }
   ],
   "source": [
    "from tensorflow.python.client import device_lib\n",
    "device_lib.list_local_devices()"
   ]
  },
  {
   "cell_type": "code",
   "execution_count": 3,
   "id": "dd2c3cf0",
   "metadata": {
    "ExecuteTime": {
     "end_time": "2022-04-24T07:52:59.024041Z",
     "start_time": "2022-04-24T07:52:59.008934Z"
    }
   },
   "outputs": [],
   "source": [
    "path=\"D:\\Image_data\""
   ]
  },
  {
   "cell_type": "code",
   "execution_count": 4,
   "id": "b3bb270e",
   "metadata": {
    "ExecuteTime": {
     "end_time": "2022-04-24T07:52:59.055578Z",
     "start_time": "2022-04-24T07:52:59.040869Z"
    }
   },
   "outputs": [],
   "source": [
    "labels = os.listdir(path)"
   ]
  },
  {
   "cell_type": "code",
   "execution_count": 5,
   "id": "ed6908db",
   "metadata": {
    "ExecuteTime": {
     "end_time": "2022-04-24T07:52:59.087029Z",
     "start_time": "2022-04-24T07:52:59.073547Z"
    }
   },
   "outputs": [
    {
     "data": {
      "text/plain": [
       "['0', '1', '2', '3']"
      ]
     },
     "execution_count": 5,
     "metadata": {},
     "output_type": "execute_result"
    }
   ],
   "source": [
    "labels"
   ]
  },
  {
   "cell_type": "markdown",
   "id": "19b24e93",
   "metadata": {},
   "source": [
    "**폴더를 하나씩 돌며 이미지를 읽어보면 원래 픽셀 값(4032, 3024)로 읽어들일시 첫번째 폴더를 읽지 못하고 메모리가 터짐**  \n",
    "OpenCV(4.5.1) ..\\modules\\core\\src\\alloc.cpp:73: error: (-4:Insufficient memory) Failed to allocate 36578304 bytes in function 'cv::OutOfMemoryError'"
   ]
  },
  {
   "cell_type": "code",
   "execution_count": 7,
   "id": "9b1bfcf5",
   "metadata": {
    "ExecuteTime": {
     "end_time": "2022-04-24T08:22:50.329779Z",
     "start_time": "2022-04-24T07:59:56.885105Z"
    }
   },
   "outputs": [
    {
     "name": "stdout",
     "output_type": "stream",
     "text": [
      "Progressing...\n",
      "Progressing...\n",
      "Progressing...\n",
      "Progressing...\n"
     ]
    }
   ],
   "source": [
    "### (32, 32)픽셀로 읽어 들이는데 19분\n",
    "### 픽셀값 변경을 원할떄만 실행시키며 그렇지 않은 경우 아래의 joblib을 이용하여 가져올 것, 실행시간: 5초 이하\n",
    "img_list=np.array([])\n",
    "label_list=[]\n",
    "for i in os.listdir(path):\n",
    "    print(\"Progressing...\")\n",
    "    for j in os.listdir(os.path.join(path, i)):\n",
    "        img = cv2.imread(os.path.join(path, i, j))\n",
    "        img = cv2.resize(img, (32, 32), interpolation=cv2.INTER_NEAREST)\n",
    "        img = np.float32(img)\n",
    "        img = cv2.cvtColor(img, cv2.COLOR_BGR2RGB)\n",
    "        img_list = np.append(img_list, img)\n",
    "        label_list.append(i)"
   ]
  },
  {
   "cell_type": "code",
   "execution_count": 11,
   "id": "7bbbd516",
   "metadata": {
    "ExecuteTime": {
     "end_time": "2022-04-24T08:23:18.548060Z",
     "start_time": "2022-04-24T08:23:18.480998Z"
    }
   },
   "outputs": [],
   "source": [
    "img_list = img_list/255.0"
   ]
  },
  {
   "cell_type": "code",
   "execution_count": 13,
   "id": "ed9f4af1",
   "metadata": {
    "ExecuteTime": {
     "end_time": "2022-04-24T08:23:35.517973Z",
     "start_time": "2022-04-24T08:23:35.506005Z"
    }
   },
   "outputs": [],
   "source": [
    "img_list = np.reshape(img_list, (-1, 32, 32, 3))"
   ]
  },
  {
   "cell_type": "code",
   "execution_count": 15,
   "id": "2529ce1e",
   "metadata": {
    "ExecuteTime": {
     "end_time": "2022-04-24T08:24:09.133498Z",
     "start_time": "2022-04-24T08:24:09.005580Z"
    }
   },
   "outputs": [
    {
     "data": {
      "text/plain": [
       "['CV2_float32.pkl']"
      ]
     },
     "execution_count": 15,
     "metadata": {},
     "output_type": "execute_result"
    }
   ],
   "source": [
    "joblib.dump(img_list, \"CV2_float32.pkl\")"
   ]
  },
  {
   "cell_type": "code",
   "execution_count": null,
   "id": "0dd20061",
   "metadata": {},
   "outputs": [],
   "source": [
    "### (32, 32)픽셀로 읽어 들이는데 19분\n",
    "### 픽셀값 변경을 원할떄만 실행시키며 그렇지 않은 경우 아래의 joblib을 이용하여 가져올 것, 실행시간: 5초 이하\n",
    "img_list=np.array([])\n",
    "label_list=[]\n",
    "for i in os.listdir(path):\n",
    "    print(\"Progressing...\")\n",
    "    for j in os.listdir(os.path.join(path, i)):\n",
    "        img = cv2.imread(os.path.join(path, i, j))\n",
    "        img = cv2.resize(img, (32, 32), interpolation=cv2.INTER_NEAREST)\n",
    "        img = np.float32(img)\n",
    "        img = cv2.cvtColor(img, cv2.COLOR_BGR2RGB)\n",
    "        img_list = np.append(img_list, img)\n",
    "        label_list.append(i)"
   ]
  },
  {
   "cell_type": "code",
   "execution_count": 37,
   "id": "d92dd5af",
   "metadata": {
    "ExecuteTime": {
     "end_time": "2022-04-25T06:09:27.497339Z",
     "start_time": "2022-04-25T06:09:24.625295Z"
    }
   },
   "outputs": [
    {
     "name": "stdout",
     "output_type": "stream",
     "text": [
      "Progressing...\n",
      "Leonardite (1).jpg\n",
      "Leonardite (10).jpg\n",
      "Leonardite (100).jpg\n",
      "Leonardite (101).jpg\n",
      "Leonardite (102).jpg\n",
      "Leonardite (103).jpg\n",
      "Leonardite (104).jpg\n",
      "Leonardite (105).jpg\n",
      "Leonardite (106).jpg\n",
      "Leonardite (107).jpg\n",
      "Leonardite (108).jpg\n",
      "Leonardite (109).jpg\n",
      "Leonardite (11).jpg\n",
      "Leonardite (110).jpg\n",
      "Leonardite (111).jpg\n",
      "Leonardite (112).jpg\n",
      "Leonardite (113).jpg\n",
      "Leonardite (114).jpg\n",
      "Leonardite (115).jpg\n"
     ]
    },
    {
     "ename": "KeyboardInterrupt",
     "evalue": "",
     "output_type": "error",
     "traceback": [
      "\u001b[1;31m---------------------------------------------------------------------------\u001b[0m",
      "\u001b[1;31mKeyboardInterrupt\u001b[0m                         Traceback (most recent call last)",
      "Input \u001b[1;32mIn [37]\u001b[0m, in \u001b[0;36m<cell line: 5>\u001b[1;34m()\u001b[0m\n\u001b[0;32m      6\u001b[0m \u001b[38;5;28mprint\u001b[39m(\u001b[38;5;124m\"\u001b[39m\u001b[38;5;124mProgressing...\u001b[39m\u001b[38;5;124m\"\u001b[39m)\n\u001b[0;32m      7\u001b[0m \u001b[38;5;28;01mfor\u001b[39;00m j \u001b[38;5;129;01min\u001b[39;00m os\u001b[38;5;241m.\u001b[39mlistdir(os\u001b[38;5;241m.\u001b[39mpath\u001b[38;5;241m.\u001b[39mjoin(path, i)):\n\u001b[1;32m----> 8\u001b[0m     img \u001b[38;5;241m=\u001b[39m \u001b[43mcv2\u001b[49m\u001b[38;5;241;43m.\u001b[39;49m\u001b[43mimread\u001b[49m\u001b[43m(\u001b[49m\u001b[43mos\u001b[49m\u001b[38;5;241;43m.\u001b[39;49m\u001b[43mpath\u001b[49m\u001b[38;5;241;43m.\u001b[39;49m\u001b[43mjoin\u001b[49m\u001b[43m(\u001b[49m\u001b[43mpath\u001b[49m\u001b[43m,\u001b[49m\u001b[43m \u001b[49m\u001b[43mi\u001b[49m\u001b[43m,\u001b[49m\u001b[43m \u001b[49m\u001b[43mj\u001b[49m\u001b[43m)\u001b[49m\u001b[43m)\u001b[49m\n\u001b[0;32m      9\u001b[0m     \u001b[38;5;28mprint\u001b[39m(j)\n\u001b[0;32m     10\u001b[0m     img \u001b[38;5;241m=\u001b[39m cv2\u001b[38;5;241m.\u001b[39mresize(img, (\u001b[38;5;241m32\u001b[39m, \u001b[38;5;241m32\u001b[39m), interpolation\u001b[38;5;241m=\u001b[39mcv2\u001b[38;5;241m.\u001b[39mINTER_NEAREST)\n",
      "\u001b[1;31mKeyboardInterrupt\u001b[0m: "
     ]
    }
   ],
   "source": [
    "### (32, 32)픽셀로 읽어 들이는데 19분\n",
    "### 픽셀값 변경을 원할떄만 실행시키며 그렇지 않은 경우 아래의 joblib을 이용하여 가져올 것, 실행시간: 5초 이하\n",
    "img_list=np.array([])\n",
    "label_list=[]\n",
    "for i in os.listdir(path):\n",
    "    print(\"Progressing...\")\n",
    "    for j in os.listdir(os.path.join(path, i)):\n",
    "        img = cv2.imread(os.path.join(path, i, j))\n",
    "        print(j)\n",
    "        img = cv2.resize(img, (32, 32), interpolation=cv2.INTER_NEAREST)\n",
    "        img = np.float32(img)\n",
    "        img = cv2.cvtColor(img, cv2.COLOR_BGR2RGB)\n",
    "        img_list = np.append(img_list, img)\n",
    "        label_list.append(i)"
   ]
  },
  {
   "cell_type": "code",
   "execution_count": 19,
   "id": "100f5b47",
   "metadata": {
    "ExecuteTime": {
     "end_time": "2022-04-24T08:46:08.630226Z",
     "start_time": "2022-04-24T08:46:08.617564Z"
    }
   },
   "outputs": [],
   "source": [
    "cv2.cvtColor?"
   ]
  },
  {
   "cell_type": "code",
   "execution_count": 36,
   "id": "6a1b20ed",
   "metadata": {
    "ExecuteTime": {
     "end_time": "2022-04-24T09:04:58.740007Z",
     "start_time": "2022-04-24T09:04:58.731002Z"
    }
   },
   "outputs": [
    {
     "data": {
      "text/plain": [
       "PIL.Image.Image"
      ]
     },
     "execution_count": 36,
     "metadata": {},
     "output_type": "execute_result"
    }
   ],
   "source": [
    "type(img)"
   ]
  },
  {
   "cell_type": "code",
   "execution_count": 34,
   "id": "cb4162bf",
   "metadata": {
    "ExecuteTime": {
     "end_time": "2022-04-24T09:03:19.789097Z",
     "start_time": "2022-04-24T09:03:19.779153Z"
    }
   },
   "outputs": [
    {
     "data": {
      "text/plain": [
       "array([[[168., 174., 170.],\n",
       "        [163., 165., 162.],\n",
       "        [169., 171., 168.],\n",
       "        ...,\n",
       "        [156., 157., 151.],\n",
       "        [159., 160., 154.],\n",
       "        [154., 155., 149.]],\n",
       "\n",
       "       [[168., 174., 170.],\n",
       "        [170., 172., 169.],\n",
       "        [171., 176., 172.],\n",
       "        ...,\n",
       "        [168., 170., 165.],\n",
       "        [160., 162., 157.],\n",
       "        [127., 129., 126.]],\n",
       "\n",
       "       [[157., 166., 161.],\n",
       "        [170., 176., 172.],\n",
       "        [155., 154., 149.],\n",
       "        ...,\n",
       "        [167., 169., 164.],\n",
       "        [166., 168., 163.],\n",
       "        [162., 164., 161.]],\n",
       "\n",
       "       ...,\n",
       "\n",
       "       [[168., 174., 172.],\n",
       "        [164., 170., 168.],\n",
       "        [163., 169., 169.],\n",
       "        ...,\n",
       "        [133., 135., 132.],\n",
       "        [166., 168., 163.],\n",
       "        [159., 164., 158.]],\n",
       "\n",
       "       [[167., 171., 170.],\n",
       "        [158., 164., 162.],\n",
       "        [165., 171., 169.],\n",
       "        ...,\n",
       "        [163., 168., 164.],\n",
       "        [163., 165., 160.],\n",
       "        [161., 166., 160.]],\n",
       "\n",
       "       [[163., 169., 167.],\n",
       "        [164., 170., 168.],\n",
       "        [166., 172., 170.],\n",
       "        ...,\n",
       "        [163., 168., 162.],\n",
       "        [160., 162., 157.],\n",
       "        [161., 166., 160.]]], dtype=float32)"
      ]
     },
     "execution_count": 34,
     "metadata": {},
     "output_type": "execute_result"
    }
   ],
   "source": [
    "np.float32(img)"
   ]
  },
  {
   "cell_type": "code",
   "execution_count": 32,
   "id": "9a800a76",
   "metadata": {
    "ExecuteTime": {
     "end_time": "2022-04-24T09:02:59.568975Z",
     "start_time": "2022-04-24T09:02:59.547065Z"
    }
   },
   "outputs": [
    {
     "data": {
      "image/png": "[encoded data removed]",
      "text/plain": [
       "<PIL.Image.Image image mode=RGB size=32x32 at 0x13CBC222D60>"
      ]
     },
     "execution_count": 32,
     "metadata": {},
     "output_type": "execute_result"
    }
   ],
   "source": [
    "img"
   ]
  },
  {
   "cell_type": "code",
   "execution_count": 31,
   "id": "91749619",
   "metadata": {
    "ExecuteTime": {
     "end_time": "2022-04-24T09:02:54.054771Z",
     "start_time": "2022-04-24T09:02:52.275127Z"
    }
   },
   "outputs": [
    {
     "name": "stdout",
     "output_type": "stream",
     "text": [
      "Progressing...\n"
     ]
    },
    {
     "ename": "KeyboardInterrupt",
     "evalue": "",
     "output_type": "error",
     "traceback": [
      "\u001b[1;31m---------------------------------------------------------------------------\u001b[0m",
      "\u001b[1;31mKeyboardInterrupt\u001b[0m                         Traceback (most recent call last)",
      "Input \u001b[1;32mIn [31]\u001b[0m, in \u001b[0;36m<cell line: 5>\u001b[1;34m()\u001b[0m\n\u001b[0;32m      6\u001b[0m \u001b[38;5;28mprint\u001b[39m(\u001b[38;5;124m\"\u001b[39m\u001b[38;5;124mProgressing...\u001b[39m\u001b[38;5;124m\"\u001b[39m)\n\u001b[0;32m      7\u001b[0m \u001b[38;5;28;01mfor\u001b[39;00m j \u001b[38;5;129;01min\u001b[39;00m os\u001b[38;5;241m.\u001b[39mlistdir(os\u001b[38;5;241m.\u001b[39mpath\u001b[38;5;241m.\u001b[39mjoin(path, i)):\n\u001b[1;32m----> 8\u001b[0m     img \u001b[38;5;241m=\u001b[39m \u001b[43mkeras\u001b[49m\u001b[38;5;241;43m.\u001b[39;49m\u001b[43mutils\u001b[49m\u001b[38;5;241;43m.\u001b[39;49m\u001b[43mload_img\u001b[49m\u001b[43m(\u001b[49m\u001b[43mos\u001b[49m\u001b[38;5;241;43m.\u001b[39;49m\u001b[43mpath\u001b[49m\u001b[38;5;241;43m.\u001b[39;49m\u001b[43mjoin\u001b[49m\u001b[43m(\u001b[49m\u001b[43mpath\u001b[49m\u001b[43m,\u001b[49m\u001b[43m \u001b[49m\u001b[43mi\u001b[49m\u001b[43m,\u001b[49m\u001b[43m \u001b[49m\u001b[43mj\u001b[49m\u001b[43m)\u001b[49m\u001b[43m,\u001b[49m\u001b[43m \u001b[49m\u001b[43mtarget_size\u001b[49m\u001b[38;5;241;43m=\u001b[39;49m\u001b[43m(\u001b[49m\u001b[38;5;241;43m32\u001b[39;49m\u001b[43m,\u001b[49m\u001b[43m \u001b[49m\u001b[38;5;241;43m32\u001b[39;49m\u001b[43m)\u001b[49m\u001b[43m)\u001b[49m\n",
      "File \u001b[1;32m~\\anaconda3\\envs\\python3.9.0\\lib\\site-packages\\tensorflow\\python\\keras\\preprocessing\\image.py:313\u001b[0m, in \u001b[0;36mload_img\u001b[1;34m(path, grayscale, color_mode, target_size, interpolation)\u001b[0m\n\u001b[0;32m    277\u001b[0m \u001b[38;5;129m@keras_export\u001b[39m(\u001b[38;5;124m'\u001b[39m\u001b[38;5;124mkeras.utils.load_img\u001b[39m\u001b[38;5;124m'\u001b[39m,\n\u001b[0;32m    278\u001b[0m               \u001b[38;5;124m'\u001b[39m\u001b[38;5;124mkeras.preprocessing.image.load_img\u001b[39m\u001b[38;5;124m'\u001b[39m)\n\u001b[0;32m    279\u001b[0m \u001b[38;5;28;01mdef\u001b[39;00m \u001b[38;5;21mload_img\u001b[39m(path, grayscale\u001b[38;5;241m=\u001b[39m\u001b[38;5;28;01mFalse\u001b[39;00m, color_mode\u001b[38;5;241m=\u001b[39m\u001b[38;5;124m'\u001b[39m\u001b[38;5;124mrgb\u001b[39m\u001b[38;5;124m'\u001b[39m, target_size\u001b[38;5;241m=\u001b[39m\u001b[38;5;28;01mNone\u001b[39;00m,\n\u001b[0;32m    280\u001b[0m              interpolation\u001b[38;5;241m=\u001b[39m\u001b[38;5;124m'\u001b[39m\u001b[38;5;124mnearest\u001b[39m\u001b[38;5;124m'\u001b[39m):\n\u001b[0;32m    281\u001b[0m   \u001b[38;5;124;03m\"\"\"Loads an image into PIL format.\u001b[39;00m\n\u001b[0;32m    282\u001b[0m \n\u001b[0;32m    283\u001b[0m \u001b[38;5;124;03m  Usage:\u001b[39;00m\n\u001b[1;32m   (...)\u001b[0m\n\u001b[0;32m    311\u001b[0m \u001b[38;5;124;03m      ValueError: if interpolation method is not supported.\u001b[39;00m\n\u001b[0;32m    312\u001b[0m \u001b[38;5;124;03m  \"\"\"\u001b[39;00m\n\u001b[1;32m--> 313\u001b[0m   \u001b[38;5;28;01mreturn\u001b[39;00m \u001b[43mimage\u001b[49m\u001b[38;5;241;43m.\u001b[39;49m\u001b[43mload_img\u001b[49m\u001b[43m(\u001b[49m\u001b[43mpath\u001b[49m\u001b[43m,\u001b[49m\u001b[43m \u001b[49m\u001b[43mgrayscale\u001b[49m\u001b[38;5;241;43m=\u001b[39;49m\u001b[43mgrayscale\u001b[49m\u001b[43m,\u001b[49m\u001b[43m \u001b[49m\u001b[43mcolor_mode\u001b[49m\u001b[38;5;241;43m=\u001b[39;49m\u001b[43mcolor_mode\u001b[49m\u001b[43m,\u001b[49m\n\u001b[0;32m    314\u001b[0m \u001b[43m                        \u001b[49m\u001b[43mtarget_size\u001b[49m\u001b[38;5;241;43m=\u001b[39;49m\u001b[43mtarget_size\u001b[49m\u001b[43m,\u001b[49m\u001b[43m \u001b[49m\u001b[43minterpolation\u001b[49m\u001b[38;5;241;43m=\u001b[39;49m\u001b[43minterpolation\u001b[49m\u001b[43m)\u001b[49m\n",
      "File \u001b[1;32m~\\AppData\\Roaming\\Python\\Python39\\site-packages\\keras_preprocessing\\image\\utils.py:138\u001b[0m, in \u001b[0;36mload_img\u001b[1;34m(path, grayscale, color_mode, target_size, interpolation)\u001b[0m\n\u001b[0;32m    132\u001b[0m             \u001b[38;5;28;01mraise\u001b[39;00m \u001b[38;5;167;01mValueError\u001b[39;00m(\n\u001b[0;32m    133\u001b[0m                 \u001b[38;5;124m'\u001b[39m\u001b[38;5;124mInvalid interpolation method \u001b[39m\u001b[38;5;132;01m{}\u001b[39;00m\u001b[38;5;124m specified. Supported \u001b[39m\u001b[38;5;124m'\u001b[39m\n\u001b[0;32m    134\u001b[0m                 \u001b[38;5;124m'\u001b[39m\u001b[38;5;124mmethods are \u001b[39m\u001b[38;5;132;01m{}\u001b[39;00m\u001b[38;5;124m'\u001b[39m\u001b[38;5;241m.\u001b[39mformat(\n\u001b[0;32m    135\u001b[0m                     interpolation,\n\u001b[0;32m    136\u001b[0m                     \u001b[38;5;124m\"\u001b[39m\u001b[38;5;124m, \u001b[39m\u001b[38;5;124m\"\u001b[39m\u001b[38;5;241m.\u001b[39mjoin(_PIL_INTERPOLATION_METHODS\u001b[38;5;241m.\u001b[39mkeys())))\n\u001b[0;32m    137\u001b[0m         resample \u001b[38;5;241m=\u001b[39m _PIL_INTERPOLATION_METHODS[interpolation]\n\u001b[1;32m--> 138\u001b[0m         img \u001b[38;5;241m=\u001b[39m \u001b[43mimg\u001b[49m\u001b[38;5;241;43m.\u001b[39;49m\u001b[43mresize\u001b[49m\u001b[43m(\u001b[49m\u001b[43mwidth_height_tuple\u001b[49m\u001b[43m,\u001b[49m\u001b[43m \u001b[49m\u001b[43mresample\u001b[49m\u001b[43m)\u001b[49m\n\u001b[0;32m    139\u001b[0m \u001b[38;5;28;01mreturn\u001b[39;00m img\n",
      "File \u001b[1;32m~\\anaconda3\\envs\\python3.9.0\\lib\\site-packages\\PIL\\Image.py:1961\u001b[0m, in \u001b[0;36mImage.resize\u001b[1;34m(self, size, resample, box, reducing_gap)\u001b[0m\n\u001b[0;32m   1958\u001b[0m     im \u001b[38;5;241m=\u001b[39m im\u001b[38;5;241m.\u001b[39mresize(size, resample, box)\n\u001b[0;32m   1959\u001b[0m     \u001b[38;5;28;01mreturn\u001b[39;00m im\u001b[38;5;241m.\u001b[39mconvert(\u001b[38;5;28mself\u001b[39m\u001b[38;5;241m.\u001b[39mmode)\n\u001b[1;32m-> 1961\u001b[0m \u001b[38;5;28;43mself\u001b[39;49m\u001b[38;5;241;43m.\u001b[39;49m\u001b[43mload\u001b[49m\u001b[43m(\u001b[49m\u001b[43m)\u001b[49m\n\u001b[0;32m   1963\u001b[0m \u001b[38;5;28;01mif\u001b[39;00m reducing_gap \u001b[38;5;129;01mis\u001b[39;00m \u001b[38;5;129;01mnot\u001b[39;00m \u001b[38;5;28;01mNone\u001b[39;00m \u001b[38;5;129;01mand\u001b[39;00m resample \u001b[38;5;241m!=\u001b[39m NEAREST:\n\u001b[0;32m   1964\u001b[0m     factor_x \u001b[38;5;241m=\u001b[39m \u001b[38;5;28mint\u001b[39m((box[\u001b[38;5;241m2\u001b[39m] \u001b[38;5;241m-\u001b[39m box[\u001b[38;5;241m0\u001b[39m]) \u001b[38;5;241m/\u001b[39m size[\u001b[38;5;241m0\u001b[39m] \u001b[38;5;241m/\u001b[39m reducing_gap) \u001b[38;5;129;01mor\u001b[39;00m \u001b[38;5;241m1\u001b[39m\n",
      "File \u001b[1;32m~\\anaconda3\\envs\\python3.9.0\\lib\\site-packages\\PIL\\ImageFile.py:253\u001b[0m, in \u001b[0;36mImageFile.load\u001b[1;34m(self)\u001b[0m\n\u001b[0;32m    247\u001b[0m         \u001b[38;5;28;01mraise\u001b[39;00m \u001b[38;5;167;01mOSError\u001b[39;00m(\n\u001b[0;32m    248\u001b[0m             \u001b[38;5;124m\"\u001b[39m\u001b[38;5;124mimage file is truncated \u001b[39m\u001b[38;5;124m\"\u001b[39m\n\u001b[0;32m    249\u001b[0m             \u001b[38;5;124mf\u001b[39m\u001b[38;5;124m\"\u001b[39m\u001b[38;5;124m(\u001b[39m\u001b[38;5;132;01m{\u001b[39;00m\u001b[38;5;28mlen\u001b[39m(b)\u001b[38;5;132;01m}\u001b[39;00m\u001b[38;5;124m bytes not processed)\u001b[39m\u001b[38;5;124m\"\u001b[39m\n\u001b[0;32m    250\u001b[0m         )\n\u001b[0;32m    252\u001b[0m b \u001b[38;5;241m=\u001b[39m b \u001b[38;5;241m+\u001b[39m s\n\u001b[1;32m--> 253\u001b[0m n, err_code \u001b[38;5;241m=\u001b[39m \u001b[43mdecoder\u001b[49m\u001b[38;5;241;43m.\u001b[39;49m\u001b[43mdecode\u001b[49m\u001b[43m(\u001b[49m\u001b[43mb\u001b[49m\u001b[43m)\u001b[49m\n\u001b[0;32m    254\u001b[0m \u001b[38;5;28;01mif\u001b[39;00m n \u001b[38;5;241m<\u001b[39m \u001b[38;5;241m0\u001b[39m:\n\u001b[0;32m    255\u001b[0m     \u001b[38;5;28;01mbreak\u001b[39;00m\n",
      "\u001b[1;31mKeyboardInterrupt\u001b[0m: "
     ]
    }
   ],
   "source": [
    "### (32, 32)픽셀로 읽어 들이는데 19분\n",
    "### 픽셀값 변경을 원할떄만 실행시키며 그렇지 않은 경우 아래의 joblib을 이용하여 가져올 것, 실행시간: 5초 이하\n",
    "img_list=np.array([])\n",
    "label_list=[]\n",
    "for i in os.listdir(path):\n",
    "    print(\"Progressing...\")\n",
    "    for j in os.listdir(os.path.join(path, i)):\n",
    "        img = keras.utils.load_img(os.path.join(path, i, j), target_size=(32, 32))\n",
    "        print(\"Read\\n\", img)\n",
    "        img = np.float32(img)\n",
    "        print(\"Float\\n\",img)\n",
    "        img = img/255.0\n",
    "        print(\"Divide\",img)\n",
    "        img_list = np.append(img_list, img)\n",
    "        label_list.append(i)\n",
    "img_list = np.reshape(img_list,(-3, 32, 32, 3))"
   ]
  },
  {
   "cell_type": "code",
   "execution_count": 26,
   "id": "c08db10a",
   "metadata": {
    "ExecuteTime": {
     "end_time": "2022-04-24T09:00:12.809474Z",
     "start_time": "2022-04-24T09:00:12.793851Z"
    }
   },
   "outputs": [],
   "source": [
    "img_list = np.reshape(img_list, (-1, 32, 32, 3))"
   ]
  },
  {
   "cell_type": "code",
   "execution_count": 27,
   "id": "d8d170d3",
   "metadata": {
    "ExecuteTime": {
     "end_time": "2022-04-24T09:00:17.342241Z",
     "start_time": "2022-04-24T09:00:17.326621Z"
    }
   },
   "outputs": [
    {
     "data": {
      "text/plain": [
       "array([[[0.49019608, 0.42745098, 0.3764706 ],\n",
       "        [0.48235294, 0.41960785, 0.36862746],\n",
       "        [0.49019608, 0.43921569, 0.3764706 ],\n",
       "        ...,\n",
       "        [0.47843137, 0.42745098, 0.36078432],\n",
       "        [0.48235294, 0.43137255, 0.36470589],\n",
       "        [0.47058824, 0.42745098, 0.35686275]],\n",
       "\n",
       "       [[0.49019608, 0.43529412, 0.38431373],\n",
       "        [0.48627451, 0.44705883, 0.40784314],\n",
       "        [0.53333336, 0.50588238, 0.47450981],\n",
       "        ...,\n",
       "        [0.63529414, 0.64313728, 0.63921571],\n",
       "        [0.67058825, 0.67843139, 0.66666669],\n",
       "        [0.66274512, 0.67058825, 0.65882355]],\n",
       "\n",
       "       [[0.68235296, 0.68627453, 0.69411767],\n",
       "        [0.69411767, 0.69803923, 0.70588237],\n",
       "        [0.68235296, 0.69803923, 0.7019608 ],\n",
       "        ...,\n",
       "        [0.67843139, 0.68627453, 0.68235296],\n",
       "        [0.67450982, 0.68235296, 0.67058825],\n",
       "        [0.67450982, 0.68235296, 0.67058825]],\n",
       "\n",
       "       ...,\n",
       "\n",
       "       [[0.65490198, 0.67058825, 0.67450982],\n",
       "        [0.65882355, 0.67450982, 0.67843139],\n",
       "        [0.66666669, 0.68235296, 0.68627453],\n",
       "        ...,\n",
       "        [0.64313728, 0.66274512, 0.64705884],\n",
       "        [0.63137257, 0.63921571, 0.627451  ],\n",
       "        [0.64313728, 0.65098041, 0.63137257]],\n",
       "\n",
       "       [[0.65490198, 0.67058825, 0.67450982],\n",
       "        [0.65490198, 0.67058825, 0.67450982],\n",
       "        [0.66274512, 0.67843139, 0.68235296],\n",
       "        ...,\n",
       "        [0.64705884, 0.65490198, 0.64313728],\n",
       "        [0.66274512, 0.67058825, 0.65882355],\n",
       "        [0.64705884, 0.65490198, 0.63529414]],\n",
       "\n",
       "       [[0.64705884, 0.66274512, 0.66666669],\n",
       "        [0.65098041, 0.67450982, 0.67450982],\n",
       "        [0.66274512, 0.68627453, 0.68627453],\n",
       "        ...,\n",
       "        [0.65098041, 0.65882355, 0.64705884],\n",
       "        [0.63921571, 0.64705884, 0.63529414],\n",
       "        [0.63529414, 0.64313728, 0.62352943]]])"
      ]
     },
     "execution_count": 27,
     "metadata": {},
     "output_type": "execute_result"
    }
   ],
   "source": [
    "img_list[0]"
   ]
  },
  {
   "cell_type": "code",
   "execution_count": 49,
   "id": "714b8e70",
   "metadata": {
    "ExecuteTime": {
     "end_time": "2022-04-22T05:56:49.497392Z",
     "start_time": "2022-04-22T05:56:49.371381Z"
    }
   },
   "outputs": [
    {
     "data": {
      "text/plain": [
       "['img_array32_float.pkl']"
      ]
     },
     "execution_count": 49,
     "metadata": {},
     "output_type": "execute_result"
    }
   ],
   "source": [
    "joblib.dump(img_list, \"img_array32_float.pkl\")"
   ]
  },
  {
   "cell_type": "code",
   "execution_count": 48,
   "id": "d35bf4a5",
   "metadata": {
    "ExecuteTime": {
     "end_time": "2022-04-22T05:56:45.515861Z",
     "start_time": "2022-04-22T05:56:45.389435Z"
    }
   },
   "outputs": [],
   "source": [
    "img_list = np.float64(img_list)\n",
    "img_list = img_list/255.0\n",
    "label_list = np.array(label_list).astype(\"int16\")"
   ]
  }
 ],
 "metadata": {
  "kernelspec": {
   "display_name": "=python3.9.0",
   "language": "python",
   "name": "python3.9.0"
  },
  "language_info": {
   "codemirror_mode": {
    "name": "ipython",
    "version": 3
   },
   "file_extension": ".py",
   "mimetype": "text/x-python",
   "name": "python",
   "nbconvert_exporter": "python",
   "pygments_lexer": "ipython3",
   "version": "3.9.12"
  },
  "toc": {
   "base_numbering": 1,
   "nav_menu": {},
   "number_sections": true,
   "sideBar": true,
   "skip_h1_title": false,
   "title_cell": "Table of Contents",
   "title_sidebar": "Contents",
   "toc_cell": false,
   "toc_position": {},
   "toc_section_display": true,
   "toc_window_display": true
  },
  "varInspector": {
   "cols": {
    "lenName": 16,
    "lenType": 16,
    "lenVar": 40
   },
   "kernels_config": {
    "python": {
     "delete_cmd_postfix": "",
     "delete_cmd_prefix": "del ",
     "library": "var_list.py",
     "varRefreshCmd": "print(var_dic_list())"
    },
    "r": {
     "delete_cmd_postfix": ") ",
     "delete_cmd_prefix": "rm(",
     "library": "var_list.r",
     "varRefreshCmd": "cat(var_dic_list()) "
    }
   },
   "position": {
    "height": "506.858px",
    "left": "1763.33px",
    "right": "20px",
    "top": "120px",
    "width": "350px"
   },
   "types_to_exclude": [
    "module",
    "function",
    "builtin_function_or_method",
    "instance",
    "_Feature"
   ],
   "window_display": false
  }
 },
 "nbformat": 4,
 "nbformat_minor": 5
}
