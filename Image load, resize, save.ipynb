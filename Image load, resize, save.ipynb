{
 "cells": [
  {
   "cell_type": "code",
   "execution_count": 1,
   "id": "58af1fd2",
   "metadata": {
    "ExecuteTime": {
     "end_time": "2022-04-28T14:44:28.486309Z",
     "start_time": "2022-04-28T14:44:22.091577Z"
    }
   },
   "outputs": [],
   "source": [
    "import os\n",
    "import numpy as np\n",
    "import pandas as pd\n",
    "import matplotlib.pyplot as plt\n",
    "import tensorflow as tf\n",
    "import tensorflow.keras as keras\n",
    "from tensorflow.keras.preprocessing.image import ImageDataGenerator, array_to_img, img_to_array, load_img\n",
    "import cv2\n",
    "import joblib"
   ]
  },
  {
   "cell_type": "markdown",
   "id": "13452949",
   "metadata": {},
   "source": [
    "['0.Leonardite(연갈탄)', '1.Lignite(갈탄)', '2.Charcoal(목탄)', '3.Waste(폐경석)']  \n",
    "라벨값은 한글 제거를 위하여 바꿀것이므로 미리 적어놓았다"
   ]
  },
  {
   "cell_type": "code",
   "execution_count": 2,
   "id": "dd2c3cf0",
   "metadata": {
    "ExecuteTime": {
     "end_time": "2022-04-28T14:44:28.524924Z",
     "start_time": "2022-04-28T14:44:28.519104Z"
    }
   },
   "outputs": [],
   "source": [
    "path=\"D:\\Image_data\""
   ]
  },
  {
   "cell_type": "code",
   "execution_count": 3,
   "id": "b3bb270e",
   "metadata": {
    "ExecuteTime": {
     "end_time": "2022-04-28T14:44:28.591374Z",
     "start_time": "2022-04-28T14:44:28.558146Z"
    }
   },
   "outputs": [],
   "source": [
    "labels = os.listdir(path)"
   ]
  },
  {
   "cell_type": "code",
   "execution_count": 4,
   "id": "ed6908db",
   "metadata": {
    "ExecuteTime": {
     "end_time": "2022-04-28T14:44:28.639349Z",
     "start_time": "2022-04-28T14:44:28.625924Z"
    }
   },
   "outputs": [
    {
     "data": {
      "text/plain": [
       "['0', '1', '2', '3']"
      ]
     },
     "execution_count": 4,
     "metadata": {},
     "output_type": "execute_result"
    }
   ],
   "source": [
    "labels"
   ]
  },
  {
   "cell_type": "markdown",
   "id": "19b24e93",
   "metadata": {},
   "source": [
    "**폴더를 하나씩 돌며 이미지를 읽어보면 원래 픽셀 값(4032, 3024)로 읽어들일시 첫번째 폴더를 읽지 못하고 메모리가 터짐**  \n",
    "OpenCV(4.5.1) ..\\modules\\core\\src\\alloc.cpp:73: error: (-4:Insufficient memory) Failed to allocate 36578304 bytes in function 'cv::OutOfMemoryError'"
   ]
  },
  {
   "cell_type": "code",
   "execution_count": 7,
   "id": "9b1bfcf5",
   "metadata": {
    "ExecuteTime": {
     "end_time": "2022-05-02T05:48:42.779402Z",
     "start_time": "2022-05-02T05:13:49.580524Z"
    }
   },
   "outputs": [
    {
     "name": "stdout",
     "output_type": "stream",
     "text": [
      "Progressing...\n",
      "Progressing...\n",
      "Progressing...\n",
      "Progressing...\n"
     ]
    }
   ],
   "source": [
    "### (32, 32)픽셀로 읽어 들이는데 19분\n",
    "### 픽셀값 변경을 원할떄만 실행시키며 그렇지 않은 경우 아래의 joblib을 이용하여 가져올 것, 실행시간: 5초 이하\n",
    "img_list=np.array([])\n",
    "label_list=[]\n",
    "for i in os.listdir(path):\n",
    "    print(\"Progressing...\")\n",
    "    for j in os.listdir(os.path.join(path, i)):\n",
    "        img = cv2.imread(os.path.join(path, i, j))\n",
    "        img = cv2.resize(img, (60, 60), interpolation=cv2.INTER_NEAREST)\n",
    "        img = np.float32(img)\n",
    "        img = cv2.cvtColor(img, cv2.COLOR_BGR2RGB)\n",
    "        img = img/255.0\n",
    "        img_list = np.append(img_list, img)\n",
    "        label_list.append(i)\n",
    "img_list = np.reshape(img_list, (-1, 60, 60, 3))"
   ]
  },
  {
   "cell_type": "code",
   "execution_count": 8,
   "id": "2529ce1e",
   "metadata": {
    "ExecuteTime": {
     "end_time": "2022-05-02T05:48:43.269155Z",
     "start_time": "2022-05-02T05:48:42.812768Z"
    }
   },
   "outputs": [
    {
     "data": {
      "text/plain": [
       "['CV2_60.pkl']"
      ]
     },
     "execution_count": 8,
     "metadata": {},
     "output_type": "execute_result"
    }
   ],
   "source": [
    "joblib.dump(img_list, \"CV2_60.pkl\")"
   ]
  },
  {
   "cell_type": "code",
   "execution_count": null,
   "id": "f96fb2ed",
   "metadata": {},
   "outputs": [],
   "source": []
  },
  {
   "cell_type": "code",
   "execution_count": null,
   "id": "41d16112",
   "metadata": {},
   "outputs": [],
   "source": []
  },
  {
   "cell_type": "markdown",
   "id": "03681ff1",
   "metadata": {},
   "source": [
    "## 아래 size chk`"
   ]
  },
  {
   "cell_type": "code",
   "execution_count": null,
   "id": "91749619",
   "metadata": {
    "ExecuteTime": {
     "end_time": "2022-04-26T13:37:26.393370Z",
     "start_time": "2022-04-26T13:37:26.393370Z"
    }
   },
   "outputs": [],
   "source": [
    "### (32, 32)픽셀로 읽어 들이는데 19분\n",
    "### 픽셀값 변경을 원할떄만 실행시키며 그렇지 않은 경우 아래의 joblib을 이용하여 가져올 것, 실행시간: 5초 이하\n",
    "img_list=np.array([])\n",
    "label_list=[]\n",
    "for i in os.listdir(path):\n",
    "    print(\"Progressing...\")\n",
    "    for j in os.listdir(os.path.join(path, i)):\n",
    "        img = keras.utils.load_img(os.path.join(path, i, j), target_size=(32, 32))\n",
    "        img = np.float32(img)\n",
    "        img = img/255.0\n",
    "        img_list = np.append(img_list, img)\n",
    "        label_list.append(i)\n",
    "img_list = np.reshape(img_list,(-1, 32, 32, 3))"
   ]
  },
  {
   "cell_type": "code",
   "execution_count": null,
   "id": "06df7a7e",
   "metadata": {
    "ExecuteTime": {
     "end_time": "2022-04-26T13:37:26.396378Z",
     "start_time": "2022-04-26T13:37:26.396378Z"
    }
   },
   "outputs": [],
   "source": [
    "joblib.dump(img_list, \"Keras_150.pkl\")"
   ]
  },
  {
   "cell_type": "code",
   "execution_count": null,
   "id": "503ec43a",
   "metadata": {},
   "outputs": [],
   "source": []
  }
 ],
 "metadata": {
  "kernelspec": {
   "display_name": "=python3.9.0",
   "language": "python",
   "name": "python3.9.0"
  },
  "language_info": {
   "codemirror_mode": {
    "name": "ipython",
    "version": 3
   },
   "file_extension": ".py",
   "mimetype": "text/x-python",
   "name": "python",
   "nbconvert_exporter": "python",
   "pygments_lexer": "ipython3",
   "version": "3.9.12"
  },
  "toc": {
   "base_numbering": 1,
   "nav_menu": {},
   "number_sections": true,
   "sideBar": true,
   "skip_h1_title": false,
   "title_cell": "Table of Contents",
   "title_sidebar": "Contents",
   "toc_cell": false,
   "toc_position": {},
   "toc_section_display": true,
   "toc_window_display": true
  },
  "varInspector": {
   "cols": {
    "lenName": 16,
    "lenType": 16,
    "lenVar": 40
   },
   "kernels_config": {
    "python": {
     "delete_cmd_postfix": "",
     "delete_cmd_prefix": "del ",
     "library": "var_list.py",
     "varRefreshCmd": "print(var_dic_list())"
    },
    "r": {
     "delete_cmd_postfix": ") ",
     "delete_cmd_prefix": "rm(",
     "library": "var_list.r",
     "varRefreshCmd": "cat(var_dic_list()) "
    }
   },
   "position": {
    "height": "506.858px",
    "left": "1763.33px",
    "right": "20px",
    "top": "120px",
    "width": "350px"
   },
   "types_to_exclude": [
    "module",
    "function",
    "builtin_function_or_method",
    "instance",
    "_Feature"
   ],
   "window_display": false
  }
 },
 "nbformat": 4,
 "nbformat_minor": 5
}
