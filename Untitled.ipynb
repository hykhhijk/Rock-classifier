{
 "cells": [
  {
   "cell_type": "code",
   "execution_count": 22,
   "id": "2db93162",
   "metadata": {
    "ExecuteTime": {
     "end_time": "2022-04-22T05:36:58.537873Z",
     "start_time": "2022-04-22T05:36:58.523911Z"
    }
   },
   "outputs": [],
   "source": [
    "import os\n",
    "import numpy as np\n",
    "import pandas as pd\n",
    "import matplotlib.pyplot as plt\n",
    "import tensorflow as tf\n",
    "import tensorflow.keras as keras\n",
    "from tensorflow.keras.preprocessing.image import ImageDataGenerator, array_to_img, img_to_array, load_img\n",
    "import joblib\n",
    "from sklearn.model_selection import train_test_split\n",
    "from sklearn.metrics import classification_report\n",
    "from numba import cuda\n",
    "from sklearn.model_selection import StratifiedKFold\n",
    "import cv2\n",
    "from sklearn.preprocessing import OneHotEncoder"
   ]
  },
  {
   "cell_type": "code",
   "execution_count": 2,
   "id": "2e6f98ce",
   "metadata": {
    "ExecuteTime": {
     "end_time": "2022-04-16T14:52:42.009335Z",
     "start_time": "2022-04-16T14:52:41.493616Z"
    }
   },
   "outputs": [
    {
     "data": {
      "text/plain": [
       "[name: \"/device:CPU:0\"\n",
       " device_type: \"CPU\"\n",
       " memory_limit: 268435456\n",
       " locality {\n",
       " }\n",
       " incarnation: 15647561806188786183\n",
       " xla_global_id: -1,\n",
       " name: \"/device:GPU:0\"\n",
       " device_type: \"GPU\"\n",
       " memory_limit: 4851040256\n",
       " locality {\n",
       "   bus_id: 1\n",
       "   links {\n",
       "   }\n",
       " }\n",
       " incarnation: 5319682502354717092\n",
       " physical_device_desc: \"device: 0, name: NVIDIA GeForce GTX 1060 6GB, pci bus id: 0000:01:00.0, compute capability: 6.1\"\n",
       " xla_global_id: 416903419]"
      ]
     },
     "execution_count": 2,
     "metadata": {},
     "output_type": "execute_result"
    }
   ],
   "source": [
    "from tensorflow.python.client import device_lib\n",
    "device_lib.list_local_devices()"
   ]
  },
  {
   "cell_type": "code",
   "execution_count": 229,
   "id": "b224e54a",
   "metadata": {
    "ExecuteTime": {
     "end_time": "2022-04-22T13:23:27.835561Z",
     "start_time": "2022-04-22T13:23:27.707403Z"
    }
   },
   "outputs": [],
   "source": [
    "X = joblib.load(\"converted_img.pkl\")\n",
    "y = joblib.load(\"label.pkl\")\n",
    "y = y.reshape(-1, 1)\n",
    "encoder = OneHotEncoder(sparse=False)\n",
    "encoder.fit(y)\n",
    "y = encoder.transform(y)"
   ]
  },
  {
   "cell_type": "code",
   "execution_count": 230,
   "id": "14c6e812",
   "metadata": {
    "ExecuteTime": {
     "end_time": "2022-04-22T13:23:28.855779Z",
     "start_time": "2022-04-22T13:23:28.745629Z"
    }
   },
   "outputs": [],
   "source": [
    "X_train, X_valid, y_train, y_valid = train_test_split(X,y,stratify=y, shuffle=True, test_size=0.2)"
   ]
  },
  {
   "cell_type": "code",
   "execution_count": 211,
   "id": "d836faa9",
   "metadata": {
    "ExecuteTime": {
     "end_time": "2022-04-22T12:33:49.364258Z",
     "start_time": "2022-04-22T12:33:49.342286Z"
    }
   },
   "outputs": [
    {
     "name": "stdout",
     "output_type": "stream",
     "text": [
      "Model: \"model_19\"\n",
      "_________________________________________________________________\n",
      "Layer (type)                 Output Shape              Param #   \n",
      "=================================================================\n",
      "input_21 (InputLayer)        [(None, 32, 32, 3)]       0         \n",
      "_________________________________________________________________\n",
      "conv2d_57 (Conv2D)           (None, 32, 32, 16)        2368      \n",
      "_________________________________________________________________\n",
      "batch_normalization_56 (Batc (None, 32, 32, 16)        64        \n",
      "_________________________________________________________________\n",
      "max_pooling2d_55 (MaxPooling (None, 16, 16, 16)        0         \n",
      "_________________________________________________________________\n",
      "conv2d_58 (Conv2D)           (None, 16, 16, 32)        12832     \n",
      "_________________________________________________________________\n",
      "batch_normalization_57 (Batc (None, 16, 16, 32)        128       \n",
      "_________________________________________________________________\n",
      "max_pooling2d_56 (MaxPooling (None, 8, 8, 32)          0         \n",
      "_________________________________________________________________\n",
      "conv2d_59 (Conv2D)           (None, 8, 8, 64)          18496     \n",
      "_________________________________________________________________\n",
      "batch_normalization_58 (Batc (None, 8, 8, 64)          256       \n",
      "_________________________________________________________________\n",
      "max_pooling2d_57 (MaxPooling (None, 4, 4, 64)          0         \n",
      "_________________________________________________________________\n",
      "flatten_19 (Flatten)         (None, 1024)              0         \n",
      "_________________________________________________________________\n",
      "dense_19 (Dense)             (None, 4)                 4100      \n",
      "=================================================================\n",
      "Total params: 38,244\n",
      "Trainable params: 38,020\n",
      "Non-trainable params: 224\n",
      "_________________________________________________________________\n"
     ]
    }
   ],
   "source": [
    "model.summary()dd"
   ]
  },
  {
   "cell_type": "code",
   "execution_count": 232,
   "id": "5180f162",
   "metadata": {
    "ExecuteTime": {
     "end_time": "2022-04-22T13:23:42.722286Z",
     "start_time": "2022-04-22T13:23:41.946083Z"
    }
   },
   "outputs": [
    {
     "name": "stdout",
     "output_type": "stream",
     "text": [
      "182/182 [==============================] - 1s 3ms/step - loss: 0.0336 - accuracy: 1.0000\n"
     ]
    },
    {
     "data": {
      "text/plain": [
       "[0.03356567770242691, 1.0]"
      ]
     },
     "execution_count": 232,
     "metadata": {},
     "output_type": "execute_result"
    }
   ],
   "source": [
    "model.evaluate(X_train, y_train)"
   ]
  },
  {
   "cell_type": "code",
   "execution_count": 205,
   "id": "3ee4a5e7",
   "metadata": {
    "ExecuteTime": {
     "end_time": "2022-04-22T11:59:01.781787Z",
     "start_time": "2022-04-22T11:59:01.761841Z"
    }
   },
   "outputs": [],
   "source": [
    "train_datagen.flow_from_directory?"
   ]
  },
  {
   "cell_type": "code",
   "execution_count": 221,
   "id": "07d74504",
   "metadata": {
    "ExecuteTime": {
     "end_time": "2022-04-22T12:43:40.720356Z",
     "start_time": "2022-04-22T12:43:40.710392Z"
    }
   },
   "outputs": [],
   "source": [
    "a = train_datagen.flow(X, y, batch_size=32)"
   ]
  },
  {
   "cell_type": "code",
   "execution_count": 228,
   "id": "726df5a5",
   "metadata": {
    "ExecuteTime": {
     "end_time": "2022-04-22T12:45:25.396738Z",
     "start_time": "2022-04-22T12:45:24.585020Z"
    }
   },
   "outputs": [
    {
     "data": {
      "text/plain": [
       "[3.3028388023376465, 0.2131868153810501]"
      ]
     },
     "execution_count": 228,
     "metadata": {},
     "output_type": "execute_result"
    }
   ],
   "source": [
    "model.evaluate_generator(a)"
   ]
  },
  {
   "cell_type": "code",
   "execution_count": 225,
   "id": "e340a130",
   "metadata": {
    "ExecuteTime": {
     "end_time": "2022-04-22T12:43:57.276099Z",
     "start_time": "2022-04-22T12:43:57.249267Z"
    }
   },
   "outputs": [
    {
     "data": {
      "text/plain": [
       "array([[[[0.00227605, 0.00232218, 0.00221453],\n",
       "         [0.00226067, 0.00230681, 0.00219915],\n",
       "         [0.00233756, 0.0023837 , 0.00227605],\n",
       "         ...,\n",
       "         [0.00229143, 0.00235294, 0.00233756],\n",
       "         [0.00026144, 0.00044598, 0.00044598],\n",
       "         [0.00235294, 0.00241446, 0.00239908]],\n",
       "\n",
       "        [[0.00227605, 0.00232218, 0.00221453],\n",
       "         [0.00230681, 0.00235294, 0.00224529],\n",
       "         [0.00232218, 0.00236832, 0.00226067],\n",
       "         ...,\n",
       "         [0.00230681, 0.00236832, 0.00235294],\n",
       "         [0.00232218, 0.0023837 , 0.00236832],\n",
       "         [0.00233756, 0.00239908, 0.0023837 ]],\n",
       "\n",
       "        [[0.00227605, 0.00232218, 0.00221453],\n",
       "         [0.0016609 , 0.00169166, 0.00161476],\n",
       "         [0.00232218, 0.00236832, 0.00226067],\n",
       "         ...,\n",
       "         [0.00227605, 0.00233756, 0.00232218],\n",
       "         [0.00235294, 0.00241446, 0.00239908],\n",
       "         [0.00224529, 0.00230681, 0.00229143]],\n",
       "\n",
       "        ...,\n",
       "\n",
       "        [[0.00222991, 0.00226067, 0.00218378],\n",
       "         [0.00226067, 0.00230681, 0.00219915],\n",
       "         [0.00227605, 0.00232218, 0.00221453],\n",
       "         ...,\n",
       "         [0.00241446, 0.00249135, 0.00242983],\n",
       "         [0.00232218, 0.00239908, 0.00233756],\n",
       "         [0.0019531 , 0.00202999, 0.00196847]],\n",
       "\n",
       "        [[0.00212226, 0.00213764, 0.00204537],\n",
       "         [0.00210688, 0.00213764, 0.00206075],\n",
       "         [0.00222991, 0.00226067, 0.00218378],\n",
       "         ...,\n",
       "         [0.00226067, 0.00233756, 0.00227605],\n",
       "         [0.00236832, 0.00244521, 0.0023837 ],\n",
       "         [0.00244521, 0.00252211, 0.00246059]],\n",
       "\n",
       "        [[0.0021684 , 0.00218378, 0.0020915 ],\n",
       "         [0.00227605, 0.00229143, 0.00219915],\n",
       "         [0.00222991, 0.00226067, 0.00221453],\n",
       "         ...,\n",
       "         [0.00235294, 0.00241446, 0.00239908],\n",
       "         [0.00235294, 0.00242983, 0.00236832],\n",
       "         [0.00230681, 0.0023837 , 0.00232218]]],\n",
       "\n",
       "\n",
       "       [[[0.00207612, 0.00213764, 0.00212226],\n",
       "         [0.00227605, 0.00236832, 0.00230681],\n",
       "         [0.00224529, 0.00233756, 0.00230681],\n",
       "         ...,\n",
       "         [0.00232218, 0.00233756, 0.00226067],\n",
       "         [0.00219915, 0.00224529, 0.00213764],\n",
       "         [0.00201461, 0.00202999, 0.00190696]],\n",
       "\n",
       "        [[0.00226067, 0.00233756, 0.00227605],\n",
       "         [0.00227605, 0.00236832, 0.00230681],\n",
       "         [0.00232218, 0.0023837 , 0.00236832],\n",
       "         ...,\n",
       "         [0.00226067, 0.00227605, 0.00219915],\n",
       "         [0.00226067, 0.00230681, 0.00219915],\n",
       "         [0.00207612, 0.00207612, 0.0019531 ]],\n",
       "\n",
       "        [[0.0021684 , 0.00230681, 0.00226067],\n",
       "         [0.00235294, 0.0023837 , 0.00236832],\n",
       "         [0.00232218, 0.0023837 , 0.00236832],\n",
       "         ...,\n",
       "         [0.00232218, 0.00233756, 0.00226067],\n",
       "         [0.00226067, 0.00230681, 0.00219915],\n",
       "         [0.00206075, 0.00206075, 0.00193772]],\n",
       "\n",
       "        ...,\n",
       "\n",
       "        [[0.00233756, 0.00235294, 0.00226067],\n",
       "         [0.00227605, 0.00229143, 0.00219915],\n",
       "         [0.00233756, 0.00235294, 0.00226067],\n",
       "         ...,\n",
       "         [0.00233756, 0.00235294, 0.00227605],\n",
       "         [0.00236832, 0.0023837 , 0.00230681],\n",
       "         [0.00226067, 0.00227605, 0.00215302]],\n",
       "\n",
       "        [[0.00221453, 0.00222991, 0.00213764],\n",
       "         [0.00227605, 0.00229143, 0.00219915],\n",
       "         [0.00229143, 0.00230681, 0.00221453],\n",
       "         ...,\n",
       "         [0.0023837 , 0.00239908, 0.00232218],\n",
       "         [0.00232218, 0.00233756, 0.00226067],\n",
       "         [0.00224529, 0.00226067, 0.0021684 ]],\n",
       "\n",
       "        [[0.00224529, 0.00226067, 0.0021684 ],\n",
       "         [0.00222991, 0.00227605, 0.0021684 ],\n",
       "         [0.00222991, 0.00224529, 0.00215302],\n",
       "         ...,\n",
       "         [0.00227605, 0.00235294, 0.00229143],\n",
       "         [0.00224529, 0.00232218, 0.00222991],\n",
       "         [0.00207612, 0.00212226, 0.00198385]]],\n",
       "\n",
       "\n",
       "       [[[0.00183007, 0.00193772, 0.00183007],\n",
       "         [0.00222991, 0.00229143, 0.00227605],\n",
       "         [0.00256824, 0.00266052, 0.002599  ],\n",
       "         ...,\n",
       "         [0.00252211, 0.002599  , 0.00249135],\n",
       "         [0.00253749, 0.00261438, 0.00250673],\n",
       "         [0.00250673, 0.00258362, 0.00247597]],\n",
       "\n",
       "        [[0.00106113, 0.00113802, 0.00107651],\n",
       "         [0.00226067, 0.00233756, 0.00227605],\n",
       "         [0.00250673, 0.002599  , 0.00253749],\n",
       "         ...,\n",
       "         [0.00255286, 0.00262976, 0.00253749],\n",
       "         [0.00253749, 0.00261438, 0.00250673],\n",
       "         [0.00242983, 0.00250673, 0.00239908]],\n",
       "\n",
       "        [[0.00224529, 0.00227605, 0.00222991],\n",
       "         [0.00242983, 0.00252211, 0.00246059],\n",
       "         [0.00224529, 0.00232218, 0.00226067],\n",
       "         ...,\n",
       "         [0.00256824, 0.00264514, 0.00255286],\n",
       "         [0.00252211, 0.00256824, 0.00246059],\n",
       "         [0.00250673, 0.00258362, 0.00247597]],\n",
       "\n",
       "        ...,\n",
       "\n",
       "        [[0.00272203, 0.00266052, 0.00261438],\n",
       "         [0.00264514, 0.00266052, 0.00258362],\n",
       "         [0.00267589, 0.00272203, 0.00261438],\n",
       "         ...,\n",
       "         [0.00247597, 0.00249135, 0.00241446],\n",
       "         [0.00267589, 0.00269127, 0.00261438],\n",
       "         [0.00258362, 0.00258362, 0.00246059]],\n",
       "\n",
       "        [[0.00270665, 0.00272203, 0.00264514],\n",
       "         [0.00266052, 0.00267589, 0.00258362],\n",
       "         [0.00269127, 0.00270665, 0.00262976],\n",
       "         ...,\n",
       "         [0.00266052, 0.00267589, 0.002599  ],\n",
       "         [0.00266052, 0.00267589, 0.002599  ],\n",
       "         [0.00244521, 0.00246059, 0.00233756]],\n",
       "\n",
       "        [[0.00262976, 0.00264514, 0.00256824],\n",
       "         [0.00261438, 0.00262976, 0.00253749],\n",
       "         [0.002599  , 0.00261438, 0.00253749],\n",
       "         ...,\n",
       "         [0.00196847, 0.00183007, 0.00159938],\n",
       "         [0.00201461, 0.0018762 , 0.00161476],\n",
       "         [0.0020915 , 0.0019531 , 0.00169166]]],\n",
       "\n",
       "\n",
       "       ...,\n",
       "\n",
       "\n",
       "       [[[0.00258362, 0.002599  , 0.00250673],\n",
       "         [0.00262976, 0.00267589, 0.00256824],\n",
       "         [0.00258362, 0.00262976, 0.00252211],\n",
       "         ...,\n",
       "         [0.00256824, 0.00261438, 0.00250673],\n",
       "         [0.00255286, 0.00262976, 0.00252211],\n",
       "         [0.00252211, 0.002599  , 0.00249135]],\n",
       "\n",
       "        [[0.00258362, 0.00262976, 0.00252211],\n",
       "         [0.00258362, 0.00262976, 0.00252211],\n",
       "         [0.00261438, 0.00262976, 0.00253749],\n",
       "         ...,\n",
       "         [0.002599  , 0.00262976, 0.00255286],\n",
       "         [0.00256824, 0.00264514, 0.00255286],\n",
       "         [0.00253749, 0.00261438, 0.00250673]],\n",
       "\n",
       "        [[0.00255286, 0.002599  , 0.00249135],\n",
       "         [0.00256824, 0.00261438, 0.00250673],\n",
       "         [0.00258362, 0.00262976, 0.00252211],\n",
       "         ...,\n",
       "         [0.00258362, 0.00266052, 0.00256824],\n",
       "         [0.00255286, 0.00262976, 0.00253749],\n",
       "         [0.00255286, 0.00262976, 0.00253749]],\n",
       "\n",
       "        ...,\n",
       "\n",
       "        [[0.0023837 , 0.00241446, 0.00233756],\n",
       "         [0.002599  , 0.00262976, 0.00255286],\n",
       "         [0.00270665, 0.00273741, 0.00266052],\n",
       "         ...,\n",
       "         [0.00262976, 0.00270665, 0.00264514],\n",
       "         [0.00261438, 0.00269127, 0.00262976],\n",
       "         [0.00264514, 0.00273741, 0.00267589]],\n",
       "\n",
       "        [[0.00264514, 0.00267589, 0.002599  ],\n",
       "         [0.00266052, 0.00269127, 0.00261438],\n",
       "         [0.00269127, 0.00272203, 0.00264514],\n",
       "         ...,\n",
       "         [0.00256824, 0.00264514, 0.00258362],\n",
       "         [0.00253749, 0.00261438, 0.00255286],\n",
       "         [0.00262976, 0.00270665, 0.00264514]],\n",
       "\n",
       "        [[0.00261438, 0.00269127, 0.002599  ],\n",
       "         [0.002599  , 0.00262976, 0.00255286],\n",
       "         [0.00264514, 0.00272203, 0.00262976],\n",
       "         ...,\n",
       "         [0.00266052, 0.00273741, 0.00267589],\n",
       "         [0.00262976, 0.00270665, 0.00264514],\n",
       "         [0.00262976, 0.00270665, 0.00264514]]],\n",
       "\n",
       "\n",
       "       [[[0.00235294, 0.0023837 , 0.00236832],\n",
       "         [0.0028143 , 0.0028912 , 0.00279892],\n",
       "         [0.00275279, 0.00282968, 0.00273741],\n",
       "         ...,\n",
       "         [0.0035371 , 0.00347559, 0.00329104],\n",
       "         [0.00370627, 0.00364475, 0.00347559],\n",
       "         [0.00387543, 0.00384468, 0.00364475]],\n",
       "\n",
       "        [[0.0023837 , 0.00247597, 0.00241446],\n",
       "         [0.00275279, 0.00282968, 0.00273741],\n",
       "         [0.00290657, 0.00298347, 0.0028912 ],\n",
       "         ...,\n",
       "         [0.00352172, 0.00347559, 0.00324491],\n",
       "         [0.00370627, 0.00364475, 0.00346021],\n",
       "         [0.00384468, 0.00381392, 0.00361399]],\n",
       "\n",
       "        [[0.00247597, 0.00252211, 0.00241446],\n",
       "         [0.00279892, 0.00287582, 0.00278355],\n",
       "         [0.0028912 , 0.00296809, 0.00287582],\n",
       "         ...,\n",
       "         [0.00350634, 0.00346021, 0.00322953],\n",
       "         [0.00369089, 0.00362937, 0.00344483],\n",
       "         [0.00387543, 0.00384468, 0.00364475]],\n",
       "\n",
       "        ...,\n",
       "\n",
       "        [[0.00276817, 0.00284506, 0.00278355],\n",
       "         [0.00269127, 0.00278355, 0.00272203],\n",
       "         [0.00255286, 0.00262976, 0.00256824],\n",
       "         ...,\n",
       "         [0.00330642, 0.00330642, 0.00315263],\n",
       "         [0.00361399, 0.00358324, 0.00338331],\n",
       "         [0.0038293 , 0.00378316, 0.00364475]],\n",
       "\n",
       "        [[0.0021684 , 0.00224529, 0.00218378],\n",
       "         [0.0028143 , 0.00295271, 0.00287582],\n",
       "         [0.0028143 , 0.00290657, 0.00284506],\n",
       "         ...,\n",
       "         [0.00333718, 0.00333718, 0.00318339],\n",
       "         [0.00369089, 0.00366013, 0.00347559],\n",
       "         [0.00387543, 0.00387543, 0.00372165]],\n",
       "\n",
       "        [[0.00276817, 0.00284506, 0.00278355],\n",
       "         [0.00275279, 0.00282968, 0.00276817],\n",
       "         [0.00233756, 0.00242983, 0.00236832],\n",
       "         ...,\n",
       "         [0.00335256, 0.00333718, 0.00326028],\n",
       "         [0.00356786, 0.0035371 , 0.00333718],\n",
       "         [0.00387543, 0.0038293 , 0.00369089]]],\n",
       "\n",
       "\n",
       "       [[[0.00392157, 0.00392157, 0.00392157],\n",
       "         [0.00390619, 0.00390619, 0.00390619],\n",
       "         [0.00359862, 0.00366013, 0.00364475],\n",
       "         ...,\n",
       "         [0.00376778, 0.00376778, 0.00376778],\n",
       "         [0.0038293 , 0.0038293 , 0.00379854],\n",
       "         [0.00362937, 0.00366013, 0.00361399]],\n",
       "\n",
       "        [[0.00392157, 0.00392157, 0.00392157],\n",
       "         [0.00392157, 0.00392157, 0.00392157],\n",
       "         [0.00390619, 0.00392157, 0.00392157],\n",
       "         ...,\n",
       "         [0.0037524 , 0.00378316, 0.00373702],\n",
       "         [0.00387543, 0.00389081, 0.00381392],\n",
       "         [0.00378316, 0.0038293 , 0.00372165]],\n",
       "\n",
       "        [[0.00392157, 0.00392157, 0.00392157],\n",
       "         [0.00387543, 0.00387543, 0.00387543],\n",
       "         [0.00392157, 0.00392157, 0.00392157],\n",
       "         ...,\n",
       "         [0.00390619, 0.00390619, 0.00390619],\n",
       "         [0.00390619, 0.00392157, 0.00389081],\n",
       "         [0.00286044, 0.00304498, 0.00301423]],\n",
       "\n",
       "        ...,\n",
       "\n",
       "        [[0.00386005, 0.00389081, 0.00384468],\n",
       "         [0.00390619, 0.00390619, 0.00390619],\n",
       "         [0.00389081, 0.00389081, 0.00389081],\n",
       "         ...,\n",
       "         [0.00369089, 0.00370627, 0.00362937],\n",
       "         [0.00364475, 0.00366013, 0.00358324],\n",
       "         [0.00378316, 0.00378316, 0.0037524 ]],\n",
       "\n",
       "        [[0.00387543, 0.00387543, 0.00387543],\n",
       "         [0.00392157, 0.00392157, 0.00392157],\n",
       "         [0.00390619, 0.00392157, 0.00389081],\n",
       "         ...,\n",
       "         [0.00389081, 0.00389081, 0.00389081],\n",
       "         [0.00390619, 0.00390619, 0.00390619],\n",
       "         [0.00386005, 0.00386005, 0.00386005]],\n",
       "\n",
       "        [[0.00338331, 0.00342945, 0.0033218 ],\n",
       "         [0.00378316, 0.0038293 , 0.00372165],\n",
       "         [0.0037524 , 0.00378316, 0.00370627],\n",
       "         ...,\n",
       "         [0.00370627, 0.00372165, 0.00364475],\n",
       "         [0.00358324, 0.00356786, 0.00350634],\n",
       "         [0.00350634, 0.00352172, 0.00344483]]]], dtype=float32)"
      ]
     },
     "execution_count": 225,
     "metadata": {},
     "output_type": "execute_result"
    }
   ],
   "source": [
    "a[0][0]"
   ]
  },
  {
   "cell_type": "code",
   "execution_count": 224,
   "id": "13d7fe12",
   "metadata": {
    "ExecuteTime": {
     "end_time": "2022-04-22T12:43:50.707144Z",
     "start_time": "2022-04-22T12:43:50.697170Z"
    }
   },
   "outputs": [
    {
     "data": {
      "text/plain": [
       "array([[1., 0., 0., 0.],\n",
       "       [0., 0., 1., 0.],\n",
       "       [0., 0., 0., 1.],\n",
       "       [1., 0., 0., 0.],\n",
       "       [0., 0., 1., 0.],\n",
       "       [1., 0., 0., 0.],\n",
       "       [0., 1., 0., 0.],\n",
       "       [0., 1., 0., 0.],\n",
       "       [1., 0., 0., 0.],\n",
       "       [1., 0., 0., 0.],\n",
       "       [0., 0., 0., 1.],\n",
       "       [0., 0., 0., 1.],\n",
       "       [0., 0., 0., 1.],\n",
       "       [0., 0., 0., 1.],\n",
       "       [0., 0., 1., 0.],\n",
       "       [0., 0., 0., 1.],\n",
       "       [0., 1., 0., 0.],\n",
       "       [1., 0., 0., 0.],\n",
       "       [1., 0., 0., 0.],\n",
       "       [1., 0., 0., 0.],\n",
       "       [0., 1., 0., 0.],\n",
       "       [0., 0., 1., 0.],\n",
       "       [1., 0., 0., 0.],\n",
       "       [0., 0., 1., 0.],\n",
       "       [1., 0., 0., 0.],\n",
       "       [0., 1., 0., 0.],\n",
       "       [1., 0., 0., 0.],\n",
       "       [0., 0., 0., 1.],\n",
       "       [0., 0., 0., 1.],\n",
       "       [0., 1., 0., 0.],\n",
       "       [0., 1., 0., 0.],\n",
       "       [0., 1., 0., 0.]])"
      ]
     },
     "execution_count": 224,
     "metadata": {},
     "output_type": "execute_result"
    }
   ],
   "source": [
    "a[0][1]"
   ]
  },
  {
   "cell_type": "code",
   "execution_count": 93,
   "id": "daa99ace",
   "metadata": {
    "ExecuteTime": {
     "end_time": "2022-04-22T05:58:29.251489Z",
     "start_time": "2022-04-22T05:58:28.745430Z"
    }
   },
   "outputs": [
    {
     "name": "stdout",
     "output_type": "stream",
     "text": [
      "Found 5826 images belonging to 4 classes.\n",
      "Found 1454 images belonging to 4 classes.\n"
     ]
    }
   ],
   "source": [
    "path=\"D:\\Image_data\"\n",
    "\n",
    "train_datagen = ImageDataGenerator(rescale=1./255,\n",
    "    validation_split=0.2) # set validation split\n",
    "\n",
    "train_generator = train_datagen.flow_from_directory(\n",
    "    path,\n",
    "    target_size=(32, 32),\n",
    "    class_mode='categorical',\n",
    "    subset='training') # set as training data\n",
    "validation_generator = train_datagen.flow_from_directory(\n",
    "    path, # same directory as training data\n",
    "    target_size=(32, 32),\n",
    "    class_mode='categorical',\n",
    "    subset='validation') # set as validation data"
   ]
  },
  {
   "cell_type": "code",
   "execution_count": 101,
   "id": "6a841ff0",
   "metadata": {
    "ExecuteTime": {
     "end_time": "2022-04-22T06:04:16.310790Z",
     "start_time": "2022-04-22T06:04:12.451990Z"
    }
   },
   "outputs": [
    {
     "data": {
      "text/plain": [
       "<matplotlib.image.AxesImage at 0x19a7ebc33a0>"
      ]
     },
     "execution_count": 101,
     "metadata": {},
     "output_type": "execute_result"
    },
    {
     "data": {
      "image/png": "[encoded data removed]",
      "text/plain": [
       "<Figure size 432x288 with 1 Axes>"
      ]
     },
     "metadata": {
      "needs_background": "light"
     },
     "output_type": "display_data"
    }
   ],
   "source": [
    "plt.imshow(train_generator[0][0][1])"
   ]
  },
  {
   "cell_type": "code",
   "execution_count": 233,
   "id": "5f2b5260",
   "metadata": {
    "ExecuteTime": {
     "end_time": "2022-04-22T13:36:23.641403Z",
     "start_time": "2022-04-22T13:36:23.500939Z"
    }
   },
   "outputs": [
    {
     "data": {
      "text/plain": [
       "<matplotlib.image.AxesImage at 0x19ab8bb8730>"
      ]
     },
     "execution_count": 233,
     "metadata": {},
     "output_type": "execute_result"
    },
    {
     "data": {
      "image/png": "[encoded data removed]",
      "text/plain": [
       "<Figure size 432x288 with 1 Axes>"
      ]
     },
     "metadata": {
      "needs_background": "light"
     },
     "output_type": "display_data"
    }
   ],
   "source": [
    "plt.imshow(X[10])"
   ]
  },
  {
   "cell_type": "markdown",
   "id": "ab075639",
   "metadata": {},
   "source": [
    "# Learning_rate, batch_size tuning"
   ]
  },
  {
   "cell_type": "code",
   "execution_count": 27,
   "id": "14955b9f",
   "metadata": {
    "ExecuteTime": {
     "end_time": "2022-04-16T12:13:00.126230Z",
     "start_time": "2022-04-16T12:12:56.095028Z"
    }
   },
   "outputs": [],
   "source": [
    "Input = keras.layers.Input(shape=train_generator[0][0][0].shape)\n",
    "x = keras.layers.Conv2D(16, kernel_size=7, activation=\"relu\",kernel_initializer=\"he_normal\", padding=\"same\")(Input)\n",
    "x = keras.layers.BatchNormalization()(x)\n",
    "x = keras.layers.MaxPool2D(2)(x)\n",
    "\n",
    "x = keras.layers.Conv2D(32, kernel_size=5, activation=\"relu\",kernel_initializer=\"he_normal\", padding=\"same\")(x)\n",
    "x = keras.layers.BatchNormalization()(x)\n",
    "x = keras.layers.MaxPool2D(2)(x)\n",
    "\n",
    "\n",
    "x = keras.layers.Conv2D(64, kernel_size=3, activation=\"relu\",kernel_initializer=\"he_normal\", padding=\"same\")(x)\n",
    "x = keras.layers.BatchNormalization()(x)\n",
    "x = keras.layers.MaxPool2D(2)(x)\n",
    "\n",
    "x = keras.layers.Flatten()(x)\n",
    "Output = keras.layers.Dense(4, activation=\"softmax\")(x)\n",
    "\n",
    "model = keras.models.Model(inputs = Input, outputs = Output)"
   ]
  },
  {
   "cell_type": "code",
   "execution_count": 28,
   "id": "f1a1199c",
   "metadata": {
    "ExecuteTime": {
     "end_time": "2022-04-16T12:13:23.060578Z",
     "start_time": "2022-04-16T12:13:00.314843Z"
    },
    "collapsed": true
   },
   "outputs": [
    {
     "name": "stdout",
     "output_type": "stream",
     "text": [
      "Epoch 1/5\n",
      "  3/182 [..............................] - ETA: 13:31 - loss: 2.2595 - accuracy: 0.2500"
     ]
    },
    {
     "ename": "KeyboardInterrupt",
     "evalue": "",
     "output_type": "error",
     "traceback": [
      "\u001b[1;31m---------------------------------------------------------------------------\u001b[0m",
      "\u001b[1;31mKeyboardInterrupt\u001b[0m                         Traceback (most recent call last)",
      "Input \u001b[1;32mIn [28]\u001b[0m, in \u001b[0;36m<cell line: 4>\u001b[1;34m()\u001b[0m\n\u001b[0;32m      1\u001b[0m batch_size\u001b[38;5;241m=\u001b[39m\u001b[38;5;241m32\u001b[39m\n\u001b[0;32m      2\u001b[0m model\u001b[38;5;241m.\u001b[39mcompile(loss\u001b[38;5;241m=\u001b[39m\u001b[38;5;124m\"\u001b[39m\u001b[38;5;124mcategorical_crossentropy\u001b[39m\u001b[38;5;124m\"\u001b[39m, optimizer\u001b[38;5;241m=\u001b[39m\u001b[38;5;124m\"\u001b[39m\u001b[38;5;124madam\u001b[39m\u001b[38;5;124m\"\u001b[39m, metrics\u001b[38;5;241m=\u001b[39m[\u001b[38;5;124m\"\u001b[39m\u001b[38;5;124maccuracy\u001b[39m\u001b[38;5;124m\"\u001b[39m])\n\u001b[1;32m----> 4\u001b[0m history \u001b[38;5;241m=\u001b[39m \u001b[43mmodel\u001b[49m\u001b[38;5;241;43m.\u001b[39;49m\u001b[43mfit_generator\u001b[49m\u001b[43m(\u001b[49m\n\u001b[0;32m      5\u001b[0m \u001b[43m    \u001b[49m\u001b[43mtrain_generator\u001b[49m\u001b[43m,\u001b[49m\n\u001b[0;32m      6\u001b[0m \u001b[43m    \u001b[49m\u001b[43msteps_per_epoch\u001b[49m\u001b[43m \u001b[49m\u001b[38;5;241;43m=\u001b[39;49m\u001b[43m \u001b[49m\u001b[43mtrain_generator\u001b[49m\u001b[38;5;241;43m.\u001b[39;49m\u001b[43msamples\u001b[49m\u001b[43m \u001b[49m\u001b[38;5;241;43m/\u001b[39;49m\u001b[38;5;241;43m/\u001b[39;49m\u001b[43m \u001b[49m\u001b[43mbatch_size\u001b[49m\u001b[43m,\u001b[49m\n\u001b[0;32m      7\u001b[0m \u001b[43m    \u001b[49m\u001b[43mvalidation_data\u001b[49m\u001b[43m \u001b[49m\u001b[38;5;241;43m=\u001b[39;49m\u001b[43m \u001b[49m\u001b[43mvalidation_generator\u001b[49m\u001b[43m,\u001b[49m\u001b[43m \u001b[49m\n\u001b[0;32m      8\u001b[0m \u001b[43m    \u001b[49m\u001b[43mvalidation_steps\u001b[49m\u001b[43m \u001b[49m\u001b[38;5;241;43m=\u001b[39;49m\u001b[43m \u001b[49m\u001b[43mvalidation_generator\u001b[49m\u001b[38;5;241;43m.\u001b[39;49m\u001b[43msamples\u001b[49m\u001b[43m \u001b[49m\u001b[38;5;241;43m/\u001b[39;49m\u001b[38;5;241;43m/\u001b[39;49m\u001b[43m \u001b[49m\u001b[43mbatch_size\u001b[49m\u001b[43m,\u001b[49m\n\u001b[0;32m      9\u001b[0m \u001b[43m    \u001b[49m\u001b[43mepochs\u001b[49m\u001b[43m \u001b[49m\u001b[38;5;241;43m=\u001b[39;49m\u001b[43m \u001b[49m\u001b[38;5;241;43m5\u001b[39;49m\u001b[43m)\u001b[49m\n",
      "File \u001b[1;32m~\\anaconda3\\envs\\python3.9.0\\lib\\site-packages\\tensorflow\\python\\keras\\engine\\training.py:1966\u001b[0m, in \u001b[0;36mModel.fit_generator\u001b[1;34m(self, generator, steps_per_epoch, epochs, verbose, callbacks, validation_data, validation_steps, validation_freq, class_weight, max_queue_size, workers, use_multiprocessing, shuffle, initial_epoch)\u001b[0m\n\u001b[0;32m   1957\u001b[0m \u001b[38;5;124;03m\"\"\"Fits the model on data yielded batch-by-batch by a Python generator.\u001b[39;00m\n\u001b[0;32m   1958\u001b[0m \n\u001b[0;32m   1959\u001b[0m \u001b[38;5;124;03mDEPRECATED:\u001b[39;00m\n\u001b[0;32m   1960\u001b[0m \u001b[38;5;124;03m  `Model.fit` now supports generators, so there is no longer any need to use\u001b[39;00m\n\u001b[0;32m   1961\u001b[0m \u001b[38;5;124;03m  this endpoint.\u001b[39;00m\n\u001b[0;32m   1962\u001b[0m \u001b[38;5;124;03m\"\"\"\u001b[39;00m\n\u001b[0;32m   1963\u001b[0m warnings\u001b[38;5;241m.\u001b[39mwarn(\u001b[38;5;124m'\u001b[39m\u001b[38;5;124m`Model.fit_generator` is deprecated and \u001b[39m\u001b[38;5;124m'\u001b[39m\n\u001b[0;32m   1964\u001b[0m               \u001b[38;5;124m'\u001b[39m\u001b[38;5;124mwill be removed in a future version. \u001b[39m\u001b[38;5;124m'\u001b[39m\n\u001b[0;32m   1965\u001b[0m               \u001b[38;5;124m'\u001b[39m\u001b[38;5;124mPlease use `Model.fit`, which supports generators.\u001b[39m\u001b[38;5;124m'\u001b[39m)\n\u001b[1;32m-> 1966\u001b[0m \u001b[38;5;28;01mreturn\u001b[39;00m \u001b[38;5;28;43mself\u001b[39;49m\u001b[38;5;241;43m.\u001b[39;49m\u001b[43mfit\u001b[49m\u001b[43m(\u001b[49m\n\u001b[0;32m   1967\u001b[0m \u001b[43m    \u001b[49m\u001b[43mgenerator\u001b[49m\u001b[43m,\u001b[49m\n\u001b[0;32m   1968\u001b[0m \u001b[43m    \u001b[49m\u001b[43msteps_per_epoch\u001b[49m\u001b[38;5;241;43m=\u001b[39;49m\u001b[43msteps_per_epoch\u001b[49m\u001b[43m,\u001b[49m\n\u001b[0;32m   1969\u001b[0m \u001b[43m    \u001b[49m\u001b[43mepochs\u001b[49m\u001b[38;5;241;43m=\u001b[39;49m\u001b[43mepochs\u001b[49m\u001b[43m,\u001b[49m\n\u001b[0;32m   1970\u001b[0m \u001b[43m    \u001b[49m\u001b[43mverbose\u001b[49m\u001b[38;5;241;43m=\u001b[39;49m\u001b[43mverbose\u001b[49m\u001b[43m,\u001b[49m\n\u001b[0;32m   1971\u001b[0m \u001b[43m    \u001b[49m\u001b[43mcallbacks\u001b[49m\u001b[38;5;241;43m=\u001b[39;49m\u001b[43mcallbacks\u001b[49m\u001b[43m,\u001b[49m\n\u001b[0;32m   1972\u001b[0m \u001b[43m    \u001b[49m\u001b[43mvalidation_data\u001b[49m\u001b[38;5;241;43m=\u001b[39;49m\u001b[43mvalidation_data\u001b[49m\u001b[43m,\u001b[49m\n\u001b[0;32m   1973\u001b[0m \u001b[43m    \u001b[49m\u001b[43mvalidation_steps\u001b[49m\u001b[38;5;241;43m=\u001b[39;49m\u001b[43mvalidation_steps\u001b[49m\u001b[43m,\u001b[49m\n\u001b[0;32m   1974\u001b[0m \u001b[43m    \u001b[49m\u001b[43mvalidation_freq\u001b[49m\u001b[38;5;241;43m=\u001b[39;49m\u001b[43mvalidation_freq\u001b[49m\u001b[43m,\u001b[49m\n\u001b[0;32m   1975\u001b[0m \u001b[43m    \u001b[49m\u001b[43mclass_weight\u001b[49m\u001b[38;5;241;43m=\u001b[39;49m\u001b[43mclass_weight\u001b[49m\u001b[43m,\u001b[49m\n\u001b[0;32m   1976\u001b[0m \u001b[43m    \u001b[49m\u001b[43mmax_queue_size\u001b[49m\u001b[38;5;241;43m=\u001b[39;49m\u001b[43mmax_queue_size\u001b[49m\u001b[43m,\u001b[49m\n\u001b[0;32m   1977\u001b[0m \u001b[43m    \u001b[49m\u001b[43mworkers\u001b[49m\u001b[38;5;241;43m=\u001b[39;49m\u001b[43mworkers\u001b[49m\u001b[43m,\u001b[49m\n\u001b[0;32m   1978\u001b[0m \u001b[43m    \u001b[49m\u001b[43muse_multiprocessing\u001b[49m\u001b[38;5;241;43m=\u001b[39;49m\u001b[43muse_multiprocessing\u001b[49m\u001b[43m,\u001b[49m\n\u001b[0;32m   1979\u001b[0m \u001b[43m    \u001b[49m\u001b[43mshuffle\u001b[49m\u001b[38;5;241;43m=\u001b[39;49m\u001b[43mshuffle\u001b[49m\u001b[43m,\u001b[49m\n\u001b[0;32m   1980\u001b[0m \u001b[43m    \u001b[49m\u001b[43minitial_epoch\u001b[49m\u001b[38;5;241;43m=\u001b[39;49m\u001b[43minitial_epoch\u001b[49m\u001b[43m)\u001b[49m\n",
      "File \u001b[1;32m~\\anaconda3\\envs\\python3.9.0\\lib\\site-packages\\tensorflow\\python\\keras\\engine\\training.py:1189\u001b[0m, in \u001b[0;36mModel.fit\u001b[1;34m(self, x, y, batch_size, epochs, verbose, callbacks, validation_split, validation_data, shuffle, class_weight, sample_weight, initial_epoch, steps_per_epoch, validation_steps, validation_batch_size, validation_freq, max_queue_size, workers, use_multiprocessing)\u001b[0m\n\u001b[0;32m   1182\u001b[0m \u001b[38;5;28;01mwith\u001b[39;00m trace\u001b[38;5;241m.\u001b[39mTrace(\n\u001b[0;32m   1183\u001b[0m     \u001b[38;5;124m'\u001b[39m\u001b[38;5;124mtrain\u001b[39m\u001b[38;5;124m'\u001b[39m,\n\u001b[0;32m   1184\u001b[0m     epoch_num\u001b[38;5;241m=\u001b[39mepoch,\n\u001b[0;32m   1185\u001b[0m     step_num\u001b[38;5;241m=\u001b[39mstep,\n\u001b[0;32m   1186\u001b[0m     batch_size\u001b[38;5;241m=\u001b[39mbatch_size,\n\u001b[0;32m   1187\u001b[0m     _r\u001b[38;5;241m=\u001b[39m\u001b[38;5;241m1\u001b[39m):\n\u001b[0;32m   1188\u001b[0m   callbacks\u001b[38;5;241m.\u001b[39mon_train_batch_begin(step)\n\u001b[1;32m-> 1189\u001b[0m   tmp_logs \u001b[38;5;241m=\u001b[39m \u001b[38;5;28;43mself\u001b[39;49m\u001b[38;5;241;43m.\u001b[39;49m\u001b[43mtrain_function\u001b[49m\u001b[43m(\u001b[49m\u001b[43miterator\u001b[49m\u001b[43m)\u001b[49m\n\u001b[0;32m   1190\u001b[0m   \u001b[38;5;28;01mif\u001b[39;00m data_handler\u001b[38;5;241m.\u001b[39mshould_sync:\n\u001b[0;32m   1191\u001b[0m     context\u001b[38;5;241m.\u001b[39masync_wait()\n",
      "File \u001b[1;32m~\\anaconda3\\envs\\python3.9.0\\lib\\site-packages\\tensorflow\\python\\util\\traceback_utils.py:150\u001b[0m, in \u001b[0;36mfilter_traceback.<locals>.error_handler\u001b[1;34m(*args, **kwargs)\u001b[0m\n\u001b[0;32m    148\u001b[0m filtered_tb \u001b[38;5;241m=\u001b[39m \u001b[38;5;28;01mNone\u001b[39;00m\n\u001b[0;32m    149\u001b[0m \u001b[38;5;28;01mtry\u001b[39;00m:\n\u001b[1;32m--> 150\u001b[0m   \u001b[38;5;28;01mreturn\u001b[39;00m fn(\u001b[38;5;241m*\u001b[39margs, \u001b[38;5;241m*\u001b[39m\u001b[38;5;241m*\u001b[39mkwargs)\n\u001b[0;32m    151\u001b[0m \u001b[38;5;28;01mexcept\u001b[39;00m \u001b[38;5;167;01mException\u001b[39;00m \u001b[38;5;28;01mas\u001b[39;00m e:\n\u001b[0;32m    152\u001b[0m   filtered_tb \u001b[38;5;241m=\u001b[39m _process_traceback_frames(e\u001b[38;5;241m.\u001b[39m__traceback__)\n",
      "File \u001b[1;32m~\\anaconda3\\envs\\python3.9.0\\lib\\site-packages\\tensorflow\\python\\eager\\def_function.py:910\u001b[0m, in \u001b[0;36mFunction.__call__\u001b[1;34m(self, *args, **kwds)\u001b[0m\n\u001b[0;32m    907\u001b[0m compiler \u001b[38;5;241m=\u001b[39m \u001b[38;5;124m\"\u001b[39m\u001b[38;5;124mxla\u001b[39m\u001b[38;5;124m\"\u001b[39m \u001b[38;5;28;01mif\u001b[39;00m \u001b[38;5;28mself\u001b[39m\u001b[38;5;241m.\u001b[39m_jit_compile \u001b[38;5;28;01melse\u001b[39;00m \u001b[38;5;124m\"\u001b[39m\u001b[38;5;124mnonXla\u001b[39m\u001b[38;5;124m\"\u001b[39m\n\u001b[0;32m    909\u001b[0m \u001b[38;5;28;01mwith\u001b[39;00m OptionalXlaContext(\u001b[38;5;28mself\u001b[39m\u001b[38;5;241m.\u001b[39m_jit_compile):\n\u001b[1;32m--> 910\u001b[0m   result \u001b[38;5;241m=\u001b[39m \u001b[38;5;28mself\u001b[39m\u001b[38;5;241m.\u001b[39m_call(\u001b[38;5;241m*\u001b[39margs, \u001b[38;5;241m*\u001b[39m\u001b[38;5;241m*\u001b[39mkwds)\n\u001b[0;32m    912\u001b[0m new_tracing_count \u001b[38;5;241m=\u001b[39m \u001b[38;5;28mself\u001b[39m\u001b[38;5;241m.\u001b[39mexperimental_get_tracing_count()\n\u001b[0;32m    913\u001b[0m without_tracing \u001b[38;5;241m=\u001b[39m (tracing_count \u001b[38;5;241m==\u001b[39m new_tracing_count)\n",
      "File \u001b[1;32m~\\anaconda3\\envs\\python3.9.0\\lib\\site-packages\\tensorflow\\python\\eager\\def_function.py:942\u001b[0m, in \u001b[0;36mFunction._call\u001b[1;34m(self, *args, **kwds)\u001b[0m\n\u001b[0;32m    939\u001b[0m   \u001b[38;5;28mself\u001b[39m\u001b[38;5;241m.\u001b[39m_lock\u001b[38;5;241m.\u001b[39mrelease()\n\u001b[0;32m    940\u001b[0m   \u001b[38;5;66;03m# In this case we have created variables on the first call, so we run the\u001b[39;00m\n\u001b[0;32m    941\u001b[0m   \u001b[38;5;66;03m# defunned version which is guaranteed to never create variables.\u001b[39;00m\n\u001b[1;32m--> 942\u001b[0m   \u001b[38;5;28;01mreturn\u001b[39;00m \u001b[38;5;28mself\u001b[39m\u001b[38;5;241m.\u001b[39m_stateless_fn(\u001b[38;5;241m*\u001b[39margs, \u001b[38;5;241m*\u001b[39m\u001b[38;5;241m*\u001b[39mkwds)  \u001b[38;5;66;03m# pylint: disable=not-callable\u001b[39;00m\n\u001b[0;32m    943\u001b[0m \u001b[38;5;28;01melif\u001b[39;00m \u001b[38;5;28mself\u001b[39m\u001b[38;5;241m.\u001b[39m_stateful_fn \u001b[38;5;129;01mis\u001b[39;00m \u001b[38;5;129;01mnot\u001b[39;00m \u001b[38;5;28;01mNone\u001b[39;00m:\n\u001b[0;32m    944\u001b[0m   \u001b[38;5;66;03m# Release the lock early so that multiple threads can perform the call\u001b[39;00m\n\u001b[0;32m    945\u001b[0m   \u001b[38;5;66;03m# in parallel.\u001b[39;00m\n\u001b[0;32m    946\u001b[0m   \u001b[38;5;28mself\u001b[39m\u001b[38;5;241m.\u001b[39m_lock\u001b[38;5;241m.\u001b[39mrelease()\n",
      "File \u001b[1;32m~\\anaconda3\\envs\\python3.9.0\\lib\\site-packages\\tensorflow\\python\\eager\\function.py:3130\u001b[0m, in \u001b[0;36mFunction.__call__\u001b[1;34m(self, *args, **kwargs)\u001b[0m\n\u001b[0;32m   3127\u001b[0m \u001b[38;5;28;01mwith\u001b[39;00m \u001b[38;5;28mself\u001b[39m\u001b[38;5;241m.\u001b[39m_lock:\n\u001b[0;32m   3128\u001b[0m   (graph_function,\n\u001b[0;32m   3129\u001b[0m    filtered_flat_args) \u001b[38;5;241m=\u001b[39m \u001b[38;5;28mself\u001b[39m\u001b[38;5;241m.\u001b[39m_maybe_define_function(args, kwargs)\n\u001b[1;32m-> 3130\u001b[0m \u001b[38;5;28;01mreturn\u001b[39;00m \u001b[43mgraph_function\u001b[49m\u001b[38;5;241;43m.\u001b[39;49m\u001b[43m_call_flat\u001b[49m\u001b[43m(\u001b[49m\n\u001b[0;32m   3131\u001b[0m \u001b[43m    \u001b[49m\u001b[43mfiltered_flat_args\u001b[49m\u001b[43m,\u001b[49m\u001b[43m \u001b[49m\u001b[43mcaptured_inputs\u001b[49m\u001b[38;5;241;43m=\u001b[39;49m\u001b[43mgraph_function\u001b[49m\u001b[38;5;241;43m.\u001b[39;49m\u001b[43mcaptured_inputs\u001b[49m\u001b[43m)\u001b[49m\n",
      "File \u001b[1;32m~\\anaconda3\\envs\\python3.9.0\\lib\\site-packages\\tensorflow\\python\\eager\\function.py:1959\u001b[0m, in \u001b[0;36mConcreteFunction._call_flat\u001b[1;34m(self, args, captured_inputs, cancellation_manager)\u001b[0m\n\u001b[0;32m   1955\u001b[0m possible_gradient_type \u001b[38;5;241m=\u001b[39m gradients_util\u001b[38;5;241m.\u001b[39mPossibleTapeGradientTypes(args)\n\u001b[0;32m   1956\u001b[0m \u001b[38;5;28;01mif\u001b[39;00m (possible_gradient_type \u001b[38;5;241m==\u001b[39m gradients_util\u001b[38;5;241m.\u001b[39mPOSSIBLE_GRADIENT_TYPES_NONE\n\u001b[0;32m   1957\u001b[0m     \u001b[38;5;129;01mand\u001b[39;00m executing_eagerly):\n\u001b[0;32m   1958\u001b[0m   \u001b[38;5;66;03m# No tape is watching; skip to running the function.\u001b[39;00m\n\u001b[1;32m-> 1959\u001b[0m   \u001b[38;5;28;01mreturn\u001b[39;00m \u001b[38;5;28mself\u001b[39m\u001b[38;5;241m.\u001b[39m_build_call_outputs(\u001b[38;5;28;43mself\u001b[39;49m\u001b[38;5;241;43m.\u001b[39;49m\u001b[43m_inference_function\u001b[49m\u001b[38;5;241;43m.\u001b[39;49m\u001b[43mcall\u001b[49m\u001b[43m(\u001b[49m\n\u001b[0;32m   1960\u001b[0m \u001b[43m      \u001b[49m\u001b[43mctx\u001b[49m\u001b[43m,\u001b[49m\u001b[43m \u001b[49m\u001b[43margs\u001b[49m\u001b[43m,\u001b[49m\u001b[43m \u001b[49m\u001b[43mcancellation_manager\u001b[49m\u001b[38;5;241;43m=\u001b[39;49m\u001b[43mcancellation_manager\u001b[49m\u001b[43m)\u001b[49m)\n\u001b[0;32m   1961\u001b[0m forward_backward \u001b[38;5;241m=\u001b[39m \u001b[38;5;28mself\u001b[39m\u001b[38;5;241m.\u001b[39m_select_forward_and_backward_functions(\n\u001b[0;32m   1962\u001b[0m     args,\n\u001b[0;32m   1963\u001b[0m     possible_gradient_type,\n\u001b[0;32m   1964\u001b[0m     executing_eagerly)\n\u001b[0;32m   1965\u001b[0m forward_function, args_with_tangents \u001b[38;5;241m=\u001b[39m forward_backward\u001b[38;5;241m.\u001b[39mforward()\n",
      "File \u001b[1;32m~\\anaconda3\\envs\\python3.9.0\\lib\\site-packages\\tensorflow\\python\\eager\\function.py:598\u001b[0m, in \u001b[0;36m_EagerDefinedFunction.call\u001b[1;34m(self, ctx, args, cancellation_manager)\u001b[0m\n\u001b[0;32m    596\u001b[0m \u001b[38;5;28;01mwith\u001b[39;00m _InterpolateFunctionError(\u001b[38;5;28mself\u001b[39m):\n\u001b[0;32m    597\u001b[0m   \u001b[38;5;28;01mif\u001b[39;00m cancellation_manager \u001b[38;5;129;01mis\u001b[39;00m \u001b[38;5;28;01mNone\u001b[39;00m:\n\u001b[1;32m--> 598\u001b[0m     outputs \u001b[38;5;241m=\u001b[39m \u001b[43mexecute\u001b[49m\u001b[38;5;241;43m.\u001b[39;49m\u001b[43mexecute\u001b[49m\u001b[43m(\u001b[49m\n\u001b[0;32m    599\u001b[0m \u001b[43m        \u001b[49m\u001b[38;5;28;43mstr\u001b[39;49m\u001b[43m(\u001b[49m\u001b[38;5;28;43mself\u001b[39;49m\u001b[38;5;241;43m.\u001b[39;49m\u001b[43msignature\u001b[49m\u001b[38;5;241;43m.\u001b[39;49m\u001b[43mname\u001b[49m\u001b[43m)\u001b[49m\u001b[43m,\u001b[49m\n\u001b[0;32m    600\u001b[0m \u001b[43m        \u001b[49m\u001b[43mnum_outputs\u001b[49m\u001b[38;5;241;43m=\u001b[39;49m\u001b[38;5;28;43mself\u001b[39;49m\u001b[38;5;241;43m.\u001b[39;49m\u001b[43m_num_outputs\u001b[49m\u001b[43m,\u001b[49m\n\u001b[0;32m    601\u001b[0m \u001b[43m        \u001b[49m\u001b[43minputs\u001b[49m\u001b[38;5;241;43m=\u001b[39;49m\u001b[43margs\u001b[49m\u001b[43m,\u001b[49m\n\u001b[0;32m    602\u001b[0m \u001b[43m        \u001b[49m\u001b[43mattrs\u001b[49m\u001b[38;5;241;43m=\u001b[39;49m\u001b[43mattrs\u001b[49m\u001b[43m,\u001b[49m\n\u001b[0;32m    603\u001b[0m \u001b[43m        \u001b[49m\u001b[43mctx\u001b[49m\u001b[38;5;241;43m=\u001b[39;49m\u001b[43mctx\u001b[49m\u001b[43m)\u001b[49m\n\u001b[0;32m    604\u001b[0m   \u001b[38;5;28;01melse\u001b[39;00m:\n\u001b[0;32m    605\u001b[0m     outputs \u001b[38;5;241m=\u001b[39m execute\u001b[38;5;241m.\u001b[39mexecute_with_cancellation(\n\u001b[0;32m    606\u001b[0m         \u001b[38;5;28mstr\u001b[39m(\u001b[38;5;28mself\u001b[39m\u001b[38;5;241m.\u001b[39msignature\u001b[38;5;241m.\u001b[39mname),\n\u001b[0;32m    607\u001b[0m         num_outputs\u001b[38;5;241m=\u001b[39m\u001b[38;5;28mself\u001b[39m\u001b[38;5;241m.\u001b[39m_num_outputs,\n\u001b[1;32m   (...)\u001b[0m\n\u001b[0;32m    610\u001b[0m         ctx\u001b[38;5;241m=\u001b[39mctx,\n\u001b[0;32m    611\u001b[0m         cancellation_manager\u001b[38;5;241m=\u001b[39mcancellation_manager)\n",
      "File \u001b[1;32m~\\anaconda3\\envs\\python3.9.0\\lib\\site-packages\\tensorflow\\python\\eager\\execute.py:58\u001b[0m, in \u001b[0;36mquick_execute\u001b[1;34m(op_name, num_outputs, inputs, attrs, ctx, name)\u001b[0m\n\u001b[0;32m     56\u001b[0m \u001b[38;5;28;01mtry\u001b[39;00m:\n\u001b[0;32m     57\u001b[0m   ctx\u001b[38;5;241m.\u001b[39mensure_initialized()\n\u001b[1;32m---> 58\u001b[0m   tensors \u001b[38;5;241m=\u001b[39m \u001b[43mpywrap_tfe\u001b[49m\u001b[38;5;241;43m.\u001b[39;49m\u001b[43mTFE_Py_Execute\u001b[49m\u001b[43m(\u001b[49m\u001b[43mctx\u001b[49m\u001b[38;5;241;43m.\u001b[39;49m\u001b[43m_handle\u001b[49m\u001b[43m,\u001b[49m\u001b[43m \u001b[49m\u001b[43mdevice_name\u001b[49m\u001b[43m,\u001b[49m\u001b[43m \u001b[49m\u001b[43mop_name\u001b[49m\u001b[43m,\u001b[49m\n\u001b[0;32m     59\u001b[0m \u001b[43m                                      \u001b[49m\u001b[43minputs\u001b[49m\u001b[43m,\u001b[49m\u001b[43m \u001b[49m\u001b[43mattrs\u001b[49m\u001b[43m,\u001b[49m\u001b[43m \u001b[49m\u001b[43mnum_outputs\u001b[49m\u001b[43m)\u001b[49m\n\u001b[0;32m     60\u001b[0m \u001b[38;5;28;01mexcept\u001b[39;00m core\u001b[38;5;241m.\u001b[39m_NotOkStatusException \u001b[38;5;28;01mas\u001b[39;00m e:\n\u001b[0;32m     61\u001b[0m   \u001b[38;5;28;01mif\u001b[39;00m name \u001b[38;5;129;01mis\u001b[39;00m \u001b[38;5;129;01mnot\u001b[39;00m \u001b[38;5;28;01mNone\u001b[39;00m:\n",
      "\u001b[1;31mKeyboardInterrupt\u001b[0m: "
     ]
    }
   ],
   "source": [
    "batch_size=32\n",
    "model.compile(loss=\"categorical_crossentropy\", optimizer=\"adam\", metrics=[\"accuracy\"])\n",
    "\n",
    "history = model.fit_generator(\n",
    "    train_generator,\n",
    "    steps_per_epoch = train_generator.samples // batch_size,\n",
    "    validation_data = validation_generator, \n",
    "    validation_steps = validation_generator.samples // batch_size,\n",
    "    epochs = 5)"
   ]
  },
  {
   "cell_type": "code",
   "execution_count": 14,
   "id": "2ff7eebf",
   "metadata": {
    "ExecuteTime": {
     "end_time": "2022-04-15T08:02:07.483037Z",
     "start_time": "2022-04-15T08:02:03.194031Z"
    }
   },
   "outputs": [],
   "source": [
    "Input = keras.layers.Input(shape=train_generator[0][0][0].shape)\n",
    "x = keras.layers.Conv2D(16, kernel_size=7, activation=\"relu\",kernel_initializer=\"he_normal\", padding=\"same\")(Input)\n",
    "x = keras.layers.BatchNormalization()(x)\n",
    "x = keras.layers.MaxPool2D(2)(x)\n",
    "\n",
    "x = keras.layers.Conv2D(32, kernel_size=5, activation=\"relu\",kernel_initializer=\"he_normal\", padding=\"same\")(x)\n",
    "x = keras.layers.BatchNormalization()(x)\n",
    "x = keras.layers.MaxPool2D(2)(x)\n",
    "\n",
    "x = keras.layers.Conv2D(64, kernel_size=3, activation=\"relu\",kernel_initializer=\"he_normal\", padding=\"same\")(x)\n",
    "x = keras.layers.BatchNormalization()(x)\n",
    "x = keras.layers.MaxPool2D(2)(x)\n",
    "\n",
    "x = keras.layers.GlobalAveragePooling2D()(x)\n",
    "Output = keras.layers.Dense(4, activation=\"softmax\")(x)\n",
    "\n",
    "model = keras.models.Model(inputs = Input, outputs = Output)"
   ]
  },
  {
   "cell_type": "code",
   "execution_count": 15,
   "id": "b9c19509",
   "metadata": {
    "ExecuteTime": {
     "end_time": "2022-04-15T09:32:04.673728Z",
     "start_time": "2022-04-15T08:02:07.501917Z"
    }
   },
   "outputs": [
    {
     "name": "stdout",
     "output_type": "stream",
     "text": [
      "Epoch 1/5\n",
      "182/182 [==============================] - 1045s 6s/step - loss: 0.5731 - accuracy: 0.7793 - val_loss: 4.6011 - val_accuracy: 0.1833\n",
      "Epoch 2/5\n",
      "182/182 [==============================] - 1215s 7s/step - loss: 0.2484 - accuracy: 0.9206 - val_loss: 2.4258 - val_accuracy: 0.3715\n",
      "Epoch 3/5\n",
      "182/182 [==============================] - 1051s 6s/step - loss: 0.1493 - accuracy: 0.9586 - val_loss: 2.0963 - val_accuracy: 0.3861\n",
      "Epoch 4/5\n",
      "182/182 [==============================] - 1036s 6s/step - loss: 0.0823 - accuracy: 0.9853 - val_loss: 0.2366 - val_accuracy: 0.9090\n",
      "Epoch 5/5\n",
      "182/182 [==============================] - 1046s 6s/step - loss: 0.0429 - accuracy: 0.9943 - val_loss: 0.0328 - val_accuracy: 0.9951\n"
     ]
    }
   ],
   "source": [
    "batch_size=32\n",
    "model.compile(loss=\"categorical_crossentropy\", optimizer=\"adam\", metrics=[\"accuracy\"])\n",
    "\n",
    "history = model.fit_generator(\n",
    "    train_generator,\n",
    "    steps_per_epoch = train_generator.samples // batch_size,\n",
    "    validation_data = validation_generator, \n",
    "    validation_steps = validation_generator.samples // batch_size,\n",
    "    epochs = 5)"
   ]
  },
  {
   "cell_type": "code",
   "execution_count": 2,
   "id": "b05242a4",
   "metadata": {
    "ExecuteTime": {
     "end_time": "2022-04-16T11:11:58.440524Z",
     "start_time": "2022-04-16T11:11:58.412928Z"
    }
   },
   "outputs": [
    {
     "ename": "NameError",
     "evalue": "name 'train_generator' is not defined",
     "output_type": "error",
     "traceback": [
      "\u001b[1;31m---------------------------------------------------------------------------\u001b[0m",
      "\u001b[1;31mNameError\u001b[0m                                 Traceback (most recent call last)",
      "Input \u001b[1;32mIn [2]\u001b[0m, in \u001b[0;36m<cell line: 1>\u001b[1;34m()\u001b[0m\n\u001b[1;32m----> 1\u001b[0m Input \u001b[38;5;241m=\u001b[39m keras\u001b[38;5;241m.\u001b[39mlayers\u001b[38;5;241m.\u001b[39mInput(shape\u001b[38;5;241m=\u001b[39m\u001b[43mtrain_generator\u001b[49m[\u001b[38;5;241m0\u001b[39m][\u001b[38;5;241m0\u001b[39m][\u001b[38;5;241m0\u001b[39m]\u001b[38;5;241m.\u001b[39mshape)\n\u001b[0;32m      2\u001b[0m x \u001b[38;5;241m=\u001b[39m keras\u001b[38;5;241m.\u001b[39mlayers\u001b[38;5;241m.\u001b[39mConv2D(\u001b[38;5;241m16\u001b[39m, kernel_size\u001b[38;5;241m=\u001b[39m\u001b[38;5;241m7\u001b[39m, activation\u001b[38;5;241m=\u001b[39m\u001b[38;5;124m\"\u001b[39m\u001b[38;5;124mrelu\u001b[39m\u001b[38;5;124m\"\u001b[39m,kernel_initializer\u001b[38;5;241m=\u001b[39m\u001b[38;5;124m\"\u001b[39m\u001b[38;5;124mhe_normal\u001b[39m\u001b[38;5;124m\"\u001b[39m, padding\u001b[38;5;241m=\u001b[39m\u001b[38;5;124m\"\u001b[39m\u001b[38;5;124msame\u001b[39m\u001b[38;5;124m\"\u001b[39m)(Input)\n\u001b[0;32m      3\u001b[0m x \u001b[38;5;241m=\u001b[39m keras\u001b[38;5;241m.\u001b[39mlayers\u001b[38;5;241m.\u001b[39mBatchNormalization()(x)\n",
      "\u001b[1;31mNameError\u001b[0m: name 'train_generator' is not defined"
     ]
    }
   ],
   "source": [
    "Input = keras.layers.Input(shape=train_generator[0][0][0].shape)\n",
    "x = keras.layers.Conv2D(16, kernel_size=7, activation=\"relu\",kernel_initializer=\"he_normal\", padding=\"same\")(Input)\n",
    "x = keras.layers.BatchNormalization()(x)\n",
    "x = keras.layers.MaxPool2D(2)(x)\n",
    "\n",
    "x = keras.layers.Conv2D(32, kernel_size=5, activation=\"relu\",kernel_initializer=\"he_normal\", padding=\"same\")(x)\n",
    "x = keras.layers.BatchNormalization()(x)\n",
    "x = keras.layers.MaxPool2D(2)(x)\n",
    "\n",
    "x = keras.layers.Conv2D(64, kernel_size=3, activation=\"relu\",kernel_initializer=\"he_normal\", padding=\"same\")(x)\n",
    "x = keras.layers.BatchNormalization()(x)\n",
    "x = keras.layers.MaxPool2D(2)(x)\n",
    "\n",
    "x = keras.layers.Flatten()(x)\n",
    "Output = keras.layers.Dense(4, activation=\"softmax\")(x)\n",
    "\n",
    "model = keras.models.Model(inputs = Input, outputs = Output)"
   ]
  },
  {
   "cell_type": "markdown",
   "id": "35cf47ec",
   "metadata": {},
   "source": [
    "# Parameter searching"
   ]
  },
  {
   "cell_type": "code",
   "execution_count": 18,
   "id": "602f1f73",
   "metadata": {
    "ExecuteTime": {
     "end_time": "2022-04-22T05:34:35.646054Z",
     "start_time": "2022-04-22T05:34:35.632091Z"
    }
   },
   "outputs": [],
   "source": [
    "es = keras.callbacks.EarlyStopping(monitor=\"val_accuracy\", patience=3, mode=\"max\")"
   ]
  },
  {
   "cell_type": "code",
   "execution_count": 19,
   "id": "29153f01",
   "metadata": {
    "ExecuteTime": {
     "end_time": "2022-04-22T05:34:36.195681Z",
     "start_time": "2022-04-22T05:34:36.175734Z"
    }
   },
   "outputs": [],
   "source": [
    "def make_model(learning_rate_, batch_size):\n",
    "    Input = keras.layers.Input(shape=train_generator[0][0][0].shape)\n",
    "    x = keras.layers.Conv2D(16, kernel_size=7, activation=\"relu\",kernel_initializer=\"he_normal\", padding=\"same\")(Input)\n",
    "    x = keras.layers.BatchNormalization()(x)\n",
    "    x = keras.layers.MaxPool2D(2)(x)\n",
    "\n",
    "    x = keras.layers.Conv2D(32, kernel_size=5, activation=\"relu\",kernel_initializer=\"he_normal\", padding=\"same\")(x)\n",
    "    x = keras.layers.BatchNormalization()(x)\n",
    "    x = keras.layers.MaxPool2D(2)(x)\n",
    "\n",
    "    x = keras.layers.Conv2D(64, kernel_size=3, activation=\"relu\",kernel_initializer=\"he_normal\", padding=\"same\")(x)\n",
    "    x = keras.layers.BatchNormalization()(x)\n",
    "    x = keras.layers.MaxPool2D(2)(x)\n",
    "\n",
    "    x = keras.layers.Flatten()(x)\n",
    "    Output = keras.layers.Dense(4, activation=\"softmax\")(x)\n",
    "\n",
    "    model = keras.models.Model(inputs = Input, outputs = Output)\n",
    "    model.compile(loss=\"categorical_crossentropy\",\n",
    "    optimizer=keras.optimizers.Adam(learning_rate=learning_rate_), metrics=[\"accuracy\"])\n",
    "    \n",
    "    history = model.fit_generator(\n",
    "    train_generator,\n",
    "    steps_per_epoch = train_generator.samples // batch_size,\n",
    "    validation_data = validation_generator, \n",
    "    validation_steps = validation_generator.samples // batch_size,\n",
    "    callbacks=[es],\n",
    "    epochs = 100)\n",
    "                  \n",
    "\n",
    "    return history"
   ]
  },
  {
   "cell_type": "code",
   "execution_count": 6,
   "id": "22780e2e",
   "metadata": {
    "ExecuteTime": {
     "end_time": "2022-04-17T04:36:52.411904Z",
     "start_time": "2022-04-16T14:53:00.833234Z"
    }
   },
   "outputs": [
    {
     "name": "stderr",
     "output_type": "stream",
     "text": [
      "C:\\Users\\hjhhi\\anaconda3\\envs\\python3.9.0\\lib\\site-packages\\tensorflow\\python\\keras\\engine\\training.py:1963: UserWarning: `Model.fit_generator` is deprecated and will be removed in a future version. Please use `Model.fit`, which supports generators.\n",
      "  warnings.warn('`Model.fit_generator` is deprecated and '\n"
     ]
    },
    {
     "name": "stdout",
     "output_type": "stream",
     "text": [
      "Epoch 1/100\n",
      "182/182 [==============================] - 1054s 6s/step - loss: 1.0883 - accuracy: 0.6912 - val_loss: 25.4475 - val_accuracy: 0.1847\n",
      "Epoch 2/100\n",
      "182/182 [==============================] - 1024s 6s/step - loss: 0.4612 - accuracy: 0.8253 - val_loss: 1.8352 - val_accuracy: 0.5625\n",
      "Epoch 3/100\n",
      "182/182 [==============================] - 1021s 6s/step - loss: 0.3533 - accuracy: 0.8792 - val_loss: 2.0045 - val_accuracy: 0.4799\n",
      "Epoch 4/100\n",
      "182/182 [==============================] - 1016s 6s/step - loss: 0.1815 - accuracy: 0.9315 - val_loss: 4.1441 - val_accuracy: 0.5160\n",
      "Epoch 5/100\n",
      "182/182 [==============================] - 1024s 6s/step - loss: 0.1523 - accuracy: 0.9475 - val_loss: 6.0569 - val_accuracy: 0.4090\n",
      "Processing......\n",
      "Epoch 1/100\n",
      "91/91 [==============================] - 485s 5s/step - loss: 1.6814 - accuracy: 0.5834 - val_loss: 17.9307 - val_accuracy: 0.1960\n",
      "Epoch 2/100\n",
      "91/91 [==============================] - 480s 5s/step - loss: 0.7631 - accuracy: 0.7457 - val_loss: 7.0688 - val_accuracy: 0.2330\n",
      "Epoch 3/100\n",
      "91/91 [==============================] - 486s 5s/step - loss: 0.5646 - accuracy: 0.7950 - val_loss: 2.2205 - val_accuracy: 0.5298\n",
      "Epoch 4/100\n",
      "91/91 [==============================] - 477s 5s/step - loss: 0.4834 - accuracy: 0.8244 - val_loss: 14.0642 - val_accuracy: 0.1591\n",
      "Epoch 5/100\n",
      "91/91 [==============================] - 484s 5s/step - loss: 0.3768 - accuracy: 0.8551 - val_loss: 9.9039 - val_accuracy: 0.1818\n",
      "Epoch 6/100\n",
      "91/91 [==============================] - 484s 5s/step - loss: 0.2533 - accuracy: 0.9004 - val_loss: 0.4613 - val_accuracy: 0.8224\n",
      "Epoch 7/100\n",
      "91/91 [==============================] - 482s 5s/step - loss: 0.1988 - accuracy: 0.9220 - val_loss: 1.1255 - val_accuracy: 0.6562\n",
      "Epoch 8/100\n",
      "91/91 [==============================] - 483s 5s/step - loss: 0.1543 - accuracy: 0.9440 - val_loss: 2.4495 - val_accuracy: 0.4872\n",
      "Epoch 9/100\n",
      "91/91 [==============================] - 481s 5s/step - loss: 0.1989 - accuracy: 0.9358 - val_loss: 5.0986 - val_accuracy: 0.5682\n",
      "Processing......\n",
      "Epoch 1/100\n",
      "45/45 [==============================] - 244s 5s/step - loss: 1.9954 - accuracy: 0.5667 - val_loss: 8.3528 - val_accuracy: 0.4545\n",
      "Epoch 2/100\n",
      "45/45 [==============================] - 239s 5s/step - loss: 1.0877 - accuracy: 0.6458 - val_loss: 14.5472 - val_accuracy: 0.1705\n",
      "Epoch 3/100\n",
      "45/45 [==============================] - 239s 5s/step - loss: 0.8938 - accuracy: 0.6993 - val_loss: 2.4995 - val_accuracy: 0.5114\n",
      "Epoch 4/100\n",
      "45/45 [==============================] - 236s 5s/step - loss: 0.6697 - accuracy: 0.7486 - val_loss: 16.2696 - val_accuracy: 0.1705\n",
      "Epoch 5/100\n",
      "45/45 [==============================] - 233s 5s/step - loss: 0.5676 - accuracy: 0.7957 - val_loss: 10.3541 - val_accuracy: 0.2102\n",
      "Epoch 6/100\n",
      "45/45 [==============================] - 236s 5s/step - loss: 0.8280 - accuracy: 0.7369 - val_loss: 18.6343 - val_accuracy: 0.2159\n",
      "Processing......\n",
      "Epoch 1/100\n",
      "182/182 [==============================] - 1005s 6s/step - loss: 0.6427 - accuracy: 0.7463 - val_loss: 3.0188 - val_accuracy: 0.2000\n",
      "Epoch 2/100\n",
      "182/182 [==============================] - 1030s 6s/step - loss: 0.2109 - accuracy: 0.9318 - val_loss: 0.8494 - val_accuracy: 0.6479\n",
      "Epoch 3/100\n",
      "182/182 [==============================] - 1035s 6s/step - loss: 0.0436 - accuracy: 0.9946 - val_loss: 0.2953 - val_accuracy: 0.8792\n",
      "Epoch 4/100\n",
      "182/182 [==============================] - 1025s 6s/step - loss: 0.0124 - accuracy: 0.9997 - val_loss: 0.1543 - val_accuracy: 0.9403\n",
      "Epoch 5/100\n",
      "182/182 [==============================] - 1029s 6s/step - loss: 0.0097 - accuracy: 0.9993 - val_loss: 0.0151 - val_accuracy: 1.0000\n",
      "Epoch 6/100\n",
      "182/182 [==============================] - 1027s 6s/step - loss: 0.0027 - accuracy: 1.0000 - val_loss: 0.0019 - val_accuracy: 1.0000\n",
      "Epoch 7/100\n",
      "182/182 [==============================] - 1029s 6s/step - loss: 0.0017 - accuracy: 1.0000 - val_loss: 0.0013 - val_accuracy: 1.0000\n",
      "Epoch 8/100\n",
      "182/182 [==============================] - 1025s 6s/step - loss: 0.0032 - accuracy: 1.0000 - val_loss: 0.0040 - val_accuracy: 1.0000\n",
      "Processing......\n",
      "Epoch 1/100\n",
      "91/91 [==============================] - 484s 5s/step - loss: 0.8869 - accuracy: 0.6613 - val_loss: 1.3806 - val_accuracy: 0.4062\n",
      "Epoch 2/100\n",
      "91/91 [==============================] - 480s 5s/step - loss: 0.3904 - accuracy: 0.8505 - val_loss: 3.7911 - val_accuracy: 0.2031\n",
      "Epoch 3/100\n",
      "91/91 [==============================] - 487s 5s/step - loss: 0.2297 - accuracy: 0.9241 - val_loss: 3.4476 - val_accuracy: 0.2287\n",
      "Epoch 4/100\n",
      "91/91 [==============================] - 485s 5s/step - loss: 0.1277 - accuracy: 0.9646 - val_loss: 1.9141 - val_accuracy: 0.3693\n",
      "Processing......\n",
      "Epoch 1/100\n",
      "45/45 [==============================] - 239s 5s/step - loss: 1.1377 - accuracy: 0.6177 - val_loss: 1.7254 - val_accuracy: 0.1989\n",
      "Epoch 2/100\n",
      "45/45 [==============================] - 234s 5s/step - loss: 0.5671 - accuracy: 0.7882 - val_loss: 1.2503 - val_accuracy: 0.4233\n",
      "Epoch 3/100\n",
      "45/45 [==============================] - 235s 5s/step - loss: 0.3743 - accuracy: 0.8660 - val_loss: 2.0930 - val_accuracy: 0.1932\n",
      "Epoch 4/100\n",
      "45/45 [==============================] - 236s 5s/step - loss: 0.3144 - accuracy: 0.8785 - val_loss: 2.7729 - val_accuracy: 0.1818\n",
      "Epoch 5/100\n",
      "45/45 [==============================] - 234s 5s/step - loss: 0.2686 - accuracy: 0.9000 - val_loss: 2.8704 - val_accuracy: 0.2642\n",
      "Processing......\n",
      "Epoch 1/100\n",
      "182/182 [==============================] - 1010s 6s/step - loss: 1.0582 - accuracy: 0.5847 - val_loss: 2.2739 - val_accuracy: 0.1875\n",
      "Epoch 2/100\n",
      "182/182 [==============================] - 1022s 6s/step - loss: 0.6106 - accuracy: 0.7549 - val_loss: 1.4941 - val_accuracy: 0.3618\n",
      "Epoch 3/100\n",
      "182/182 [==============================] - 1028s 6s/step - loss: 0.4481 - accuracy: 0.8329 - val_loss: 0.5869 - val_accuracy: 0.7736\n",
      "Epoch 4/100\n",
      "182/182 [==============================] - 1029s 6s/step - loss: 0.3454 - accuracy: 0.8857 - val_loss: 0.3197 - val_accuracy: 0.9090\n",
      "Epoch 5/100\n",
      "182/182 [==============================] - 1027s 6s/step - loss: 0.2635 - accuracy: 0.9296 - val_loss: 0.2442 - val_accuracy: 0.9438\n",
      "Epoch 6/100\n",
      "182/182 [==============================] - 1050s 6s/step - loss: 0.2032 - accuracy: 0.9584 - val_loss: 0.1685 - val_accuracy: 0.9736\n",
      "Epoch 7/100\n",
      "182/182 [==============================] - 1022s 6s/step - loss: 0.1562 - accuracy: 0.9784 - val_loss: 0.1280 - val_accuracy: 0.9868\n",
      "Epoch 8/100\n",
      "182/182 [==============================] - 1022s 6s/step - loss: 0.1162 - accuracy: 0.9898 - val_loss: 0.1013 - val_accuracy: 0.9931\n",
      "Epoch 9/100\n",
      "182/182 [==============================] - 1025s 6s/step - loss: 0.0878 - accuracy: 0.9960 - val_loss: 0.0774 - val_accuracy: 0.9979\n",
      "Epoch 10/100\n",
      "182/182 [==============================] - 1029s 6s/step - loss: 0.0683 - accuracy: 0.9981 - val_loss: 0.0568 - val_accuracy: 0.9993\n",
      "Epoch 11/100\n",
      "182/182 [==============================] - 1018s 6s/step - loss: 0.0530 - accuracy: 0.9991 - val_loss: 0.0452 - val_accuracy: 0.9993\n",
      "Epoch 12/100\n",
      "182/182 [==============================] - 1025s 6s/step - loss: 0.0406 - accuracy: 0.9998 - val_loss: 0.0341 - val_accuracy: 1.0000\n",
      "Epoch 13/100\n",
      "182/182 [==============================] - 1032s 6s/step - loss: 0.0326 - accuracy: 0.9998 - val_loss: 0.0267 - val_accuracy: 1.0000\n",
      "Epoch 14/100\n",
      "182/182 [==============================] - 1030s 6s/step - loss: 0.0267 - accuracy: 0.9998 - val_loss: 0.0221 - val_accuracy: 1.0000\n",
      "Epoch 15/100\n",
      "182/182 [==============================] - 1022s 6s/step - loss: 0.0204 - accuracy: 1.0000 - val_loss: 0.0168 - val_accuracy: 1.0000\n",
      "Processing......\n",
      "Epoch 1/100\n",
      "91/91 [==============================] - 489s 5s/step - loss: 1.3395 - accuracy: 0.4567 - val_loss: 1.4716 - val_accuracy: 0.2912\n",
      "Epoch 2/100\n",
      "91/91 [==============================] - 488s 5s/step - loss: 0.8627 - accuracy: 0.6611 - val_loss: 1.8133 - val_accuracy: 0.1804\n",
      "Epoch 3/100\n",
      "91/91 [==============================] - 480s 5s/step - loss: 0.6803 - accuracy: 0.7217 - val_loss: 1.7176 - val_accuracy: 0.2727\n",
      "Epoch 4/100\n",
      "91/91 [==============================] - 484s 5s/step - loss: 0.5902 - accuracy: 0.7675 - val_loss: 1.2367 - val_accuracy: 0.4489\n",
      "Epoch 5/100\n",
      "91/91 [==============================] - 484s 5s/step - loss: 0.4909 - accuracy: 0.8180 - val_loss: 0.8319 - val_accuracy: 0.6321\n",
      "Epoch 6/100\n",
      "91/91 [==============================] - 484s 5s/step - loss: 0.4382 - accuracy: 0.8530 - val_loss: 0.5643 - val_accuracy: 0.7727\n",
      "Epoch 7/100\n",
      "91/91 [==============================] - 480s 5s/step - loss: 0.3777 - accuracy: 0.8808 - val_loss: 0.4075 - val_accuracy: 0.8807\n",
      "Epoch 8/100\n",
      "91/91 [==============================] - 487s 5s/step - loss: 0.3374 - accuracy: 0.8949 - val_loss: 0.3355 - val_accuracy: 0.9034\n",
      "Epoch 9/100\n",
      "91/91 [==============================] - 492s 5s/step - loss: 0.2956 - accuracy: 0.9195 - val_loss: 0.2715 - val_accuracy: 0.9304\n",
      "Epoch 10/100\n",
      "91/91 [==============================] - 488s 5s/step - loss: 0.2466 - accuracy: 0.9447 - val_loss: 0.2420 - val_accuracy: 0.9503\n",
      "Epoch 11/100\n",
      "91/91 [==============================] - 488s 5s/step - loss: 0.2196 - accuracy: 0.9512 - val_loss: 0.2165 - val_accuracy: 0.9631\n",
      "Epoch 12/100\n",
      "91/91 [==============================] - 487s 5s/step - loss: 0.1954 - accuracy: 0.9629 - val_loss: 0.1812 - val_accuracy: 0.9730\n",
      "Epoch 13/100\n",
      "91/91 [==============================] - 484s 5s/step - loss: 0.1696 - accuracy: 0.9726 - val_loss: 0.1615 - val_accuracy: 0.9801\n",
      "Epoch 14/100\n",
      "91/91 [==============================] - 539s 6s/step - loss: 0.1529 - accuracy: 0.9778 - val_loss: 0.1267 - val_accuracy: 0.9886\n",
      "Epoch 15/100\n",
      "91/91 [==============================] - 491s 5s/step - loss: 0.1265 - accuracy: 0.9833 - val_loss: 0.1175 - val_accuracy: 0.9901\n",
      "Epoch 16/100\n",
      "91/91 [==============================] - 495s 5s/step - loss: 0.1125 - accuracy: 0.9913 - val_loss: 0.1121 - val_accuracy: 0.9957\n",
      "Epoch 17/100\n",
      "91/91 [==============================] - 523s 6s/step - loss: 0.0983 - accuracy: 0.9945 - val_loss: 0.0972 - val_accuracy: 0.9957\n",
      "Epoch 18/100\n",
      "91/91 [==============================] - 483s 5s/step - loss: 0.0856 - accuracy: 0.9958 - val_loss: 0.0839 - val_accuracy: 1.0000\n",
      "Epoch 19/100\n",
      "91/91 [==============================] - 486s 5s/step - loss: 0.0786 - accuracy: 0.9973 - val_loss: 0.0699 - val_accuracy: 1.0000\n",
      "Epoch 20/100\n",
      "91/91 [==============================] - 492s 5s/step - loss: 0.0679 - accuracy: 0.9979 - val_loss: 0.0690 - val_accuracy: 0.9986\n",
      "Epoch 21/100\n",
      "91/91 [==============================] - 487s 5s/step - loss: 0.0589 - accuracy: 0.9993 - val_loss: 0.0499 - val_accuracy: 1.0000\n",
      "Processing......\n",
      "Epoch 1/100\n",
      "45/45 [==============================] - 244s 5s/step - loss: 1.5178 - accuracy: 0.4264 - val_loss: 1.7788 - val_accuracy: 0.2784\n",
      "Epoch 2/100\n",
      "45/45 [==============================] - 234s 5s/step - loss: 1.0744 - accuracy: 0.5638 - val_loss: 1.5210 - val_accuracy: 0.2869\n",
      "Epoch 3/100\n",
      "45/45 [==============================] - 239s 5s/step - loss: 0.8521 - accuracy: 0.6625 - val_loss: 1.5094 - val_accuracy: 0.3239\n",
      "Epoch 4/100\n",
      "45/45 [==============================] - 238s 5s/step - loss: 0.7727 - accuracy: 0.6958 - val_loss: 1.6840 - val_accuracy: 0.2330\n",
      "Epoch 5/100\n",
      "45/45 [==============================] - 239s 5s/step - loss: 0.6678 - accuracy: 0.7465 - val_loss: 1.8195 - val_accuracy: 0.2386\n",
      "Epoch 6/100\n",
      "45/45 [==============================] - 236s 5s/step - loss: 0.6260 - accuracy: 0.7440 - val_loss: 1.7295 - val_accuracy: 0.2869\n",
      "Processing......\n"
     ]
    }
   ],
   "source": [
    "for i in [0.01, 0.001, 0.0001]:\n",
    "    for j in [32, 64, 128]:\n",
    "        joblib.dump(make_model(i, j).history, \"history_lr\"+str(i)+\"batch\"+str(j)+\".pkl\")\n",
    "        print(\"Processing......\")"
   ]
  },
  {
   "cell_type": "code",
   "execution_count": 196,
   "id": "199c415f",
   "metadata": {
    "ExecuteTime": {
     "end_time": "2022-04-22T11:26:46.587305Z",
     "start_time": "2022-04-22T11:26:46.166565Z"
    }
   },
   "outputs": [
    {
     "name": "stdout",
     "output_type": "stream",
     "text": [
      "57/57 [==============================] - 0s 6ms/step - loss: 1.1097 - accuracy: 0.6962\n"
     ]
    },
    {
     "data": {
      "text/plain": [
       "[1.1097335815429688, 0.6961538195610046]"
      ]
     },
     "execution_count": 196,
     "metadata": {},
     "output_type": "execute_result"
    }
   ],
   "source": [
    "model.evaluate(temp, y_valid)"
   ]
  },
  {
   "cell_type": "code",
   "execution_count": 194,
   "id": "f14fe21f",
   "metadata": {
    "ExecuteTime": {
     "end_time": "2022-04-22T11:26:40.638316Z",
     "start_time": "2022-04-22T11:26:40.626318Z"
    }
   },
   "outputs": [],
   "source": [
    "temp = np.array(temp)"
   ]
  },
  {
   "cell_type": "code",
   "execution_count": 195,
   "id": "da98fb08",
   "metadata": {
    "ExecuteTime": {
     "end_time": "2022-04-22T11:26:43.255039Z",
     "start_time": "2022-04-22T11:26:43.246036Z"
    }
   },
   "outputs": [
    {
     "data": {
      "text/plain": [
       "(1820, 32, 32, 3)"
      ]
     },
     "execution_count": 195,
     "metadata": {},
     "output_type": "execute_result"
    }
   ],
   "source": [
    "temp.shape"
   ]
  },
  {
   "cell_type": "code",
   "execution_count": 197,
   "id": "5905465a",
   "metadata": {
    "ExecuteTime": {
     "end_time": "2022-04-22T11:27:06.734412Z",
     "start_time": "2022-04-22T11:27:06.725438Z"
    }
   },
   "outputs": [
    {
     "name": "stdout",
     "output_type": "stream",
     "text": [
      "Model: \"model_19\"\n",
      "_________________________________________________________________\n",
      "Layer (type)                 Output Shape              Param #   \n",
      "=================================================================\n",
      "input_21 (InputLayer)        [(None, 32, 32, 3)]       0         \n",
      "_________________________________________________________________\n",
      "conv2d_57 (Conv2D)           (None, 32, 32, 16)        2368      \n",
      "_________________________________________________________________\n",
      "batch_normalization_56 (Batc (None, 32, 32, 16)        64        \n",
      "_________________________________________________________________\n",
      "max_pooling2d_55 (MaxPooling (None, 16, 16, 16)        0         \n",
      "_________________________________________________________________\n",
      "conv2d_58 (Conv2D)           (None, 16, 16, 32)        12832     \n",
      "_________________________________________________________________\n",
      "batch_normalization_57 (Batc (None, 16, 16, 32)        128       \n",
      "_________________________________________________________________\n",
      "max_pooling2d_56 (MaxPooling (None, 8, 8, 32)          0         \n",
      "_________________________________________________________________\n",
      "conv2d_59 (Conv2D)           (None, 8, 8, 64)          18496     \n",
      "_________________________________________________________________\n",
      "batch_normalization_58 (Batc (None, 8, 8, 64)          256       \n",
      "_________________________________________________________________\n",
      "max_pooling2d_57 (MaxPooling (None, 4, 4, 64)          0         \n",
      "_________________________________________________________________\n",
      "flatten_19 (Flatten)         (None, 1024)              0         \n",
      "_________________________________________________________________\n",
      "dense_19 (Dense)             (None, 4)                 4100      \n",
      "=================================================================\n",
      "Total params: 38,244\n",
      "Trainable params: 38,020\n",
      "Non-trainable params: 224\n",
      "_________________________________________________________________\n"
     ]
    }
   ],
   "source": [
    "model.summary()"
   ]
  },
  {
   "cell_type": "code",
   "execution_count": 234,
   "id": "39df8314",
   "metadata": {
    "ExecuteTime": {
     "end_time": "2022-04-22T13:37:08.835624Z",
     "start_time": "2022-04-22T13:36:51.500621Z"
    }
   },
   "outputs": [
    {
     "name": "stdout",
     "output_type": "stream",
     "text": [
      "Epoch 1/100\n",
      "182/182 [==============================] - 3s 11ms/step - loss: 0.7684 - accuracy: 0.6844 - val_loss: 2.2039 - val_accuracy: 0.2054\n",
      "Epoch 2/100\n",
      "182/182 [==============================] - 2s 9ms/step - loss: 0.2525 - accuracy: 0.9246 - val_loss: 1.3766 - val_accuracy: 0.4828\n",
      "Epoch 3/100\n",
      "182/182 [==============================] - 2s 9ms/step - loss: 0.0909 - accuracy: 0.9868 - val_loss: 0.1951 - val_accuracy: 0.9451\n",
      "Epoch 4/100\n",
      "182/182 [==============================] - 2s 9ms/step - loss: 0.0324 - accuracy: 0.9985 - val_loss: 0.0552 - val_accuracy: 0.9945\n",
      "Epoch 5/100\n",
      "182/182 [==============================] - 2s 9ms/step - loss: 0.0145 - accuracy: 0.9998 - val_loss: 0.0325 - val_accuracy: 0.9945\n",
      "Epoch 6/100\n",
      "182/182 [==============================] - 2s 9ms/step - loss: 0.0083 - accuracy: 1.0000 - val_loss: 0.0276 - val_accuracy: 0.9945\n",
      "Epoch 7/100\n",
      "182/182 [==============================] - 2s 9ms/step - loss: 0.0049 - accuracy: 1.0000 - val_loss: 0.0279 - val_accuracy: 0.9973\n",
      "Epoch 8/100\n",
      "182/182 [==============================] - 2s 9ms/step - loss: 0.0037 - accuracy: 1.0000 - val_loss: 0.0271 - val_accuracy: 0.9945\n",
      "Epoch 9/100\n",
      "182/182 [==============================] - 2s 9ms/step - loss: 0.0025 - accuracy: 1.0000 - val_loss: 0.0271 - val_accuracy: 0.9945\n",
      "Epoch 10/100\n",
      "182/182 [==============================] - 2s 9ms/step - loss: 0.0020 - accuracy: 1.0000 - val_loss: 0.0275 - val_accuracy: 0.9973\n"
     ]
    }
   ],
   "source": [
    "Input = keras.layers.Input(shape=X[0].shape)\n",
    "x = keras.layers.Conv2D(16, kernel_size=7, activation=\"relu\",kernel_initializer=\"he_normal\", padding=\"same\")(Input)\n",
    "x = keras.layers.BatchNormalization()(x)\n",
    "x = keras.layers.MaxPool2D(2)(x)\n",
    "\n",
    "shortcut = x\n",
    "x = keras.layers.Conv2D(32, kernel_size=5, activation=\"relu\",kernel_initializer=\"he_normal\", padding=\"same\")(x)\n",
    "x = keras.layers.BatchNormalization()(x)\n",
    "x = keras.layers.Conv2D(32, kernel_size=5, activation=\"relu\",kernel_initializer=\"he_normal\", padding=\"same\")(x)\n",
    "x = keras.layers.BatchNormalization()(x)\n",
    "x = keras.layers.Conv2D(32, kernel_size=5, activation=\"relu\",kernel_initializer=\"he_normal\", padding=\"same\")(x)\n",
    "x = keras.layers.BatchNormalization()(x)\n",
    "shortcut = keras.layers.Conv2D(32, kernel_size=5, activation=\"relu\",kernel_initializer=\"he_normal\", padding=\"same\")(shortcut)\n",
    "shortcut = keras.layers.BatchNormalization()(shortcut)\n",
    "x = keras.layers.Add()([x, shortcut])\n",
    "\n",
    "x = keras.layers.MaxPool2D(2)(x)\n",
    "\n",
    "# x = keras.layers.Activation(\"relu\")(x)\n",
    "# x = keras.layers.Conv2D(64, kernel_size=3, activation=\"relu\",kernel_initializer=\"he_normal\", padding=\"same\")(x)\n",
    "# x = keras.layers.BatchNormalization()(x)\n",
    "# x = keras.layers.MaxPool2D(2)(x)\n",
    "\n",
    "x = keras.layers.Flatten()(x)\n",
    "x = keras.layers.Dense(256, activation=\"relu\",kernel_initializer=\"he_normal\")(x)\n",
    "x = keras.layers.Dense(64, activation=\"relu\",kernel_initializer=\"he_normal\")(x)\n",
    "x = keras.layers.Dense(16, activation=\"relu\",kernel_initializer=\"he_normal\")(x)\n",
    "Output = keras.layers.Dense(4, activation=\"softmax\")(x)\n",
    "\n",
    "model = keras.models.Model(inputs = Input, outputs = Output)\n",
    "model.compile(loss=\"categorical_crossentropy\",\n",
    "optimizer=keras.optimizers.Adam(learning_rate=0.0001), metrics=[\"accuracy\"])\n",
    "\n",
    "history = model.fit(X_train,y_train, validation_data=(X_valid, y_valid),callbacks=[es],batch_size=32,\n",
    "epochs = 100)\n"
   ]
  },
  {
   "cell_type": "markdown",
   "id": "7c0227fe",
   "metadata": {},
   "source": [
    "## 완전체 모델"
   ]
  },
  {
   "cell_type": "code",
   "execution_count": 149,
   "id": "a0736cc2",
   "metadata": {
    "ExecuteTime": {
     "end_time": "2022-04-22T10:52:57.369641Z",
     "start_time": "2022-04-22T10:51:43.022562Z"
    }
   },
   "outputs": [
    {
     "name": "stdout",
     "output_type": "stream",
     "text": [
      "Epoch 1/100\n",
      " 13/182 [=>............................] - ETA: 13:05 - loss: 1.8731 - accuracy: 0.3101"
     ]
    },
    {
     "ename": "KeyboardInterrupt",
     "evalue": "",
     "output_type": "error",
     "traceback": [
      "\u001b[1;31m---------------------------------------------------------------------------\u001b[0m",
      "\u001b[1;31mKeyboardInterrupt\u001b[0m                         Traceback (most recent call last)",
      "Input \u001b[1;32mIn [149]\u001b[0m, in \u001b[0;36m<cell line: 24>\u001b[1;34m()\u001b[0m\n\u001b[0;32m     20\u001b[0m model \u001b[38;5;241m=\u001b[39m keras\u001b[38;5;241m.\u001b[39mmodels\u001b[38;5;241m.\u001b[39mModel(inputs \u001b[38;5;241m=\u001b[39m Input, outputs \u001b[38;5;241m=\u001b[39m Output)\n\u001b[0;32m     21\u001b[0m model\u001b[38;5;241m.\u001b[39mcompile(loss\u001b[38;5;241m=\u001b[39m\u001b[38;5;124m\"\u001b[39m\u001b[38;5;124mcategorical_crossentropy\u001b[39m\u001b[38;5;124m\"\u001b[39m,\n\u001b[0;32m     22\u001b[0m optimizer\u001b[38;5;241m=\u001b[39mkeras\u001b[38;5;241m.\u001b[39moptimizers\u001b[38;5;241m.\u001b[39mAdam(learning_rate\u001b[38;5;241m=\u001b[39mlearning_rate_), metrics\u001b[38;5;241m=\u001b[39m[\u001b[38;5;124m\"\u001b[39m\u001b[38;5;124maccuracy\u001b[39m\u001b[38;5;124m\"\u001b[39m])\n\u001b[1;32m---> 24\u001b[0m history \u001b[38;5;241m=\u001b[39m \u001b[43mmodel\u001b[49m\u001b[38;5;241;43m.\u001b[39;49m\u001b[43mfit\u001b[49m\u001b[43m(\u001b[49m\n\u001b[0;32m     25\u001b[0m \u001b[43mtrain_generator\u001b[49m\u001b[43m,\u001b[49m\n\u001b[0;32m     26\u001b[0m \u001b[43msteps_per_epoch\u001b[49m\u001b[43m \u001b[49m\u001b[38;5;241;43m=\u001b[39;49m\u001b[43m \u001b[49m\u001b[43mtrain_generator\u001b[49m\u001b[38;5;241;43m.\u001b[39;49m\u001b[43msamples\u001b[49m\u001b[43m \u001b[49m\u001b[38;5;241;43m/\u001b[39;49m\u001b[38;5;241;43m/\u001b[39;49m\u001b[43m \u001b[49m\u001b[43mbatch_size\u001b[49m\u001b[43m,\u001b[49m\n\u001b[0;32m     27\u001b[0m \u001b[43mvalidation_data\u001b[49m\u001b[43m \u001b[49m\u001b[38;5;241;43m=\u001b[39;49m\u001b[43m \u001b[49m\u001b[43mvalidation_generator\u001b[49m\u001b[43m,\u001b[49m\u001b[43m \u001b[49m\n\u001b[0;32m     28\u001b[0m \u001b[43mvalidation_steps\u001b[49m\u001b[43m \u001b[49m\u001b[38;5;241;43m=\u001b[39;49m\u001b[43m \u001b[49m\u001b[43mvalidation_generator\u001b[49m\u001b[38;5;241;43m.\u001b[39;49m\u001b[43msamples\u001b[49m\u001b[43m \u001b[49m\u001b[38;5;241;43m/\u001b[39;49m\u001b[38;5;241;43m/\u001b[39;49m\u001b[43m \u001b[49m\u001b[43mbatch_size\u001b[49m\u001b[43m,\u001b[49m\n\u001b[0;32m     29\u001b[0m \u001b[43mcallbacks\u001b[49m\u001b[38;5;241;43m=\u001b[39;49m\u001b[43m[\u001b[49m\u001b[43mes\u001b[49m\u001b[43m]\u001b[49m\u001b[43m,\u001b[49m\n\u001b[0;32m     30\u001b[0m \u001b[43mepochs\u001b[49m\u001b[43m \u001b[49m\u001b[38;5;241;43m=\u001b[39;49m\u001b[43m \u001b[49m\u001b[38;5;241;43m100\u001b[39;49m\u001b[43m)\u001b[49m\n",
      "File \u001b[1;32m~\\anaconda3\\envs\\python3.9.0\\lib\\site-packages\\tensorflow\\python\\keras\\engine\\training.py:1189\u001b[0m, in \u001b[0;36mModel.fit\u001b[1;34m(self, x, y, batch_size, epochs, verbose, callbacks, validation_split, validation_data, shuffle, class_weight, sample_weight, initial_epoch, steps_per_epoch, validation_steps, validation_batch_size, validation_freq, max_queue_size, workers, use_multiprocessing)\u001b[0m\n\u001b[0;32m   1182\u001b[0m \u001b[38;5;28;01mwith\u001b[39;00m trace\u001b[38;5;241m.\u001b[39mTrace(\n\u001b[0;32m   1183\u001b[0m     \u001b[38;5;124m'\u001b[39m\u001b[38;5;124mtrain\u001b[39m\u001b[38;5;124m'\u001b[39m,\n\u001b[0;32m   1184\u001b[0m     epoch_num\u001b[38;5;241m=\u001b[39mepoch,\n\u001b[0;32m   1185\u001b[0m     step_num\u001b[38;5;241m=\u001b[39mstep,\n\u001b[0;32m   1186\u001b[0m     batch_size\u001b[38;5;241m=\u001b[39mbatch_size,\n\u001b[0;32m   1187\u001b[0m     _r\u001b[38;5;241m=\u001b[39m\u001b[38;5;241m1\u001b[39m):\n\u001b[0;32m   1188\u001b[0m   callbacks\u001b[38;5;241m.\u001b[39mon_train_batch_begin(step)\n\u001b[1;32m-> 1189\u001b[0m   tmp_logs \u001b[38;5;241m=\u001b[39m \u001b[38;5;28;43mself\u001b[39;49m\u001b[38;5;241;43m.\u001b[39;49m\u001b[43mtrain_function\u001b[49m\u001b[43m(\u001b[49m\u001b[43miterator\u001b[49m\u001b[43m)\u001b[49m\n\u001b[0;32m   1190\u001b[0m   \u001b[38;5;28;01mif\u001b[39;00m data_handler\u001b[38;5;241m.\u001b[39mshould_sync:\n\u001b[0;32m   1191\u001b[0m     context\u001b[38;5;241m.\u001b[39masync_wait()\n",
      "File \u001b[1;32m~\\anaconda3\\envs\\python3.9.0\\lib\\site-packages\\tensorflow\\python\\util\\traceback_utils.py:150\u001b[0m, in \u001b[0;36mfilter_traceback.<locals>.error_handler\u001b[1;34m(*args, **kwargs)\u001b[0m\n\u001b[0;32m    148\u001b[0m filtered_tb \u001b[38;5;241m=\u001b[39m \u001b[38;5;28;01mNone\u001b[39;00m\n\u001b[0;32m    149\u001b[0m \u001b[38;5;28;01mtry\u001b[39;00m:\n\u001b[1;32m--> 150\u001b[0m   \u001b[38;5;28;01mreturn\u001b[39;00m fn(\u001b[38;5;241m*\u001b[39margs, \u001b[38;5;241m*\u001b[39m\u001b[38;5;241m*\u001b[39mkwargs)\n\u001b[0;32m    151\u001b[0m \u001b[38;5;28;01mexcept\u001b[39;00m \u001b[38;5;167;01mException\u001b[39;00m \u001b[38;5;28;01mas\u001b[39;00m e:\n\u001b[0;32m    152\u001b[0m   filtered_tb \u001b[38;5;241m=\u001b[39m _process_traceback_frames(e\u001b[38;5;241m.\u001b[39m__traceback__)\n",
      "File \u001b[1;32m~\\anaconda3\\envs\\python3.9.0\\lib\\site-packages\\tensorflow\\python\\eager\\def_function.py:910\u001b[0m, in \u001b[0;36mFunction.__call__\u001b[1;34m(self, *args, **kwds)\u001b[0m\n\u001b[0;32m    907\u001b[0m compiler \u001b[38;5;241m=\u001b[39m \u001b[38;5;124m\"\u001b[39m\u001b[38;5;124mxla\u001b[39m\u001b[38;5;124m\"\u001b[39m \u001b[38;5;28;01mif\u001b[39;00m \u001b[38;5;28mself\u001b[39m\u001b[38;5;241m.\u001b[39m_jit_compile \u001b[38;5;28;01melse\u001b[39;00m \u001b[38;5;124m\"\u001b[39m\u001b[38;5;124mnonXla\u001b[39m\u001b[38;5;124m\"\u001b[39m\n\u001b[0;32m    909\u001b[0m \u001b[38;5;28;01mwith\u001b[39;00m OptionalXlaContext(\u001b[38;5;28mself\u001b[39m\u001b[38;5;241m.\u001b[39m_jit_compile):\n\u001b[1;32m--> 910\u001b[0m   result \u001b[38;5;241m=\u001b[39m \u001b[38;5;28mself\u001b[39m\u001b[38;5;241m.\u001b[39m_call(\u001b[38;5;241m*\u001b[39margs, \u001b[38;5;241m*\u001b[39m\u001b[38;5;241m*\u001b[39mkwds)\n\u001b[0;32m    912\u001b[0m new_tracing_count \u001b[38;5;241m=\u001b[39m \u001b[38;5;28mself\u001b[39m\u001b[38;5;241m.\u001b[39mexperimental_get_tracing_count()\n\u001b[0;32m    913\u001b[0m without_tracing \u001b[38;5;241m=\u001b[39m (tracing_count \u001b[38;5;241m==\u001b[39m new_tracing_count)\n",
      "File \u001b[1;32m~\\anaconda3\\envs\\python3.9.0\\lib\\site-packages\\tensorflow\\python\\eager\\def_function.py:942\u001b[0m, in \u001b[0;36mFunction._call\u001b[1;34m(self, *args, **kwds)\u001b[0m\n\u001b[0;32m    939\u001b[0m   \u001b[38;5;28mself\u001b[39m\u001b[38;5;241m.\u001b[39m_lock\u001b[38;5;241m.\u001b[39mrelease()\n\u001b[0;32m    940\u001b[0m   \u001b[38;5;66;03m# In this case we have created variables on the first call, so we run the\u001b[39;00m\n\u001b[0;32m    941\u001b[0m   \u001b[38;5;66;03m# defunned version which is guaranteed to never create variables.\u001b[39;00m\n\u001b[1;32m--> 942\u001b[0m   \u001b[38;5;28;01mreturn\u001b[39;00m \u001b[38;5;28mself\u001b[39m\u001b[38;5;241m.\u001b[39m_stateless_fn(\u001b[38;5;241m*\u001b[39margs, \u001b[38;5;241m*\u001b[39m\u001b[38;5;241m*\u001b[39mkwds)  \u001b[38;5;66;03m# pylint: disable=not-callable\u001b[39;00m\n\u001b[0;32m    943\u001b[0m \u001b[38;5;28;01melif\u001b[39;00m \u001b[38;5;28mself\u001b[39m\u001b[38;5;241m.\u001b[39m_stateful_fn \u001b[38;5;129;01mis\u001b[39;00m \u001b[38;5;129;01mnot\u001b[39;00m \u001b[38;5;28;01mNone\u001b[39;00m:\n\u001b[0;32m    944\u001b[0m   \u001b[38;5;66;03m# Release the lock early so that multiple threads can perform the call\u001b[39;00m\n\u001b[0;32m    945\u001b[0m   \u001b[38;5;66;03m# in parallel.\u001b[39;00m\n\u001b[0;32m    946\u001b[0m   \u001b[38;5;28mself\u001b[39m\u001b[38;5;241m.\u001b[39m_lock\u001b[38;5;241m.\u001b[39mrelease()\n",
      "File \u001b[1;32m~\\anaconda3\\envs\\python3.9.0\\lib\\site-packages\\tensorflow\\python\\eager\\function.py:3130\u001b[0m, in \u001b[0;36mFunction.__call__\u001b[1;34m(self, *args, **kwargs)\u001b[0m\n\u001b[0;32m   3127\u001b[0m \u001b[38;5;28;01mwith\u001b[39;00m \u001b[38;5;28mself\u001b[39m\u001b[38;5;241m.\u001b[39m_lock:\n\u001b[0;32m   3128\u001b[0m   (graph_function,\n\u001b[0;32m   3129\u001b[0m    filtered_flat_args) \u001b[38;5;241m=\u001b[39m \u001b[38;5;28mself\u001b[39m\u001b[38;5;241m.\u001b[39m_maybe_define_function(args, kwargs)\n\u001b[1;32m-> 3130\u001b[0m \u001b[38;5;28;01mreturn\u001b[39;00m \u001b[43mgraph_function\u001b[49m\u001b[38;5;241;43m.\u001b[39;49m\u001b[43m_call_flat\u001b[49m\u001b[43m(\u001b[49m\n\u001b[0;32m   3131\u001b[0m \u001b[43m    \u001b[49m\u001b[43mfiltered_flat_args\u001b[49m\u001b[43m,\u001b[49m\u001b[43m \u001b[49m\u001b[43mcaptured_inputs\u001b[49m\u001b[38;5;241;43m=\u001b[39;49m\u001b[43mgraph_function\u001b[49m\u001b[38;5;241;43m.\u001b[39;49m\u001b[43mcaptured_inputs\u001b[49m\u001b[43m)\u001b[49m\n",
      "File \u001b[1;32m~\\anaconda3\\envs\\python3.9.0\\lib\\site-packages\\tensorflow\\python\\eager\\function.py:1959\u001b[0m, in \u001b[0;36mConcreteFunction._call_flat\u001b[1;34m(self, args, captured_inputs, cancellation_manager)\u001b[0m\n\u001b[0;32m   1955\u001b[0m possible_gradient_type \u001b[38;5;241m=\u001b[39m gradients_util\u001b[38;5;241m.\u001b[39mPossibleTapeGradientTypes(args)\n\u001b[0;32m   1956\u001b[0m \u001b[38;5;28;01mif\u001b[39;00m (possible_gradient_type \u001b[38;5;241m==\u001b[39m gradients_util\u001b[38;5;241m.\u001b[39mPOSSIBLE_GRADIENT_TYPES_NONE\n\u001b[0;32m   1957\u001b[0m     \u001b[38;5;129;01mand\u001b[39;00m executing_eagerly):\n\u001b[0;32m   1958\u001b[0m   \u001b[38;5;66;03m# No tape is watching; skip to running the function.\u001b[39;00m\n\u001b[1;32m-> 1959\u001b[0m   \u001b[38;5;28;01mreturn\u001b[39;00m \u001b[38;5;28mself\u001b[39m\u001b[38;5;241m.\u001b[39m_build_call_outputs(\u001b[38;5;28;43mself\u001b[39;49m\u001b[38;5;241;43m.\u001b[39;49m\u001b[43m_inference_function\u001b[49m\u001b[38;5;241;43m.\u001b[39;49m\u001b[43mcall\u001b[49m\u001b[43m(\u001b[49m\n\u001b[0;32m   1960\u001b[0m \u001b[43m      \u001b[49m\u001b[43mctx\u001b[49m\u001b[43m,\u001b[49m\u001b[43m \u001b[49m\u001b[43margs\u001b[49m\u001b[43m,\u001b[49m\u001b[43m \u001b[49m\u001b[43mcancellation_manager\u001b[49m\u001b[38;5;241;43m=\u001b[39;49m\u001b[43mcancellation_manager\u001b[49m\u001b[43m)\u001b[49m)\n\u001b[0;32m   1961\u001b[0m forward_backward \u001b[38;5;241m=\u001b[39m \u001b[38;5;28mself\u001b[39m\u001b[38;5;241m.\u001b[39m_select_forward_and_backward_functions(\n\u001b[0;32m   1962\u001b[0m     args,\n\u001b[0;32m   1963\u001b[0m     possible_gradient_type,\n\u001b[0;32m   1964\u001b[0m     executing_eagerly)\n\u001b[0;32m   1965\u001b[0m forward_function, args_with_tangents \u001b[38;5;241m=\u001b[39m forward_backward\u001b[38;5;241m.\u001b[39mforward()\n",
      "File \u001b[1;32m~\\anaconda3\\envs\\python3.9.0\\lib\\site-packages\\tensorflow\\python\\eager\\function.py:598\u001b[0m, in \u001b[0;36m_EagerDefinedFunction.call\u001b[1;34m(self, ctx, args, cancellation_manager)\u001b[0m\n\u001b[0;32m    596\u001b[0m \u001b[38;5;28;01mwith\u001b[39;00m _InterpolateFunctionError(\u001b[38;5;28mself\u001b[39m):\n\u001b[0;32m    597\u001b[0m   \u001b[38;5;28;01mif\u001b[39;00m cancellation_manager \u001b[38;5;129;01mis\u001b[39;00m \u001b[38;5;28;01mNone\u001b[39;00m:\n\u001b[1;32m--> 598\u001b[0m     outputs \u001b[38;5;241m=\u001b[39m \u001b[43mexecute\u001b[49m\u001b[38;5;241;43m.\u001b[39;49m\u001b[43mexecute\u001b[49m\u001b[43m(\u001b[49m\n\u001b[0;32m    599\u001b[0m \u001b[43m        \u001b[49m\u001b[38;5;28;43mstr\u001b[39;49m\u001b[43m(\u001b[49m\u001b[38;5;28;43mself\u001b[39;49m\u001b[38;5;241;43m.\u001b[39;49m\u001b[43msignature\u001b[49m\u001b[38;5;241;43m.\u001b[39;49m\u001b[43mname\u001b[49m\u001b[43m)\u001b[49m\u001b[43m,\u001b[49m\n\u001b[0;32m    600\u001b[0m \u001b[43m        \u001b[49m\u001b[43mnum_outputs\u001b[49m\u001b[38;5;241;43m=\u001b[39;49m\u001b[38;5;28;43mself\u001b[39;49m\u001b[38;5;241;43m.\u001b[39;49m\u001b[43m_num_outputs\u001b[49m\u001b[43m,\u001b[49m\n\u001b[0;32m    601\u001b[0m \u001b[43m        \u001b[49m\u001b[43minputs\u001b[49m\u001b[38;5;241;43m=\u001b[39;49m\u001b[43margs\u001b[49m\u001b[43m,\u001b[49m\n\u001b[0;32m    602\u001b[0m \u001b[43m        \u001b[49m\u001b[43mattrs\u001b[49m\u001b[38;5;241;43m=\u001b[39;49m\u001b[43mattrs\u001b[49m\u001b[43m,\u001b[49m\n\u001b[0;32m    603\u001b[0m \u001b[43m        \u001b[49m\u001b[43mctx\u001b[49m\u001b[38;5;241;43m=\u001b[39;49m\u001b[43mctx\u001b[49m\u001b[43m)\u001b[49m\n\u001b[0;32m    604\u001b[0m   \u001b[38;5;28;01melse\u001b[39;00m:\n\u001b[0;32m    605\u001b[0m     outputs \u001b[38;5;241m=\u001b[39m execute\u001b[38;5;241m.\u001b[39mexecute_with_cancellation(\n\u001b[0;32m    606\u001b[0m         \u001b[38;5;28mstr\u001b[39m(\u001b[38;5;28mself\u001b[39m\u001b[38;5;241m.\u001b[39msignature\u001b[38;5;241m.\u001b[39mname),\n\u001b[0;32m    607\u001b[0m         num_outputs\u001b[38;5;241m=\u001b[39m\u001b[38;5;28mself\u001b[39m\u001b[38;5;241m.\u001b[39m_num_outputs,\n\u001b[1;32m   (...)\u001b[0m\n\u001b[0;32m    610\u001b[0m         ctx\u001b[38;5;241m=\u001b[39mctx,\n\u001b[0;32m    611\u001b[0m         cancellation_manager\u001b[38;5;241m=\u001b[39mcancellation_manager)\n",
      "File \u001b[1;32m~\\anaconda3\\envs\\python3.9.0\\lib\\site-packages\\tensorflow\\python\\eager\\execute.py:58\u001b[0m, in \u001b[0;36mquick_execute\u001b[1;34m(op_name, num_outputs, inputs, attrs, ctx, name)\u001b[0m\n\u001b[0;32m     56\u001b[0m \u001b[38;5;28;01mtry\u001b[39;00m:\n\u001b[0;32m     57\u001b[0m   ctx\u001b[38;5;241m.\u001b[39mensure_initialized()\n\u001b[1;32m---> 58\u001b[0m   tensors \u001b[38;5;241m=\u001b[39m \u001b[43mpywrap_tfe\u001b[49m\u001b[38;5;241;43m.\u001b[39;49m\u001b[43mTFE_Py_Execute\u001b[49m\u001b[43m(\u001b[49m\u001b[43mctx\u001b[49m\u001b[38;5;241;43m.\u001b[39;49m\u001b[43m_handle\u001b[49m\u001b[43m,\u001b[49m\u001b[43m \u001b[49m\u001b[43mdevice_name\u001b[49m\u001b[43m,\u001b[49m\u001b[43m \u001b[49m\u001b[43mop_name\u001b[49m\u001b[43m,\u001b[49m\n\u001b[0;32m     59\u001b[0m \u001b[43m                                      \u001b[49m\u001b[43minputs\u001b[49m\u001b[43m,\u001b[49m\u001b[43m \u001b[49m\u001b[43mattrs\u001b[49m\u001b[43m,\u001b[49m\u001b[43m \u001b[49m\u001b[43mnum_outputs\u001b[49m\u001b[43m)\u001b[49m\n\u001b[0;32m     60\u001b[0m \u001b[38;5;28;01mexcept\u001b[39;00m core\u001b[38;5;241m.\u001b[39m_NotOkStatusException \u001b[38;5;28;01mas\u001b[39;00m e:\n\u001b[0;32m     61\u001b[0m   \u001b[38;5;28;01mif\u001b[39;00m name \u001b[38;5;129;01mis\u001b[39;00m \u001b[38;5;129;01mnot\u001b[39;00m \u001b[38;5;28;01mNone\u001b[39;00m:\n",
      "\u001b[1;31mKeyboardInterrupt\u001b[0m: "
     ]
    }
   ],
   "source": [
    "# learning_rate_=0.0001\n",
    "# batch_size=32\n",
    "\n",
    "# Input = keras.layers.Input(shape=train_generator[0][0][0].shape)\n",
    "# x = keras.layers.Conv2D(16, kernel_size=7, activation=\"relu\",kernel_initializer=\"he_normal\", padding=\"same\")(Input)\n",
    "# x = keras.layers.BatchNormalization()(x)\n",
    "# x = keras.layers.MaxPool2D(2)(x)\n",
    "\n",
    "# x = keras.layers.Conv2D(32, kernel_size=5, activation=\"relu\",kernel_initializer=\"he_normal\", padding=\"same\")(x)\n",
    "# x   = keras.layers.BatchNormalization()(x)\n",
    "# x = keras.layers.MaxPool2D(2)(x)\n",
    "\n",
    "# x = keras.layers.Conv2D(64, kernel_size=3, activation=\"relu\",kernel_initializer=\"he_normal\", padding=\"same\")(x)\n",
    "# x = keras.layers.BatchNormalization()(x)\n",
    "# x = keras.layers.MaxPool2D(2)(x)\n",
    "\n",
    "# x = keras.layers.Flatten()(x)\n",
    "# Output = keras.layers.Dense(4, activation=\"softmax\")(x)\n",
    "\n",
    "# model = keras.models.Model(inputs = Input, outputs = Output)\n",
    "# model.compile(loss=\"categorical_crossentropy\",\n",
    "# optimizer=keras.optimizers.Adam(learning_rate=learning_rate_), metrics=[\"accuracy\"])\n",
    "\n",
    "# history = model.fit(\n",
    "# train_generator,\n",
    "# steps_per_epoch = train_generator.samples // batch_size,\n",
    "# validation_data = validation_generator, \n",
    "# validation_steps = validation_generator.samples // batch_size,\n",
    "# callbacks=[es],\n",
    "# epochs = 100)\n"
   ]
  },
  {
   "cell_type": "code",
   "execution_count": 201,
   "id": "aac08416",
   "metadata": {
    "ExecuteTime": {
     "end_time": "2022-04-22T11:35:38.607522Z",
     "start_time": "2022-04-22T11:32:35.841874Z"
    }
   },
   "outputs": [
    {
     "name": "stderr",
     "output_type": "stream",
     "text": [
      "C:\\Users\\hjhhi\\anaconda3\\envs\\python3.9.0\\lib\\site-packages\\tensorflow\\python\\keras\\engine\\training.py:1996: UserWarning: `Model.evaluate_generator` is deprecated and will be removed in a future version. Please use `Model.evaluate`, which supports generators.\n",
      "  warnings.warn('`Model.evaluate_generator` is deprecated and '\n"
     ]
    },
    {
     "data": {
      "text/plain": [
       "[0.035417765378952026, 1.0]"
      ]
     },
     "execution_count": 201,
     "metadata": {},
     "output_type": "execute_result"
    }
   ],
   "source": [
    "model.evaluate_generator(validation_generator)"
   ]
  },
  {
   "cell_type": "code",
   "execution_count": 198,
   "id": "143bf96a",
   "metadata": {
    "ExecuteTime": {
     "end_time": "2022-04-22T11:28:41.894662Z",
     "start_time": "2022-04-22T11:28:38.069245Z"
    }
   },
   "outputs": [],
   "source": [
    "X,y = validation_generator.next()"
   ]
  },
  {
   "cell_type": "code",
   "execution_count": 200,
   "id": "2953a06d",
   "metadata": {
    "ExecuteTime": {
     "end_time": "2022-04-22T11:29:01.041006Z",
     "start_time": "2022-04-22T11:29:00.941332Z"
    }
   },
   "outputs": [
    {
     "data": {
      "text/plain": [
       "<matplotlib.image.AxesImage at 0x19a7dcf6e50>"
      ]
     },
     "execution_count": 200,
     "metadata": {},
     "output_type": "execute_result"
    },
    {
     "data": {
      "image/png": "[encoded data removed]",
      "text/plain": [
       "<Figure size 432x288 with 1 Axes>"
      ]
     },
     "metadata": {
      "needs_background": "light"
     },
     "output_type": "display_data"
    }
   ],
   "source": [
    "plt.imshow(X[0])"
   ]
  },
  {
   "cell_type": "code",
   "execution_count": 137,
   "id": "02e7e7a3",
   "metadata": {
    "ExecuteTime": {
     "end_time": "2022-04-22T10:37:53.541968Z",
     "start_time": "2022-04-22T10:37:53.112315Z"
    }
   },
   "outputs": [
    {
     "name": "stdout",
     "output_type": "stream",
     "text": [
      "57/57 [==============================] - 0s 6ms/step - loss: 1.4390 - accuracy: 0.6082\n"
     ]
    },
    {
     "data": {
      "text/plain": [
       "[1.4390255212783813, 0.6082417368888855]"
      ]
     },
     "execution_count": 137,
     "metadata": {},
     "output_type": "execute_result"
    }
   ],
   "source": [
    "model.evaluate(X_valid, y_valid)"
   ]
  },
  {
   "cell_type": "code",
   "execution_count": 236,
   "id": "ed012f86",
   "metadata": {
    "ExecuteTime": {
     "end_time": "2022-04-22T13:42:14.808137Z",
     "start_time": "2022-04-22T13:42:14.651297Z"
    }
   },
   "outputs": [],
   "source": [
    "model = keras.models.load_model(\"temp.h5\")"
   ]
  },
  {
   "cell_type": "code",
   "execution_count": 245,
   "id": "e7cca396",
   "metadata": {
    "ExecuteTime": {
     "end_time": "2022-04-22T13:44:09.699890Z",
     "start_time": "2022-04-22T13:44:09.690943Z"
    }
   },
   "outputs": [
    {
     "name": "stdout",
     "output_type": "stream",
     "text": [
      "Model: \"model_19\"\n",
      "_________________________________________________________________\n",
      "Layer (type)                 Output Shape              Param #   \n",
      "=================================================================\n",
      "input_21 (InputLayer)        [(None, 32, 32, 3)]       0         \n",
      "_________________________________________________________________\n",
      "conv2d_57 (Conv2D)           (None, 32, 32, 16)        2368      \n",
      "_________________________________________________________________\n",
      "batch_normalization_56 (Batc (None, 32, 32, 16)        64        \n",
      "_________________________________________________________________\n",
      "max_pooling2d_55 (MaxPooling (None, 16, 16, 16)        0         \n",
      "_________________________________________________________________\n",
      "conv2d_58 (Conv2D)           (None, 16, 16, 32)        12832     \n",
      "_________________________________________________________________\n",
      "batch_normalization_57 (Batc (None, 16, 16, 32)        128       \n",
      "_________________________________________________________________\n",
      "max_pooling2d_56 (MaxPooling (None, 8, 8, 32)          0         \n",
      "_________________________________________________________________\n",
      "conv2d_59 (Conv2D)           (None, 8, 8, 64)          18496     \n",
      "_________________________________________________________________\n",
      "batch_normalization_58 (Batc (None, 8, 8, 64)          256       \n",
      "_________________________________________________________________\n",
      "max_pooling2d_57 (MaxPooling (None, 4, 4, 64)          0         \n",
      "_________________________________________________________________\n",
      "flatten_19 (Flatten)         (None, 1024)              0         \n",
      "_________________________________________________________________\n",
      "dense_19 (Dense)             (None, 4)                 4100      \n",
      "=================================================================\n",
      "Total params: 38,244\n",
      "Trainable params: 38,020\n",
      "Non-trainable params: 224\n",
      "_________________________________________________________________\n"
     ]
    }
   ],
   "source": [
    "model.summary()"
   ]
  },
  {
   "cell_type": "markdown",
   "id": "02e422ed",
   "metadata": {},
   "source": [
    "## GPU메모리 초기화"
   ]
  },
  {
   "cell_type": "code",
   "execution_count": 156,
   "id": "0a57bf47",
   "metadata": {
    "ExecuteTime": {
     "end_time": "2022-04-22T11:17:44.856123Z",
     "start_time": "2022-04-22T11:17:44.851106Z"
    }
   },
   "outputs": [
    {
     "data": {
      "text/plain": [
       "(32, 32, 3)"
      ]
     },
     "execution_count": 156,
     "metadata": {},
     "output_type": "execute_result"
    }
   ],
   "source": [
    "X_valid[0].shape"
   ]
  },
  {
   "cell_type": "code",
   "execution_count": 184,
   "id": "47767a28",
   "metadata": {
    "ExecuteTime": {
     "end_time": "2022-04-22T11:23:50.440504Z",
     "start_time": "2022-04-22T11:23:50.426570Z"
    }
   },
   "outputs": [
    {
     "data": {
      "text/plain": [
       "(1820, 32, 32, 3)"
      ]
     },
     "execution_count": 184,
     "metadata": {},
     "output_type": "execute_result"
    }
   ],
   "source": [
    "X_valid.shape"
   ]
  },
  {
   "cell_type": "code",
   "execution_count": 188,
   "id": "a508ce32",
   "metadata": {
    "ExecuteTime": {
     "end_time": "2022-04-22T11:25:45.975766Z",
     "start_time": "2022-04-22T11:25:45.950580Z"
    }
   },
   "outputs": [],
   "source": [
    "temp=[]\n",
    "for i in range(1820):\n",
    "    temp.append(cv2.cvtColor(X_valid[i], cv2.COLOR_BGR2RGB))"
   ]
  },
  {
   "cell_type": "code",
   "execution_count": 187,
   "id": "56909d80",
   "metadata": {
    "ExecuteTime": {
     "end_time": "2022-04-22T11:25:43.798002Z",
     "start_time": "2022-04-22T11:25:43.782045Z"
    }
   },
   "outputs": [],
   "source": [
    "X_valid = np.float32(X_valid)"
   ]
  },
  {
   "cell_type": "code",
   "execution_count": 189,
   "id": "1525f94c",
   "metadata": {
    "ExecuteTime": {
     "end_time": "2022-04-22T11:25:50.214571Z",
     "start_time": "2022-04-22T11:25:50.118694Z"
    }
   },
   "outputs": [
    {
     "data": {
      "text/plain": [
       "<matplotlib.image.AxesImage at 0x19ab92990a0>"
      ]
     },
     "execution_count": 189,
     "metadata": {},
     "output_type": "execute_result"
    },
    {
     "data": {
      "image/png": "[encoded data removed]",
      "text/plain": [
       "<Figure size 432x288 with 1 Axes>"
      ]
     },
     "metadata": {
      "needs_background": "light"
     },
     "output_type": "display_data"
    }
   ],
   "source": [
    "plt.imshow(X_valid[0])"
   ]
  },
  {
   "cell_type": "code",
   "execution_count": 190,
   "id": "03586536",
   "metadata": {
    "ExecuteTime": {
     "end_time": "2022-04-22T11:26:13.132608Z",
     "start_time": "2022-04-22T11:26:13.029696Z"
    }
   },
   "outputs": [
    {
     "data": {
      "text/plain": [
       "<matplotlib.image.AxesImage at 0x19ab8620280>"
      ]
     },
     "execution_count": 190,
     "metadata": {},
     "output_type": "execute_result"
    },
    {
     "data": {
      "image/png": "[encoded data removed]",
      "text/plain": [
       "<Figure size 432x288 with 1 Axes>"
      ]
     },
     "metadata": {
      "needs_background": "light"
     },
     "output_type": "display_data"
    }
   ],
   "source": [
    "plt.imshow(temp[0])"
   ]
  },
  {
   "cell_type": "code",
   "execution_count": 3,
   "id": "73f421ed",
   "metadata": {
    "ExecuteTime": {
     "end_time": "2022-04-22T04:14:14.507238Z",
     "start_time": "2022-04-22T04:14:14.452513Z"
    }
   },
   "outputs": [],
   "source": [
    "history_dict={}\n",
    "for i in os.listdir():\n",
    "    if i.startswith(\"history\") and i.endswith(\"pkl\"):\n",
    "        temp = joblib.load(i)\n",
    "        history_dict[i] = temp"
   ]
  },
  {
   "cell_type": "code",
   "execution_count": 4,
   "id": "7b1a8aeb",
   "metadata": {
    "ExecuteTime": {
     "end_time": "2022-04-22T04:14:15.284595Z",
     "start_time": "2022-04-22T04:14:15.004174Z"
    }
   },
   "outputs": [
    {
     "data": {
      "image/png": "[encoded data removed]",
      "text/plain": [
       "<Figure size 1152x864 with 1 Axes>"
      ]
     },
     "metadata": {
      "needs_background": "light"
     },
     "output_type": "display_data"
    }
   ],
   "source": [
    "plt.figure(figsize=(16, 12))\n",
    "for k, history in history_dict.items():\n",
    "    plt.plot(history[\"val_loss\"], label=k)\n",
    "    plt.legend()\n",
    "plt.show()"
   ]
  },
  {
   "cell_type": "code",
   "execution_count": 5,
   "id": "285ad72d",
   "metadata": {
    "ExecuteTime": {
     "end_time": "2022-04-22T04:14:17.132895Z",
     "start_time": "2022-04-22T04:14:16.928090Z"
    }
   },
   "outputs": [
    {
     "data": {
      "image/png": "[encoded data removed]",
      "text/plain": [
       "<Figure size 1152x864 with 1 Axes>"
      ]
     },
     "metadata": {
      "needs_background": "light"
     },
     "output_type": "display_data"
    }
   ],
   "source": [
    "plt.figure(figsize=(16, 12))\n",
    "for k, history in history_dict.items():\n",
    "    plt.plot(history[\"val_accuracy\"], label=k)\n",
    "    plt.legend()\n",
    "plt.show()"
   ]
  },
  {
   "cell_type": "markdown",
   "id": "ee01e704",
   "metadata": {
    "ExecuteTime": {
     "end_time": "2022-04-17T08:46:05.598146Z",
     "start_time": "2022-04-17T08:46:05.581163Z"
    }
   },
   "source": [
    "val_accuracy확인 결과  \n",
    "learning rate, batch_size: [0.0001] [32, 64]  \n",
    "learning rate, batch_size: [0.001] [32]  \n",
    "이 3가지 모델이 최고의 성능을 보여주었다."
   ]
  },
  {
   "cell_type": "code",
   "execution_count": 9,
   "id": "3f1be71c",
   "metadata": {
    "ExecuteTime": {
     "end_time": "2022-04-22T04:18:41.603353Z",
     "start_time": "2022-04-22T04:18:41.588401Z"
    }
   },
   "outputs": [
    {
     "data": {
      "text/plain": [
       "[0.20000000298023224,\n",
       " 0.6479166746139526,\n",
       " 0.8791666626930237,\n",
       " 0.9402777552604675,\n",
       " 1.0,\n",
       " 1.0,\n",
       " 1.0,\n",
       " 1.0]"
      ]
     },
     "execution_count": 9,
     "metadata": {},
     "output_type": "execute_result"
    }
   ],
   "source": [
    "history_dict['history_lr0.001batch32.pkl'][\"val_accuracy\"]"
   ]
  },
  {
   "cell_type": "code",
   "execution_count": 171,
   "id": "3c4afbd0",
   "metadata": {
    "ExecuteTime": {
     "end_time": "2022-04-22T11:21:38.051861Z",
     "start_time": "2022-04-22T11:21:38.041862Z"
    }
   },
   "outputs": [],
   "source": [
    "X_valid = cv2.cvtColor(X_valid,cv2.COLOR_BGR2RGB)"
   ]
  },
  {
   "cell_type": "code",
   "execution_count": 160,
   "id": "7d4e9664",
   "metadata": {
    "ExecuteTime": {
     "end_time": "2022-04-22T11:19:28.924654Z",
     "start_time": "2022-04-22T11:19:28.907049Z"
    }
   },
   "outputs": [],
   "source": [
    "temp = np.float32(X_valid[0])\n",
    "temp = cv2.cvtColor(X_valid,cv2.COLOR_BGR2RGB)"
   ]
  },
  {
   "cell_type": "code",
   "execution_count": 10,
   "id": "b6dbb265",
   "metadata": {
    "ExecuteTime": {
     "end_time": "2022-04-22T04:18:53.594457Z",
     "start_time": "2022-04-22T04:18:53.580467Z"
    }
   },
   "outputs": [
    {
     "data": {
      "text/plain": [
       "[0.1875,\n",
       " 0.3618055582046509,\n",
       " 0.7736111283302307,\n",
       " 0.9090277552604675,\n",
       " 0.9437500238418579,\n",
       " 0.9736111164093018,\n",
       " 0.9868055582046509,\n",
       " 0.9930555820465088,\n",
       " 0.9979166388511658,\n",
       " 0.9993055462837219,\n",
       " 0.9993055462837219,\n",
       " 1.0,\n",
       " 1.0,\n",
       " 1.0,\n",
       " 1.0]"
      ]
     },
     "execution_count": 10,
     "metadata": {},
     "output_type": "execute_result"
    }
   ],
   "source": [
    "history_dict['history_lr0.0001batch32.pkl'][\"val_accuracy\"]"
   ]
  },
  {
   "cell_type": "code",
   "execution_count": 11,
   "id": "be1711f3",
   "metadata": {
    "ExecuteTime": {
     "end_time": "2022-04-22T04:19:04.773443Z",
     "start_time": "2022-04-22T04:19:04.767458Z"
    }
   },
   "outputs": [
    {
     "data": {
      "text/plain": [
       "[0.2911931872367859,\n",
       " 0.18039773404598236,\n",
       " 0.27272728085517883,\n",
       " 0.4488636255264282,\n",
       " 0.6321022510528564,\n",
       " 0.7727272510528564,\n",
       " 0.8806818127632141,\n",
       " 0.9034090638160706,\n",
       " 0.9303977489471436,\n",
       " 0.9502840638160706,\n",
       " 0.9630681872367859,\n",
       " 0.9730113744735718,\n",
       " 0.9801136255264282,\n",
       " 0.9886363744735718,\n",
       " 0.9900568127632141,\n",
       " 0.9957386255264282,\n",
       " 0.9957386255264282,\n",
       " 1.0,\n",
       " 1.0,\n",
       " 0.9985795617103577,\n",
       " 1.0]"
      ]
     },
     "execution_count": 11,
     "metadata": {},
     "output_type": "execute_result"
    }
   ],
   "source": [
    "history_dict['history_lr0.0001batch64.pkl'][\"val_accuracy\"]"
   ]
  },
  {
   "cell_type": "code",
   "execution_count": 257,
   "id": "3f0f1caa",
   "metadata": {
    "ExecuteTime": {
     "end_time": "2022-04-22T13:50:00.385350Z",
     "start_time": "2022-04-22T13:50:00.375349Z"
    }
   },
   "outputs": [],
   "source": [
    "from time import time"
   ]
  },
  {
   "cell_type": "code",
   "execution_count": 250,
   "id": "1b2d74fa",
   "metadata": {
    "ExecuteTime": {
     "end_time": "2022-04-22T13:48:02.778299Z",
     "start_time": "2022-04-22T13:48:02.774310Z"
    }
   },
   "outputs": [],
   "source": [
    "temp = np.reshape(X_valid[0], (1, 32, 32, 3))"
   ]
  },
  {
   "cell_type": "code",
   "execution_count": 258,
   "id": "ecc81c04",
   "metadata": {
    "ExecuteTime": {
     "end_time": "2022-04-22T13:50:49.698162Z",
     "start_time": "2022-04-22T13:50:45.759421Z"
    }
   },
   "outputs": [],
   "source": [
    "time_list = []\n",
    "for i in range(100):\n",
    "    prev_time = time()\n",
    "    np.argmax(model.predict(temp))\n",
    "    cur_time = time()\n",
    "    time_list.append(cur_time - prev_time)"
   ]
  },
  {
   "cell_type": "code",
   "execution_count": 266,
   "id": "8e52d2b4",
   "metadata": {
    "ExecuteTime": {
     "end_time": "2022-04-22T13:52:30.906129Z",
     "start_time": "2022-04-22T13:52:30.899150Z"
    }
   },
   "outputs": [
    {
     "name": "stdout",
     "output_type": "stream",
     "text": [
      "0.03920469284057617\n",
      "0.03952372074127197\n"
     ]
    }
   ],
   "source": [
    "print(np.mean(np.array(time_list)))\n",
    "print(np.median(np.array(time_list)))"
   ]
  },
  {
   "cell_type": "code",
   "execution_count": null,
   "id": "f6967a52",
   "metadata": {},
   "outputs": [],
   "source": []
  }
 ],
 "metadata": {
  "kernelspec": {
   "display_name": "=python3.9.0",
   "language": "python",
   "name": "python3.9.0"
  },
  "language_info": {
   "codemirror_mode": {
    "name": "ipython",
    "version": 3
   },
   "file_extension": ".py",
   "mimetype": "text/x-python",
   "name": "python",
   "nbconvert_exporter": "python",
   "pygments_lexer": "ipython3",
   "version": "3.9.12"
  },
  "toc": {
   "base_numbering": 1,
   "nav_menu": {},
   "number_sections": true,
   "sideBar": true,
   "skip_h1_title": false,
   "title_cell": "Table of Contents",
   "title_sidebar": "Contents",
   "toc_cell": false,
   "toc_position": {
    "height": "calc(100% - 180px)",
    "left": "10px",
    "top": "150px",
    "width": "426.667px"
   },
   "toc_section_display": true,
   "toc_window_display": true
  },
  "varInspector": {
   "cols": {
    "lenName": 16,
    "lenType": 16,
    "lenVar": 40
   },
   "kernels_config": {
    "python": {
     "delete_cmd_postfix": "",
     "delete_cmd_prefix": "del ",
     "library": "var_list.py",
     "varRefreshCmd": "print(var_dic_list())"
    },
    "r": {
     "delete_cmd_postfix": ") ",
     "delete_cmd_prefix": "rm(",
     "library": "var_list.r",
     "varRefreshCmd": "cat(var_dic_list()) "
    }
   },
   "types_to_exclude": [
    "module",
    "function",
    "builtin_function_or_method",
    "instance",
    "_Feature"
   ],
   "window_display": false
  }
 },
 "nbformat": 4,
 "nbformat_minor": 5
}
