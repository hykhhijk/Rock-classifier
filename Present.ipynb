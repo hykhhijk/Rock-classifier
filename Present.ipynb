{
 "cells": [
  {
   "cell_type": "code",
   "execution_count": 1,
   "id": "3d1f128d",
   "metadata": {
    "ExecuteTime": {
     "end_time": "2022-04-25T06:04:49.621875Z",
     "start_time": "2022-04-25T06:04:45.120606Z"
    }
   },
   "outputs": [],
   "source": [
    "import os\n",
    "import numpy as np\n",
    "import pandas as pd\n",
    "import matplotlib.pyplot as plt\n",
    "import tensorflow as tf\n",
    "import tensorflow.keras as keras\n",
    "from tensorflow.keras.preprocessing.image import ImageDataGenerator, array_to_img, img_to_array, load_img\n",
    "import joblib\n",
    "from sklearn.model_selection import train_test_split\n",
    "from sklearn.metrics import classification_report\n",
    "from numba import cuda\n",
    "from sklearn.model_selection import StratifiedKFold\n",
    "import cv2\n",
    "from sklearn.preprocessing import OneHotEncoder"
   ]
  },
  {
   "cell_type": "code",
   "execution_count": 2,
   "id": "e530c9bf",
   "metadata": {
    "ExecuteTime": {
     "end_time": "2022-04-25T06:04:54.176245Z",
     "start_time": "2022-04-25T06:04:54.073914Z"
    }
   },
   "outputs": [],
   "source": [
    "X_ = joblib.load(\"converted_img.pkl\")\n",
    "y_ = joblib.load(\"label.pkl\")"
   ]
  },
  {
   "cell_type": "code",
   "execution_count": 4,
   "id": "0885e1e1",
   "metadata": {
    "ExecuteTime": {
     "end_time": "2022-04-25T06:05:01.808153Z",
     "start_time": "2022-04-25T06:05:01.701104Z"
    }
   },
   "outputs": [],
   "source": [
    "X = joblib.load(\"CV2_float32.pkl\")\n",
    "y = joblib.load(\"label.pkl\")"
   ]
  },
  {
   "cell_type": "code",
   "execution_count": 39,
   "id": "c6ba3b9e",
   "metadata": {
    "ExecuteTime": {
     "end_time": "2022-04-25T06:12:42.936765Z",
     "start_time": "2022-04-25T06:12:42.926339Z"
    }
   },
   "outputs": [],
   "source": [
    "encoder = OneHotEncoder(sparse=False)\n",
    "y = y.reshape(-1, 1)\n",
    "encoder.fit(y)\n",
    "y = encoder.transform(y)"
   ]
  },
  {
   "cell_type": "code",
   "execution_count": 28,
   "id": "f99ecb60",
   "metadata": {
    "ExecuteTime": {
     "end_time": "2022-04-25T06:10:10.331799Z",
     "start_time": "2022-04-25T06:10:10.245986Z"
    }
   },
   "outputs": [
    {
     "data": {
      "text/plain": [
       "<matplotlib.image.AxesImage at 0x27201d386a0>"
      ]
     },
     "execution_count": 28,
     "metadata": {},
     "output_type": "execute_result"
    },
    {
     "data": {
      "image/png": "[encoded data removed]",
      "text/plain": [
       "<Figure size 432x288 with 1 Axes>"
      ]
     },
     "metadata": {
      "needs_background": "light"
     },
     "output_type": "display_data"
    }
   ],
   "source": [
    "plt.imshow(X_[5])"
   ]
  },
  {
   "cell_type": "code",
   "execution_count": 29,
   "id": "e16ee5ae",
   "metadata": {
    "ExecuteTime": {
     "end_time": "2022-04-25T06:10:12.459957Z",
     "start_time": "2022-04-25T06:10:12.365073Z"
    }
   },
   "outputs": [
    {
     "data": {
      "text/plain": [
       "<matplotlib.image.AxesImage at 0x27201da3460>"
      ]
     },
     "execution_count": 29,
     "metadata": {},
     "output_type": "execute_result"
    },
    {
     "data": {
      "image/png": "[encoded data removed]",
      "text/plain": [
       "<Figure size 432x288 with 1 Axes>"
      ]
     },
     "metadata": {
      "needs_background": "light"
     },
     "output_type": "display_data"
    }
   ],
   "source": [
    "plt.imshow(X[5])"
   ]
  },
  {
   "cell_type": "code",
   "execution_count": 32,
   "id": "146875eb",
   "metadata": {
    "ExecuteTime": {
     "end_time": "2022-04-25T06:10:31.587873Z",
     "start_time": "2022-04-25T06:10:31.577078Z"
    }
   },
   "outputs": [
    {
     "data": {
      "text/plain": [
       "array([[[0.69019608, 0.69803922, 0.68627451],\n",
       "        [0.68235294, 0.70196078, 0.68627451],\n",
       "        [0.70980392, 0.72941176, 0.71372549],\n",
       "        ...,\n",
       "        [0.68235294, 0.68627451, 0.66666667],\n",
       "        [0.66666667, 0.6745098 , 0.65490196],\n",
       "        [0.67843137, 0.68627451, 0.6745098 ]],\n",
       "\n",
       "       [[0.70980392, 0.71372549, 0.69411765],\n",
       "        [0.68627451, 0.69411765, 0.68235294],\n",
       "        [0.65098039, 0.65882353, 0.65490196],\n",
       "        ...,\n",
       "        [0.6627451 , 0.67058824, 0.65098039],\n",
       "        [0.68235294, 0.69019608, 0.67058824],\n",
       "        [0.68235294, 0.69019608, 0.67843137]],\n",
       "\n",
       "       [[0.71372549, 0.72156863, 0.70980392],\n",
       "        [0.68627451, 0.69411765, 0.68235294],\n",
       "        [0.69411765, 0.71372549, 0.69803922],\n",
       "        ...,\n",
       "        [0.68235294, 0.69019608, 0.67843137],\n",
       "        [0.67843137, 0.68627451, 0.6745098 ],\n",
       "        [0.6745098 , 0.68235294, 0.6627451 ]],\n",
       "\n",
       "       ...,\n",
       "\n",
       "       [[0.67843137, 0.69411765, 0.69019608],\n",
       "        [0.66666667, 0.69019608, 0.68235294],\n",
       "        [0.68627451, 0.70980392, 0.70196078],\n",
       "        ...,\n",
       "        [0.67058824, 0.67843137, 0.66666667],\n",
       "        [0.6745098 , 0.69411765, 0.67843137],\n",
       "        [0.66666667, 0.68627451, 0.67058824]],\n",
       "\n",
       "       [[0.67843137, 0.69411765, 0.69019608],\n",
       "        [0.67843137, 0.70196078, 0.69411765],\n",
       "        [0.6627451 , 0.68627451, 0.67843137],\n",
       "        ...,\n",
       "        [0.66666667, 0.68627451, 0.67058824],\n",
       "        [0.6627451 , 0.68235294, 0.66666667],\n",
       "        [0.65882353, 0.67843137, 0.65490196]],\n",
       "\n",
       "       [[0.6745098 , 0.69019608, 0.68627451],\n",
       "        [0.67058824, 0.69411765, 0.68627451],\n",
       "        [0.67058824, 0.69411765, 0.68627451],\n",
       "        ...,\n",
       "        [0.66666667, 0.68627451, 0.67058824],\n",
       "        [0.66666667, 0.68627451, 0.67058824],\n",
       "        [0.66666667, 0.68627451, 0.67058824]]])"
      ]
     },
     "execution_count": 32,
     "metadata": {},
     "output_type": "execute_result"
    }
   ],
   "source": [
    "X[5]"
   ]
  },
  {
   "cell_type": "code",
   "execution_count": 33,
   "id": "54fbb796",
   "metadata": {
    "ExecuteTime": {
     "end_time": "2022-04-25T06:10:33.436533Z",
     "start_time": "2022-04-25T06:10:33.425104Z"
    }
   },
   "outputs": [
    {
     "data": {
      "text/plain": [
       "array([[[0.71372551, 0.72156864, 0.70980394],\n",
       "        [0.68627453, 0.70588237, 0.6901961 ],\n",
       "        [0.68627453, 0.70588237, 0.6901961 ],\n",
       "        ...,\n",
       "        [0.68235296, 0.6901961 , 0.67058825],\n",
       "        [0.6901961 , 0.69803923, 0.68627453],\n",
       "        [0.67843139, 0.68627453, 0.66666669]],\n",
       "\n",
       "       [[0.66666669, 0.67058825, 0.64705884],\n",
       "        [0.69411767, 0.7019608 , 0.6901961 ],\n",
       "        [0.69411767, 0.71372551, 0.69803923],\n",
       "        ...,\n",
       "        [0.68235296, 0.6901961 , 0.67843139],\n",
       "        [0.66274512, 0.67058825, 0.65882355],\n",
       "        [0.67843139, 0.68627453, 0.66666669]],\n",
       "\n",
       "       [[0.56078434, 0.56862748, 0.55686277],\n",
       "        [0.69411767, 0.7019608 , 0.6901961 ],\n",
       "        [0.6901961 , 0.70980394, 0.69411767],\n",
       "        ...,\n",
       "        [0.67058825, 0.67843139, 0.65882355],\n",
       "        [0.69803923, 0.70588237, 0.68627453],\n",
       "        [0.67450982, 0.68235296, 0.66274512]],\n",
       "\n",
       "       ...,\n",
       "\n",
       "       [[0.67450982, 0.69803923, 0.6901961 ],\n",
       "        [0.66666669, 0.6901961 , 0.68235296],\n",
       "        [0.67058825, 0.69411767, 0.68627453],\n",
       "        ...,\n",
       "        [0.67450982, 0.69411767, 0.67843139],\n",
       "        [0.66666669, 0.68627453, 0.67058825],\n",
       "        [0.65882355, 0.67843139, 0.66274512]],\n",
       "\n",
       "       [[0.67058825, 0.69411767, 0.68627453],\n",
       "        [0.67843139, 0.7019608 , 0.69411767],\n",
       "        [0.66666669, 0.6901961 , 0.68235296],\n",
       "        ...,\n",
       "        [0.66666669, 0.68627453, 0.67058825],\n",
       "        [0.67058825, 0.6901961 , 0.67450982],\n",
       "        [0.66274512, 0.68235296, 0.65882355]],\n",
       "\n",
       "       [[0.67058825, 0.69411767, 0.68627453],\n",
       "        [0.67058825, 0.69411767, 0.68627453],\n",
       "        [0.67843139, 0.7019608 , 0.69411767],\n",
       "        ...,\n",
       "        [0.66274512, 0.68235296, 0.66666669],\n",
       "        [0.65490198, 0.67450982, 0.65098041],\n",
       "        [0.65882355, 0.67843139, 0.65490198]]])"
      ]
     },
     "execution_count": 33,
     "metadata": {},
     "output_type": "execute_result"
    }
   ],
   "source": [
    "X_[5]"
   ]
  },
  {
   "cell_type": "code",
   "execution_count": 34,
   "id": "9a670744",
   "metadata": {
    "ExecuteTime": {
     "end_time": "2022-04-25T06:10:44.540068Z",
     "start_time": "2022-04-25T06:10:44.529097Z"
    }
   },
   "outputs": [
    {
     "data": {
      "text/plain": [
       "False    3072\n",
       "dtype: int64"
      ]
     },
     "execution_count": 34,
     "metadata": {},
     "output_type": "execute_result"
    }
   ],
   "source": [
    "pd.Series((np.reshape(X_[5], (-1))) == (np.reshape(X[5], (-1)))).value_counts()"
   ]
  },
  {
   "cell_type": "code",
   "execution_count": 44,
   "id": "f7cd447b",
   "metadata": {
    "ExecuteTime": {
     "end_time": "2022-04-25T06:13:43.919785Z",
     "start_time": "2022-04-25T06:13:43.790290Z"
    }
   },
   "outputs": [],
   "source": [
    "X_train, X_test, y_train, y_test = train_test_split(X, y, stratify=y, shuffle=True)"
   ]
  },
  {
   "cell_type": "code",
   "execution_count": 47,
   "id": "0e921af9",
   "metadata": {
    "ExecuteTime": {
     "end_time": "2022-04-25T06:14:04.783102Z",
     "start_time": "2022-04-25T06:14:04.774142Z"
    }
   },
   "outputs": [],
   "source": [
    "es = keras.callbacks.EarlyStopping(monitor=\"val_accuracy\", patience=3, mode=\"max\")"
   ]
  },
  {
   "cell_type": "code",
   "execution_count": 49,
   "id": "9d00d209",
   "metadata": {
    "ExecuteTime": {
     "end_time": "2022-04-25T06:14:50.121925Z",
     "start_time": "2022-04-25T06:14:19.574670Z"
    }
   },
   "outputs": [
    {
     "name": "stdout",
     "output_type": "stream",
     "text": [
      "Epoch 1/100\n",
      "171/171 [==============================] - 2s 8ms/step - loss: 1.2849 - accuracy: 0.4736 - val_loss: 2.3407 - val_accuracy: 0.1841\n",
      "Epoch 2/100\n",
      "171/171 [==============================] - 1s 7ms/step - loss: 0.8626 - accuracy: 0.6335 - val_loss: 1.6337 - val_accuracy: 0.3176\n",
      "Epoch 3/100\n",
      "171/171 [==============================] - 1s 7ms/step - loss: 0.7226 - accuracy: 0.6991 - val_loss: 0.8919 - val_accuracy: 0.6055\n",
      "Epoch 4/100\n",
      "171/171 [==============================] - 1s 6ms/step - loss: 0.6240 - accuracy: 0.7452 - val_loss: 0.6941 - val_accuracy: 0.7071\n",
      "Epoch 5/100\n",
      "171/171 [==============================] - 1s 7ms/step - loss: 0.5541 - accuracy: 0.7804 - val_loss: 0.6524 - val_accuracy: 0.7291\n",
      "Epoch 6/100\n",
      "171/171 [==============================] - 1s 6ms/step - loss: 0.4882 - accuracy: 0.8126 - val_loss: 0.6048 - val_accuracy: 0.7582\n",
      "Epoch 7/100\n",
      "171/171 [==============================] - 1s 7ms/step - loss: 0.4417 - accuracy: 0.8297 - val_loss: 0.5641 - val_accuracy: 0.7731\n",
      "Epoch 8/100\n",
      "171/171 [==============================] - 1s 7ms/step - loss: 0.3895 - accuracy: 0.8619 - val_loss: 0.5458 - val_accuracy: 0.7857\n",
      "Epoch 9/100\n",
      "171/171 [==============================] - 1s 6ms/step - loss: 0.3527 - accuracy: 0.8751 - val_loss: 0.5333 - val_accuracy: 0.7885\n",
      "Epoch 10/100\n",
      "171/171 [==============================] - 1s 7ms/step - loss: 0.3144 - accuracy: 0.8910 - val_loss: 0.5065 - val_accuracy: 0.8027\n",
      "Epoch 11/100\n",
      "171/171 [==============================] - 1s 6ms/step - loss: 0.2804 - accuracy: 0.9042 - val_loss: 0.4912 - val_accuracy: 0.8088\n",
      "Epoch 12/100\n",
      "171/171 [==============================] - 1s 7ms/step - loss: 0.2507 - accuracy: 0.9207 - val_loss: 0.5281 - val_accuracy: 0.7973\n",
      "Epoch 13/100\n",
      "171/171 [==============================] - 1s 7ms/step - loss: 0.2292 - accuracy: 0.9302 - val_loss: 0.4710 - val_accuracy: 0.8220\n",
      "Epoch 14/100\n",
      "171/171 [==============================] - 1s 6ms/step - loss: 0.2043 - accuracy: 0.9436 - val_loss: 0.4856 - val_accuracy: 0.8231\n",
      "Epoch 15/100\n",
      "171/171 [==============================] - 1s 7ms/step - loss: 0.1840 - accuracy: 0.9462 - val_loss: 0.4699 - val_accuracy: 0.8192\n",
      "Epoch 16/100\n",
      "171/171 [==============================] - 1s 7ms/step - loss: 0.1628 - accuracy: 0.9581 - val_loss: 0.4684 - val_accuracy: 0.8286\n",
      "Epoch 17/100\n",
      "171/171 [==============================] - 1s 7ms/step - loss: 0.1432 - accuracy: 0.9659 - val_loss: 0.5212 - val_accuracy: 0.8225\n",
      "Epoch 18/100\n",
      "171/171 [==============================] - 1s 7ms/step - loss: 0.1295 - accuracy: 0.9712 - val_loss: 0.4513 - val_accuracy: 0.8379\n",
      "Epoch 19/100\n",
      "171/171 [==============================] - 1s 8ms/step - loss: 0.1152 - accuracy: 0.9780 - val_loss: 0.4667 - val_accuracy: 0.8418\n",
      "Epoch 20/100\n",
      "171/171 [==============================] - 1s 8ms/step - loss: 0.0995 - accuracy: 0.9852 - val_loss: 0.4732 - val_accuracy: 0.8335\n",
      "Epoch 21/100\n",
      "171/171 [==============================] - 2s 9ms/step - loss: 0.0886 - accuracy: 0.9879 - val_loss: 0.4702 - val_accuracy: 0.8456\n",
      "Epoch 22/100\n",
      "171/171 [==============================] - 1s 8ms/step - loss: 0.0798 - accuracy: 0.9890 - val_loss: 0.5022 - val_accuracy: 0.8225\n",
      "Epoch 23/100\n",
      "171/171 [==============================] - 1s 8ms/step - loss: 0.0727 - accuracy: 0.9912 - val_loss: 0.5074 - val_accuracy: 0.8264\n",
      "Epoch 24/100\n",
      "171/171 [==============================] - 1s 8ms/step - loss: 0.0647 - accuracy: 0.9947 - val_loss: 0.4585 - val_accuracy: 0.8451\n",
      "171/171 [==============================] - 1s 4ms/step - loss: 0.0474 - accuracy: 0.9984\n",
      "Train:  [0.04738280549645424, 0.9983516335487366]\n",
      "57/57 [==============================] - 0s 4ms/step - loss: 0.4585 - accuracy: 0.8451\n",
      "Valid:  [0.45847365260124207, 0.8450549244880676]\n"
     ]
    }
   ],
   "source": [
    "Input = keras.layers.Input(shape=X[0].shape)\n",
    "x = keras.layers.Conv2D(16, kernel_size=7, activation=\"relu\",kernel_initializer=\"he_normal\", padding=\"same\")(Input)\n",
    "x = keras.layers.BatchNormalization()(x)\n",
    "x = keras.layers.MaxPool2D(2)(x)\n",
    "\n",
    "x = keras.layers.Conv2D(32, kernel_size=5, activation=\"relu\",kernel_initializer=\"he_normal\", padding=\"same\")(x)\n",
    "x   = keras.layers.BatchNormalization()(x)\n",
    "x = keras.layers.MaxPool2D(2)(x)\n",
    "\n",
    "x = keras.layers.Conv2D(64, kernel_size=3, activation=\"relu\",kernel_initializer=\"he_normal\", padding=\"same\")(x)\n",
    "x = keras.layers.BatchNormalization()(x)\n",
    "x = keras.layers.MaxPool2D(2)(x)\n",
    "\n",
    "x = keras.layers.Flatten()(x)\n",
    "Output = keras.layers.Dense(4, activation=\"softmax\")(x)\n",
    "\n",
    "model = keras.models.Model(inputs = Input, outputs = Output)\n",
    "model.compile(loss=\"categorical_crossentropy\",\n",
    "optimizer=keras.optimizers.Adam(learning_rate=0.0001), metrics=[\"accuracy\"])\n",
    "\n",
    "history = model.fit(X_train, y_train, validation_data=(X_test, y_test),callbacks=[es],epochs = 100)\n",
    "print(\"Train: \", model.evaluate(X_train, y_train))\n",
    "print(\"Valid: \", model.evaluate(X_test, y_test))"
   ]
  },
  {
   "cell_type": "code",
   "execution_count": 50,
   "id": "93c64168",
   "metadata": {
    "ExecuteTime": {
     "end_time": "2022-04-25T06:16:07.246438Z",
     "start_time": "2022-04-25T06:16:07.114531Z"
    }
   },
   "outputs": [],
   "source": [
    "X_train, X_test, y_train, y_test = train_test_split(X_, y, stratify=y, shuffle=True)"
   ]
  },
  {
   "cell_type": "code",
   "execution_count": 51,
   "id": "a4eaff94",
   "metadata": {
    "ExecuteTime": {
     "end_time": "2022-04-25T06:16:38.713482Z",
     "start_time": "2022-04-25T06:16:12.529692Z"
    }
   },
   "outputs": [
    {
     "name": "stdout",
     "output_type": "stream",
     "text": [
      "Epoch 1/100\n",
      "171/171 [==============================] - 3s 12ms/step - loss: 1.0540 - accuracy: 0.5756 - val_loss: 1.7775 - val_accuracy: 0.2242\n",
      "Epoch 2/100\n",
      "171/171 [==============================] - 2s 10ms/step - loss: 0.6001 - accuracy: 0.7720 - val_loss: 1.3620 - val_accuracy: 0.3995\n",
      "Epoch 3/100\n",
      "171/171 [==============================] - 1s 8ms/step - loss: 0.4418 - accuracy: 0.8469 - val_loss: 0.6870 - val_accuracy: 0.7297\n",
      "Epoch 4/100\n",
      "171/171 [==============================] - 1s 8ms/step - loss: 0.3390 - accuracy: 0.8978 - val_loss: 0.4325 - val_accuracy: 0.8533\n",
      "Epoch 5/100\n",
      "171/171 [==============================] - 2s 9ms/step - loss: 0.2596 - accuracy: 0.9313 - val_loss: 0.2974 - val_accuracy: 0.9176\n",
      "Epoch 6/100\n",
      "171/171 [==============================] - 1s 8ms/step - loss: 0.2015 - accuracy: 0.9566 - val_loss: 0.2375 - val_accuracy: 0.9401\n",
      "Epoch 7/100\n",
      "171/171 [==============================] - 1s 8ms/step - loss: 0.1613 - accuracy: 0.9727 - val_loss: 0.2149 - val_accuracy: 0.9423\n",
      "Epoch 8/100\n",
      "171/171 [==============================] - 1s 8ms/step - loss: 0.1233 - accuracy: 0.9861 - val_loss: 0.1555 - val_accuracy: 0.9753\n",
      "Epoch 9/100\n",
      "171/171 [==============================] - 1s 8ms/step - loss: 0.0959 - accuracy: 0.9918 - val_loss: 0.1290 - val_accuracy: 0.9786\n",
      "Epoch 10/100\n",
      "171/171 [==============================] - 1s 8ms/step - loss: 0.0743 - accuracy: 0.9973 - val_loss: 0.1009 - val_accuracy: 0.9890\n",
      "Epoch 11/100\n",
      "171/171 [==============================] - 1s 8ms/step - loss: 0.0585 - accuracy: 0.9984 - val_loss: 0.0809 - val_accuracy: 0.9929\n",
      "Epoch 12/100\n",
      "171/171 [==============================] - 1s 8ms/step - loss: 0.0476 - accuracy: 0.9987 - val_loss: 0.0694 - val_accuracy: 0.9945\n",
      "Epoch 13/100\n",
      "171/171 [==============================] - 1s 8ms/step - loss: 0.0367 - accuracy: 0.9996 - val_loss: 0.0629 - val_accuracy: 0.9934\n",
      "Epoch 14/100\n",
      "171/171 [==============================] - 1s 8ms/step - loss: 0.0298 - accuracy: 1.0000 - val_loss: 0.0464 - val_accuracy: 0.9978\n",
      "Epoch 15/100\n",
      "171/171 [==============================] - 1s 8ms/step - loss: 0.0241 - accuracy: 1.0000 - val_loss: 0.0409 - val_accuracy: 0.9978\n",
      "Epoch 16/100\n",
      "171/171 [==============================] - 1s 8ms/step - loss: 0.0197 - accuracy: 0.9998 - val_loss: 0.0365 - val_accuracy: 0.9978\n",
      "Epoch 17/100\n",
      "171/171 [==============================] - 1s 8ms/step - loss: 0.0161 - accuracy: 1.0000 - val_loss: 0.0326 - val_accuracy: 0.9978\n",
      "171/171 [==============================] - 1s 3ms/step - loss: 0.0135 - accuracy: 1.0000\n",
      "Train:  [0.013546369969844818, 1.0]\n",
      "57/57 [==============================] - 0s 3ms/step - loss: 0.0326 - accuracy: 0.9978\n",
      "Valid:  [0.0326186828315258, 0.997802197933197]\n"
     ]
    }
   ],
   "source": [
    "Input = keras.layers.Input(shape=X[0].shape)\n",
    "x = keras.layers.Conv2D(16, kernel_size=7, activation=\"relu\",kernel_initializer=\"he_normal\", padding=\"same\")(Input)\n",
    "x = keras.layers.BatchNormalization()(x)\n",
    "x = keras.layers.MaxPool2D(2)(x)\n",
    "\n",
    "x = keras.layers.Conv2D(32, kernel_size=5, activation=\"relu\",kernel_initializer=\"he_normal\", padding=\"same\")(x)\n",
    "x   = keras.layers.BatchNormalization()(x)\n",
    "x = keras.layers.MaxPool2D(2)(x)\n",
    "\n",
    "x = keras.layers.Conv2D(64, kernel_size=3, activation=\"relu\",kernel_initializer=\"he_normal\", padding=\"same\")(x)\n",
    "x = keras.layers.BatchNormalization()(x)\n",
    "x = keras.layers.MaxPool2D(2)(x)\n",
    "\n",
    "x = keras.layers.Flatten()(x)\n",
    "Output = keras.layers.Dense(4, activation=\"softmax\")(x)\n",
    "\n",
    "model = keras.models.Model(inputs = Input, outputs = Output)\n",
    "model.compile(loss=\"categorical_crossentropy\",\n",
    "optimizer=keras.optimizers.Adam(learning_rate=0.0001), metrics=[\"accuracy\"])\n",
    "\n",
    "history = model.fit(X_train, y_train, validation_data=(X_test, y_test),callbacks=[es],epochs = 100)\n",
    "print(\"Train: \", model.evaluate(X_train, y_train))\n",
    "print(\"Valid: \", model.evaluate(X_test, y_test))"
   ]
  },
  {
   "cell_type": "code",
   "execution_count": null,
   "id": "d3dcdf17",
   "metadata": {},
   "outputs": [],
   "source": []
  }
 ],
 "metadata": {
  "kernelspec": {
   "display_name": "=python3.9.0",
   "language": "python",
   "name": "python3.9.0"
  },
  "language_info": {
   "codemirror_mode": {
    "name": "ipython",
    "version": 3
   },
   "file_extension": ".py",
   "mimetype": "text/x-python",
   "name": "python",
   "nbconvert_exporter": "python",
   "pygments_lexer": "ipython3",
   "version": "3.9.12"
  },
  "toc": {
   "base_numbering": 1,
   "nav_menu": {},
   "number_sections": true,
   "sideBar": true,
   "skip_h1_title": false,
   "title_cell": "Table of Contents",
   "title_sidebar": "Contents",
   "toc_cell": false,
   "toc_position": {},
   "toc_section_display": true,
   "toc_window_display": false
  },
  "varInspector": {
   "cols": {
    "lenName": 16,
    "lenType": 16,
    "lenVar": 40
   },
   "kernels_config": {
    "python": {
     "delete_cmd_postfix": "",
     "delete_cmd_prefix": "del ",
     "library": "var_list.py",
     "varRefreshCmd": "print(var_dic_list())"
    },
    "r": {
     "delete_cmd_postfix": ") ",
     "delete_cmd_prefix": "rm(",
     "library": "var_list.r",
     "varRefreshCmd": "cat(var_dic_list()) "
    }
   },
   "types_to_exclude": [
    "module",
    "function",
    "builtin_function_or_method",
    "instance",
    "_Feature"
   ],
   "window_display": false
  }
 },
 "nbformat": 4,
 "nbformat_minor": 5
}
