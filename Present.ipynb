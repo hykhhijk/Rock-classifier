{
 "cells": [
  {
   "cell_type": "code",
   "execution_count": 3,
   "id": "7289dab8",
   "metadata": {
    "ExecuteTime": {
     "end_time": "2022-04-27T09:33:18.746056Z",
     "start_time": "2022-04-27T09:33:13.666315Z"
    }
   },
   "outputs": [],
   "source": [
    "import os\n",
    "import numpy as np\n",
    "import pandas as pd\n",
    "import matplotlib.pyplot as plt\n",
    "import tensorflow as tf\n",
    "import tensorflow.keras as keras\n",
    "from tensorflow.keras.preprocessing.image import ImageDataGenerator, array_to_img, img_to_array, load_img\n",
    "import joblib\n",
    "from sklearn.model_selection import train_test_split\n",
    "from sklearn.metrics import classification_report\n",
    "from numba import cuda\n",
    "from sklearn.model_selection import StratifiedKFold\n",
    "import cv2\n",
    "from sklearn.preprocessing import OneHotEncoder\n",
    "import joblib"
   ]
  },
  {
   "cell_type": "code",
   "execution_count": 22,
   "id": "c6e4a82b",
   "metadata": {
    "ExecuteTime": {
     "end_time": "2022-04-27T09:34:46.947915Z",
     "start_time": "2022-04-27T09:34:46.849570Z"
    }
   },
   "outputs": [],
   "source": [
    "X_ = joblib.load(\"converted_img.pkl\")\n",
    "y_ = joblib.load(\"label.pkl\")"
   ]
  },
  {
   "cell_type": "code",
   "execution_count": 42,
   "id": "ece0706f",
   "metadata": {
    "ExecuteTime": {
     "end_time": "2022-04-27T09:41:53.117108Z",
     "start_time": "2022-04-27T09:41:52.986528Z"
    }
   },
   "outputs": [],
   "source": [
    "X = joblib.load(\"CV2_float32.pkl\")\n",
    "y = joblib.load(\"label.pkl\")"
   ]
  },
  {
   "cell_type": "code",
   "execution_count": 43,
   "id": "a239ec67",
   "metadata": {
    "ExecuteTime": {
     "end_time": "2022-04-27T09:41:53.200298Z",
     "start_time": "2022-04-27T09:41:53.186336Z"
    }
   },
   "outputs": [],
   "source": [
    "encoder = OneHotEncoder(sparse=False)\n",
    "y = y.reshape(-1, 1)\n",
    "encoder.fit(y)\n",
    "y = encoder.transform(y)"
   ]
  },
  {
   "cell_type": "code",
   "execution_count": 33,
   "id": "506e9cf6",
   "metadata": {
    "ExecuteTime": {
     "end_time": "2022-04-27T09:39:06.940513Z",
     "start_time": "2022-04-27T09:39:06.926550Z"
    }
   },
   "outputs": [],
   "source": [
    "y_ = encoder.transform(y_.reshape(-1, 1))"
   ]
  },
  {
   "cell_type": "code",
   "execution_count": 25,
   "id": "dbe569bd",
   "metadata": {
    "ExecuteTime": {
     "end_time": "2022-04-27T09:34:50.999604Z",
     "start_time": "2022-04-27T09:34:50.869854Z"
    }
   },
   "outputs": [],
   "source": [
    "X = np.append(X, X_)"
   ]
  },
  {
   "cell_type": "code",
   "execution_count": 26,
   "id": "2bf54779",
   "metadata": {
    "ExecuteTime": {
     "end_time": "2022-04-27T09:34:51.201804Z",
     "start_time": "2022-04-27T09:34:51.186289Z"
    }
   },
   "outputs": [],
   "source": [
    "X = X.reshape(-1, 32, 32, 3)"
   ]
  },
  {
   "cell_type": "code",
   "execution_count": 27,
   "id": "42d6b6d6",
   "metadata": {
    "ExecuteTime": {
     "end_time": "2022-04-27T09:34:51.806331Z",
     "start_time": "2022-04-27T09:34:51.797355Z"
    }
   },
   "outputs": [],
   "source": [
    "y = np.append(y, y, axis=0)"
   ]
  },
  {
   "cell_type": "code",
   "execution_count": 36,
   "id": "ebc8bc95",
   "metadata": {
    "ExecuteTime": {
     "end_time": "2022-04-27T09:39:50.953874Z",
     "start_time": "2022-04-27T09:39:50.837094Z"
    }
   },
   "outputs": [],
   "source": [
    "X_train, X_test, y_train, y_test = train_test_split(X_, y_, stratify=y_, shuffle=True)"
   ]
  },
  {
   "cell_type": "code",
   "execution_count": 44,
   "id": "3e2f7193",
   "metadata": {
    "ExecuteTime": {
     "end_time": "2022-04-27T09:41:53.384653Z",
     "start_time": "2022-04-27T09:41:53.269537Z"
    }
   },
   "outputs": [],
   "source": [
    "X_train, X_test, y_train, y_test = train_test_split(X, y, stratify=y, shuffle=True)"
   ]
  },
  {
   "cell_type": "code",
   "execution_count": 29,
   "id": "1d60599f",
   "metadata": {
    "ExecuteTime": {
     "end_time": "2022-04-27T09:34:53.947100Z",
     "start_time": "2022-04-27T09:34:53.930148Z"
    }
   },
   "outputs": [],
   "source": [
    "es = keras.callbacks.EarlyStopping(monitor=\"val_accuracy\", patience=10, mode=\"max\")"
   ]
  },
  {
   "cell_type": "code",
   "execution_count": 30,
   "id": "b733ec4e",
   "metadata": {
    "ExecuteTime": {
     "end_time": "2022-04-27T09:36:29.837732Z",
     "start_time": "2022-04-27T09:35:02.858272Z"
    }
   },
   "outputs": [
    {
     "name": "stdout",
     "output_type": "stream",
     "text": [
      "Epoch 1/100\n",
      "342/342 [==============================] - 8s 12ms/step - loss: 1.4945 - accuracy: 0.5622 - val_loss: 4.2766 - val_accuracy: 0.1986\n",
      "Epoch 2/100\n",
      "342/342 [==============================] - 4s 11ms/step - loss: 0.7701 - accuracy: 0.6996 - val_loss: 0.6556 - val_accuracy: 0.7332\n",
      "Epoch 3/100\n",
      "342/342 [==============================] - 4s 11ms/step - loss: 0.5650 - accuracy: 0.7741 - val_loss: 0.9663 - val_accuracy: 0.6791\n",
      "Epoch 4/100\n",
      "342/342 [==============================] - 4s 11ms/step - loss: 0.4582 - accuracy: 0.8210 - val_loss: 0.7011 - val_accuracy: 0.7162\n",
      "Epoch 5/100\n",
      "342/342 [==============================] - 4s 11ms/step - loss: 0.3904 - accuracy: 0.8502 - val_loss: 1.2469 - val_accuracy: 0.6580\n",
      "Epoch 6/100\n",
      "342/342 [==============================] - 4s 11ms/step - loss: 0.3362 - accuracy: 0.8697 - val_loss: 1.2553 - val_accuracy: 0.6382\n",
      "Epoch 7/100\n",
      "342/342 [==============================] - 4s 11ms/step - loss: 0.2821 - accuracy: 0.8920 - val_loss: 0.3385 - val_accuracy: 0.8662\n",
      "Epoch 8/100\n",
      "342/342 [==============================] - 4s 11ms/step - loss: 0.2374 - accuracy: 0.9112 - val_loss: 1.3335 - val_accuracy: 0.6071\n",
      "Epoch 9/100\n",
      "342/342 [==============================] - 4s 11ms/step - loss: 0.2116 - accuracy: 0.9188 - val_loss: 0.1429 - val_accuracy: 0.9489\n",
      "Epoch 10/100\n",
      "342/342 [==============================] - 4s 11ms/step - loss: 0.1896 - accuracy: 0.9321 - val_loss: 0.1600 - val_accuracy: 0.9401\n",
      "Epoch 11/100\n",
      "342/342 [==============================] - 4s 11ms/step - loss: 0.1628 - accuracy: 0.9409 - val_loss: 0.1143 - val_accuracy: 0.9604\n",
      "Epoch 12/100\n",
      "342/342 [==============================] - 4s 11ms/step - loss: 0.1627 - accuracy: 0.9426 - val_loss: 5.5567 - val_accuracy: 0.3695\n",
      "Epoch 13/100\n",
      "342/342 [==============================] - 4s 11ms/step - loss: 0.1468 - accuracy: 0.9472 - val_loss: 0.5414 - val_accuracy: 0.8555\n",
      "Epoch 14/100\n",
      "342/342 [==============================] - 4s 11ms/step - loss: 0.1282 - accuracy: 0.9540 - val_loss: 0.8364 - val_accuracy: 0.7654\n",
      "Epoch 15/100\n",
      "342/342 [==============================] - 4s 11ms/step - loss: 0.1235 - accuracy: 0.9561 - val_loss: 0.3079 - val_accuracy: 0.8995\n",
      "Epoch 16/100\n",
      "342/342 [==============================] - 4s 11ms/step - loss: 0.1291 - accuracy: 0.9534 - val_loss: 0.2331 - val_accuracy: 0.9168\n",
      "Epoch 17/100\n",
      "342/342 [==============================] - 4s 11ms/step - loss: 0.1115 - accuracy: 0.9583 - val_loss: 2.0796 - val_accuracy: 0.5959\n",
      "Epoch 18/100\n",
      "342/342 [==============================] - 4s 11ms/step - loss: 0.1000 - accuracy: 0.9647 - val_loss: 0.2454 - val_accuracy: 0.9179\n",
      "Epoch 19/100\n",
      "342/342 [==============================] - 4s 11ms/step - loss: 0.0931 - accuracy: 0.9656 - val_loss: 0.4921 - val_accuracy: 0.8547\n",
      "Epoch 20/100\n",
      "342/342 [==============================] - 4s 11ms/step - loss: 0.0984 - accuracy: 0.9646 - val_loss: 0.4303 - val_accuracy: 0.8527\n",
      "Epoch 21/100\n",
      "342/342 [==============================] - 4s 11ms/step - loss: 0.0812 - accuracy: 0.9712 - val_loss: 0.8812 - val_accuracy: 0.7745\n",
      "342/342 [==============================] - 1s 4ms/step - loss: 0.7470 - accuracy: 0.7977\n",
      "Train:  [0.7470071911811829, 0.7977105975151062]\n",
      "114/114 [==============================] - 0s 4ms/step - loss: 0.8812 - accuracy: 0.7745\n",
      "Valid:  [0.8812254071235657, 0.7744505405426025]\n"
     ]
    }
   ],
   "source": [
    "Input = keras.layers.Input(shape=X[0].shape)\n",
    "\n",
    "x = keras.layers.Conv2D(16, kernel_size=7, activation=\"relu\",kernel_initializer=\"he_normal\", padding=\"same\")(Input)\n",
    "x = keras.layers.BatchNormalization()(x)\n",
    "x = keras.layers.MaxPool2D(2)(x)\n",
    "\n",
    "x = keras.layers.Dropout(0.2)(x)\n",
    "\n",
    "shortcut =x\n",
    "x = keras.layers.Conv2D(32, kernel_size=5, activation=\"relu\",kernel_initializer=\"he_normal\", padding=\"same\")(x)\n",
    "x   = keras.layers.BatchNormalization()(x)\n",
    "x = keras.layers.Conv2D(32, kernel_size=5, activation=\"relu\",kernel_initializer=\"he_normal\", padding=\"same\")(x)\n",
    "x   = keras.layers.BatchNormalization()(x)\n",
    "x = keras.layers.Conv2D(32, kernel_size=5, activation=\"relu\",kernel_initializer=\"he_normal\", padding=\"same\")(x)\n",
    "x   = keras.layers.BatchNormalization()(x)\n",
    "shortcut = keras.layers.Conv2D(32, kernel_size=5, activation=\"relu\",kernel_initializer=\"he_normal\", padding=\"same\")(shortcut)\n",
    "x = keras.layers.Add()([x, shortcut])\n",
    "x = keras.layers.MaxPool2D(2)(x)\n",
    "\n",
    "\n",
    "x = keras.layers.Dropout(0.2)(x)\n",
    "\n",
    "\n",
    "shortcut =x\n",
    "x = keras.layers.Conv2D(64, kernel_size=3, activation=\"relu\",kernel_initializer=\"he_normal\", padding=\"same\")(x)\n",
    "x = keras.layers.BatchNormalization()(x)\n",
    "x = keras.layers.Conv2D(64, kernel_size=3, activation=\"relu\",kernel_initializer=\"he_normal\", padding=\"same\")(x)\n",
    "x = keras.layers.BatchNormalization()(x)\n",
    "shortcut = keras.layers.Conv2D(64, kernel_size=3, activation=\"relu\",kernel_initializer=\"he_normal\", padding=\"same\")(shortcut)\n",
    "x = keras.layers.Add()([x, shortcut])\n",
    "x = keras.layers.MaxPool2D(2)(x)\n",
    "\n",
    "x = keras.layers.Dropout(0.2)(x)\n",
    "\n",
    "\n",
    "x = keras.layers.Flatten()(x)\n",
    "Output = keras.layers.Dense(128, activation=\"softmax\")(x)\n",
    "Output = keras.layers.Dense(4, activation=\"softmax\")(x)\n",
    "\n",
    "model = keras.models.Model(inputs = Input, outputs = Output)\n",
    "model.compile(loss=\"categorical_crossentropy\",\n",
    "optimizer=keras.optimizers.Adam(learning_rate=0.0005), metrics=[\"accuracy\"])\n",
    "\n",
    "history = model.fit(X_train, y_train, validation_data=(X_test, y_test),callbacks=[es],epochs = 100)\n",
    "print(\"Train: \", model.evaluate(X_train, y_train))\n",
    "print(\"Valid: \", model.evaluate(X_test, y_test))"
   ]
  },
  {
   "cell_type": "code",
   "execution_count": 31,
   "id": "9e17aadd",
   "metadata": {
    "ExecuteTime": {
     "end_time": "2022-04-27T09:36:30.064635Z",
     "start_time": "2022-04-27T09:36:29.920900Z"
    }
   },
   "outputs": [
    {
     "data": {
      "text/plain": [
       "[<matplotlib.lines.Line2D at 0x1f9954c6310>]"
      ]
     },
     "execution_count": 31,
     "metadata": {},
     "output_type": "execute_result"
    },
    {
     "data": {
      "image/png": "[encoded data removed]",
      "text/plain": [
       "<Figure size 432x288 with 1 Axes>"
      ]
     },
     "metadata": {
      "needs_background": "light"
     },
     "output_type": "display_data"
    }
   ],
   "source": [
    "plt.plot(history.history[\"accuracy\"])\n",
    "plt.plot(history.history[\"val_accuracy\"])"
   ]
  },
  {
   "cell_type": "code",
   "execution_count": 53,
   "id": "95738f3e",
   "metadata": {
    "ExecuteTime": {
     "end_time": "2022-04-25T13:18:34.414016Z",
     "start_time": "2022-04-25T13:13:08.679362Z"
    }
   },
   "outputs": [
    {
     "name": "stdout",
     "output_type": "stream",
     "text": [
      "Epoch 1/100\n",
      "342/342 [==============================] - 9s 22ms/step - loss: 1.2567 - accuracy: 0.5094 - val_loss: 6.0108 - val_accuracy: 0.1843\n",
      "Epoch 2/100\n",
      "342/342 [==============================] - 7s 20ms/step - loss: 0.8914 - accuracy: 0.6069 - val_loss: 1.6057 - val_accuracy: 0.38520.8933 - ac\n",
      "Epoch 3/100\n",
      "342/342 [==============================] - 7s 20ms/step - loss: 0.8027 - accuracy: 0.6413 - val_loss: 1.1913 - val_accuracy: 0.5055\n",
      "Epoch 4/100\n",
      "342/342 [==============================] - 7s 20ms/step - loss: 0.7376 - accuracy: 0.6669 - val_loss: 1.0158 - val_accuracy: 0.5698\n",
      "Epoch 5/100\n",
      "342/342 [==============================] - 7s 20ms/step - loss: 0.6785 - accuracy: 0.7019 - val_loss: 0.9936 - val_accuracy: 0.5841\n",
      "Epoch 6/100\n",
      "342/342 [==============================] - 7s 20ms/step - loss: 0.6330 - accuracy: 0.7190 - val_loss: 1.1246 - val_accuracy: 0.5363\n",
      "Epoch 7/100\n",
      "342/342 [==============================] - 7s 20ms/step - loss: 0.6001 - accuracy: 0.7433 - val_loss: 0.9858 - val_accuracy: 0.5962\n",
      "Epoch 8/100\n",
      "342/342 [==============================] - 7s 20ms/step - loss: 0.5657 - accuracy: 0.7556 - val_loss: 0.8861 - val_accuracy: 0.6547\n",
      "Epoch 9/100\n",
      "342/342 [==============================] - 7s 20ms/step - loss: 0.5305 - accuracy: 0.7787 - val_loss: 0.7493 - val_accuracy: 0.7036\n",
      "Epoch 10/100\n",
      "342/342 [==============================] - 7s 20ms/step - loss: 0.4982 - accuracy: 0.7908 - val_loss: 0.8426 - val_accuracy: 0.7022\n",
      "Epoch 11/100\n",
      "342/342 [==============================] - 7s 20ms/step - loss: 0.4686 - accuracy: 0.8055 - val_loss: 0.9809 - val_accuracy: 0.6360\n",
      "Epoch 12/100\n",
      "342/342 [==============================] - 7s 20ms/step - loss: 0.4356 - accuracy: 0.8166 - val_loss: 0.5446 - val_accuracy: 0.7962\n",
      "Epoch 13/100\n",
      "342/342 [==============================] - 7s 20ms/step - loss: 0.4120 - accuracy: 0.8321 - val_loss: 0.6063 - val_accuracy: 0.7668\n",
      "Epoch 14/100\n",
      "342/342 [==============================] - 7s 20ms/step - loss: 0.3884 - accuracy: 0.8418 - val_loss: 0.6286 - val_accuracy: 0.7717\n",
      "Epoch 15/100\n",
      "342/342 [==============================] - 7s 20ms/step - loss: 0.3582 - accuracy: 0.8519 - val_loss: 0.4975 - val_accuracy: 0.8140\n",
      "Epoch 16/100\n",
      "342/342 [==============================] - 7s 20ms/step - loss: 0.3455 - accuracy: 0.8644 - val_loss: 0.3934 - val_accuracy: 0.8442\n",
      "Epoch 17/100\n",
      "342/342 [==============================] - 7s 20ms/step - loss: 0.3153 - accuracy: 0.8751 - val_loss: 0.4277 - val_accuracy: 0.8335\n",
      "Epoch 18/100\n",
      "342/342 [==============================] - 7s 20ms/step - loss: 0.2961 - accuracy: 0.8836 - val_loss: 0.3800 - val_accuracy: 0.8497\n",
      "Epoch 19/100\n",
      "342/342 [==============================] - 7s 20ms/step - loss: 0.2845 - accuracy: 0.8888 - val_loss: 0.4450 - val_accuracy: 0.8363\n",
      "Epoch 20/100\n",
      "342/342 [==============================] - 7s 20ms/step - loss: 0.2571 - accuracy: 0.8990 - val_loss: 0.2741 - val_accuracy: 0.8992\n",
      "Epoch 21/100\n",
      "342/342 [==============================] - 7s 20ms/step - loss: 0.2576 - accuracy: 0.9004 - val_loss: 0.3711 - val_accuracy: 0.8555\n",
      "Epoch 22/100\n",
      "342/342 [==============================] - 7s 20ms/step - loss: 0.2350 - accuracy: 0.9086 - val_loss: 0.3143 - val_accuracy: 0.8852\n",
      "Epoch 23/100\n",
      "342/342 [==============================] - 7s 20ms/step - loss: 0.2127 - accuracy: 0.9163 - val_loss: 0.3495 - val_accuracy: 0.8764\n",
      "Epoch 24/100\n",
      "342/342 [==============================] - 7s 20ms/step - loss: 0.1997 - accuracy: 0.9257 - val_loss: 0.2674 - val_accuracy: 0.9088\n",
      "Epoch 25/100\n",
      "342/342 [==============================] - 7s 20ms/step - loss: 0.1907 - accuracy: 0.9246 - val_loss: 0.3025 - val_accuracy: 0.8918\n",
      "Epoch 26/100\n",
      "342/342 [==============================] - 7s 20ms/step - loss: 0.1736 - accuracy: 0.9327 - val_loss: 0.1920 - val_accuracy: 0.9360\n",
      "Epoch 27/100\n",
      "342/342 [==============================] - 7s 20ms/step - loss: 0.1684 - accuracy: 0.9355 - val_loss: 0.2628 - val_accuracy: 0.9041A: 1s - loss: 0.1681 - accuracy - E\n",
      "Epoch 28/100\n",
      "342/342 [==============================] - 7s 20ms/step - loss: 0.1557 - accuracy: 0.9425 - val_loss: 0.2663 - val_accuracy: 0.9047163 - ETA: 0s\n",
      "Epoch 29/100\n",
      "342/342 [==============================] - 7s 20ms/step - loss: 0.1442 - accuracy: 0.9462 - val_loss: 0.2436 - val_accuracy: 0.9146\n",
      "Epoch 30/100\n",
      "342/342 [==============================] - 7s 20ms/step - loss: 0.1421 - accuracy: 0.9460 - val_loss: 0.1754 - val_accuracy: 0.9409\n",
      "Epoch 31/100\n",
      "342/342 [==============================] - 7s 20ms/step - loss: 0.1292 - accuracy: 0.9512 - val_loss: 0.3999 - val_accuracy: 0.8761\n",
      "Epoch 32/100\n",
      "342/342 [==============================] - 7s 20ms/step - loss: 0.1238 - accuracy: 0.9530 - val_loss: 0.2365 - val_accuracy: 0.9168\n",
      "Epoch 33/100\n",
      "342/342 [==============================] - 7s 20ms/step - loss: 0.1201 - accuracy: 0.9552 - val_loss: 0.3593 - val_accuracy: 0.8712\n",
      "Epoch 34/100\n",
      "342/342 [==============================] - 7s 20ms/step - loss: 0.1100 - accuracy: 0.9606 - val_loss: 0.3876 - val_accuracy: 0.8777 accuracy: 0.\n",
      "Epoch 35/100\n",
      "342/342 [==============================] - 7s 20ms/step - loss: 0.0990 - accuracy: 0.9634 - val_loss: 0.2098 - val_accuracy: 0.9297\n",
      "Epoch 36/100\n",
      "342/342 [==============================] - 7s 20ms/step - loss: 0.0961 - accuracy: 0.9641 - val_loss: 0.1132 - val_accuracy: 0.9646\n",
      "Epoch 37/100\n",
      "342/342 [==============================] - 7s 20ms/step - loss: 0.1021 - accuracy: 0.9622 - val_loss: 0.1405 - val_accuracy: 0.9541\n",
      "Epoch 38/100\n",
      "342/342 [==============================] - 7s 20ms/step - loss: 0.0897 - accuracy: 0.9673 - val_loss: 0.2319 - val_accuracy: 0.9291\n",
      "Epoch 39/100\n",
      "342/342 [==============================] - 7s 20ms/step - loss: 0.0850 - accuracy: 0.9681 - val_loss: 0.3765 - val_accuracy: 0.8791\n",
      "Epoch 40/100\n",
      "342/342 [==============================] - 7s 20ms/step - loss: 0.0820 - accuracy: 0.9722 - val_loss: 0.1293 - val_accuracy: 0.9549\n",
      "Epoch 41/100\n",
      "342/342 [==============================] - 7s 20ms/step - loss: 0.0784 - accuracy: 0.9722 - val_loss: 0.2127 - val_accuracy: 0.9299\n",
      "Epoch 42/100\n",
      "342/342 [==============================] - 7s 20ms/step - loss: 0.0764 - accuracy: 0.9716 - val_loss: 0.1874 - val_accuracy: 0.9453\n",
      "Epoch 43/100\n",
      "342/342 [==============================] - 7s 20ms/step - loss: 0.0714 - accuracy: 0.9742 - val_loss: 0.1199 - val_accuracy: 0.9588\n",
      "Epoch 44/100\n",
      "342/342 [==============================] - 7s 20ms/step - loss: 0.0691 - accuracy: 0.9750 - val_loss: 0.3140 - val_accuracy: 0.9052\n",
      "Epoch 45/100\n",
      "342/342 [==============================] - 8s 22ms/step - loss: 0.0643 - accuracy: 0.9769 - val_loss: 0.1486 - val_accuracy: 0.9577\n",
      "Epoch 46/100\n",
      "342/342 [==============================] - 8s 24ms/step - loss: 0.0579 - accuracy: 0.9784 - val_loss: 0.2946 - val_accuracy: 0.9104\n",
      "342/342 [==============================] - 3s 8ms/step - loss: 0.1530 - accuracy: 0.9384\n",
      "Train:  [0.15304121375083923, 0.9383699893951416]\n",
      "114/114 [==============================] - 1s 8ms/step - loss: 0.2946 - accuracy: 0.9104: 0s - loss: 0.2942 - accu\n",
      "Valid:  [0.2946361303329468, 0.9104395508766174]\n"
     ]
    }
   ],
   "source": [
    "Input = keras.layers.Input(shape=X[0].shape)\n",
    "\n",
    "x = keras.layers.Conv2D(16, kernel_size=7, activation=\"relu\",kernel_initializer=\"he_normal\", padding=\"same\")(Input)\n",
    "x = keras.layers.BatchNormalization()(x)\n",
    "x = keras.layers.MaxPool2D(2)(x)\n",
    "\n",
    "x = keras.layers.Dropout(0.2)(x)\n",
    "\n",
    "shortcut =x\n",
    "x = keras.layers.Conv2D(32, kernel_size=3, activation=\"relu\",kernel_initializer=\"he_normal\", padding=\"same\")(x)\n",
    "x = keras.layers.BatchNormalization()(x)\n",
    "x = keras.layers.Conv2D(32, kernel_size=3, activation=\"relu\",kernel_initializer=\"he_normal\", padding=\"same\")(x)\n",
    "x = keras.layers.BatchNormalization()(x)\n",
    "x = keras.layers.Conv2D(32, kernel_size=3, activation=\"relu\",kernel_initializer=\"he_normal\", padding=\"same\")(x)\n",
    "shortcut = keras.layers.Conv2D(32, kernel_size=5, activation=\"relu\",kernel_initializer=\"he_normal\", padding=\"same\")(shortcut)\n",
    "x = keras.layers.Add()([x, shortcut])\n",
    "x   = keras.layers.BatchNormalization()(x)\n",
    "x = keras.layers.MaxPool2D(2)(x)\n",
    "\n",
    "\n",
    "x = keras.layers.Dropout(0.2)(x)\n",
    "\n",
    "\n",
    "shortcut =x\n",
    "x = keras.layers.Conv2D(64, kernel_size=3, activation=\"relu\",kernel_initializer=\"he_normal\", padding=\"same\")(x)\n",
    "x = keras.layers.BatchNormalization()(x)\n",
    "x = keras.layers.Conv2D(64, kernel_size=3, activation=\"relu\",kernel_initializer=\"he_normal\", padding=\"same\")(x)\n",
    "x = keras.layers.BatchNormalization()(x)\n",
    "x = keras.layers.Conv2D(64, kernel_size=3, activation=\"relu\",kernel_initializer=\"he_normal\", padding=\"same\")(x)\n",
    "shortcut = keras.layers.Conv2D(64, kernel_size=3, activation=\"relu\",kernel_initializer=\"he_normal\", padding=\"same\")(shortcut)\n",
    "x = keras.layers.Add()([x, shortcut])\n",
    "x = keras.layers.BatchNormalization()(x)\n",
    "x = keras.layers.MaxPool2D(2)(x)\n",
    "\n",
    "x = keras.layers.Dropout(0.2)(x)\n",
    "\n",
    "shortcut =x\n",
    "x = keras.layers.Conv2D(128, kernel_size=3, activation=\"relu\",kernel_initializer=\"he_normal\", padding=\"same\")(x)\n",
    "x = keras.layers.BatchNormalization()(x)\n",
    "x = keras.layers.Conv2D(128, kernel_size=3, activation=\"relu\",kernel_initializer=\"he_normal\", padding=\"same\")(x)\n",
    "x = keras.layers.BatchNormalization()(x)\n",
    "x = keras.layers.Conv2D(128, kernel_size=3, activation=\"relu\",kernel_initializer=\"he_normal\", padding=\"same\")(x)\n",
    "shortcut = keras.layers.Conv2D(128, kernel_size=3, activation=\"relu\",kernel_initializer=\"he_normal\", padding=\"same\")(shortcut)\n",
    "x = keras.layers.Add()([x, shortcut])\n",
    "x = keras.layers.BatchNormalization()(x)\n",
    "x = keras.layers.MaxPool2D(2)(x)\n",
    "\n",
    "x = keras.layers.Dropout(0.2)(x)\n",
    "\n",
    "shortcut =x\n",
    "x = keras.layers.Conv2D(256, kernel_size=3, activation=\"relu\",kernel_initializer=\"he_normal\", padding=\"same\")(x)\n",
    "x = keras.layers.BatchNormalization()(x)\n",
    "x = keras.layers.Conv2D(256, kernel_size=3, activation=\"relu\",kernel_initializer=\"he_normal\", padding=\"same\")(x)\n",
    "x = keras.layers.BatchNormalization()(x)\n",
    "x = keras.layers.Conv2D(256, kernel_size=3, activation=\"relu\",kernel_initializer=\"he_normal\", padding=\"same\")(x)\n",
    "shortcut = keras.layers.Conv2D(256, kernel_size=3, activation=\"relu\",kernel_initializer=\"he_normal\", padding=\"same\")(shortcut)\n",
    "x = keras.layers.Add()([x, shortcut])\n",
    "x = keras.layers.BatchNormalization()(x)\n",
    "x = keras.layers.MaxPool2D(2)(x)\n",
    "\n",
    "x = keras.layers.Flatten()(x)\n",
    "Output = keras.layers.Dense(128, activation=\"softmax\")(x)\n",
    "Output = keras.layers.Dense(4, activation=\"softmax\")(x)\n",
    "\n",
    "model = keras.models.Model(inputs = Input, outputs = Output)\n",
    "model.compile(loss=\"categorical_crossentropy\",\n",
    "optimizer=keras.optimizers.Adam(learning_rate=0.0001), metrics=[\"accuracy\"])\n",
    "\n",
    "history = model.fit(X_train, y_train, validation_data=(X_test, y_test),callbacks=[es],epochs = 100)\n",
    "print(\"Train: \", model.evaluate(X_train, y_train))\n",
    "print(\"Valid: \", model.evaluate(X_test, y_test))"
   ]
  },
  {
   "cell_type": "code",
   "execution_count": 51,
   "id": "9d466160",
   "metadata": {
    "ExecuteTime": {
     "end_time": "2022-04-25T13:04:33.806182Z",
     "start_time": "2022-04-25T13:04:33.702673Z"
    }
   },
   "outputs": [
    {
     "data": {
      "text/plain": [
       "[<matplotlib.lines.Line2D at 0x1d2aaeaffa0>]"
      ]
     },
     "execution_count": 51,
     "metadata": {},
     "output_type": "execute_result"
    },
    {
     "data": {
      "image/png": "[encoded data removed]",
      "text/plain": [
       "<Figure size 432x288 with 1 Axes>"
      ]
     },
     "metadata": {
      "needs_background": "light"
     },
     "output_type": "display_data"
    }
   ],
   "source": [
    "plt.plot(history.history[\"accuracy\"])\n",
    "plt.plot(history.history[\"val_accuracy\"])"
   ]
  },
  {
   "cell_type": "code",
   "execution_count": null,
   "id": "d0d54872",
   "metadata": {
    "ExecuteTime": {
     "end_time": "2022-04-25T12:26:53.012370Z",
     "start_time": "2022-04-25T12:26:53.012370Z"
    }
   },
   "outputs": [],
   "source": [
    "X_train, X_test, y_train, y_test = train_test_split(X_, y, stratify=y, shuffle=True)"
   ]
  },
  {
   "cell_type": "code",
   "execution_count": 47,
   "id": "cbf45c12",
   "metadata": {
    "ExecuteTime": {
     "end_time": "2022-04-27T09:44:12.249307Z",
     "start_time": "2022-04-27T09:43:33.293976Z"
    }
   },
   "outputs": [
    {
     "name": "stdout",
     "output_type": "stream",
     "text": [
      "Epoch 1/100\n",
      "171/171 [==============================] - 2s 8ms/step - loss: 1.3746 - accuracy: 0.4495 - val_loss: 1.4827 - val_accuracy: 0.2714\n",
      "Epoch 2/100\n",
      "171/171 [==============================] - 1s 6ms/step - loss: 0.9303 - accuracy: 0.5949 - val_loss: 1.4243 - val_accuracy: 0.3885\n",
      "Epoch 3/100\n",
      "171/171 [==============================] - 1s 6ms/step - loss: 0.7699 - accuracy: 0.6661 - val_loss: 0.8896 - val_accuracy: 0.6082\n",
      "Epoch 4/100\n",
      "171/171 [==============================] - 1s 6ms/step - loss: 0.6585 - accuracy: 0.7167 - val_loss: 0.6796 - val_accuracy: 0.7137\n",
      "Epoch 5/100\n",
      "171/171 [==============================] - 1s 6ms/step - loss: 0.5784 - accuracy: 0.7612 - val_loss: 0.6007 - val_accuracy: 0.7538\n",
      "Epoch 6/100\n",
      "171/171 [==============================] - 1s 6ms/step - loss: 0.5212 - accuracy: 0.7978 - val_loss: 0.5697 - val_accuracy: 0.7698\n",
      "Epoch 7/100\n",
      "171/171 [==============================] - 1s 6ms/step - loss: 0.4662 - accuracy: 0.8240 - val_loss: 0.5256 - val_accuracy: 0.7890\n",
      "Epoch 8/100\n",
      "171/171 [==============================] - 1s 6ms/step - loss: 0.4244 - accuracy: 0.8403 - val_loss: 0.5013 - val_accuracy: 0.8027\n",
      "Epoch 9/100\n",
      "171/171 [==============================] - 1s 6ms/step - loss: 0.3922 - accuracy: 0.8579 - val_loss: 0.4892 - val_accuracy: 0.8110\n",
      "Epoch 10/100\n",
      "171/171 [==============================] - 1s 6ms/step - loss: 0.3566 - accuracy: 0.8733 - val_loss: 0.4650 - val_accuracy: 0.8088\n",
      "Epoch 11/100\n",
      "171/171 [==============================] - 1s 6ms/step - loss: 0.3286 - accuracy: 0.8870 - val_loss: 0.4448 - val_accuracy: 0.8236\n",
      "Epoch 12/100\n",
      "171/171 [==============================] - 1s 6ms/step - loss: 0.3034 - accuracy: 0.8949 - val_loss: 0.4342 - val_accuracy: 0.8302\n",
      "Epoch 13/100\n",
      "171/171 [==============================] - 1s 6ms/step - loss: 0.2841 - accuracy: 0.9042 - val_loss: 0.4152 - val_accuracy: 0.8434\n",
      "Epoch 14/100\n",
      "171/171 [==============================] - 1s 6ms/step - loss: 0.2542 - accuracy: 0.9218 - val_loss: 0.4185 - val_accuracy: 0.8319\n",
      "Epoch 15/100\n",
      "171/171 [==============================] - 1s 6ms/step - loss: 0.2407 - accuracy: 0.9211 - val_loss: 0.4010 - val_accuracy: 0.8566\n",
      "Epoch 16/100\n",
      "171/171 [==============================] - 1s 6ms/step - loss: 0.2225 - accuracy: 0.9300 - val_loss: 0.3968 - val_accuracy: 0.8467\n",
      "Epoch 17/100\n",
      "171/171 [==============================] - 1s 6ms/step - loss: 0.2098 - accuracy: 0.9368 - val_loss: 0.3820 - val_accuracy: 0.8599\n",
      "Epoch 18/100\n",
      "171/171 [==============================] - 1s 6ms/step - loss: 0.1894 - accuracy: 0.9440 - val_loss: 0.3824 - val_accuracy: 0.8637\n",
      "Epoch 19/100\n",
      "171/171 [==============================] - 1s 6ms/step - loss: 0.1809 - accuracy: 0.9456 - val_loss: 0.3793 - val_accuracy: 0.8588\n",
      "Epoch 20/100\n",
      "171/171 [==============================] - 1s 6ms/step - loss: 0.1670 - accuracy: 0.9533 - val_loss: 0.3687 - val_accuracy: 0.8610\n",
      "Epoch 21/100\n",
      "171/171 [==============================] - 1s 6ms/step - loss: 0.1537 - accuracy: 0.9592 - val_loss: 0.3764 - val_accuracy: 0.8577\n",
      "Epoch 22/100\n",
      "171/171 [==============================] - 1s 6ms/step - loss: 0.1417 - accuracy: 0.9628 - val_loss: 0.3759 - val_accuracy: 0.8615\n",
      "Epoch 23/100\n",
      "171/171 [==============================] - 1s 6ms/step - loss: 0.1269 - accuracy: 0.9696 - val_loss: 0.3720 - val_accuracy: 0.8654\n",
      "Epoch 24/100\n",
      "171/171 [==============================] - 1s 6ms/step - loss: 0.1178 - accuracy: 0.9755 - val_loss: 0.3975 - val_accuracy: 0.8434\n",
      "Epoch 25/100\n",
      "171/171 [==============================] - 1s 6ms/step - loss: 0.1137 - accuracy: 0.9767 - val_loss: 0.3680 - val_accuracy: 0.8720\n",
      "Epoch 26/100\n",
      "171/171 [==============================] - 1s 6ms/step - loss: 0.1041 - accuracy: 0.9788 - val_loss: 0.3711 - val_accuracy: 0.8604\n",
      "Epoch 27/100\n",
      "171/171 [==============================] - 1s 6ms/step - loss: 0.0941 - accuracy: 0.9835 - val_loss: 0.3655 - val_accuracy: 0.8758\n",
      "Epoch 28/100\n",
      "171/171 [==============================] - 1s 6ms/step - loss: 0.0850 - accuracy: 0.9857 - val_loss: 0.3694 - val_accuracy: 0.8670\n",
      "Epoch 29/100\n",
      "171/171 [==============================] - 1s 6ms/step - loss: 0.0777 - accuracy: 0.9883 - val_loss: 0.3705 - val_accuracy: 0.8709\n",
      "Epoch 30/100\n",
      "171/171 [==============================] - 1s 6ms/step - loss: 0.0690 - accuracy: 0.9908 - val_loss: 0.3692 - val_accuracy: 0.8703\n",
      "Epoch 31/100\n",
      "171/171 [==============================] - 1s 6ms/step - loss: 0.0662 - accuracy: 0.9910 - val_loss: 0.3838 - val_accuracy: 0.8582\n",
      "Epoch 32/100\n",
      "171/171 [==============================] - 1s 6ms/step - loss: 0.0588 - accuracy: 0.9940 - val_loss: 0.3751 - val_accuracy: 0.8742\n",
      "Epoch 33/100\n",
      "171/171 [==============================] - 1s 6ms/step - loss: 0.0549 - accuracy: 0.9952 - val_loss: 0.3825 - val_accuracy: 0.8709\n",
      "Epoch 34/100\n",
      "171/171 [==============================] - 1s 6ms/step - loss: 0.0511 - accuracy: 0.9954 - val_loss: 0.3800 - val_accuracy: 0.8731\n",
      "Epoch 35/100\n",
      "171/171 [==============================] - 1s 6ms/step - loss: 0.0456 - accuracy: 0.9969 - val_loss: 0.3832 - val_accuracy: 0.8703\n",
      "Epoch 36/100\n",
      "171/171 [==============================] - 1s 6ms/step - loss: 0.0432 - accuracy: 0.9971 - val_loss: 0.3892 - val_accuracy: 0.8654\n",
      "Epoch 37/100\n",
      "171/171 [==============================] - 1s 6ms/step - loss: 0.0374 - accuracy: 0.9978 - val_loss: 0.3837 - val_accuracy: 0.8720\n",
      "171/171 [==============================] - 1s 3ms/step - loss: 0.0296 - accuracy: 1.0000\n",
      "Train:  [0.02955310232937336, 1.0]\n",
      "57/57 [==============================] - 0s 3ms/step - loss: 0.3837 - accuracy: 0.8720\n",
      "Valid:  [0.38370075821876526, 0.8719780445098877]\n"
     ]
    }
   ],
   "source": [
    "Input = keras.layers.Input(shape=X[0].shape)\n",
    "x = keras.layers.Conv2D(16, kernel_size=7, activation=\"relu\",kernel_initializer=\"he_normal\", padding=\"same\")(Input)\n",
    "x = keras.layers.BatchNormalization()(x)\n",
    "x = keras.layers.MaxPool2D(2)(x)\n",
    "\n",
    "x = keras.layers.Conv2D(32, kernel_size=5, activation=\"relu\",kernel_initializer=\"he_normal\", padding=\"same\")(x)\n",
    "x   = keras.layers.BatchNormalization()(x)\n",
    "x = keras.layers.MaxPool2D(2)(x)\n",
    "\n",
    "x = keras.layers.Conv2D(64, kernel_size=3, activation=\"relu\",kernel_initializer=\"he_normal\", padding=\"same\")(x)\n",
    "x = keras.layers.BatchNormalization()(x)\n",
    "x = keras.layers.MaxPool2D(2)(x)\n",
    "\n",
    "x = keras.layers.Flatten()(x)\n",
    "Output = keras.layers.Dense(4, activation=\"softmax\")(x)\n",
    "\n",
    "model = keras.models.Model(inputs = Input, outputs = Output)\n",
    "model.compile(loss=\"categorical_crossentropy\",\n",
    "optimizer=keras.optimizers.Adam(learning_rate=0.0001), metrics=[\"accuracy\"])\n",
    "\n",
    "history = model.fit(X_train, y_train, validation_data=(X_test, y_test),callbacks=[es],epochs = 100)\n",
    "print(\"Train: \", model.evaluate(X_train, y_train))\n",
    "print(\"Valid: \", model.evaluate(X_test, y_test))"
   ]
  },
  {
   "cell_type": "code",
   "execution_count": 38,
   "id": "3d9de208",
   "metadata": {
    "ExecuteTime": {
     "end_time": "2022-04-27T09:40:30.456438Z",
     "start_time": "2022-04-27T09:40:30.349249Z"
    }
   },
   "outputs": [
    {
     "data": {
      "text/plain": [
       "[<matplotlib.lines.Line2D at 0x1f91f863a00>]"
      ]
     },
     "execution_count": 38,
     "metadata": {},
     "output_type": "execute_result"
    },
    {
     "data": {
      "image/png": "[encoded data removed]",
      "text/plain": [
       "<Figure size 432x288 with 1 Axes>"
      ]
     },
     "metadata": {
      "needs_background": "light"
     },
     "output_type": "display_data"
    }
   ],
   "source": [
    "plt.plot(history.history[\"accuracy\"])\n",
    "plt.plot(history.history[\"val_accuracy\"])"
   ]
  },
  {
   "cell_type": "code",
   "execution_count": 41,
   "id": "a857f0c0",
   "metadata": {
    "ExecuteTime": {
     "end_time": "2022-04-27T09:41:52.918136Z",
     "start_time": "2022-04-27T09:41:52.819409Z"
    }
   },
   "outputs": [
    {
     "data": {
      "text/plain": [
       "[<matplotlib.lines.Line2D at 0x1f91df22b80>]"
      ]
     },
     "execution_count": 41,
     "metadata": {},
     "output_type": "execute_result"
    },
    {
     "data": {
      "image/png": "[encoded data removed]",
      "text/plain": [
       "<Figure size 432x288 with 1 Axes>"
      ]
     },
     "metadata": {
      "needs_background": "light"
     },
     "output_type": "display_data"
    }
   ],
   "source": [
    "plt.plot(history.history[\"accuracy\"])\n",
    "plt.plot(history.history[\"val_accuracy\"])"
   ]
  },
  {
   "cell_type": "code",
   "execution_count": 46,
   "id": "dc25619c",
   "metadata": {
    "ExecuteTime": {
     "end_time": "2022-04-27T09:42:59.433737Z",
     "start_time": "2022-04-27T09:42:59.313303Z"
    }
   },
   "outputs": [
    {
     "data": {
      "text/plain": [
       "[<matplotlib.lines.Line2D at 0x1f91f97dd60>]"
      ]
     },
     "execution_count": 46,
     "metadata": {},
     "output_type": "execute_result"
    },
    {
     "data": {
      "image/png": "[encoded data removed]",
      "text/plain": [
       "<Figure size 432x288 with 1 Axes>"
      ]
     },
     "metadata": {
      "needs_background": "light"
     },
     "output_type": "display_data"
    }
   ],
   "source": [
    "plt.plot(history.history[\"accuracy\"])\n",
    "plt.plot(history.history[\"val_accuracy\"])"
   ]
  },
  {
   "cell_type": "code",
   "execution_count": 48,
   "id": "efb90f21",
   "metadata": {
    "ExecuteTime": {
     "end_time": "2022-04-27T09:44:12.428481Z",
     "start_time": "2022-04-27T09:44:12.324277Z"
    }
   },
   "outputs": [
    {
     "data": {
      "text/plain": [
       "[<matplotlib.lines.Line2D at 0x1f9950f08b0>]"
      ]
     },
     "execution_count": 48,
     "metadata": {},
     "output_type": "execute_result"
    },
    {
     "data": {
      "image/png": "[encoded data removed]",
      "text/plain": [
       "<Figure size 432x288 with 1 Axes>"
      ]
     },
     "metadata": {
      "needs_background": "light"
     },
     "output_type": "display_data"
    }
   ],
   "source": [
    "plt.plot(history.history[\"accuracy\"])\n",
    "plt.plot(history.history[\"val_accuracy\"])"
   ]
  },
  {
   "cell_type": "code",
   "execution_count": 49,
   "id": "0664eb8b",
   "metadata": {
    "ExecuteTime": {
     "end_time": "2022-04-27T09:44:57.925191Z",
     "start_time": "2022-04-27T09:44:57.818115Z"
    }
   },
   "outputs": [
    {
     "data": {
      "text/plain": [
       "[<matplotlib.lines.Line2D at 0x1f97a7676d0>]"
      ]
     },
     "execution_count": 49,
     "metadata": {},
     "output_type": "execute_result"
    },
    {
     "data": {
      "image/png": "[encoded data removed]",
      "text/plain": [
       "<Figure size 432x288 with 1 Axes>"
      ]
     },
     "metadata": {
      "needs_background": "light"
     },
     "output_type": "display_data"
    }
   ],
   "source": [
    "plt.plot(history.history[\"loss\"])\n",
    "plt.plot(history.history[\"val_loss\"])"
   ]
  },
  {
   "cell_type": "code",
   "execution_count": null,
   "id": "ac25baa6",
   "metadata": {},
   "outputs": [],
   "source": []
  }
 ],
 "metadata": {
  "kernelspec": {
   "display_name": "=python3.9.0",
   "language": "python",
   "name": "python3.9.0"
  },
  "language_info": {
   "codemirror_mode": {
    "name": "ipython",
    "version": 3
   },
   "file_extension": ".py",
   "mimetype": "text/x-python",
   "name": "python",
   "nbconvert_exporter": "python",
   "pygments_lexer": "ipython3",
   "version": "3.9.12"
  },
  "toc": {
   "base_numbering": 1,
   "nav_menu": {},
   "number_sections": true,
   "sideBar": true,
   "skip_h1_title": false,
   "title_cell": "Table of Contents",
   "title_sidebar": "Contents",
   "toc_cell": false,
   "toc_position": {},
   "toc_section_display": true,
   "toc_window_display": false
  },
  "varInspector": {
   "cols": {
    "lenName": 16,
    "lenType": 16,
    "lenVar": 40
   },
   "kernels_config": {
    "python": {
     "delete_cmd_postfix": "",
     "delete_cmd_prefix": "del ",
     "library": "var_list.py",
     "varRefreshCmd": "print(var_dic_list())"
    },
    "r": {
     "delete_cmd_postfix": ") ",
     "delete_cmd_prefix": "rm(",
     "library": "var_list.r",
     "varRefreshCmd": "cat(var_dic_list()) "
    }
   },
   "types_to_exclude": [
    "module",
    "function",
    "builtin_function_or_method",
    "instance",
    "_Feature"
   ],
   "window_display": false
  }
 },
 "nbformat": 4,
 "nbformat_minor": 5
}
