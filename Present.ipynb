{
 "cells": [
  {
   "cell_type": "code",
   "execution_count": 1,
   "id": "7289dab8",
   "metadata": {
    "ExecuteTime": {
     "end_time": "2022-04-25T12:12:55.330918Z",
     "start_time": "2022-04-25T12:12:47.541936Z"
    }
   },
   "outputs": [],
   "source": [
    "import os\n",
    "import numpy as np\n",
    "import pandas as pd\n",
    "import matplotlib.pyplot as plt\n",
    "import tensorflow as tf\n",
    "import tensorflow.keras as keras\n",
    "from tensorflow.keras.preprocessing.image import ImageDataGenerator, array_to_img, img_to_array, load_img\n",
    "import joblib\n",
    "from sklearn.model_selection import train_test_split\n",
    "from sklearn.metrics import classification_report\n",
    "from numba import cuda\n",
    "from sklearn.model_selection import StratifiedKFold\n",
    "import cv2\n",
    "from sklearn.preprocessing import OneHotEncoder"
   ]
  },
  {
   "cell_type": "code",
   "execution_count": 2,
   "id": "c6e4a82b",
   "metadata": {
    "ExecuteTime": {
     "end_time": "2022-04-25T12:12:55.745337Z",
     "start_time": "2022-04-25T12:12:55.330918Z"
    }
   },
   "outputs": [],
   "source": [
    "X_ = joblib.load(\"converted_img.pkl\")\n",
    "y_ = joblib.load(\"label.pkl\")"
   ]
  },
  {
   "cell_type": "code",
   "execution_count": 3,
   "id": "ece0706f",
   "metadata": {
    "ExecuteTime": {
     "end_time": "2022-04-25T12:12:56.199095Z",
     "start_time": "2022-04-25T12:12:55.751321Z"
    }
   },
   "outputs": [],
   "source": [
    "X = joblib.load(\"CV2_float32.pkl\")\n",
    "y = joblib.load(\"label.pkl\")"
   ]
  },
  {
   "cell_type": "code",
   "execution_count": 4,
   "id": "a239ec67",
   "metadata": {
    "ExecuteTime": {
     "end_time": "2022-04-25T12:12:56.214248Z",
     "start_time": "2022-04-25T12:12:56.201090Z"
    }
   },
   "outputs": [],
   "source": [
    "encoder = OneHotEncoder(sparse=False)\n",
    "y = y.reshape(-1, 1)\n",
    "encoder.fit(y)\n",
    "y = encoder.transform(y)"
   ]
  },
  {
   "cell_type": "code",
   "execution_count": 5,
   "id": "dbe569bd",
   "metadata": {
    "ExecuteTime": {
     "end_time": "2022-04-25T12:13:25.324951Z",
     "start_time": "2022-04-25T12:13:25.142707Z"
    }
   },
   "outputs": [],
   "source": [
    "X = np.append(X, X_)"
   ]
  },
  {
   "cell_type": "code",
   "execution_count": 8,
   "id": "2bf54779",
   "metadata": {
    "ExecuteTime": {
     "end_time": "2022-04-25T12:13:48.502700Z",
     "start_time": "2022-04-25T12:13:48.494721Z"
    }
   },
   "outputs": [],
   "source": [
    "X = X.reshape(-1, 32, 32, 3)"
   ]
  },
  {
   "cell_type": "code",
   "execution_count": 15,
   "id": "42d6b6d6",
   "metadata": {
    "ExecuteTime": {
     "end_time": "2022-04-25T12:14:34.488623Z",
     "start_time": "2022-04-25T12:14:34.482679Z"
    }
   },
   "outputs": [],
   "source": [
    "y = np.append(y, y, axis=0)"
   ]
  },
  {
   "cell_type": "code",
   "execution_count": 26,
   "id": "183d99f0",
   "metadata": {
    "ExecuteTime": {
     "end_time": "2022-04-25T12:31:01.049184Z",
     "start_time": "2022-04-25T12:31:01.037185Z"
    }
   },
   "outputs": [],
   "source": [
    "y_ = encoder.transform(y_.reshape(-1, 1))"
   ]
  },
  {
   "cell_type": "code",
   "execution_count": 37,
   "id": "ebc8bc95",
   "metadata": {
    "ExecuteTime": {
     "end_time": "2022-04-25T12:53:39.663218Z",
     "start_time": "2022-04-25T12:53:39.556688Z"
    }
   },
   "outputs": [],
   "source": [
    "X_train, X_test, y_train, y_test = train_test_split(X_, y_, stratify=y_, shuffle=True)"
   ]
  },
  {
   "cell_type": "code",
   "execution_count": 39,
   "id": "3e2f7193",
   "metadata": {
    "ExecuteTime": {
     "end_time": "2022-04-25T12:54:45.055547Z",
     "start_time": "2022-04-25T12:54:44.875625Z"
    }
   },
   "outputs": [],
   "source": [
    "X_train, X_test, y_train, y_test = train_test_split(X, y, stratify=y, shuffle=True)"
   ]
  },
  {
   "cell_type": "code",
   "execution_count": 42,
   "id": "1d60599f",
   "metadata": {
    "ExecuteTime": {
     "end_time": "2022-04-25T12:57:10.237381Z",
     "start_time": "2022-04-25T12:57:10.222422Z"
    }
   },
   "outputs": [],
   "source": [
    "es = keras.callbacks.EarlyStopping(monitor=\"val_accuracy\", patience=10, mode=\"max\")"
   ]
  },
  {
   "cell_type": "code",
   "execution_count": 43,
   "id": "b733ec4e",
   "metadata": {
    "ExecuteTime": {
     "end_time": "2022-04-25T13:00:00.504920Z",
     "start_time": "2022-04-25T12:57:10.559721Z"
    }
   },
   "outputs": [
    {
     "name": "stdout",
     "output_type": "stream",
     "text": [
      "Epoch 1/100\n",
      "342/342 [==============================] - 5s 13ms/step - loss: 1.4851 - accuracy: 0.5627 - val_loss: 6.6855 - val_accuracy: 0.1951\n",
      "Epoch 2/100\n",
      "342/342 [==============================] - 4s 12ms/step - loss: 0.7190 - accuracy: 0.7152 - val_loss: 1.1138 - val_accuracy: 0.6360\n",
      "Epoch 3/100\n",
      "342/342 [==============================] - 4s 13ms/step - loss: 0.5380 - accuracy: 0.7896 - val_loss: 0.6902 - val_accuracy: 0.7431\n",
      "Epoch 4/100\n",
      "342/342 [==============================] - 5s 13ms/step - loss: 0.4064 - accuracy: 0.8396 - val_loss: 1.0353 - val_accuracy: 0.6618\n",
      "Epoch 5/100\n",
      "342/342 [==============================] - 4s 13ms/step - loss: 0.3545 - accuracy: 0.8629 - val_loss: 0.9963 - val_accuracy: 0.7217\n",
      "Epoch 6/100\n",
      "342/342 [==============================] - 4s 13ms/step - loss: 0.3219 - accuracy: 0.8779 - val_loss: 0.3746 - val_accuracy: 0.8626\n",
      "Epoch 7/100\n",
      "342/342 [==============================] - 5s 13ms/step - loss: 0.2695 - accuracy: 0.8980 - val_loss: 0.7480 - val_accuracy: 0.7898\n",
      "Epoch 8/100\n",
      "342/342 [==============================] - 4s 13ms/step - loss: 0.2204 - accuracy: 0.9209 - val_loss: 0.8756 - val_accuracy: 0.7206\n",
      "Epoch 9/100\n",
      "342/342 [==============================] - 5s 13ms/step - loss: 0.2188 - accuracy: 0.9190 - val_loss: 0.9789 - val_accuracy: 0.6926\n",
      "Epoch 10/100\n",
      "342/342 [==============================] - 4s 13ms/step - loss: 0.1882 - accuracy: 0.9320 - val_loss: 0.2771 - val_accuracy: 0.9000\n",
      "Epoch 11/100\n",
      "342/342 [==============================] - 4s 13ms/step - loss: 0.1720 - accuracy: 0.9382 - val_loss: 0.7246 - val_accuracy: 0.7821\n",
      "Epoch 12/100\n",
      "342/342 [==============================] - 5s 13ms/step - loss: 0.1670 - accuracy: 0.9398 - val_loss: 0.3928 - val_accuracy: 0.8599\n",
      "Epoch 13/100\n",
      "342/342 [==============================] - 5s 13ms/step - loss: 0.1515 - accuracy: 0.9459 - val_loss: 0.5633 - val_accuracy: 0.8135\n",
      "Epoch 14/100\n",
      "342/342 [==============================] - 5s 13ms/step - loss: 0.1408 - accuracy: 0.9479 - val_loss: 1.9795 - val_accuracy: 0.6198\n",
      "Epoch 15/100\n",
      "342/342 [==============================] - 5s 13ms/step - loss: 0.1303 - accuracy: 0.9524 - val_loss: 0.2581 - val_accuracy: 0.9234\n",
      "Epoch 16/100\n",
      "342/342 [==============================] - 5s 14ms/step - loss: 0.0967 - accuracy: 0.9659 - val_loss: 0.1853 - val_accuracy: 0.9409\n",
      "Epoch 17/100\n",
      "342/342 [==============================] - 5s 14ms/step - loss: 0.1090 - accuracy: 0.9612 - val_loss: 0.1899 - val_accuracy: 0.9415\n",
      "Epoch 18/100\n",
      "342/342 [==============================] - 5s 13ms/step - loss: 0.1190 - accuracy: 0.9579 - val_loss: 0.7047 - val_accuracy: 0.8291\n",
      "Epoch 19/100\n",
      "342/342 [==============================] - 5s 13ms/step - loss: 0.1019 - accuracy: 0.9608 - val_loss: 0.5012 - val_accuracy: 0.8799\n",
      "Epoch 20/100\n",
      "342/342 [==============================] - 4s 13ms/step - loss: 0.0917 - accuracy: 0.9671 - val_loss: 0.7549 - val_accuracy: 0.7940\n",
      "Epoch 21/100\n",
      "342/342 [==============================] - 4s 13ms/step - loss: 0.0877 - accuracy: 0.9705 - val_loss: 1.5862 - val_accuracy: 0.6115\n",
      "Epoch 22/100\n",
      "342/342 [==============================] - 4s 13ms/step - loss: 0.0878 - accuracy: 0.9664 - val_loss: 0.5107 - val_accuracy: 0.8549\n",
      "Epoch 23/100\n",
      "342/342 [==============================] - 5s 13ms/step - loss: 0.0835 - accuracy: 0.9690 - val_loss: 0.1426 - val_accuracy: 0.9527\n",
      "Epoch 24/100\n",
      "342/342 [==============================] - 4s 13ms/step - loss: 0.0815 - accuracy: 0.9694 - val_loss: 0.6539 - val_accuracy: 0.8514\n",
      "Epoch 25/100\n",
      "342/342 [==============================] - 4s 13ms/step - loss: 0.0611 - accuracy: 0.9778 - val_loss: 1.4809 - val_accuracy: 0.7126\n",
      "Epoch 26/100\n",
      "342/342 [==============================] - 4s 13ms/step - loss: 0.0805 - accuracy: 0.9709 - val_loss: 0.2867 - val_accuracy: 0.9209\n",
      "Epoch 27/100\n",
      "342/342 [==============================] - 4s 13ms/step - loss: 0.0685 - accuracy: 0.9749 - val_loss: 0.0890 - val_accuracy: 0.9736\n",
      "Epoch 28/100\n",
      "342/342 [==============================] - 4s 13ms/step - loss: 0.0591 - accuracy: 0.9774 - val_loss: 0.1322 - val_accuracy: 0.9618\n",
      "Epoch 29/100\n",
      "342/342 [==============================] - 4s 13ms/step - loss: 0.0726 - accuracy: 0.9740 - val_loss: 0.5329 - val_accuracy: 0.8558\n",
      "Epoch 30/100\n",
      "342/342 [==============================] - 5s 14ms/step - loss: 0.0768 - accuracy: 0.9723 - val_loss: 0.2605 - val_accuracy: 0.9217\n",
      "Epoch 31/100\n",
      "342/342 [==============================] - 5s 13ms/step - loss: 0.0685 - accuracy: 0.9757 - val_loss: 0.2170 - val_accuracy: 0.9434\n",
      "Epoch 32/100\n",
      "342/342 [==============================] - 5s 13ms/step - loss: 0.0685 - accuracy: 0.9758 - val_loss: 0.1856 - val_accuracy: 0.9464\n",
      "Epoch 33/100\n",
      "342/342 [==============================] - 4s 13ms/step - loss: 0.0601 - accuracy: 0.9792 - val_loss: 0.1563 - val_accuracy: 0.9530\n",
      "Epoch 34/100\n",
      "342/342 [==============================] - 4s 13ms/step - loss: 0.0546 - accuracy: 0.9816 - val_loss: 0.2402 - val_accuracy: 0.9250\n",
      "Epoch 35/100\n",
      "342/342 [==============================] - 4s 13ms/step - loss: 0.0435 - accuracy: 0.9833 - val_loss: 0.1033 - val_accuracy: 0.9709\n",
      "Epoch 36/100\n",
      "342/342 [==============================] - 5s 13ms/step - loss: 0.0476 - accuracy: 0.9825 - val_loss: 0.1678 - val_accuracy: 0.9533\n",
      "Epoch 37/100\n",
      "342/342 [==============================] - 4s 13ms/step - loss: 0.0487 - accuracy: 0.9824 - val_loss: 0.6419 - val_accuracy: 0.8261\n",
      "342/342 [==============================] - 2s 5ms/step - loss: 0.5393 - accuracy: 0.8461\n",
      "Train:  [0.539317786693573, 0.8460622429847717]\n",
      "114/114 [==============================] - 1s 5ms/step - loss: 0.6419 - accuracy: 0.8261\n",
      "Valid:  [0.6419183611869812, 0.8260989189147949]\n"
     ]
    }
   ],
   "source": [
    "Input = keras.layers.Input(shape=X[0].shape)\n",
    "\n",
    "x = keras.layers.Conv2D(16, kernel_size=7, activation=\"relu\",kernel_initializer=\"he_normal\", padding=\"same\")(Input)\n",
    "x = keras.layers.BatchNormalization()(x)\n",
    "x = keras.layers.MaxPool2D(2)(x)\n",
    "\n",
    "x = keras.layers.Dropout(0.2)(x)\n",
    "\n",
    "shortcut =x\n",
    "x = keras.layers.Conv2D(32, kernel_size=5, activation=\"relu\",kernel_initializer=\"he_normal\", padding=\"same\")(x)\n",
    "x   = keras.layers.BatchNormalization()(x)\n",
    "x = keras.layers.Conv2D(32, kernel_size=5, activation=\"relu\",kernel_initializer=\"he_normal\", padding=\"same\")(x)\n",
    "x   = keras.layers.BatchNormalization()(x)\n",
    "x = keras.layers.Conv2D(32, kernel_size=5, activation=\"relu\",kernel_initializer=\"he_normal\", padding=\"same\")(x)\n",
    "x   = keras.layers.BatchNormalization()(x)\n",
    "shortcut = keras.layers.Conv2D(32, kernel_size=5, activation=\"relu\",kernel_initializer=\"he_normal\", padding=\"same\")(shortcut)\n",
    "x = keras.layers.Add()([x, shortcut])\n",
    "x = keras.layers.MaxPool2D(2)(x)\n",
    "\n",
    "\n",
    "x = keras.layers.Dropout(0.2)(x)\n",
    "\n",
    "\n",
    "shortcut =x\n",
    "x = keras.layers.Conv2D(64, kernel_size=3, activation=\"relu\",kernel_initializer=\"he_normal\", padding=\"same\")(x)\n",
    "x = keras.layers.BatchNormalization()(x)\n",
    "x = keras.layers.Conv2D(64, kernel_size=3, activation=\"relu\",kernel_initializer=\"he_normal\", padding=\"same\")(x)\n",
    "x = keras.layers.BatchNormalization()(x)\n",
    "shortcut = keras.layers.Conv2D(64, kernel_size=3, activation=\"relu\",kernel_initializer=\"he_normal\", padding=\"same\")(shortcut)\n",
    "x = keras.layers.Add()([x, shortcut])\n",
    "x = keras.layers.MaxPool2D(2)(x)\n",
    "\n",
    "x = keras.layers.Dropout(0.2)(x)\n",
    "\n",
    "\n",
    "x = keras.layers.Flatten()(x)\n",
    "Output = keras.layers.Dense(128, activation=\"softmax\")(x)\n",
    "Output = keras.layers.Dense(4, activation=\"softmax\")(x)\n",
    "\n",
    "model = keras.models.Model(inputs = Input, outputs = Output)\n",
    "model.compile(loss=\"categorical_crossentropy\",\n",
    "optimizer=keras.optimizers.Adam(learning_rate=0.0005), metrics=[\"accuracy\"])\n",
    "\n",
    "history = model.fit(X_train, y_train, validation_data=(X_test, y_test),callbacks=[es],epochs = 100)\n",
    "print(\"Train: \", model.evaluate(X_train, y_train))\n",
    "print(\"Valid: \", model.evaluate(X_test, y_test))"
   ]
  },
  {
   "cell_type": "code",
   "execution_count": 49,
   "id": "9e17aadd",
   "metadata": {
    "ExecuteTime": {
     "end_time": "2022-04-25T13:00:51.787644Z",
     "start_time": "2022-04-25T13:00:51.688038Z"
    }
   },
   "outputs": [
    {
     "data": {
      "text/plain": [
       "[<matplotlib.lines.Line2D at 0x1d42c801310>]"
      ]
     },
     "execution_count": 49,
     "metadata": {},
     "output_type": "execute_result"
    },
    {
     "data": {
      "image/png": "[encoded data removed]",
      "text/plain": [
       "<Figure size 432x288 with 1 Axes>"
      ]
     },
     "metadata": {
      "needs_background": "light"
     },
     "output_type": "display_data"
    }
   ],
   "source": [
    "plt.plot(history.history[\"accuracy\"])\n",
    "plt.plot(history.history[\"val_accuracy\"])"
   ]
  },
  {
   "cell_type": "code",
   "execution_count": 53,
   "id": "95738f3e",
   "metadata": {
    "ExecuteTime": {
     "end_time": "2022-04-25T13:18:34.414016Z",
     "start_time": "2022-04-25T13:13:08.679362Z"
    }
   },
   "outputs": [
    {
     "name": "stdout",
     "output_type": "stream",
     "text": [
      "Epoch 1/100\n",
      "342/342 [==============================] - 9s 22ms/step - loss: 1.2567 - accuracy: 0.5094 - val_loss: 6.0108 - val_accuracy: 0.1843\n",
      "Epoch 2/100\n",
      "342/342 [==============================] - 7s 20ms/step - loss: 0.8914 - accuracy: 0.6069 - val_loss: 1.6057 - val_accuracy: 0.38520.8933 - ac\n",
      "Epoch 3/100\n",
      "342/342 [==============================] - 7s 20ms/step - loss: 0.8027 - accuracy: 0.6413 - val_loss: 1.1913 - val_accuracy: 0.5055\n",
      "Epoch 4/100\n",
      "342/342 [==============================] - 7s 20ms/step - loss: 0.7376 - accuracy: 0.6669 - val_loss: 1.0158 - val_accuracy: 0.5698\n",
      "Epoch 5/100\n",
      "342/342 [==============================] - 7s 20ms/step - loss: 0.6785 - accuracy: 0.7019 - val_loss: 0.9936 - val_accuracy: 0.5841\n",
      "Epoch 6/100\n",
      "342/342 [==============================] - 7s 20ms/step - loss: 0.6330 - accuracy: 0.7190 - val_loss: 1.1246 - val_accuracy: 0.5363\n",
      "Epoch 7/100\n",
      "342/342 [==============================] - 7s 20ms/step - loss: 0.6001 - accuracy: 0.7433 - val_loss: 0.9858 - val_accuracy: 0.5962\n",
      "Epoch 8/100\n",
      "342/342 [==============================] - 7s 20ms/step - loss: 0.5657 - accuracy: 0.7556 - val_loss: 0.8861 - val_accuracy: 0.6547\n",
      "Epoch 9/100\n",
      "342/342 [==============================] - 7s 20ms/step - loss: 0.5305 - accuracy: 0.7787 - val_loss: 0.7493 - val_accuracy: 0.7036\n",
      "Epoch 10/100\n",
      "342/342 [==============================] - 7s 20ms/step - loss: 0.4982 - accuracy: 0.7908 - val_loss: 0.8426 - val_accuracy: 0.7022\n",
      "Epoch 11/100\n",
      "342/342 [==============================] - 7s 20ms/step - loss: 0.4686 - accuracy: 0.8055 - val_loss: 0.9809 - val_accuracy: 0.6360\n",
      "Epoch 12/100\n",
      "342/342 [==============================] - 7s 20ms/step - loss: 0.4356 - accuracy: 0.8166 - val_loss: 0.5446 - val_accuracy: 0.7962\n",
      "Epoch 13/100\n",
      "342/342 [==============================] - 7s 20ms/step - loss: 0.4120 - accuracy: 0.8321 - val_loss: 0.6063 - val_accuracy: 0.7668\n",
      "Epoch 14/100\n",
      "342/342 [==============================] - 7s 20ms/step - loss: 0.3884 - accuracy: 0.8418 - val_loss: 0.6286 - val_accuracy: 0.7717\n",
      "Epoch 15/100\n",
      "342/342 [==============================] - 7s 20ms/step - loss: 0.3582 - accuracy: 0.8519 - val_loss: 0.4975 - val_accuracy: 0.8140\n",
      "Epoch 16/100\n",
      "342/342 [==============================] - 7s 20ms/step - loss: 0.3455 - accuracy: 0.8644 - val_loss: 0.3934 - val_accuracy: 0.8442\n",
      "Epoch 17/100\n",
      "342/342 [==============================] - 7s 20ms/step - loss: 0.3153 - accuracy: 0.8751 - val_loss: 0.4277 - val_accuracy: 0.8335\n",
      "Epoch 18/100\n",
      "342/342 [==============================] - 7s 20ms/step - loss: 0.2961 - accuracy: 0.8836 - val_loss: 0.3800 - val_accuracy: 0.8497\n",
      "Epoch 19/100\n",
      "342/342 [==============================] - 7s 20ms/step - loss: 0.2845 - accuracy: 0.8888 - val_loss: 0.4450 - val_accuracy: 0.8363\n",
      "Epoch 20/100\n",
      "342/342 [==============================] - 7s 20ms/step - loss: 0.2571 - accuracy: 0.8990 - val_loss: 0.2741 - val_accuracy: 0.8992\n",
      "Epoch 21/100\n",
      "342/342 [==============================] - 7s 20ms/step - loss: 0.2576 - accuracy: 0.9004 - val_loss: 0.3711 - val_accuracy: 0.8555\n",
      "Epoch 22/100\n",
      "342/342 [==============================] - 7s 20ms/step - loss: 0.2350 - accuracy: 0.9086 - val_loss: 0.3143 - val_accuracy: 0.8852\n",
      "Epoch 23/100\n",
      "342/342 [==============================] - 7s 20ms/step - loss: 0.2127 - accuracy: 0.9163 - val_loss: 0.3495 - val_accuracy: 0.8764\n",
      "Epoch 24/100\n",
      "342/342 [==============================] - 7s 20ms/step - loss: 0.1997 - accuracy: 0.9257 - val_loss: 0.2674 - val_accuracy: 0.9088\n",
      "Epoch 25/100\n",
      "342/342 [==============================] - 7s 20ms/step - loss: 0.1907 - accuracy: 0.9246 - val_loss: 0.3025 - val_accuracy: 0.8918\n",
      "Epoch 26/100\n",
      "342/342 [==============================] - 7s 20ms/step - loss: 0.1736 - accuracy: 0.9327 - val_loss: 0.1920 - val_accuracy: 0.9360\n",
      "Epoch 27/100\n",
      "342/342 [==============================] - 7s 20ms/step - loss: 0.1684 - accuracy: 0.9355 - val_loss: 0.2628 - val_accuracy: 0.9041A: 1s - loss: 0.1681 - accuracy - E\n",
      "Epoch 28/100\n",
      "342/342 [==============================] - 7s 20ms/step - loss: 0.1557 - accuracy: 0.9425 - val_loss: 0.2663 - val_accuracy: 0.9047163 - ETA: 0s\n",
      "Epoch 29/100\n",
      "342/342 [==============================] - 7s 20ms/step - loss: 0.1442 - accuracy: 0.9462 - val_loss: 0.2436 - val_accuracy: 0.9146\n",
      "Epoch 30/100\n",
      "342/342 [==============================] - 7s 20ms/step - loss: 0.1421 - accuracy: 0.9460 - val_loss: 0.1754 - val_accuracy: 0.9409\n",
      "Epoch 31/100\n",
      "342/342 [==============================] - 7s 20ms/step - loss: 0.1292 - accuracy: 0.9512 - val_loss: 0.3999 - val_accuracy: 0.8761\n",
      "Epoch 32/100\n",
      "342/342 [==============================] - 7s 20ms/step - loss: 0.1238 - accuracy: 0.9530 - val_loss: 0.2365 - val_accuracy: 0.9168\n",
      "Epoch 33/100\n",
      "342/342 [==============================] - 7s 20ms/step - loss: 0.1201 - accuracy: 0.9552 - val_loss: 0.3593 - val_accuracy: 0.8712\n",
      "Epoch 34/100\n",
      "342/342 [==============================] - 7s 20ms/step - loss: 0.1100 - accuracy: 0.9606 - val_loss: 0.3876 - val_accuracy: 0.8777 accuracy: 0.\n",
      "Epoch 35/100\n",
      "342/342 [==============================] - 7s 20ms/step - loss: 0.0990 - accuracy: 0.9634 - val_loss: 0.2098 - val_accuracy: 0.9297\n",
      "Epoch 36/100\n",
      "342/342 [==============================] - 7s 20ms/step - loss: 0.0961 - accuracy: 0.9641 - val_loss: 0.1132 - val_accuracy: 0.9646\n",
      "Epoch 37/100\n",
      "342/342 [==============================] - 7s 20ms/step - loss: 0.1021 - accuracy: 0.9622 - val_loss: 0.1405 - val_accuracy: 0.9541\n",
      "Epoch 38/100\n",
      "342/342 [==============================] - 7s 20ms/step - loss: 0.0897 - accuracy: 0.9673 - val_loss: 0.2319 - val_accuracy: 0.9291\n",
      "Epoch 39/100\n",
      "342/342 [==============================] - 7s 20ms/step - loss: 0.0850 - accuracy: 0.9681 - val_loss: 0.3765 - val_accuracy: 0.8791\n",
      "Epoch 40/100\n",
      "342/342 [==============================] - 7s 20ms/step - loss: 0.0820 - accuracy: 0.9722 - val_loss: 0.1293 - val_accuracy: 0.9549\n",
      "Epoch 41/100\n",
      "342/342 [==============================] - 7s 20ms/step - loss: 0.0784 - accuracy: 0.9722 - val_loss: 0.2127 - val_accuracy: 0.9299\n",
      "Epoch 42/100\n",
      "342/342 [==============================] - 7s 20ms/step - loss: 0.0764 - accuracy: 0.9716 - val_loss: 0.1874 - val_accuracy: 0.9453\n",
      "Epoch 43/100\n",
      "342/342 [==============================] - 7s 20ms/step - loss: 0.0714 - accuracy: 0.9742 - val_loss: 0.1199 - val_accuracy: 0.9588\n",
      "Epoch 44/100\n",
      "342/342 [==============================] - 7s 20ms/step - loss: 0.0691 - accuracy: 0.9750 - val_loss: 0.3140 - val_accuracy: 0.9052\n",
      "Epoch 45/100\n",
      "342/342 [==============================] - 8s 22ms/step - loss: 0.0643 - accuracy: 0.9769 - val_loss: 0.1486 - val_accuracy: 0.9577\n",
      "Epoch 46/100\n",
      "342/342 [==============================] - 8s 24ms/step - loss: 0.0579 - accuracy: 0.9784 - val_loss: 0.2946 - val_accuracy: 0.9104\n",
      "342/342 [==============================] - 3s 8ms/step - loss: 0.1530 - accuracy: 0.9384\n",
      "Train:  [0.15304121375083923, 0.9383699893951416]\n",
      "114/114 [==============================] - 1s 8ms/step - loss: 0.2946 - accuracy: 0.9104: 0s - loss: 0.2942 - accu\n",
      "Valid:  [0.2946361303329468, 0.9104395508766174]\n"
     ]
    }
   ],
   "source": [
    "Input = keras.layers.Input(shape=X[0].shape)\n",
    "\n",
    "x = keras.layers.Conv2D(16, kernel_size=7, activation=\"relu\",kernel_initializer=\"he_normal\", padding=\"same\")(Input)\n",
    "x = keras.layers.BatchNormalization()(x)\n",
    "x = keras.layers.MaxPool2D(2)(x)\n",
    "\n",
    "x = keras.layers.Dropout(0.2)(x)\n",
    "\n",
    "shortcut =x\n",
    "x = keras.layers.Conv2D(32, kernel_size=3, activation=\"relu\",kernel_initializer=\"he_normal\", padding=\"same\")(x)\n",
    "x = keras.layers.BatchNormalization()(x)\n",
    "x = keras.layers.Conv2D(32, kernel_size=3, activation=\"relu\",kernel_initializer=\"he_normal\", padding=\"same\")(x)\n",
    "x = keras.layers.BatchNormalization()(x)\n",
    "x = keras.layers.Conv2D(32, kernel_size=3, activation=\"relu\",kernel_initializer=\"he_normal\", padding=\"same\")(x)\n",
    "shortcut = keras.layers.Conv2D(32, kernel_size=5, activation=\"relu\",kernel_initializer=\"he_normal\", padding=\"same\")(shortcut)\n",
    "x = keras.layers.Add()([x, shortcut])\n",
    "x   = keras.layers.BatchNormalization()(x)\n",
    "x = keras.layers.MaxPool2D(2)(x)\n",
    "\n",
    "\n",
    "x = keras.layers.Dropout(0.2)(x)\n",
    "\n",
    "\n",
    "shortcut =x\n",
    "x = keras.layers.Conv2D(64, kernel_size=3, activation=\"relu\",kernel_initializer=\"he_normal\", padding=\"same\")(x)\n",
    "x = keras.layers.BatchNormalization()(x)\n",
    "x = keras.layers.Conv2D(64, kernel_size=3, activation=\"relu\",kernel_initializer=\"he_normal\", padding=\"same\")(x)\n",
    "x = keras.layers.BatchNormalization()(x)\n",
    "x = keras.layers.Conv2D(64, kernel_size=3, activation=\"relu\",kernel_initializer=\"he_normal\", padding=\"same\")(x)\n",
    "shortcut = keras.layers.Conv2D(64, kernel_size=3, activation=\"relu\",kernel_initializer=\"he_normal\", padding=\"same\")(shortcut)\n",
    "x = keras.layers.Add()([x, shortcut])\n",
    "x = keras.layers.BatchNormalization()(x)\n",
    "x = keras.layers.MaxPool2D(2)(x)\n",
    "\n",
    "x = keras.layers.Dropout(0.2)(x)\n",
    "\n",
    "shortcut =x\n",
    "x = keras.layers.Conv2D(128, kernel_size=3, activation=\"relu\",kernel_initializer=\"he_normal\", padding=\"same\")(x)\n",
    "x = keras.layers.BatchNormalization()(x)\n",
    "x = keras.layers.Conv2D(128, kernel_size=3, activation=\"relu\",kernel_initializer=\"he_normal\", padding=\"same\")(x)\n",
    "x = keras.layers.BatchNormalization()(x)\n",
    "x = keras.layers.Conv2D(128, kernel_size=3, activation=\"relu\",kernel_initializer=\"he_normal\", padding=\"same\")(x)\n",
    "shortcut = keras.layers.Conv2D(128, kernel_size=3, activation=\"relu\",kernel_initializer=\"he_normal\", padding=\"same\")(shortcut)\n",
    "x = keras.layers.Add()([x, shortcut])\n",
    "x = keras.layers.BatchNormalization()(x)\n",
    "x = keras.layers.MaxPool2D(2)(x)\n",
    "\n",
    "x = keras.layers.Dropout(0.2)(x)\n",
    "\n",
    "shortcut =x\n",
    "x = keras.layers.Conv2D(256, kernel_size=3, activation=\"relu\",kernel_initializer=\"he_normal\", padding=\"same\")(x)\n",
    "x = keras.layers.BatchNormalization()(x)\n",
    "x = keras.layers.Conv2D(256, kernel_size=3, activation=\"relu\",kernel_initializer=\"he_normal\", padding=\"same\")(x)\n",
    "x = keras.layers.BatchNormalization()(x)\n",
    "x = keras.layers.Conv2D(256, kernel_size=3, activation=\"relu\",kernel_initializer=\"he_normal\", padding=\"same\")(x)\n",
    "shortcut = keras.layers.Conv2D(256, kernel_size=3, activation=\"relu\",kernel_initializer=\"he_normal\", padding=\"same\")(shortcut)\n",
    "x = keras.layers.Add()([x, shortcut])\n",
    "x = keras.layers.BatchNormalization()(x)\n",
    "x = keras.layers.MaxPool2D(2)(x)\n",
    "\n",
    "x = keras.layers.Flatten()(x)\n",
    "Output = keras.layers.Dense(128, activation=\"softmax\")(x)\n",
    "Output = keras.layers.Dense(4, activation=\"softmax\")(x)\n",
    "\n",
    "model = keras.models.Model(inputs = Input, outputs = Output)\n",
    "model.compile(loss=\"categorical_crossentropy\",\n",
    "optimizer=keras.optimizers.Adam(learning_rate=0.0001), metrics=[\"accuracy\"])\n",
    "\n",
    "history = model.fit(X_train, y_train, validation_data=(X_test, y_test),callbacks=[es],epochs = 100)\n",
    "print(\"Train: \", model.evaluate(X_train, y_train))\n",
    "print(\"Valid: \", model.evaluate(X_test, y_test))"
   ]
  },
  {
   "cell_type": "code",
   "execution_count": 51,
   "id": "9d466160",
   "metadata": {
    "ExecuteTime": {
     "end_time": "2022-04-25T13:04:33.806182Z",
     "start_time": "2022-04-25T13:04:33.702673Z"
    }
   },
   "outputs": [
    {
     "data": {
      "text/plain": [
       "[<matplotlib.lines.Line2D at 0x1d2aaeaffa0>]"
      ]
     },
     "execution_count": 51,
     "metadata": {},
     "output_type": "execute_result"
    },
    {
     "data": {
      "image/png": "[encoded data removed]",
      "text/plain": [
       "<Figure size 432x288 with 1 Axes>"
      ]
     },
     "metadata": {
      "needs_background": "light"
     },
     "output_type": "display_data"
    }
   ],
   "source": [
    "plt.plot(history.history[\"accuracy\"])\n",
    "plt.plot(history.history[\"val_accuracy\"])"
   ]
  },
  {
   "cell_type": "code",
   "execution_count": null,
   "id": "d0d54872",
   "metadata": {
    "ExecuteTime": {
     "end_time": "2022-04-25T12:26:53.012370Z",
     "start_time": "2022-04-25T12:26:53.012370Z"
    }
   },
   "outputs": [],
   "source": [
    "X_train, X_test, y_train, y_test = train_test_split(X_, y, stratify=y, shuffle=True)"
   ]
  },
  {
   "cell_type": "code",
   "execution_count": 51,
   "id": "cbf45c12",
   "metadata": {
    "ExecuteTime": {
     "end_time": "2022-04-25T06:16:38.713482Z",
     "start_time": "2022-04-25T06:16:12.529692Z"
    }
   },
   "outputs": [
    {
     "name": "stdout",
     "output_type": "stream",
     "text": [
      "Epoch 1/100\n",
      "171/171 [==============================] - 3s 12ms/step - loss: 1.0540 - accuracy: 0.5756 - val_loss: 1.7775 - val_accuracy: 0.2242\n",
      "Epoch 2/100\n",
      "171/171 [==============================] - 2s 10ms/step - loss: 0.6001 - accuracy: 0.7720 - val_loss: 1.3620 - val_accuracy: 0.3995\n",
      "Epoch 3/100\n",
      "171/171 [==============================] - 1s 8ms/step - loss: 0.4418 - accuracy: 0.8469 - val_loss: 0.6870 - val_accuracy: 0.7297\n",
      "Epoch 4/100\n",
      "171/171 [==============================] - 1s 8ms/step - loss: 0.3390 - accuracy: 0.8978 - val_loss: 0.4325 - val_accuracy: 0.8533\n",
      "Epoch 5/100\n",
      "171/171 [==============================] - 2s 9ms/step - loss: 0.2596 - accuracy: 0.9313 - val_loss: 0.2974 - val_accuracy: 0.9176\n",
      "Epoch 6/100\n",
      "171/171 [==============================] - 1s 8ms/step - loss: 0.2015 - accuracy: 0.9566 - val_loss: 0.2375 - val_accuracy: 0.9401\n",
      "Epoch 7/100\n",
      "171/171 [==============================] - 1s 8ms/step - loss: 0.1613 - accuracy: 0.9727 - val_loss: 0.2149 - val_accuracy: 0.9423\n",
      "Epoch 8/100\n",
      "171/171 [==============================] - 1s 8ms/step - loss: 0.1233 - accuracy: 0.9861 - val_loss: 0.1555 - val_accuracy: 0.9753\n",
      "Epoch 9/100\n",
      "171/171 [==============================] - 1s 8ms/step - loss: 0.0959 - accuracy: 0.9918 - val_loss: 0.1290 - val_accuracy: 0.9786\n",
      "Epoch 10/100\n",
      "171/171 [==============================] - 1s 8ms/step - loss: 0.0743 - accuracy: 0.9973 - val_loss: 0.1009 - val_accuracy: 0.9890\n",
      "Epoch 11/100\n",
      "171/171 [==============================] - 1s 8ms/step - loss: 0.0585 - accuracy: 0.9984 - val_loss: 0.0809 - val_accuracy: 0.9929\n",
      "Epoch 12/100\n",
      "171/171 [==============================] - 1s 8ms/step - loss: 0.0476 - accuracy: 0.9987 - val_loss: 0.0694 - val_accuracy: 0.9945\n",
      "Epoch 13/100\n",
      "171/171 [==============================] - 1s 8ms/step - loss: 0.0367 - accuracy: 0.9996 - val_loss: 0.0629 - val_accuracy: 0.9934\n",
      "Epoch 14/100\n",
      "171/171 [==============================] - 1s 8ms/step - loss: 0.0298 - accuracy: 1.0000 - val_loss: 0.0464 - val_accuracy: 0.9978\n",
      "Epoch 15/100\n",
      "171/171 [==============================] - 1s 8ms/step - loss: 0.0241 - accuracy: 1.0000 - val_loss: 0.0409 - val_accuracy: 0.9978\n",
      "Epoch 16/100\n",
      "171/171 [==============================] - 1s 8ms/step - loss: 0.0197 - accuracy: 0.9998 - val_loss: 0.0365 - val_accuracy: 0.9978\n",
      "Epoch 17/100\n",
      "171/171 [==============================] - 1s 8ms/step - loss: 0.0161 - accuracy: 1.0000 - val_loss: 0.0326 - val_accuracy: 0.9978\n",
      "171/171 [==============================] - 1s 3ms/step - loss: 0.0135 - accuracy: 1.0000\n",
      "Train:  [0.013546369969844818, 1.0]\n",
      "57/57 [==============================] - 0s 3ms/step - loss: 0.0326 - accuracy: 0.9978\n",
      "Valid:  [0.0326186828315258, 0.997802197933197]\n"
     ]
    }
   ],
   "source": [
    "Input = keras.layers.Input(shape=X[0].shape)\n",
    "x = keras.layers.Conv2D(16, kernel_size=7, activation=\"relu\",kernel_initializer=\"he_normal\", padding=\"same\")(Input)\n",
    "x = keras.layers.BatchNormalization()(x)\n",
    "x = keras.layers.MaxPool2D(2)(x)\n",
    "\n",
    "x = keras.layers.Conv2D(32, kernel_size=5, activation=\"relu\",kernel_initializer=\"he_normal\", padding=\"same\")(x)\n",
    "x   = keras.layers.BatchNormalization()(x)\n",
    "x = keras.layers.MaxPool2D(2)(x)\n",
    "\n",
    "x = keras.layers.Conv2D(64, kernel_size=3, activation=\"relu\",kernel_initializer=\"he_normal\", padding=\"same\")(x)\n",
    "x = keras.layers.BatchNormalization()(x)\n",
    "x = keras.layers.MaxPool2D(2)(x)\n",
    "\n",
    "x = keras.layers.Flatten()(x)\n",
    "Output = keras.layers.Dense(4, activation=\"softmax\")(x)\n",
    "\n",
    "model = keras.models.Model(inputs = Input, outputs = Output)\n",
    "model.compile(loss=\"categorical_crossentropy\",\n",
    "optimizer=keras.optimizers.Adam(learning_rate=0.0001), metrics=[\"accuracy\"])\n",
    "\n",
    "history = model.fit(X_train, y_train, validation_data=(X_test, y_test),callbacks=[es],epochs = 100)\n",
    "print(\"Train: \", model.evaluate(X_train, y_train))\n",
    "print(\"Valid: \", model.evaluate(X_test, y_test))"
   ]
  }
 ],
 "metadata": {
  "kernelspec": {
   "display_name": "=python3.9.0",
   "language": "python",
   "name": "python3.9.0"
  },
  "language_info": {
   "codemirror_mode": {
    "name": "ipython",
    "version": 3
   },
   "file_extension": ".py",
   "mimetype": "text/x-python",
   "name": "python",
   "nbconvert_exporter": "python",
   "pygments_lexer": "ipython3",
   "version": "3.9.12"
  },
  "toc": {
   "base_numbering": 1,
   "nav_menu": {},
   "number_sections": true,
   "sideBar": true,
   "skip_h1_title": false,
   "title_cell": "Table of Contents",
   "title_sidebar": "Contents",
   "toc_cell": false,
   "toc_position": {},
   "toc_section_display": true,
   "toc_window_display": false
  },
  "varInspector": {
   "cols": {
    "lenName": 16,
    "lenType": 16,
    "lenVar": 40
   },
   "kernels_config": {
    "python": {
     "delete_cmd_postfix": "",
     "delete_cmd_prefix": "del ",
     "library": "var_list.py",
     "varRefreshCmd": "print(var_dic_list())"
    },
    "r": {
     "delete_cmd_postfix": ") ",
     "delete_cmd_prefix": "rm(",
     "library": "var_list.r",
     "varRefreshCmd": "cat(var_dic_list()) "
    }
   },
   "types_to_exclude": [
    "module",
    "function",
    "builtin_function_or_method",
    "instance",
    "_Feature"
   ],
   "window_display": false
  }
 },
 "nbformat": 4,
 "nbformat_minor": 5
}
